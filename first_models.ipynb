{
 "cells": [
  {
   "cell_type": "markdown",
   "metadata": {},
   "source": [
    "### The models from the tutorial and some results.\n",
    "\n",
    "In this notebook, we construct the models from the tutorial and get some results.  "
   ]
  },
  {
   "cell_type": "markdown",
   "metadata": {},
   "source": [
    "#### Summary of models\n",
    "\n",
    "##### Classifiers have been renamed going forward.\n",
    "\n",
    "|name in this file   |    new name   |  model    | competion score on holdout |          comment\n",
    "|--------------------|---------------|-----------|-------------------------------------------------------------------------\n",
    "|   clf              |   mod0        | 1st model |  1.3314      |            numerical features only\n",
    "|   sub2.csv         |   mod1        | 2nd model |  0.7456      |            add pipeline; use text and numbers\n",
    "|   pl_rf            |   mod2        | 3rd model |  1.6941      |            swap in RandomForest for classifier\n",
    "|   pl_03            |   mod3        | 4th model |  0.8174      |            go back to logistic regression; add bigrams\n",
    "|   pl_05            |   mod4        | 5th model |  0.8893      |            swap in HashingVectorizer; add feature interaction\n",
    "\n",
    "##### Note: The probabilty prediction files written in this notebook have been renamed and moved to the 'submitted' directory.\n",
    "\n",
    "|name in this file   | newdatafile name |  model    | \n",
    "|--------------------|---------------   |-----------|\n",
    "|predictions.csv     |   t_00.csv       | 1st model | \n",
    "|sub2.csv            |   t_01.csv       | 2nd model | \n",
    "|sub_rf_defaults.csv |   t_02.csv       | 3rd model | \n",
    "|sub3.csv            |   t_03.csv       | 4th model | \n",
    "|subm4.csv           |   t_04.csv       | 5th model | \n"
   ]
  },
  {
   "cell_type": "markdown",
   "metadata": {},
   "source": [
    "#### Imports/setup"
   ]
  },
  {
   "cell_type": "code",
   "execution_count": 1,
   "metadata": {},
   "outputs": [],
   "source": [
    "import pandas as pd\n",
    "import matplotlib.pyplot as plt\n",
    "import numpy as np\n",
    "pd.set_option('display.max_columns', 60)"
   ]
  },
  {
   "cell_type": "code",
   "execution_count": 2,
   "metadata": {},
   "outputs": [],
   "source": [
    "# for the pipeline\n",
    "from sklearn.pipeline import Pipeline\n",
    "# for the selectors, for nans in the numeric data, scaling\n",
    "from sklearn.preprocessing import FunctionTransformer, Imputer, MaxAbsScaler\n",
    "# for gluing preprocessed text and numbers together\n",
    "from sklearn.pipeline import FeatureUnion\n",
    "# get SelectKBest/chi2\n",
    "from sklearn.feature_selection import chi2, SelectKBest"
   ]
  },
  {
   "cell_type": "code",
   "execution_count": 3,
   "metadata": {},
   "outputs": [],
   "source": [
    "from timeit import default_timer as timer"
   ]
  },
  {
   "cell_type": "markdown",
   "metadata": {},
   "source": [
    "#### Load the data"
   ]
  },
  {
   "cell_type": "code",
   "execution_count": 4,
   "metadata": {},
   "outputs": [],
   "source": [
    "# Get data\n",
    "df = pd.read_csv('data/TrainingData.csv', index_col=0)"
   ]
  },
  {
   "cell_type": "code",
   "execution_count": 5,
   "metadata": {
    "scrolled": false
   },
   "outputs": [
    {
     "data": {
      "text/html": [
       "<div>\n",
       "<style scoped>\n",
       "    .dataframe tbody tr th:only-of-type {\n",
       "        vertical-align: middle;\n",
       "    }\n",
       "\n",
       "    .dataframe tbody tr th {\n",
       "        vertical-align: top;\n",
       "    }\n",
       "\n",
       "    .dataframe thead th {\n",
       "        text-align: right;\n",
       "    }\n",
       "</style>\n",
       "<table border=\"1\" class=\"dataframe\">\n",
       "  <thead>\n",
       "    <tr style=\"text-align: right;\">\n",
       "      <th></th>\n",
       "      <th>Function</th>\n",
       "      <th>Use</th>\n",
       "      <th>Sharing</th>\n",
       "      <th>Reporting</th>\n",
       "      <th>Student_Type</th>\n",
       "      <th>Position_Type</th>\n",
       "      <th>Object_Type</th>\n",
       "      <th>Pre_K</th>\n",
       "      <th>Operating_Status</th>\n",
       "      <th>Object_Description</th>\n",
       "      <th>Text_2</th>\n",
       "      <th>SubFund_Description</th>\n",
       "      <th>Job_Title_Description</th>\n",
       "      <th>Text_3</th>\n",
       "      <th>Text_4</th>\n",
       "      <th>Sub_Object_Description</th>\n",
       "      <th>Location_Description</th>\n",
       "      <th>FTE</th>\n",
       "      <th>Function_Description</th>\n",
       "      <th>Facility_or_Department</th>\n",
       "      <th>Position_Extra</th>\n",
       "      <th>Total</th>\n",
       "      <th>Program_Description</th>\n",
       "      <th>Fund_Description</th>\n",
       "      <th>Text_1</th>\n",
       "    </tr>\n",
       "  </thead>\n",
       "  <tbody>\n",
       "    <tr>\n",
       "      <th>134338</th>\n",
       "      <td>Teacher Compensation</td>\n",
       "      <td>Instruction</td>\n",
       "      <td>School Reported</td>\n",
       "      <td>School</td>\n",
       "      <td>NO_LABEL</td>\n",
       "      <td>Teacher</td>\n",
       "      <td>NO_LABEL</td>\n",
       "      <td>NO_LABEL</td>\n",
       "      <td>PreK-12 Operating</td>\n",
       "      <td>NaN</td>\n",
       "      <td>NaN</td>\n",
       "      <td>NaN</td>\n",
       "      <td>Teacher-Elementary</td>\n",
       "      <td>NaN</td>\n",
       "      <td>NaN</td>\n",
       "      <td>NaN</td>\n",
       "      <td>NaN</td>\n",
       "      <td>1.0</td>\n",
       "      <td>NaN</td>\n",
       "      <td>NaN</td>\n",
       "      <td>KINDERGARTEN</td>\n",
       "      <td>50471.810</td>\n",
       "      <td>KINDERGARTEN</td>\n",
       "      <td>General Fund</td>\n",
       "      <td>NaN</td>\n",
       "    </tr>\n",
       "    <tr>\n",
       "      <th>206341</th>\n",
       "      <td>NO_LABEL</td>\n",
       "      <td>NO_LABEL</td>\n",
       "      <td>NO_LABEL</td>\n",
       "      <td>NO_LABEL</td>\n",
       "      <td>NO_LABEL</td>\n",
       "      <td>NO_LABEL</td>\n",
       "      <td>NO_LABEL</td>\n",
       "      <td>NO_LABEL</td>\n",
       "      <td>Non-Operating</td>\n",
       "      <td>CONTRACTOR SERVICES</td>\n",
       "      <td>BOND EXPENDITURES</td>\n",
       "      <td>BUILDING FUND</td>\n",
       "      <td>(blank)</td>\n",
       "      <td>Regular</td>\n",
       "      <td>NaN</td>\n",
       "      <td>NaN</td>\n",
       "      <td>NaN</td>\n",
       "      <td>NaN</td>\n",
       "      <td>RGN  GOB</td>\n",
       "      <td>NaN</td>\n",
       "      <td>UNDESIGNATED</td>\n",
       "      <td>3477.860</td>\n",
       "      <td>BUILDING IMPROVEMENT SERVICES</td>\n",
       "      <td>NaN</td>\n",
       "      <td>BUILDING IMPROVEMENT SERVICES</td>\n",
       "    </tr>\n",
       "    <tr>\n",
       "      <th>326408</th>\n",
       "      <td>Teacher Compensation</td>\n",
       "      <td>Instruction</td>\n",
       "      <td>School Reported</td>\n",
       "      <td>School</td>\n",
       "      <td>Unspecified</td>\n",
       "      <td>Teacher</td>\n",
       "      <td>Base Salary/Compensation</td>\n",
       "      <td>Non PreK</td>\n",
       "      <td>PreK-12 Operating</td>\n",
       "      <td>Personal Services - Teachers</td>\n",
       "      <td>NaN</td>\n",
       "      <td>NaN</td>\n",
       "      <td>TCHER 2ND GRADE</td>\n",
       "      <td>NaN</td>\n",
       "      <td>Regular Instruction</td>\n",
       "      <td>NaN</td>\n",
       "      <td>NaN</td>\n",
       "      <td>1.0</td>\n",
       "      <td>NaN</td>\n",
       "      <td>NaN</td>\n",
       "      <td>TEACHER</td>\n",
       "      <td>62237.130</td>\n",
       "      <td>Instruction - Regular</td>\n",
       "      <td>General Purpose School</td>\n",
       "      <td>NaN</td>\n",
       "    </tr>\n",
       "    <tr>\n",
       "      <th>364634</th>\n",
       "      <td>Substitute Compensation</td>\n",
       "      <td>Instruction</td>\n",
       "      <td>School Reported</td>\n",
       "      <td>School</td>\n",
       "      <td>Unspecified</td>\n",
       "      <td>Substitute</td>\n",
       "      <td>Benefits</td>\n",
       "      <td>NO_LABEL</td>\n",
       "      <td>PreK-12 Operating</td>\n",
       "      <td>EMPLOYEE BENEFITS</td>\n",
       "      <td>TEACHER SUBS</td>\n",
       "      <td>GENERAL FUND</td>\n",
       "      <td>Teacher, Short Term Sub</td>\n",
       "      <td>Regular</td>\n",
       "      <td>NaN</td>\n",
       "      <td>NaN</td>\n",
       "      <td>NaN</td>\n",
       "      <td>NaN</td>\n",
       "      <td>UNALLOC BUDGETS/SCHOOLS</td>\n",
       "      <td>NaN</td>\n",
       "      <td>PROFESSIONAL-INSTRUCTIONAL</td>\n",
       "      <td>22.300</td>\n",
       "      <td>GENERAL MIDDLE/JUNIOR HIGH SCH</td>\n",
       "      <td>NaN</td>\n",
       "      <td>REGULAR INSTRUCTION</td>\n",
       "    </tr>\n",
       "    <tr>\n",
       "      <th>47683</th>\n",
       "      <td>Substitute Compensation</td>\n",
       "      <td>Instruction</td>\n",
       "      <td>School Reported</td>\n",
       "      <td>School</td>\n",
       "      <td>Unspecified</td>\n",
       "      <td>Teacher</td>\n",
       "      <td>Substitute Compensation</td>\n",
       "      <td>NO_LABEL</td>\n",
       "      <td>PreK-12 Operating</td>\n",
       "      <td>TEACHER COVERAGE FOR TEACHER</td>\n",
       "      <td>TEACHER SUBS</td>\n",
       "      <td>GENERAL FUND</td>\n",
       "      <td>Teacher, Secondary (High)</td>\n",
       "      <td>Alternative</td>\n",
       "      <td>NaN</td>\n",
       "      <td>NaN</td>\n",
       "      <td>NaN</td>\n",
       "      <td>NaN</td>\n",
       "      <td>NON-PROJECT</td>\n",
       "      <td>NaN</td>\n",
       "      <td>PROFESSIONAL-INSTRUCTIONAL</td>\n",
       "      <td>54.166</td>\n",
       "      <td>GENERAL HIGH SCHOOL EDUCATION</td>\n",
       "      <td>NaN</td>\n",
       "      <td>REGULAR INSTRUCTION</td>\n",
       "    </tr>\n",
       "  </tbody>\n",
       "</table>\n",
       "</div>"
      ],
      "text/plain": [
       "                       Function          Use          Sharing Reporting  \\\n",
       "134338     Teacher Compensation  Instruction  School Reported    School   \n",
       "206341                 NO_LABEL     NO_LABEL         NO_LABEL  NO_LABEL   \n",
       "326408     Teacher Compensation  Instruction  School Reported    School   \n",
       "364634  Substitute Compensation  Instruction  School Reported    School   \n",
       "47683   Substitute Compensation  Instruction  School Reported    School   \n",
       "\n",
       "       Student_Type Position_Type               Object_Type     Pre_K  \\\n",
       "134338     NO_LABEL       Teacher                  NO_LABEL  NO_LABEL   \n",
       "206341     NO_LABEL      NO_LABEL                  NO_LABEL  NO_LABEL   \n",
       "326408  Unspecified       Teacher  Base Salary/Compensation  Non PreK   \n",
       "364634  Unspecified    Substitute                  Benefits  NO_LABEL   \n",
       "47683   Unspecified       Teacher   Substitute Compensation  NO_LABEL   \n",
       "\n",
       "         Operating_Status            Object_Description             Text_2  \\\n",
       "134338  PreK-12 Operating                           NaN                NaN   \n",
       "206341      Non-Operating           CONTRACTOR SERVICES  BOND EXPENDITURES   \n",
       "326408  PreK-12 Operating  Personal Services - Teachers                NaN   \n",
       "364634  PreK-12 Operating             EMPLOYEE BENEFITS       TEACHER SUBS   \n",
       "47683   PreK-12 Operating  TEACHER COVERAGE FOR TEACHER       TEACHER SUBS   \n",
       "\n",
       "       SubFund_Description       Job_Title_Description       Text_3  \\\n",
       "134338                 NaN         Teacher-Elementary           NaN   \n",
       "206341       BUILDING FUND                     (blank)      Regular   \n",
       "326408                 NaN             TCHER 2ND GRADE          NaN   \n",
       "364634        GENERAL FUND    Teacher, Short Term Sub       Regular   \n",
       "47683         GENERAL FUND  Teacher, Secondary (High)   Alternative   \n",
       "\n",
       "                     Text_4 Sub_Object_Description Location_Description  FTE  \\\n",
       "134338                  NaN                    NaN                  NaN  1.0   \n",
       "206341                  NaN                    NaN                  NaN  NaN   \n",
       "326408  Regular Instruction                    NaN                  NaN  1.0   \n",
       "364634                  NaN                    NaN                  NaN  NaN   \n",
       "47683                   NaN                    NaN                  NaN  NaN   \n",
       "\n",
       "           Function_Description Facility_or_Department  \\\n",
       "134338                      NaN                    NaN   \n",
       "206341                 RGN  GOB                    NaN   \n",
       "326408                      NaN                    NaN   \n",
       "364634  UNALLOC BUDGETS/SCHOOLS                    NaN   \n",
       "47683               NON-PROJECT                    NaN   \n",
       "\n",
       "                    Position_Extra      Total             Program_Description  \\\n",
       "134338               KINDERGARTEN   50471.810                    KINDERGARTEN   \n",
       "206341                UNDESIGNATED   3477.860   BUILDING IMPROVEMENT SERVICES   \n",
       "326408                     TEACHER  62237.130           Instruction - Regular   \n",
       "364634  PROFESSIONAL-INSTRUCTIONAL     22.300  GENERAL MIDDLE/JUNIOR HIGH SCH   \n",
       "47683   PROFESSIONAL-INSTRUCTIONAL     54.166   GENERAL HIGH SCHOOL EDUCATION   \n",
       "\n",
       "              Fund_Description                         Text_1  \n",
       "134338            General Fund                            NaN  \n",
       "206341                     NaN  BUILDING IMPROVEMENT SERVICES  \n",
       "326408  General Purpose School                            NaN  \n",
       "364634                     NaN            REGULAR INSTRUCTION  \n",
       "47683                      NaN            REGULAR INSTRUCTION  "
      ]
     },
     "execution_count": 5,
     "metadata": {},
     "output_type": "execute_result"
    }
   ],
   "source": [
    "# take a look\n",
    "df.head()"
   ]
  },
  {
   "cell_type": "markdown",
   "metadata": {},
   "source": [
    "##### A quick look at the dtypes"
   ]
  },
  {
   "cell_type": "code",
   "execution_count": 6,
   "metadata": {},
   "outputs": [
    {
     "data": {
      "text/plain": [
       "Function                   object\n",
       "Use                        object\n",
       "Sharing                    object\n",
       "Reporting                  object\n",
       "Student_Type               object\n",
       "Position_Type              object\n",
       "Object_Type                object\n",
       "Pre_K                      object\n",
       "Operating_Status           object\n",
       "Object_Description         object\n",
       "Text_2                     object\n",
       "SubFund_Description        object\n",
       "Job_Title_Description      object\n",
       "Text_3                     object\n",
       "Text_4                     object\n",
       "Sub_Object_Description     object\n",
       "Location_Description       object\n",
       "FTE                       float64\n",
       "Function_Description       object\n",
       "Facility_or_Department     object\n",
       "Position_Extra             object\n",
       "Total                     float64\n",
       "Program_Description        object\n",
       "Fund_Description           object\n",
       "Text_1                     object\n",
       "dtype: object"
      ]
     },
     "execution_count": 6,
     "metadata": {},
     "output_type": "execute_result"
    }
   ],
   "source": [
    "df.dtypes"
   ]
  },
  {
   "cell_type": "markdown",
   "metadata": {},
   "source": [
    "####  Encode the labels as categorical variables"
   ]
  },
  {
   "cell_type": "code",
   "execution_count": 7,
   "metadata": {},
   "outputs": [
    {
     "name": "stdout",
     "output_type": "stream",
     "text": [
      "Function            category\n",
      "Object_Type         category\n",
      "Operating_Status    category\n",
      "Position_Type       category\n",
      "Pre_K               category\n",
      "Reporting           category\n",
      "Sharing             category\n",
      "Student_Type        category\n",
      "Use                 category\n",
      "dtype: object\n"
     ]
    }
   ],
   "source": [
    "### bind variable LABELS - these are actually the targets and we're going to one-hot encode them...\n",
    "LABELS = ['Function',  'Use',  'Sharing',  'Reporting',  'Student_Type',  'Position_Type', \n",
    "          'Object_Type',  'Pre_K',  'Operating_Status']\n",
    "\n",
    "### This turns out to be key.  Submission requires the dummy versions of these vars to be in this order.\n",
    "LABELS.sort()\n",
    "\n",
    "# Define a lambda function: categorize_label\n",
    "categorize_label = lambda x: x.astype('category')\n",
    "\n",
    "# Convert df[LABELS] to a categorical type\n",
    "df[LABELS] = df[LABELS].apply(categorize_label, axis=0)\n",
    "\n",
    "# Print the converted dtypes\n",
    "print(df[LABELS].dtypes)"
   ]
  },
  {
   "cell_type": "markdown",
   "metadata": {},
   "source": [
    "#### Counting unique labels"
   ]
  },
  {
   "cell_type": "code",
   "execution_count": 8,
   "metadata": {},
   "outputs": [
    {
     "data": {
      "image/png": "[encoded data removed]",
      "text/plain": [
       "<Figure size 432x288 with 1 Axes>"
      ]
     },
     "metadata": {},
     "output_type": "display_data"
    }
   ],
   "source": [
    "# Calculate number of unique values for each label: num_unique_labels\n",
    "num_unique_labels = df[LABELS].apply(pd.Series.nunique, axis=0)\n",
    "\n",
    "# Plot number of unique values for each label\n",
    "num_unique_labels.plot(kind='bar')\n",
    "\n",
    "# Label the axes\n",
    "plt.xlabel('Labels')\n",
    "plt.ylabel('Number of unique values')\n",
    "\n",
    "# Display the plot\n",
    "plt.show()"
   ]
  },
  {
   "cell_type": "code",
   "execution_count": 9,
   "metadata": {},
   "outputs": [
    {
     "data": {
      "text/plain": [
       "Function            37\n",
       "Object_Type         11\n",
       "Operating_Status     3\n",
       "Position_Type       25\n",
       "Pre_K                3\n",
       "Reporting            3\n",
       "Sharing              5\n",
       "Student_Type         9\n",
       "Use                  8\n",
       "dtype: int64"
      ]
     },
     "execution_count": 9,
     "metadata": {},
     "output_type": "execute_result"
    }
   ],
   "source": [
    "num_unique_labels"
   ]
  },
  {
   "cell_type": "code",
   "execution_count": 10,
   "metadata": {},
   "outputs": [
    {
     "data": {
      "text/plain": [
       "104"
      ]
     },
     "execution_count": 10,
     "metadata": {},
     "output_type": "execute_result"
    }
   ],
   "source": [
    "np.sum(num_unique_labels)"
   ]
  },
  {
   "cell_type": "markdown",
   "metadata": {},
   "source": [
    "##### Let's save the unique labels for each output (target)"
   ]
  },
  {
   "cell_type": "code",
   "execution_count": 11,
   "metadata": {},
   "outputs": [],
   "source": [
    "# build a dictionary\n",
    "cols_dict = {col : df[col].unique().tolist() for col in df[LABELS].columns}"
   ]
  },
  {
   "cell_type": "code",
   "execution_count": 12,
   "metadata": {},
   "outputs": [
    {
     "data": {
      "text/plain": [
       "['Instruction',\n",
       " 'NO_LABEL',\n",
       " 'O&M',\n",
       " 'Pupil Services & Enrichment',\n",
       " 'ISPD',\n",
       " 'Leadership',\n",
       " 'Business Services',\n",
       " 'Untracked Budget Set-Aside']"
      ]
     },
     "execution_count": 12,
     "metadata": {},
     "output_type": "execute_result"
    }
   ],
   "source": [
    "# look at one target\n",
    "cols_dict['Use']"
   ]
  },
  {
   "cell_type": "markdown",
   "metadata": {},
   "source": [
    "#### Setting up a train-test split  for modeling\n",
    "\n",
    "The first step is to split the data into a training set and a test set. Some labels don't occur very often, but we want to make sure that they appear in both the training and the test sets. The function multilabel_train_test_split (in this directory) will make sure at least *min_count* examples of each label appear in each split.\n",
    "\n",
    "We start with a simple model that uses just the numeric columns of the when calling multilabel_train_test_split. \n",
    "\n",
    "Also, we one-hot encode the labels as advised in the tutorial.  This creates 104 columns of binary label columns."
   ]
  },
  {
   "cell_type": "code",
   "execution_count": 13,
   "metadata": {},
   "outputs": [],
   "source": [
    "from python.multilabel import multilabel_train_test_split"
   ]
  },
  {
   "cell_type": "code",
   "execution_count": 14,
   "metadata": {},
   "outputs": [],
   "source": [
    "NUMERIC_COLUMNS = ['FTE', 'Total']"
   ]
  },
  {
   "cell_type": "code",
   "execution_count": 15,
   "metadata": {},
   "outputs": [
    {
     "name": "stdout",
     "output_type": "stream",
     "text": [
      "X_train info:\n",
      "<class 'pandas.core.frame.DataFrame'>\n",
      "Int64Index: 320222 entries, 134338 to 415831\n",
      "Data columns (total 2 columns):\n",
      "FTE      320222 non-null float64\n",
      "Total    320222 non-null float64\n",
      "dtypes: float64(2)\n",
      "memory usage: 7.3 MB\n",
      "None\n",
      "\n",
      "X_test info:\n",
      "<class 'pandas.core.frame.DataFrame'>\n",
      "Int64Index: 80055 entries, 206341 to 413949\n",
      "Data columns (total 2 columns):\n",
      "FTE      80055 non-null float64\n",
      "Total    80055 non-null float64\n",
      "dtypes: float64(2)\n",
      "memory usage: 1.8 MB\n",
      "None\n",
      "\n",
      "y_train info:\n",
      "<class 'pandas.core.frame.DataFrame'>\n",
      "Int64Index: 320222 entries, 134338 to 415831\n",
      "Columns: 104 entries, Function_Aides Compensation to Use_Untracked Budget Set-Aside\n",
      "dtypes: uint8(104)\n",
      "memory usage: 34.2 MB\n",
      "None\n",
      "\n",
      "y_test info:\n",
      "<class 'pandas.core.frame.DataFrame'>\n",
      "Int64Index: 80055 entries, 206341 to 413949\n",
      "Columns: 104 entries, Function_Aides Compensation to Use_Untracked Budget Set-Aside\n",
      "dtypes: uint8(104)\n",
      "memory usage: 8.6 MB\n",
      "None\n"
     ]
    }
   ],
   "source": [
    "# Create the new DataFrame: numeric_data_only\n",
    "numeric_data_only = df[NUMERIC_COLUMNS].fillna(-1000)\n",
    "\n",
    "# Get labels and convert to dummy variables: label_dummies\n",
    "label_dummies = pd.get_dummies(df[LABELS])\n",
    "\n",
    "# Create training and test sets\n",
    "X_train, X_test, y_train, y_test = multilabel_train_test_split(numeric_data_only,\n",
    "                                                               label_dummies,\n",
    "                                                               size=0.2, \n",
    "                                                               seed=123)\n",
    "\n",
    "# Print the info\n",
    "print(\"X_train info:\")\n",
    "print(X_train.info())\n",
    "print(\"\\nX_test info:\")  \n",
    "print(X_test.info())\n",
    "print(\"\\ny_train info:\")  \n",
    "print(y_train.info())\n",
    "print(\"\\ny_test info:\")  \n",
    "print(y_test.info()) "
   ]
  },
  {
   "cell_type": "code",
   "execution_count": 16,
   "metadata": {},
   "outputs": [
    {
     "data": {
      "text/plain": [
       "(400277, 2)"
      ]
     },
     "execution_count": 16,
     "metadata": {},
     "output_type": "execute_result"
    }
   ],
   "source": [
    "df[NUMERIC_COLUMNS].shape"
   ]
  },
  {
   "cell_type": "markdown",
   "metadata": {},
   "source": [
    "#### Start with a simple model\n",
    "\n",
    "The first model ignores everything but the two numeric columns just to get started and check for correct format (104 columns of predictions).  Create a multi-label classifier clf by placing LogisticRegression() inside OneVsRestClassifier().\n",
    "\n",
    "This simple model has the advantage of providing a working model in that it consumes the input properly and produces output in the correct format (in this case, we are looking for probability estimates for each target/label combination).\n",
    "\n",
    "With this model as scaffolding we can proceed to models that are more detailed and produce better results."
   ]
  },
  {
   "cell_type": "code",
   "execution_count": 17,
   "metadata": {},
   "outputs": [
    {
     "name": "stdout",
     "output_type": "stream",
     "text": [
      "fit time: 124.24018694324036 seconds\n"
     ]
    }
   ],
   "source": [
    "# Import classifiers\n",
    "from sklearn.linear_model import LogisticRegression\n",
    "from sklearn.multiclass import OneVsRestClassifier\n",
    "\n",
    "# Create the DataFrame: numeric_data_only\n",
    "numeric_data_only = df[NUMERIC_COLUMNS].fillna(-1000)\n",
    "\n",
    "# Get labels and convert to dummy variables: label_dummies\n",
    "label_dummies = pd.get_dummies(df[LABELS])\n",
    "\n",
    "# Create training and test sets\n",
    "X_train, X_test, y_train, y_test = multilabel_train_test_split(numeric_data_only,\n",
    "                                                               label_dummies,\n",
    "                                                               size=0.2, \n",
    "                                                               seed=123)\n",
    "# Instantiate the classifier: clf\n",
    "clf = OneVsRestClassifier(LogisticRegression(), n_jobs=-1)\n",
    "\n",
    "start = timer()\n",
    "# Fit the classifier to the training data\n",
    "clf.fit(X_train, y_train)\n",
    "end = timer()\n",
    "print('fit time: {:02f} seconds'.format(end - start))"
   ]
  },
  {
   "cell_type": "code",
   "execution_count": 18,
   "metadata": {},
   "outputs": [],
   "source": [
    "# Predict label outputs for the accuracy score.\n",
    "from sklearn.metrics import accuracy_score\n",
    "\n",
    "yhat_train = clf.predict(X_train)\n",
    "yhat_test = clf.predict(X_test)"
   ]
  },
  {
   "cell_type": "markdown",
   "metadata": {},
   "source": [
    "#### Not accurate but  correct output format.\n",
    "The sklearn.metrics.accuracy function isn't strictly applicable because the predictions this model produces are somewhat different from what it expects.  To summarize: the model is better than this - see first_models_metrics.ipynb for details."
   ]
  },
  {
   "cell_type": "code",
   "execution_count": 19,
   "metadata": {
    "scrolled": false
   },
   "outputs": [
    {
     "name": "stdout",
     "output_type": "stream",
     "text": [
      "train accuracy: 0.00\n",
      "test accuracy: 0.00\n"
     ]
    }
   ],
   "source": [
    "print('train accuracy: {:.2f}'.format(accuracy_score(yhat_train, y_train)))\n",
    "print('test accuracy: {:.2f}'.format(accuracy_score(yhat_train, y_train)))"
   ]
  },
  {
   "cell_type": "markdown",
   "metadata": {},
   "source": [
    "#### Use  model to predict values on holdout data\n",
    "\n",
    "The competition provides an additional test set, for which we never see the correct labels. This is called the holdout set.\n",
    "\n",
    "The goal is to predict the probability of each label. Here we predict the probabilites."
   ]
  },
  {
   "cell_type": "code",
   "execution_count": 20,
   "metadata": {},
   "outputs": [
    {
     "name": "stdout",
     "output_type": "stream",
     "text": [
      "predict time: 0.1385751678190843 seconds\n"
     ]
    },
    {
     "name": "stderr",
     "output_type": "stream",
     "text": [
      "C:\\Users\\saus\\Anaconda3\\lib\\site-packages\\IPython\\core\\interactiveshell.py:2785: DtypeWarning: Columns (5,11) have mixed types. Specify dtype option on import or set low_memory=False.\n",
      "  interactivity=interactivity, compiler=compiler, result=result)\n"
     ]
    }
   ],
   "source": [
    "# Load the holdout data\n",
    "holdout = pd.read_csv('data/TestData.csv', index_col=0)\n",
    "\n",
    "start = timer()\n",
    "# Generate predictions: predictions\n",
    "predictions = clf.predict_proba(holdout[NUMERIC_COLUMNS].fillna(-1000))\n",
    "end = timer()\n",
    "\n",
    "print('predict time: {} seconds'.format(end - start))"
   ]
  },
  {
   "cell_type": "code",
   "execution_count": 21,
   "metadata": {},
   "outputs": [
    {
     "data": {
      "text/plain": [
       "(50064, 104)"
      ]
     },
     "execution_count": 21,
     "metadata": {},
     "output_type": "execute_result"
    }
   ],
   "source": [
    "# check shape\n",
    "predictions.shape"
   ]
  },
  {
   "cell_type": "code",
   "execution_count": 22,
   "metadata": {},
   "outputs": [
    {
     "data": {
      "text/plain": [
       "array([[0.03582155, 0.00656506, 0.00081719, 0.02396992, 0.0090299 ],\n",
       "       [0.03582447, 0.00656514, 0.00081721, 0.0239705 , 0.00902993],\n",
       "       [0.11990636, 0.01798188, 0.00133432, 0.02284447, 0.01621812],\n",
       "       [0.11963236, 0.01797478, 0.00133369, 0.02282747, 0.01621628],\n",
       "       [0.12028213, 0.01799161, 0.00133517, 0.02286775, 0.01622063]])"
      ]
     },
     "execution_count": 22,
     "metadata": {},
     "output_type": "execute_result"
    }
   ],
   "source": [
    "# look at the upper left corner to get a sense\n",
    "predictions[:5, :5]"
   ]
  },
  {
   "cell_type": "markdown",
   "metadata": {},
   "source": [
    "#### Build a dataframe for the predictions and write to file for submission."
   ]
  },
  {
   "cell_type": "code",
   "execution_count": 23,
   "metadata": {},
   "outputs": [],
   "source": [
    "prediction_df = pd.DataFrame(columns=pd.get_dummies(df[LABELS], prefix_sep='__').columns, \n",
    "                             index=holdout.index,\n",
    "                             data=predictions)\n",
    "\n",
    "prediction_df.to_csv('predictions.csv')"
   ]
  },
  {
   "cell_type": "markdown",
   "metadata": {},
   "source": [
    "#### Submitted this prediction file. Scored 1.3314."
   ]
  },
  {
   "cell_type": "markdown",
   "metadata": {},
   "source": [
    "### Add text processing to the model"
   ]
  },
  {
   "cell_type": "markdown",
   "metadata": {},
   "source": [
    "#### Combining text columns for tokenization\n",
    "\n",
    "The tutorial recommends combining all the text columns into a single string."
   ]
  },
  {
   "cell_type": "code",
   "execution_count": 24,
   "metadata": {},
   "outputs": [],
   "source": [
    "# define function to combine all the text features into one string\n",
    "def combine_text_columns(df, to_drop=NUMERIC_COLUMNS + LABELS):\n",
    "    \"\"\" converts all text columns in each row of df to single string \"\"\"\n",
    "    # Drop non-text columns that are in the df\n",
    "    to_drop = set(to_drop) & set(df.columns.tolist())\n",
    "    text_data = df.drop(to_drop, axis=1)  \n",
    "    # Replace nans with blanks\n",
    "    text_data.fillna('', inplace=True)    \n",
    "    # Join all text items in a row that have a space in between\n",
    "    return text_data.apply(lambda x: \" \".join(x), axis=1)"
   ]
  },
  {
   "cell_type": "code",
   "execution_count": 25,
   "metadata": {},
   "outputs": [
    {
     "data": {
      "text/plain": [
       "145726    SUPPLIES  PROGRAM IMPROVEMENT INSTR      IMPRO...\n",
       "84064     Classroom Supplies  Special Instruction    Gen...\n",
       "74430     ADDITIONAL/EXTRA DUTY PAY/STIP GRANTS MANAGEME...\n",
       "175690    Other Professional and Technical Services  Sup...\n",
       "25818     Salaries And Wages For Substitute Professional...\n",
       "106564    ADDITIONAL/EXTRA DUTY PAY/STIP  ARRA - STIMULU...\n",
       "114852    SUPPLIES  CATEGORY III EXP ONLY SPECIAL ED    ...\n",
       "369630    ADDITIONAL/EXTRA DUTY PAY/STIP TIF GRANT FEDER...\n",
       "152383    EMPLOYER PD MED CONTRIBUTION  GENERAL FUND Tea...\n",
       "318512    Regular * TEACHER Regular Instruction TCHR, K-...\n",
       "dtype: object"
      ]
     },
     "execution_count": 25,
     "metadata": {},
     "output_type": "execute_result"
    }
   ],
   "source": [
    "# test it\n",
    "combine_text_columns(df.sample(n=10))"
   ]
  },
  {
   "cell_type": "markdown",
   "metadata": {},
   "source": [
    "#### A quick look at CountVectorizer\n",
    "\n",
    "Now we use combine_text_columns to convert all training text data in your DataFrame to a single vector that can be passed to the vectorizer object and made into a bag-of-words using the .fit_transform() method.\n",
    "\n",
    "In the next cell, we compare the effect of tokenizing using any non-whitespace characters as a token and using only alphanumeric characters as a token."
   ]
  },
  {
   "cell_type": "code",
   "execution_count": 26,
   "metadata": {},
   "outputs": [
    {
     "name": "stdout",
     "output_type": "stream",
     "text": [
      "There are 4757 tokens in the dataset\n",
      "There are 3284 alpha-numeric tokens in the dataset\n"
     ]
    }
   ],
   "source": [
    "# Import the CountVectorizer\n",
    "from  sklearn.feature_extraction.text import CountVectorizer\n",
    "# Create the basic token pattern; separates based on whitespace\n",
    "TOKENS_BASIC = '\\\\S+(?=\\\\s+)'\n",
    "# Create the alphanumeric token pattern\n",
    "TOKENS_ALPHANUMERIC = '[A-Za-z0-9]+(?=\\\\s+)'\n",
    "# Instantiate basic CountVectorizer: vec_basic\n",
    "vec_basic = CountVectorizer(token_pattern=TOKENS_BASIC)\n",
    "# Instantiate alphanumeric CountVectorizer: vec_alphanumeric\n",
    "vec_alphanumeric = CountVectorizer(token_pattern=TOKENS_ALPHANUMERIC)\n",
    "# Create the text vector\n",
    "text_vector = combine_text_columns(df)\n",
    "# Fit and transform vec_basic\n",
    "vec_basic.fit_transform(text_vector)\n",
    "# Print number of tokens of vec_basic\n",
    "print(\"There are {} tokens in the dataset\".format(len(vec_basic.get_feature_names())))\n",
    "# Fit and transform vec_alphanumeric\n",
    "vec_alphanumeric.fit_transform(text_vector)\n",
    "# Print number of tokens of vec_alphanumeric\n",
    "print(\"There are {} alpha-numeric tokens in the dataset\".format(len(vec_alphanumeric.get_feature_names())))"
   ]
  },
  {
   "cell_type": "code",
   "execution_count": 27,
   "metadata": {
    "scrolled": true
   },
   "outputs": [
    {
     "name": "stdout",
     "output_type": "stream",
     "text": [
      "['\"(year', '\"building', '\"guidance,', '\"human', '\"maintenance,', '\"multilingual', '\"performing', '\"software,', '\"technology', '\"title', '%', '&', '&materials', '&program', '&wildlife', '(']\n"
     ]
    }
   ],
   "source": [
    "print(vec_basic.get_feature_names()[:16])"
   ]
  },
  {
   "cell_type": "code",
   "execution_count": 28,
   "metadata": {},
   "outputs": [
    {
     "name": "stdout",
     "output_type": "stream",
     "text": [
      "['00a', '12', '1st', '2nd', '3rd', '4th', '5', '56', '5th', '6', '60', '60hrs', '6th', '70', '70h', '70hr']\n"
     ]
    }
   ],
   "source": [
    "print(vec_alphanumeric.get_feature_names()[:16])"
   ]
  },
  {
   "cell_type": "markdown",
   "metadata": {},
   "source": [
    "#### Add pipeline\n",
    "\n",
    "The tutorial introduces a pipeline to consolidate preprocessing and modeling in a single classifier/estimator and to facilitate experimentation with both preprocessing and different models.\n",
    "\n",
    "The function multilabel_train_test_split ensures that all splits have at least a minimum representation of all possible labels."
   ]
  },
  {
   "cell_type": "code",
   "execution_count": 29,
   "metadata": {},
   "outputs": [],
   "source": [
    "# Get the dummy encoding of the labels\n",
    "dummy_labels = pd.get_dummies(df[LABELS])\n",
    "\n",
    "# Get the columns that are features in the original df\n",
    "NON_LABELS = [c for c in df.columns if c not in LABELS]\n",
    "\n",
    "# Split into training and test sets\n",
    "X_train, X_test, y_train, y_test = multilabel_train_test_split(df[NON_LABELS],\n",
    "                                                               dummy_labels,\n",
    "                                                               0.2, \n",
    "                                                               seed=123)\n",
    "# Preprocess the text data: get_text_data\n",
    "get_text_data = FunctionTransformer(combine_text_columns, validate=False)\n",
    "\n",
    "# Preprocess the numeric data: get_numeric_data\n",
    "get_numeric_data = FunctionTransformer(lambda x: x[NUMERIC_COLUMNS], validate=False)"
   ]
  },
  {
   "cell_type": "markdown",
   "metadata": {},
   "source": [
    "#### Build the pipeline"
   ]
  },
  {
   "cell_type": "code",
   "execution_count": 30,
   "metadata": {},
   "outputs": [
    {
     "name": "stdout",
     "output_type": "stream",
     "text": [
      "fit time: 587.03 seconds\n"
     ]
    }
   ],
   "source": [
    "# Complete the pipeline: pl\n",
    "pl = Pipeline([\n",
    "        ('union', FeatureUnion(\n",
    "            transformer_list = [\n",
    "                ('numeric_features', Pipeline([('selector', get_numeric_data),\n",
    "                                               ('imputer', Imputer())])),\n",
    "                ('text_features', Pipeline([('selector', get_text_data),\n",
    "                                            ('vectorizer', CountVectorizer())]))\n",
    "             ])),\n",
    "        ('clf', OneVsRestClassifier(LogisticRegression(), n_jobs=-1))\n",
    "    ])\n",
    "\n",
    "start = timer()\n",
    "# Fit to the training data\n",
    "pl.fit(X_train, y_train)\n",
    "end = timer()\n",
    "print('fit time: {:.2f} seconds'.format(end - start))"
   ]
  },
  {
   "cell_type": "code",
   "execution_count": 31,
   "metadata": {},
   "outputs": [],
   "source": [
    "# Get model output (values, not probabilities)\n",
    "yhat_train = pl.predict(X_train)\n",
    "yhat_test = pl.predict(X_test)"
   ]
  },
  {
   "cell_type": "code",
   "execution_count": 32,
   "metadata": {},
   "outputs": [
    {
     "name": "stdout",
     "output_type": "stream",
     "text": [
      "train accuracy: 0.35\n",
      "test accuracy: 0.35\n"
     ]
    }
   ],
   "source": [
    "# Print the accuracy scores\n",
    "print('train accuracy: {:.2f}'.format(accuracy_score(yhat_train, y_train)))\n",
    "print('test accuracy: {:.2f}'.format(accuracy_score(yhat_train, y_train)))"
   ]
  },
  {
   "cell_type": "markdown",
   "metadata": {},
   "source": [
    "#### Again, this accuracy score is well below the model's actual quality due to how the OneVsRest(Log) does prediction."
   ]
  },
  {
   "cell_type": "markdown",
   "metadata": {},
   "source": [
    "#### predict probabilities and write submission"
   ]
  },
  {
   "cell_type": "code",
   "execution_count": 33,
   "metadata": {},
   "outputs": [
    {
     "name": "stdout",
     "output_type": "stream",
     "text": [
      "predict time: 2.548470860289399 seconds\n"
     ]
    }
   ],
   "source": [
    "start = timer()\n",
    "# Generate predictions: this time probabilities\n",
    "predictions = pl.predict_proba(holdout)\n",
    "end = timer()\n",
    "print('predict time: {} seconds'.format(end - start))"
   ]
  },
  {
   "cell_type": "code",
   "execution_count": 34,
   "metadata": {},
   "outputs": [
    {
     "name": "stdout",
     "output_type": "stream",
     "text": [
      "predict time: 2.820025169776045 seconds\n"
     ]
    }
   ],
   "source": [
    "start = timer()\n",
    "# Generate predictions: predictions\n",
    "predictions = pl.predict_proba(holdout)\n",
    "end = timer()\n",
    "print('predict time: {} seconds'.format(end - start))\n",
    "\n",
    "prediction_df = pd.DataFrame(columns=pd.get_dummies(df[LABELS], prefix_sep='__').columns, \n",
    "                             index=holdout.index,\n",
    "                             data=predictions)\n",
    "\n",
    "prediction_df.to_csv('sub2.csv')"
   ]
  },
  {
   "cell_type": "markdown",
   "metadata": {},
   "source": [
    "### Submitted and scored with log-loss of 0.7456."
   ]
  },
  {
   "cell_type": "markdown",
   "metadata": {},
   "source": [
    "***"
   ]
  },
  {
   "cell_type": "markdown",
   "metadata": {},
   "source": [
    "***"
   ]
  },
  {
   "cell_type": "markdown",
   "metadata": {},
   "source": [
    "#### Try a different class of model\n",
    "\n",
    "This model illustrates the flexibilty of the pipeline.  Random Forest Classifier can be swapped in for the OneVsRest(LogisticReg..) by redefining the 'clf' step of the pipeline."
   ]
  },
  {
   "cell_type": "markdown",
   "metadata": {},
   "source": [
    "#####  Note: Unlike the model above,  the  RandomForestClassifier's produces probability predictions in a different format (list of 104 2-d arrays with a probability for both 1 and 0).  This needs to be reshaped for submission."
   ]
  },
  {
   "cell_type": "code",
   "execution_count": 64,
   "metadata": {},
   "outputs": [
    {
     "name": "stdout",
     "output_type": "stream",
     "text": [
      "fit time: 157.2157562516295 seconds\n"
     ]
    }
   ],
   "source": [
    "# Import random forest classifer\n",
    "from sklearn.ensemble import RandomForestClassifier\n",
    "\n",
    "# Edit model step in pipeline\n",
    "pl_rf = Pipeline([\n",
    "        ('union', FeatureUnion(\n",
    "            transformer_list = [\n",
    "                ('numeric_features', Pipeline([\n",
    "                    ('selector', get_numeric_data),\n",
    "                    ('imputer', Imputer())\n",
    "                ])),\n",
    "                ('text_features', Pipeline([\n",
    "                    ('selector', get_text_data),\n",
    "                    ('vectorizer', CountVectorizer())\n",
    "                ]))\n",
    "             ]\n",
    "        )),\n",
    "        ('clf', RandomForestClassifier(n_jobs=-1))\n",
    "    ])\n",
    "start = timer()\n",
    "# Fit to the training data\n",
    "pl_rf.fit(X_train, y_train)\n",
    "end = timer()\n",
    "print('fit time: {} seconds'.format(end - start))"
   ]
  },
  {
   "cell_type": "code",
   "execution_count": 65,
   "metadata": {},
   "outputs": [],
   "source": [
    "# Compute and print accuracy\n",
    "# Print the accuracy scores\n",
    "yhat_train = pl_rf.predict(X_train)\n",
    "yhat_test = pl_rf.predict(X_test)"
   ]
  },
  {
   "cell_type": "code",
   "execution_count": 66,
   "metadata": {},
   "outputs": [
    {
     "name": "stdout",
     "output_type": "stream",
     "text": [
      "train accuracy: 0.99\n",
      "test accuracy: 0.90\n"
     ]
    }
   ],
   "source": [
    "print('train accuracy: {:.2f}'.format(accuracy_score(yhat_train, y_train)))\n",
    "print('test accuracy: {:.2f}'.format(accuracy_score(yhat_test, y_test)))"
   ]
  },
  {
   "cell_type": "markdown",
   "metadata": {},
   "source": [
    "#### Predict probabilities"
   ]
  },
  {
   "cell_type": "code",
   "execution_count": 38,
   "metadata": {},
   "outputs": [
    {
     "name": "stdout",
     "output_type": "stream",
     "text": [
      "predict time: 6.35725108526583 seconds\n"
     ]
    }
   ],
   "source": [
    "start = timer()\n",
    "# Generate predictions: predictions\n",
    "rf_predictions = pl_rf.predict_proba(holdout)\n",
    "end = timer()\n",
    "print('predict time: {:.2f} seconds'.format(end - start))"
   ]
  },
  {
   "cell_type": "markdown",
   "metadata": {},
   "source": [
    "#### Probability predictions are a list of arrays."
   ]
  },
  {
   "cell_type": "code",
   "execution_count": 39,
   "metadata": {},
   "outputs": [
    {
     "data": {
      "text/plain": [
       "list"
      ]
     },
     "execution_count": 39,
     "metadata": {},
     "output_type": "execute_result"
    }
   ],
   "source": [
    "type(rf_predictions)"
   ]
  },
  {
   "cell_type": "code",
   "execution_count": 40,
   "metadata": {},
   "outputs": [
    {
     "data": {
      "text/plain": [
       "array([[1., 0.],\n",
       "       [1., 0.],\n",
       "       [1., 0.],\n",
       "       ...,\n",
       "       [1., 0.],\n",
       "       [1., 0.],\n",
       "       [1., 0.]])"
      ]
     },
     "execution_count": 40,
     "metadata": {},
     "output_type": "execute_result"
    }
   ],
   "source": [
    "rf_predictions[0]"
   ]
  },
  {
   "cell_type": "code",
   "execution_count": 41,
   "metadata": {},
   "outputs": [
    {
     "data": {
      "text/plain": [
       "(50064, 2)"
      ]
     },
     "execution_count": 41,
     "metadata": {},
     "output_type": "execute_result"
    }
   ],
   "source": [
    "rf_predictions[0].shape"
   ]
  },
  {
   "cell_type": "code",
   "execution_count": 42,
   "metadata": {},
   "outputs": [
    {
     "data": {
      "text/plain": [
       "104"
      ]
     },
     "execution_count": 42,
     "metadata": {},
     "output_type": "execute_result"
    }
   ],
   "source": [
    "len(rf_predictions)"
   ]
  },
  {
   "cell_type": "markdown",
   "metadata": {},
   "source": [
    "##### We have 104 elements in predictions, each of which is an array (50064, 2).  \n",
    "\n",
    "RFC probabilities are a list with num_target_cols elements, each of which is array (num_samples, num_labels).  RFC (along with many other classifiers) is happy to predict any number of mutually exclusive labels in a target column.  In this case our 'labels' are 1 and 0, so the constituent arrays are in the shape (50064, 2).  The first array position is the probability of 0 output; the second position is probabilty for 1 output."
   ]
  },
  {
   "cell_type": "code",
   "execution_count": 43,
   "metadata": {},
   "outputs": [],
   "source": [
    "# grab the probabilities for 1 from the probas; transpose goes from rows to columns\n",
    "pred_rf = pd.DataFrame(data=[x[:, 1] for x in rf_predictions]).T"
   ]
  },
  {
   "cell_type": "code",
   "execution_count": 44,
   "metadata": {},
   "outputs": [
    {
     "data": {
      "text/plain": [
       "(50064, 104)"
      ]
     },
     "execution_count": 44,
     "metadata": {},
     "output_type": "execute_result"
    }
   ],
   "source": [
    "# check the shape\n",
    "pred_rf.shape"
   ]
  },
  {
   "cell_type": "code",
   "execution_count": 45,
   "metadata": {},
   "outputs": [
    {
     "data": {
      "text/html": [
       "<div>\n",
       "<style scoped>\n",
       "    .dataframe tbody tr th:only-of-type {\n",
       "        vertical-align: middle;\n",
       "    }\n",
       "\n",
       "    .dataframe tbody tr th {\n",
       "        vertical-align: top;\n",
       "    }\n",
       "\n",
       "    .dataframe thead th {\n",
       "        text-align: right;\n",
       "    }\n",
       "</style>\n",
       "<table border=\"1\" class=\"dataframe\">\n",
       "  <thead>\n",
       "    <tr style=\"text-align: right;\">\n",
       "      <th></th>\n",
       "      <th>Function__Aides Compensation</th>\n",
       "      <th>Function__Career &amp; Academic Counseling</th>\n",
       "      <th>Function__Communications</th>\n",
       "      <th>Function__Curriculum Development</th>\n",
       "      <th>Function__Data Processing &amp; Information Services</th>\n",
       "      <th>Function__Development &amp; Fundraising</th>\n",
       "      <th>Function__Enrichment</th>\n",
       "      <th>Function__Extended Time &amp; Tutoring</th>\n",
       "      <th>Function__Facilities &amp; Maintenance</th>\n",
       "      <th>Function__Facilities Planning</th>\n",
       "      <th>Function__Finance, Budget, Purchasing &amp; Distribution</th>\n",
       "      <th>Function__Food Services</th>\n",
       "      <th>Function__Governance</th>\n",
       "      <th>Function__Human Resources</th>\n",
       "      <th>Function__Instructional Materials &amp; Supplies</th>\n",
       "      <th>Function__Insurance</th>\n",
       "      <th>Function__Legal</th>\n",
       "      <th>Function__Library &amp; Media</th>\n",
       "      <th>Function__NO_LABEL</th>\n",
       "      <th>Function__Other Compensation</th>\n",
       "      <th>Function__Other Non-Compensation</th>\n",
       "      <th>Function__Parent &amp; Community Relations</th>\n",
       "      <th>Function__Physical Health &amp; Services</th>\n",
       "      <th>Function__Professional Development</th>\n",
       "      <th>Function__Recruitment</th>\n",
       "      <th>Function__Research &amp; Accountability</th>\n",
       "      <th>Function__School Administration</th>\n",
       "      <th>Function__School Supervision</th>\n",
       "      <th>Function__Security &amp; Safety</th>\n",
       "      <th>Function__Social &amp; Emotional</th>\n",
       "      <th>...</th>\n",
       "      <th>Position_Type__Teacher</th>\n",
       "      <th>Position_Type__Vice Principal</th>\n",
       "      <th>Pre_K__NO_LABEL</th>\n",
       "      <th>Pre_K__Non PreK</th>\n",
       "      <th>Pre_K__PreK</th>\n",
       "      <th>Reporting__NO_LABEL</th>\n",
       "      <th>Reporting__Non-School</th>\n",
       "      <th>Reporting__School</th>\n",
       "      <th>Sharing__Leadership &amp; Management</th>\n",
       "      <th>Sharing__NO_LABEL</th>\n",
       "      <th>Sharing__School Reported</th>\n",
       "      <th>Sharing__School on Central Budgets</th>\n",
       "      <th>Sharing__Shared Services</th>\n",
       "      <th>Student_Type__Alternative</th>\n",
       "      <th>Student_Type__At Risk</th>\n",
       "      <th>Student_Type__ELL</th>\n",
       "      <th>Student_Type__Gifted</th>\n",
       "      <th>Student_Type__NO_LABEL</th>\n",
       "      <th>Student_Type__Poverty</th>\n",
       "      <th>Student_Type__PreK</th>\n",
       "      <th>Student_Type__Special Education</th>\n",
       "      <th>Student_Type__Unspecified</th>\n",
       "      <th>Use__Business Services</th>\n",
       "      <th>Use__ISPD</th>\n",
       "      <th>Use__Instruction</th>\n",
       "      <th>Use__Leadership</th>\n",
       "      <th>Use__NO_LABEL</th>\n",
       "      <th>Use__O&amp;M</th>\n",
       "      <th>Use__Pupil Services &amp; Enrichment</th>\n",
       "      <th>Use__Untracked Budget Set-Aside</th>\n",
       "    </tr>\n",
       "  </thead>\n",
       "  <tbody>\n",
       "    <tr>\n",
       "      <th>180042</th>\n",
       "      <td>0.0</td>\n",
       "      <td>0.0</td>\n",
       "      <td>0.0</td>\n",
       "      <td>0.0</td>\n",
       "      <td>0.0</td>\n",
       "      <td>0.0</td>\n",
       "      <td>0.0</td>\n",
       "      <td>0.1</td>\n",
       "      <td>0.1</td>\n",
       "      <td>0.0</td>\n",
       "      <td>0.0</td>\n",
       "      <td>0.0</td>\n",
       "      <td>0.0</td>\n",
       "      <td>0.0</td>\n",
       "      <td>0.3</td>\n",
       "      <td>0.0</td>\n",
       "      <td>0.0</td>\n",
       "      <td>0.1</td>\n",
       "      <td>0.1</td>\n",
       "      <td>0.0</td>\n",
       "      <td>0.0</td>\n",
       "      <td>0.0</td>\n",
       "      <td>0.0</td>\n",
       "      <td>0.0</td>\n",
       "      <td>0.0</td>\n",
       "      <td>0.0</td>\n",
       "      <td>0.1</td>\n",
       "      <td>0.1</td>\n",
       "      <td>0.1</td>\n",
       "      <td>0.0</td>\n",
       "      <td>...</td>\n",
       "      <td>0.1</td>\n",
       "      <td>0.0</td>\n",
       "      <td>0.5</td>\n",
       "      <td>0.5</td>\n",
       "      <td>0.0</td>\n",
       "      <td>0.1</td>\n",
       "      <td>0.1</td>\n",
       "      <td>0.8</td>\n",
       "      <td>0.1</td>\n",
       "      <td>0.1</td>\n",
       "      <td>0.8</td>\n",
       "      <td>0.0</td>\n",
       "      <td>0.0</td>\n",
       "      <td>0.0</td>\n",
       "      <td>0.0</td>\n",
       "      <td>0.0</td>\n",
       "      <td>0.0</td>\n",
       "      <td>0.2</td>\n",
       "      <td>0.0</td>\n",
       "      <td>0.0</td>\n",
       "      <td>0.1</td>\n",
       "      <td>0.7</td>\n",
       "      <td>0.0</td>\n",
       "      <td>0.0</td>\n",
       "      <td>0.5</td>\n",
       "      <td>0.2</td>\n",
       "      <td>0.1</td>\n",
       "      <td>0.2</td>\n",
       "      <td>0.0</td>\n",
       "      <td>0.0</td>\n",
       "    </tr>\n",
       "    <tr>\n",
       "      <th>28872</th>\n",
       "      <td>0.0</td>\n",
       "      <td>0.0</td>\n",
       "      <td>0.0</td>\n",
       "      <td>0.0</td>\n",
       "      <td>0.0</td>\n",
       "      <td>0.0</td>\n",
       "      <td>0.3</td>\n",
       "      <td>0.0</td>\n",
       "      <td>0.2</td>\n",
       "      <td>0.0</td>\n",
       "      <td>0.1</td>\n",
       "      <td>0.0</td>\n",
       "      <td>0.0</td>\n",
       "      <td>0.0</td>\n",
       "      <td>0.1</td>\n",
       "      <td>0.0</td>\n",
       "      <td>0.0</td>\n",
       "      <td>0.0</td>\n",
       "      <td>0.0</td>\n",
       "      <td>0.0</td>\n",
       "      <td>0.0</td>\n",
       "      <td>0.0</td>\n",
       "      <td>0.0</td>\n",
       "      <td>0.1</td>\n",
       "      <td>0.0</td>\n",
       "      <td>0.0</td>\n",
       "      <td>0.1</td>\n",
       "      <td>0.0</td>\n",
       "      <td>0.1</td>\n",
       "      <td>0.0</td>\n",
       "      <td>...</td>\n",
       "      <td>0.0</td>\n",
       "      <td>0.0</td>\n",
       "      <td>0.5</td>\n",
       "      <td>0.5</td>\n",
       "      <td>0.0</td>\n",
       "      <td>0.0</td>\n",
       "      <td>0.3</td>\n",
       "      <td>0.7</td>\n",
       "      <td>0.1</td>\n",
       "      <td>0.0</td>\n",
       "      <td>0.7</td>\n",
       "      <td>0.2</td>\n",
       "      <td>0.0</td>\n",
       "      <td>0.0</td>\n",
       "      <td>0.1</td>\n",
       "      <td>0.0</td>\n",
       "      <td>0.0</td>\n",
       "      <td>0.1</td>\n",
       "      <td>0.1</td>\n",
       "      <td>0.0</td>\n",
       "      <td>0.0</td>\n",
       "      <td>0.7</td>\n",
       "      <td>0.1</td>\n",
       "      <td>0.1</td>\n",
       "      <td>0.1</td>\n",
       "      <td>0.1</td>\n",
       "      <td>0.1</td>\n",
       "      <td>0.3</td>\n",
       "      <td>0.2</td>\n",
       "      <td>0.0</td>\n",
       "    </tr>\n",
       "    <tr>\n",
       "      <th>186915</th>\n",
       "      <td>0.0</td>\n",
       "      <td>0.0</td>\n",
       "      <td>0.0</td>\n",
       "      <td>0.0</td>\n",
       "      <td>0.0</td>\n",
       "      <td>0.0</td>\n",
       "      <td>0.1</td>\n",
       "      <td>0.0</td>\n",
       "      <td>0.0</td>\n",
       "      <td>0.0</td>\n",
       "      <td>0.0</td>\n",
       "      <td>0.0</td>\n",
       "      <td>0.0</td>\n",
       "      <td>0.0</td>\n",
       "      <td>0.0</td>\n",
       "      <td>0.0</td>\n",
       "      <td>0.0</td>\n",
       "      <td>0.0</td>\n",
       "      <td>0.0</td>\n",
       "      <td>0.0</td>\n",
       "      <td>0.0</td>\n",
       "      <td>0.0</td>\n",
       "      <td>0.0</td>\n",
       "      <td>0.2</td>\n",
       "      <td>0.0</td>\n",
       "      <td>0.0</td>\n",
       "      <td>0.3</td>\n",
       "      <td>0.0</td>\n",
       "      <td>0.0</td>\n",
       "      <td>0.0</td>\n",
       "      <td>...</td>\n",
       "      <td>0.3</td>\n",
       "      <td>0.0</td>\n",
       "      <td>0.8</td>\n",
       "      <td>0.2</td>\n",
       "      <td>0.0</td>\n",
       "      <td>0.0</td>\n",
       "      <td>0.1</td>\n",
       "      <td>0.9</td>\n",
       "      <td>0.1</td>\n",
       "      <td>0.0</td>\n",
       "      <td>0.9</td>\n",
       "      <td>0.0</td>\n",
       "      <td>0.0</td>\n",
       "      <td>0.0</td>\n",
       "      <td>0.0</td>\n",
       "      <td>0.1</td>\n",
       "      <td>0.0</td>\n",
       "      <td>0.3</td>\n",
       "      <td>0.0</td>\n",
       "      <td>0.0</td>\n",
       "      <td>0.0</td>\n",
       "      <td>0.6</td>\n",
       "      <td>0.0</td>\n",
       "      <td>0.2</td>\n",
       "      <td>0.4</td>\n",
       "      <td>0.2</td>\n",
       "      <td>0.1</td>\n",
       "      <td>0.0</td>\n",
       "      <td>0.1</td>\n",
       "      <td>0.0</td>\n",
       "    </tr>\n",
       "    <tr>\n",
       "      <th>412396</th>\n",
       "      <td>0.0</td>\n",
       "      <td>0.0</td>\n",
       "      <td>0.0</td>\n",
       "      <td>0.0</td>\n",
       "      <td>0.0</td>\n",
       "      <td>0.0</td>\n",
       "      <td>0.1</td>\n",
       "      <td>0.0</td>\n",
       "      <td>0.0</td>\n",
       "      <td>0.0</td>\n",
       "      <td>0.0</td>\n",
       "      <td>0.0</td>\n",
       "      <td>0.0</td>\n",
       "      <td>0.0</td>\n",
       "      <td>0.0</td>\n",
       "      <td>0.0</td>\n",
       "      <td>0.0</td>\n",
       "      <td>0.0</td>\n",
       "      <td>0.1</td>\n",
       "      <td>0.0</td>\n",
       "      <td>0.0</td>\n",
       "      <td>0.0</td>\n",
       "      <td>0.0</td>\n",
       "      <td>0.2</td>\n",
       "      <td>0.0</td>\n",
       "      <td>0.0</td>\n",
       "      <td>0.2</td>\n",
       "      <td>0.0</td>\n",
       "      <td>0.0</td>\n",
       "      <td>0.0</td>\n",
       "      <td>...</td>\n",
       "      <td>0.4</td>\n",
       "      <td>0.0</td>\n",
       "      <td>0.9</td>\n",
       "      <td>0.1</td>\n",
       "      <td>0.0</td>\n",
       "      <td>0.0</td>\n",
       "      <td>0.2</td>\n",
       "      <td>0.8</td>\n",
       "      <td>0.1</td>\n",
       "      <td>0.1</td>\n",
       "      <td>0.8</td>\n",
       "      <td>0.0</td>\n",
       "      <td>0.0</td>\n",
       "      <td>0.0</td>\n",
       "      <td>0.0</td>\n",
       "      <td>0.1</td>\n",
       "      <td>0.0</td>\n",
       "      <td>0.4</td>\n",
       "      <td>0.0</td>\n",
       "      <td>0.0</td>\n",
       "      <td>0.0</td>\n",
       "      <td>0.5</td>\n",
       "      <td>0.0</td>\n",
       "      <td>0.2</td>\n",
       "      <td>0.4</td>\n",
       "      <td>0.1</td>\n",
       "      <td>0.2</td>\n",
       "      <td>0.0</td>\n",
       "      <td>0.1</td>\n",
       "      <td>0.0</td>\n",
       "    </tr>\n",
       "    <tr>\n",
       "      <th>427740</th>\n",
       "      <td>0.2</td>\n",
       "      <td>0.1</td>\n",
       "      <td>0.0</td>\n",
       "      <td>0.0</td>\n",
       "      <td>0.1</td>\n",
       "      <td>0.0</td>\n",
       "      <td>0.0</td>\n",
       "      <td>0.0</td>\n",
       "      <td>0.1</td>\n",
       "      <td>0.0</td>\n",
       "      <td>0.0</td>\n",
       "      <td>0.0</td>\n",
       "      <td>0.0</td>\n",
       "      <td>0.1</td>\n",
       "      <td>0.0</td>\n",
       "      <td>0.0</td>\n",
       "      <td>0.0</td>\n",
       "      <td>0.0</td>\n",
       "      <td>0.1</td>\n",
       "      <td>0.0</td>\n",
       "      <td>0.0</td>\n",
       "      <td>0.0</td>\n",
       "      <td>0.0</td>\n",
       "      <td>0.0</td>\n",
       "      <td>0.0</td>\n",
       "      <td>0.0</td>\n",
       "      <td>0.1</td>\n",
       "      <td>0.0</td>\n",
       "      <td>0.0</td>\n",
       "      <td>0.1</td>\n",
       "      <td>...</td>\n",
       "      <td>0.1</td>\n",
       "      <td>0.0</td>\n",
       "      <td>0.6</td>\n",
       "      <td>0.3</td>\n",
       "      <td>0.1</td>\n",
       "      <td>0.1</td>\n",
       "      <td>0.3</td>\n",
       "      <td>0.6</td>\n",
       "      <td>0.1</td>\n",
       "      <td>0.1</td>\n",
       "      <td>0.6</td>\n",
       "      <td>0.1</td>\n",
       "      <td>0.1</td>\n",
       "      <td>0.0</td>\n",
       "      <td>0.0</td>\n",
       "      <td>0.0</td>\n",
       "      <td>0.0</td>\n",
       "      <td>0.3</td>\n",
       "      <td>0.0</td>\n",
       "      <td>0.0</td>\n",
       "      <td>0.1</td>\n",
       "      <td>0.6</td>\n",
       "      <td>0.1</td>\n",
       "      <td>0.0</td>\n",
       "      <td>0.3</td>\n",
       "      <td>0.1</td>\n",
       "      <td>0.2</td>\n",
       "      <td>0.1</td>\n",
       "      <td>0.2</td>\n",
       "      <td>0.0</td>\n",
       "    </tr>\n",
       "  </tbody>\n",
       "</table>\n",
       "<p>5 rows × 104 columns</p>\n",
       "</div>"
      ],
      "text/plain": [
       "        Function__Aides Compensation  Function__Career & Academic Counseling  \\\n",
       "180042                           0.0                                     0.0   \n",
       "28872                            0.0                                     0.0   \n",
       "186915                           0.0                                     0.0   \n",
       "412396                           0.0                                     0.0   \n",
       "427740                           0.2                                     0.1   \n",
       "\n",
       "        Function__Communications  Function__Curriculum Development  \\\n",
       "180042                       0.0                               0.0   \n",
       "28872                        0.0                               0.0   \n",
       "186915                       0.0                               0.0   \n",
       "412396                       0.0                               0.0   \n",
       "427740                       0.0                               0.0   \n",
       "\n",
       "        Function__Data Processing & Information Services  \\\n",
       "180042                                               0.0   \n",
       "28872                                                0.0   \n",
       "186915                                               0.0   \n",
       "412396                                               0.0   \n",
       "427740                                               0.1   \n",
       "\n",
       "        Function__Development & Fundraising  Function__Enrichment  \\\n",
       "180042                                  0.0                   0.0   \n",
       "28872                                   0.0                   0.3   \n",
       "186915                                  0.0                   0.1   \n",
       "412396                                  0.0                   0.1   \n",
       "427740                                  0.0                   0.0   \n",
       "\n",
       "        Function__Extended Time & Tutoring  \\\n",
       "180042                                 0.1   \n",
       "28872                                  0.0   \n",
       "186915                                 0.0   \n",
       "412396                                 0.0   \n",
       "427740                                 0.0   \n",
       "\n",
       "        Function__Facilities & Maintenance  Function__Facilities Planning  \\\n",
       "180042                                 0.1                            0.0   \n",
       "28872                                  0.2                            0.0   \n",
       "186915                                 0.0                            0.0   \n",
       "412396                                 0.0                            0.0   \n",
       "427740                                 0.1                            0.0   \n",
       "\n",
       "        Function__Finance, Budget, Purchasing & Distribution  \\\n",
       "180042                                                0.0      \n",
       "28872                                                 0.1      \n",
       "186915                                                0.0      \n",
       "412396                                                0.0      \n",
       "427740                                                0.0      \n",
       "\n",
       "        Function__Food Services  Function__Governance  \\\n",
       "180042                      0.0                   0.0   \n",
       "28872                       0.0                   0.0   \n",
       "186915                      0.0                   0.0   \n",
       "412396                      0.0                   0.0   \n",
       "427740                      0.0                   0.0   \n",
       "\n",
       "        Function__Human Resources  \\\n",
       "180042                        0.0   \n",
       "28872                         0.0   \n",
       "186915                        0.0   \n",
       "412396                        0.0   \n",
       "427740                        0.1   \n",
       "\n",
       "        Function__Instructional Materials & Supplies  Function__Insurance  \\\n",
       "180042                                           0.3                  0.0   \n",
       "28872                                            0.1                  0.0   \n",
       "186915                                           0.0                  0.0   \n",
       "412396                                           0.0                  0.0   \n",
       "427740                                           0.0                  0.0   \n",
       "\n",
       "        Function__Legal  Function__Library & Media  Function__NO_LABEL  \\\n",
       "180042              0.0                        0.1                 0.1   \n",
       "28872               0.0                        0.0                 0.0   \n",
       "186915              0.0                        0.0                 0.0   \n",
       "412396              0.0                        0.0                 0.1   \n",
       "427740              0.0                        0.0                 0.1   \n",
       "\n",
       "        Function__Other Compensation  Function__Other Non-Compensation  \\\n",
       "180042                           0.0                               0.0   \n",
       "28872                            0.0                               0.0   \n",
       "186915                           0.0                               0.0   \n",
       "412396                           0.0                               0.0   \n",
       "427740                           0.0                               0.0   \n",
       "\n",
       "        Function__Parent & Community Relations  \\\n",
       "180042                                     0.0   \n",
       "28872                                      0.0   \n",
       "186915                                     0.0   \n",
       "412396                                     0.0   \n",
       "427740                                     0.0   \n",
       "\n",
       "        Function__Physical Health & Services  \\\n",
       "180042                                   0.0   \n",
       "28872                                    0.0   \n",
       "186915                                   0.0   \n",
       "412396                                   0.0   \n",
       "427740                                   0.0   \n",
       "\n",
       "        Function__Professional Development  Function__Recruitment  \\\n",
       "180042                                 0.0                    0.0   \n",
       "28872                                  0.1                    0.0   \n",
       "186915                                 0.2                    0.0   \n",
       "412396                                 0.2                    0.0   \n",
       "427740                                 0.0                    0.0   \n",
       "\n",
       "        Function__Research & Accountability  Function__School Administration  \\\n",
       "180042                                  0.0                              0.1   \n",
       "28872                                   0.0                              0.1   \n",
       "186915                                  0.0                              0.3   \n",
       "412396                                  0.0                              0.2   \n",
       "427740                                  0.0                              0.1   \n",
       "\n",
       "        Function__School Supervision  Function__Security & Safety  \\\n",
       "180042                           0.1                          0.1   \n",
       "28872                            0.0                          0.1   \n",
       "186915                           0.0                          0.0   \n",
       "412396                           0.0                          0.0   \n",
       "427740                           0.0                          0.0   \n",
       "\n",
       "        Function__Social & Emotional               ...                 \\\n",
       "180042                           0.0               ...                  \n",
       "28872                            0.0               ...                  \n",
       "186915                           0.0               ...                  \n",
       "412396                           0.0               ...                  \n",
       "427740                           0.1               ...                  \n",
       "\n",
       "        Position_Type__Teacher  Position_Type__Vice Principal  \\\n",
       "180042                     0.1                            0.0   \n",
       "28872                      0.0                            0.0   \n",
       "186915                     0.3                            0.0   \n",
       "412396                     0.4                            0.0   \n",
       "427740                     0.1                            0.0   \n",
       "\n",
       "        Pre_K__NO_LABEL  Pre_K__Non PreK  Pre_K__PreK  Reporting__NO_LABEL  \\\n",
       "180042              0.5              0.5          0.0                  0.1   \n",
       "28872               0.5              0.5          0.0                  0.0   \n",
       "186915              0.8              0.2          0.0                  0.0   \n",
       "412396              0.9              0.1          0.0                  0.0   \n",
       "427740              0.6              0.3          0.1                  0.1   \n",
       "\n",
       "        Reporting__Non-School  Reporting__School  \\\n",
       "180042                    0.1                0.8   \n",
       "28872                     0.3                0.7   \n",
       "186915                    0.1                0.9   \n",
       "412396                    0.2                0.8   \n",
       "427740                    0.3                0.6   \n",
       "\n",
       "        Sharing__Leadership & Management  Sharing__NO_LABEL  \\\n",
       "180042                               0.1                0.1   \n",
       "28872                                0.1                0.0   \n",
       "186915                               0.1                0.0   \n",
       "412396                               0.1                0.1   \n",
       "427740                               0.1                0.1   \n",
       "\n",
       "        Sharing__School Reported  Sharing__School on Central Budgets  \\\n",
       "180042                       0.8                                 0.0   \n",
       "28872                        0.7                                 0.2   \n",
       "186915                       0.9                                 0.0   \n",
       "412396                       0.8                                 0.0   \n",
       "427740                       0.6                                 0.1   \n",
       "\n",
       "        Sharing__Shared Services  Student_Type__Alternative  \\\n",
       "180042                       0.0                        0.0   \n",
       "28872                        0.0                        0.0   \n",
       "186915                       0.0                        0.0   \n",
       "412396                       0.0                        0.0   \n",
       "427740                       0.1                        0.0   \n",
       "\n",
       "        Student_Type__At Risk  Student_Type__ELL  Student_Type__Gifted  \\\n",
       "180042                    0.0                0.0                   0.0   \n",
       "28872                     0.1                0.0                   0.0   \n",
       "186915                    0.0                0.1                   0.0   \n",
       "412396                    0.0                0.1                   0.0   \n",
       "427740                    0.0                0.0                   0.0   \n",
       "\n",
       "        Student_Type__NO_LABEL  Student_Type__Poverty  Student_Type__PreK  \\\n",
       "180042                     0.2                    0.0                 0.0   \n",
       "28872                      0.1                    0.1                 0.0   \n",
       "186915                     0.3                    0.0                 0.0   \n",
       "412396                     0.4                    0.0                 0.0   \n",
       "427740                     0.3                    0.0                 0.0   \n",
       "\n",
       "        Student_Type__Special Education  Student_Type__Unspecified  \\\n",
       "180042                              0.1                        0.7   \n",
       "28872                               0.0                        0.7   \n",
       "186915                              0.0                        0.6   \n",
       "412396                              0.0                        0.5   \n",
       "427740                              0.1                        0.6   \n",
       "\n",
       "        Use__Business Services  Use__ISPD  Use__Instruction  Use__Leadership  \\\n",
       "180042                     0.0        0.0               0.5              0.2   \n",
       "28872                      0.1        0.1               0.1              0.1   \n",
       "186915                     0.0        0.2               0.4              0.2   \n",
       "412396                     0.0        0.2               0.4              0.1   \n",
       "427740                     0.1        0.0               0.3              0.1   \n",
       "\n",
       "        Use__NO_LABEL  Use__O&M  Use__Pupil Services & Enrichment  \\\n",
       "180042            0.1       0.2                               0.0   \n",
       "28872             0.1       0.3                               0.2   \n",
       "186915            0.1       0.0                               0.1   \n",
       "412396            0.2       0.0                               0.1   \n",
       "427740            0.2       0.1                               0.2   \n",
       "\n",
       "        Use__Untracked Budget Set-Aside  \n",
       "180042                              0.0  \n",
       "28872                               0.0  \n",
       "186915                              0.0  \n",
       "412396                              0.0  \n",
       "427740                              0.0  \n",
       "\n",
       "[5 rows x 104 columns]"
      ]
     },
     "execution_count": 45,
     "metadata": {},
     "output_type": "execute_result"
    }
   ],
   "source": [
    "# get the right column names and index\n",
    "pred_rf.columns = pd.get_dummies(df[LABELS], prefix_sep='__').columns\n",
    "pred_rf.index = holdout.index\n",
    "# take a look, to see if we have the right characteristics\n",
    "pred_rf.head()"
   ]
  },
  {
   "cell_type": "code",
   "execution_count": 46,
   "metadata": {},
   "outputs": [
    {
     "data": {
      "text/html": [
       "<div>\n",
       "<style scoped>\n",
       "    .dataframe tbody tr th:only-of-type {\n",
       "        vertical-align: middle;\n",
       "    }\n",
       "\n",
       "    .dataframe tbody tr th {\n",
       "        vertical-align: top;\n",
       "    }\n",
       "\n",
       "    .dataframe thead th {\n",
       "        text-align: right;\n",
       "    }\n",
       "</style>\n",
       "<table border=\"1\" class=\"dataframe\">\n",
       "  <thead>\n",
       "    <tr style=\"text-align: right;\">\n",
       "      <th></th>\n",
       "      <th>Function__Aides Compensation</th>\n",
       "      <th>Function__Career &amp; Academic Counseling</th>\n",
       "      <th>Function__Communications</th>\n",
       "      <th>Function__Curriculum Development</th>\n",
       "      <th>Function__Data Processing &amp; Information Services</th>\n",
       "      <th>Function__Development &amp; Fundraising</th>\n",
       "      <th>Function__Enrichment</th>\n",
       "      <th>Function__Extended Time &amp; Tutoring</th>\n",
       "      <th>Function__Facilities &amp; Maintenance</th>\n",
       "      <th>Function__Facilities Planning</th>\n",
       "      <th>Function__Finance, Budget, Purchasing &amp; Distribution</th>\n",
       "      <th>Function__Food Services</th>\n",
       "      <th>Function__Governance</th>\n",
       "      <th>Function__Human Resources</th>\n",
       "      <th>Function__Instructional Materials &amp; Supplies</th>\n",
       "      <th>Function__Insurance</th>\n",
       "      <th>Function__Legal</th>\n",
       "      <th>Function__Library &amp; Media</th>\n",
       "      <th>Function__NO_LABEL</th>\n",
       "      <th>Function__Other Compensation</th>\n",
       "      <th>Function__Other Non-Compensation</th>\n",
       "      <th>Function__Parent &amp; Community Relations</th>\n",
       "      <th>Function__Physical Health &amp; Services</th>\n",
       "      <th>Function__Professional Development</th>\n",
       "      <th>Function__Recruitment</th>\n",
       "      <th>Function__Research &amp; Accountability</th>\n",
       "      <th>Function__School Administration</th>\n",
       "      <th>Function__School Supervision</th>\n",
       "      <th>Function__Security &amp; Safety</th>\n",
       "      <th>Function__Social &amp; Emotional</th>\n",
       "      <th>...</th>\n",
       "      <th>Position_Type__Teacher</th>\n",
       "      <th>Position_Type__Vice Principal</th>\n",
       "      <th>Pre_K__NO_LABEL</th>\n",
       "      <th>Pre_K__Non PreK</th>\n",
       "      <th>Pre_K__PreK</th>\n",
       "      <th>Reporting__NO_LABEL</th>\n",
       "      <th>Reporting__Non-School</th>\n",
       "      <th>Reporting__School</th>\n",
       "      <th>Sharing__Leadership &amp; Management</th>\n",
       "      <th>Sharing__NO_LABEL</th>\n",
       "      <th>Sharing__School Reported</th>\n",
       "      <th>Sharing__School on Central Budgets</th>\n",
       "      <th>Sharing__Shared Services</th>\n",
       "      <th>Student_Type__Alternative</th>\n",
       "      <th>Student_Type__At Risk</th>\n",
       "      <th>Student_Type__ELL</th>\n",
       "      <th>Student_Type__Gifted</th>\n",
       "      <th>Student_Type__NO_LABEL</th>\n",
       "      <th>Student_Type__Poverty</th>\n",
       "      <th>Student_Type__PreK</th>\n",
       "      <th>Student_Type__Special Education</th>\n",
       "      <th>Student_Type__Unspecified</th>\n",
       "      <th>Use__Business Services</th>\n",
       "      <th>Use__ISPD</th>\n",
       "      <th>Use__Instruction</th>\n",
       "      <th>Use__Leadership</th>\n",
       "      <th>Use__NO_LABEL</th>\n",
       "      <th>Use__O&amp;M</th>\n",
       "      <th>Use__Pupil Services &amp; Enrichment</th>\n",
       "      <th>Use__Untracked Budget Set-Aside</th>\n",
       "    </tr>\n",
       "  </thead>\n",
       "  <tbody>\n",
       "    <tr>\n",
       "      <th>180042</th>\n",
       "      <td>0.035044</td>\n",
       "      <td>0.009033</td>\n",
       "      <td>0.000020</td>\n",
       "      <td>0.005156</td>\n",
       "      <td>0.004115</td>\n",
       "      <td>0.000051</td>\n",
       "      <td>0.023341</td>\n",
       "      <td>0.012113</td>\n",
       "      <td>0.017187</td>\n",
       "      <td>0.000016</td>\n",
       "      <td>0.002960</td>\n",
       "      <td>0.004691</td>\n",
       "      <td>0.000383</td>\n",
       "      <td>0.000736</td>\n",
       "      <td>0.106760</td>\n",
       "      <td>0.000100</td>\n",
       "      <td>0.000050</td>\n",
       "      <td>0.005736</td>\n",
       "      <td>0.119529</td>\n",
       "      <td>0.006688</td>\n",
       "      <td>0.025591</td>\n",
       "      <td>0.003441</td>\n",
       "      <td>0.005528</td>\n",
       "      <td>0.019680</td>\n",
       "      <td>0.000008</td>\n",
       "      <td>0.000735</td>\n",
       "      <td>0.024214</td>\n",
       "      <td>0.003384</td>\n",
       "      <td>0.001597</td>\n",
       "      <td>0.011827</td>\n",
       "      <td>...</td>\n",
       "      <td>0.066468</td>\n",
       "      <td>0.001552</td>\n",
       "      <td>0.685863</td>\n",
       "      <td>0.268437</td>\n",
       "      <td>0.006203</td>\n",
       "      <td>0.102979</td>\n",
       "      <td>0.131416</td>\n",
       "      <td>0.810076</td>\n",
       "      <td>0.024852</td>\n",
       "      <td>0.103729</td>\n",
       "      <td>0.841351</td>\n",
       "      <td>0.034106</td>\n",
       "      <td>0.086982</td>\n",
       "      <td>0.000772</td>\n",
       "      <td>0.000623</td>\n",
       "      <td>0.005840</td>\n",
       "      <td>0.000681</td>\n",
       "      <td>0.255563</td>\n",
       "      <td>0.011720</td>\n",
       "      <td>0.000045</td>\n",
       "      <td>0.076170</td>\n",
       "      <td>0.517811</td>\n",
       "      <td>0.004018</td>\n",
       "      <td>0.034925</td>\n",
       "      <td>0.548877</td>\n",
       "      <td>0.028157</td>\n",
       "      <td>0.208611</td>\n",
       "      <td>0.048271</td>\n",
       "      <td>0.076109</td>\n",
       "      <td>0.003594</td>\n",
       "    </tr>\n",
       "    <tr>\n",
       "      <th>28872</th>\n",
       "      <td>0.043341</td>\n",
       "      <td>0.004671</td>\n",
       "      <td>0.000158</td>\n",
       "      <td>0.007053</td>\n",
       "      <td>0.004726</td>\n",
       "      <td>0.000033</td>\n",
       "      <td>0.346247</td>\n",
       "      <td>0.032432</td>\n",
       "      <td>0.066243</td>\n",
       "      <td>0.000027</td>\n",
       "      <td>0.009442</td>\n",
       "      <td>0.006800</td>\n",
       "      <td>0.000579</td>\n",
       "      <td>0.001067</td>\n",
       "      <td>0.062761</td>\n",
       "      <td>0.000037</td>\n",
       "      <td>0.000237</td>\n",
       "      <td>0.004635</td>\n",
       "      <td>0.012955</td>\n",
       "      <td>0.000677</td>\n",
       "      <td>0.000803</td>\n",
       "      <td>0.007210</td>\n",
       "      <td>0.015402</td>\n",
       "      <td>0.023446</td>\n",
       "      <td>0.000046</td>\n",
       "      <td>0.005893</td>\n",
       "      <td>0.069195</td>\n",
       "      <td>0.003190</td>\n",
       "      <td>0.002421</td>\n",
       "      <td>0.012070</td>\n",
       "      <td>...</td>\n",
       "      <td>0.165565</td>\n",
       "      <td>0.003492</td>\n",
       "      <td>0.764101</td>\n",
       "      <td>0.253937</td>\n",
       "      <td>0.004298</td>\n",
       "      <td>0.011162</td>\n",
       "      <td>0.393182</td>\n",
       "      <td>0.693085</td>\n",
       "      <td>0.071155</td>\n",
       "      <td>0.023945</td>\n",
       "      <td>0.677781</td>\n",
       "      <td>0.085284</td>\n",
       "      <td>0.183946</td>\n",
       "      <td>0.000476</td>\n",
       "      <td>0.001791</td>\n",
       "      <td>0.014778</td>\n",
       "      <td>0.001482</td>\n",
       "      <td>0.047052</td>\n",
       "      <td>0.013795</td>\n",
       "      <td>0.000074</td>\n",
       "      <td>0.055897</td>\n",
       "      <td>0.833639</td>\n",
       "      <td>0.047163</td>\n",
       "      <td>0.030864</td>\n",
       "      <td>0.304865</td>\n",
       "      <td>0.123692</td>\n",
       "      <td>0.058561</td>\n",
       "      <td>0.112773</td>\n",
       "      <td>0.426434</td>\n",
       "      <td>0.000275</td>\n",
       "    </tr>\n",
       "    <tr>\n",
       "      <th>186915</th>\n",
       "      <td>0.068035</td>\n",
       "      <td>0.023687</td>\n",
       "      <td>0.000013</td>\n",
       "      <td>0.003775</td>\n",
       "      <td>0.002454</td>\n",
       "      <td>0.000007</td>\n",
       "      <td>0.014611</td>\n",
       "      <td>0.004399</td>\n",
       "      <td>0.014048</td>\n",
       "      <td>0.000007</td>\n",
       "      <td>0.002093</td>\n",
       "      <td>0.001688</td>\n",
       "      <td>0.000408</td>\n",
       "      <td>0.000297</td>\n",
       "      <td>0.076740</td>\n",
       "      <td>0.000010</td>\n",
       "      <td>0.000044</td>\n",
       "      <td>0.002104</td>\n",
       "      <td>0.027777</td>\n",
       "      <td>0.000098</td>\n",
       "      <td>0.005738</td>\n",
       "      <td>0.002662</td>\n",
       "      <td>0.014151</td>\n",
       "      <td>0.008969</td>\n",
       "      <td>0.000004</td>\n",
       "      <td>0.000181</td>\n",
       "      <td>0.033915</td>\n",
       "      <td>0.001949</td>\n",
       "      <td>0.000319</td>\n",
       "      <td>0.008079</td>\n",
       "      <td>...</td>\n",
       "      <td>0.116599</td>\n",
       "      <td>0.000777</td>\n",
       "      <td>0.882500</td>\n",
       "      <td>0.049357</td>\n",
       "      <td>0.006004</td>\n",
       "      <td>0.018001</td>\n",
       "      <td>0.110613</td>\n",
       "      <td>0.822952</td>\n",
       "      <td>0.015549</td>\n",
       "      <td>0.025805</td>\n",
       "      <td>0.774871</td>\n",
       "      <td>0.027887</td>\n",
       "      <td>0.058084</td>\n",
       "      <td>0.000391</td>\n",
       "      <td>0.000875</td>\n",
       "      <td>0.023295</td>\n",
       "      <td>0.000513</td>\n",
       "      <td>0.188035</td>\n",
       "      <td>0.008833</td>\n",
       "      <td>0.000131</td>\n",
       "      <td>0.095172</td>\n",
       "      <td>0.384363</td>\n",
       "      <td>0.006559</td>\n",
       "      <td>0.016105</td>\n",
       "      <td>0.712228</td>\n",
       "      <td>0.035126</td>\n",
       "      <td>0.085500</td>\n",
       "      <td>0.022647</td>\n",
       "      <td>0.071729</td>\n",
       "      <td>0.000102</td>\n",
       "    </tr>\n",
       "    <tr>\n",
       "      <th>412396</th>\n",
       "      <td>0.067884</td>\n",
       "      <td>0.023532</td>\n",
       "      <td>0.000013</td>\n",
       "      <td>0.003762</td>\n",
       "      <td>0.002443</td>\n",
       "      <td>0.000007</td>\n",
       "      <td>0.014568</td>\n",
       "      <td>0.004390</td>\n",
       "      <td>0.014010</td>\n",
       "      <td>0.000007</td>\n",
       "      <td>0.002088</td>\n",
       "      <td>0.001686</td>\n",
       "      <td>0.000406</td>\n",
       "      <td>0.000296</td>\n",
       "      <td>0.076481</td>\n",
       "      <td>0.000010</td>\n",
       "      <td>0.000044</td>\n",
       "      <td>0.002098</td>\n",
       "      <td>0.027708</td>\n",
       "      <td>0.000098</td>\n",
       "      <td>0.005717</td>\n",
       "      <td>0.002656</td>\n",
       "      <td>0.014106</td>\n",
       "      <td>0.008953</td>\n",
       "      <td>0.000004</td>\n",
       "      <td>0.000180</td>\n",
       "      <td>0.033843</td>\n",
       "      <td>0.001943</td>\n",
       "      <td>0.000319</td>\n",
       "      <td>0.008061</td>\n",
       "      <td>...</td>\n",
       "      <td>0.118218</td>\n",
       "      <td>0.000775</td>\n",
       "      <td>0.882676</td>\n",
       "      <td>0.049284</td>\n",
       "      <td>0.005990</td>\n",
       "      <td>0.017923</td>\n",
       "      <td>0.110500</td>\n",
       "      <td>0.823951</td>\n",
       "      <td>0.015511</td>\n",
       "      <td>0.025785</td>\n",
       "      <td>0.777487</td>\n",
       "      <td>0.027844</td>\n",
       "      <td>0.058031</td>\n",
       "      <td>0.000391</td>\n",
       "      <td>0.000873</td>\n",
       "      <td>0.023209</td>\n",
       "      <td>0.000512</td>\n",
       "      <td>0.190932</td>\n",
       "      <td>0.008823</td>\n",
       "      <td>0.000131</td>\n",
       "      <td>0.094927</td>\n",
       "      <td>0.382252</td>\n",
       "      <td>0.006515</td>\n",
       "      <td>0.016055</td>\n",
       "      <td>0.713104</td>\n",
       "      <td>0.035043</td>\n",
       "      <td>0.085294</td>\n",
       "      <td>0.022625</td>\n",
       "      <td>0.071502</td>\n",
       "      <td>0.000102</td>\n",
       "    </tr>\n",
       "    <tr>\n",
       "      <th>427740</th>\n",
       "      <td>0.052017</td>\n",
       "      <td>0.211306</td>\n",
       "      <td>0.000247</td>\n",
       "      <td>0.002943</td>\n",
       "      <td>0.006818</td>\n",
       "      <td>0.000011</td>\n",
       "      <td>0.016244</td>\n",
       "      <td>0.002897</td>\n",
       "      <td>0.044838</td>\n",
       "      <td>0.000008</td>\n",
       "      <td>0.006023</td>\n",
       "      <td>0.004567</td>\n",
       "      <td>0.000197</td>\n",
       "      <td>0.000621</td>\n",
       "      <td>0.046854</td>\n",
       "      <td>0.000016</td>\n",
       "      <td>0.000206</td>\n",
       "      <td>0.006088</td>\n",
       "      <td>0.018502</td>\n",
       "      <td>0.000166</td>\n",
       "      <td>0.000454</td>\n",
       "      <td>0.002349</td>\n",
       "      <td>0.002549</td>\n",
       "      <td>0.012234</td>\n",
       "      <td>0.000013</td>\n",
       "      <td>0.000349</td>\n",
       "      <td>0.424999</td>\n",
       "      <td>0.001536</td>\n",
       "      <td>0.001715</td>\n",
       "      <td>0.003781</td>\n",
       "      <td>...</td>\n",
       "      <td>0.027036</td>\n",
       "      <td>0.009271</td>\n",
       "      <td>0.676855</td>\n",
       "      <td>0.242153</td>\n",
       "      <td>0.004491</td>\n",
       "      <td>0.010051</td>\n",
       "      <td>0.162554</td>\n",
       "      <td>0.874431</td>\n",
       "      <td>0.041169</td>\n",
       "      <td>0.021105</td>\n",
       "      <td>0.868192</td>\n",
       "      <td>0.016074</td>\n",
       "      <td>0.103978</td>\n",
       "      <td>0.000220</td>\n",
       "      <td>0.000620</td>\n",
       "      <td>0.006931</td>\n",
       "      <td>0.000304</td>\n",
       "      <td>0.101587</td>\n",
       "      <td>0.005021</td>\n",
       "      <td>0.000013</td>\n",
       "      <td>0.036306</td>\n",
       "      <td>0.784040</td>\n",
       "      <td>0.032007</td>\n",
       "      <td>0.037037</td>\n",
       "      <td>0.288827</td>\n",
       "      <td>0.436190</td>\n",
       "      <td>0.064791</td>\n",
       "      <td>0.078117</td>\n",
       "      <td>0.055109</td>\n",
       "      <td>0.000177</td>\n",
       "    </tr>\n",
       "  </tbody>\n",
       "</table>\n",
       "<p>5 rows × 104 columns</p>\n",
       "</div>"
      ],
      "text/plain": [
       "        Function__Aides Compensation  Function__Career & Academic Counseling  \\\n",
       "180042                      0.035044                                0.009033   \n",
       "28872                       0.043341                                0.004671   \n",
       "186915                      0.068035                                0.023687   \n",
       "412396                      0.067884                                0.023532   \n",
       "427740                      0.052017                                0.211306   \n",
       "\n",
       "        Function__Communications  Function__Curriculum Development  \\\n",
       "180042                  0.000020                          0.005156   \n",
       "28872                   0.000158                          0.007053   \n",
       "186915                  0.000013                          0.003775   \n",
       "412396                  0.000013                          0.003762   \n",
       "427740                  0.000247                          0.002943   \n",
       "\n",
       "        Function__Data Processing & Information Services  \\\n",
       "180042                                          0.004115   \n",
       "28872                                           0.004726   \n",
       "186915                                          0.002454   \n",
       "412396                                          0.002443   \n",
       "427740                                          0.006818   \n",
       "\n",
       "        Function__Development & Fundraising  Function__Enrichment  \\\n",
       "180042                             0.000051              0.023341   \n",
       "28872                              0.000033              0.346247   \n",
       "186915                             0.000007              0.014611   \n",
       "412396                             0.000007              0.014568   \n",
       "427740                             0.000011              0.016244   \n",
       "\n",
       "        Function__Extended Time & Tutoring  \\\n",
       "180042                            0.012113   \n",
       "28872                             0.032432   \n",
       "186915                            0.004399   \n",
       "412396                            0.004390   \n",
       "427740                            0.002897   \n",
       "\n",
       "        Function__Facilities & Maintenance  Function__Facilities Planning  \\\n",
       "180042                            0.017187                       0.000016   \n",
       "28872                             0.066243                       0.000027   \n",
       "186915                            0.014048                       0.000007   \n",
       "412396                            0.014010                       0.000007   \n",
       "427740                            0.044838                       0.000008   \n",
       "\n",
       "        Function__Finance, Budget, Purchasing & Distribution  \\\n",
       "180042                                           0.002960      \n",
       "28872                                            0.009442      \n",
       "186915                                           0.002093      \n",
       "412396                                           0.002088      \n",
       "427740                                           0.006023      \n",
       "\n",
       "        Function__Food Services  Function__Governance  \\\n",
       "180042                 0.004691              0.000383   \n",
       "28872                  0.006800              0.000579   \n",
       "186915                 0.001688              0.000408   \n",
       "412396                 0.001686              0.000406   \n",
       "427740                 0.004567              0.000197   \n",
       "\n",
       "        Function__Human Resources  \\\n",
       "180042                   0.000736   \n",
       "28872                    0.001067   \n",
       "186915                   0.000297   \n",
       "412396                   0.000296   \n",
       "427740                   0.000621   \n",
       "\n",
       "        Function__Instructional Materials & Supplies  Function__Insurance  \\\n",
       "180042                                      0.106760             0.000100   \n",
       "28872                                       0.062761             0.000037   \n",
       "186915                                      0.076740             0.000010   \n",
       "412396                                      0.076481             0.000010   \n",
       "427740                                      0.046854             0.000016   \n",
       "\n",
       "        Function__Legal  Function__Library & Media  Function__NO_LABEL  \\\n",
       "180042         0.000050                   0.005736            0.119529   \n",
       "28872          0.000237                   0.004635            0.012955   \n",
       "186915         0.000044                   0.002104            0.027777   \n",
       "412396         0.000044                   0.002098            0.027708   \n",
       "427740         0.000206                   0.006088            0.018502   \n",
       "\n",
       "        Function__Other Compensation  Function__Other Non-Compensation  \\\n",
       "180042                      0.006688                          0.025591   \n",
       "28872                       0.000677                          0.000803   \n",
       "186915                      0.000098                          0.005738   \n",
       "412396                      0.000098                          0.005717   \n",
       "427740                      0.000166                          0.000454   \n",
       "\n",
       "        Function__Parent & Community Relations  \\\n",
       "180042                                0.003441   \n",
       "28872                                 0.007210   \n",
       "186915                                0.002662   \n",
       "412396                                0.002656   \n",
       "427740                                0.002349   \n",
       "\n",
       "        Function__Physical Health & Services  \\\n",
       "180042                              0.005528   \n",
       "28872                               0.015402   \n",
       "186915                              0.014151   \n",
       "412396                              0.014106   \n",
       "427740                              0.002549   \n",
       "\n",
       "        Function__Professional Development  Function__Recruitment  \\\n",
       "180042                            0.019680               0.000008   \n",
       "28872                             0.023446               0.000046   \n",
       "186915                            0.008969               0.000004   \n",
       "412396                            0.008953               0.000004   \n",
       "427740                            0.012234               0.000013   \n",
       "\n",
       "        Function__Research & Accountability  Function__School Administration  \\\n",
       "180042                             0.000735                         0.024214   \n",
       "28872                              0.005893                         0.069195   \n",
       "186915                             0.000181                         0.033915   \n",
       "412396                             0.000180                         0.033843   \n",
       "427740                             0.000349                         0.424999   \n",
       "\n",
       "        Function__School Supervision  Function__Security & Safety  \\\n",
       "180042                      0.003384                     0.001597   \n",
       "28872                       0.003190                     0.002421   \n",
       "186915                      0.001949                     0.000319   \n",
       "412396                      0.001943                     0.000319   \n",
       "427740                      0.001536                     0.001715   \n",
       "\n",
       "        Function__Social & Emotional               ...                 \\\n",
       "180042                      0.011827               ...                  \n",
       "28872                       0.012070               ...                  \n",
       "186915                      0.008079               ...                  \n",
       "412396                      0.008061               ...                  \n",
       "427740                      0.003781               ...                  \n",
       "\n",
       "        Position_Type__Teacher  Position_Type__Vice Principal  \\\n",
       "180042                0.066468                       0.001552   \n",
       "28872                 0.165565                       0.003492   \n",
       "186915                0.116599                       0.000777   \n",
       "412396                0.118218                       0.000775   \n",
       "427740                0.027036                       0.009271   \n",
       "\n",
       "        Pre_K__NO_LABEL  Pre_K__Non PreK  Pre_K__PreK  Reporting__NO_LABEL  \\\n",
       "180042         0.685863         0.268437     0.006203             0.102979   \n",
       "28872          0.764101         0.253937     0.004298             0.011162   \n",
       "186915         0.882500         0.049357     0.006004             0.018001   \n",
       "412396         0.882676         0.049284     0.005990             0.017923   \n",
       "427740         0.676855         0.242153     0.004491             0.010051   \n",
       "\n",
       "        Reporting__Non-School  Reporting__School  \\\n",
       "180042               0.131416           0.810076   \n",
       "28872                0.393182           0.693085   \n",
       "186915               0.110613           0.822952   \n",
       "412396               0.110500           0.823951   \n",
       "427740               0.162554           0.874431   \n",
       "\n",
       "        Sharing__Leadership & Management  Sharing__NO_LABEL  \\\n",
       "180042                          0.024852           0.103729   \n",
       "28872                           0.071155           0.023945   \n",
       "186915                          0.015549           0.025805   \n",
       "412396                          0.015511           0.025785   \n",
       "427740                          0.041169           0.021105   \n",
       "\n",
       "        Sharing__School Reported  Sharing__School on Central Budgets  \\\n",
       "180042                  0.841351                            0.034106   \n",
       "28872                   0.677781                            0.085284   \n",
       "186915                  0.774871                            0.027887   \n",
       "412396                  0.777487                            0.027844   \n",
       "427740                  0.868192                            0.016074   \n",
       "\n",
       "        Sharing__Shared Services  Student_Type__Alternative  \\\n",
       "180042                  0.086982                   0.000772   \n",
       "28872                   0.183946                   0.000476   \n",
       "186915                  0.058084                   0.000391   \n",
       "412396                  0.058031                   0.000391   \n",
       "427740                  0.103978                   0.000220   \n",
       "\n",
       "        Student_Type__At Risk  Student_Type__ELL  Student_Type__Gifted  \\\n",
       "180042               0.000623           0.005840              0.000681   \n",
       "28872                0.001791           0.014778              0.001482   \n",
       "186915               0.000875           0.023295              0.000513   \n",
       "412396               0.000873           0.023209              0.000512   \n",
       "427740               0.000620           0.006931              0.000304   \n",
       "\n",
       "        Student_Type__NO_LABEL  Student_Type__Poverty  Student_Type__PreK  \\\n",
       "180042                0.255563               0.011720            0.000045   \n",
       "28872                 0.047052               0.013795            0.000074   \n",
       "186915                0.188035               0.008833            0.000131   \n",
       "412396                0.190932               0.008823            0.000131   \n",
       "427740                0.101587               0.005021            0.000013   \n",
       "\n",
       "        Student_Type__Special Education  Student_Type__Unspecified  \\\n",
       "180042                         0.076170                   0.517811   \n",
       "28872                          0.055897                   0.833639   \n",
       "186915                         0.095172                   0.384363   \n",
       "412396                         0.094927                   0.382252   \n",
       "427740                         0.036306                   0.784040   \n",
       "\n",
       "        Use__Business Services  Use__ISPD  Use__Instruction  Use__Leadership  \\\n",
       "180042                0.004018   0.034925          0.548877         0.028157   \n",
       "28872                 0.047163   0.030864          0.304865         0.123692   \n",
       "186915                0.006559   0.016105          0.712228         0.035126   \n",
       "412396                0.006515   0.016055          0.713104         0.035043   \n",
       "427740                0.032007   0.037037          0.288827         0.436190   \n",
       "\n",
       "        Use__NO_LABEL  Use__O&M  Use__Pupil Services & Enrichment  \\\n",
       "180042       0.208611  0.048271                          0.076109   \n",
       "28872        0.058561  0.112773                          0.426434   \n",
       "186915       0.085500  0.022647                          0.071729   \n",
       "412396       0.085294  0.022625                          0.071502   \n",
       "427740       0.064791  0.078117                          0.055109   \n",
       "\n",
       "        Use__Untracked Budget Set-Aside  \n",
       "180042                         0.003594  \n",
       "28872                          0.000275  \n",
       "186915                         0.000102  \n",
       "412396                         0.000102  \n",
       "427740                         0.000177  \n",
       "\n",
       "[5 rows x 104 columns]"
      ]
     },
     "execution_count": 46,
     "metadata": {},
     "output_type": "execute_result"
    }
   ],
   "source": [
    "# compare to previous prediction\n",
    "prediction_df.head()"
   ]
  },
  {
   "cell_type": "code",
   "execution_count": 47,
   "metadata": {
    "scrolled": false
   },
   "outputs": [
    {
     "data": {
      "text/plain": [
       "(True, True)"
      ]
     },
     "execution_count": 47,
     "metadata": {},
     "output_type": "execute_result"
    }
   ],
   "source": [
    "# check index and column names are the same\n",
    "all(prediction_df.index == pred_rf.index), all(prediction_df.columns == pred_rf.columns)"
   ]
  },
  {
   "cell_type": "code",
   "execution_count": 62,
   "metadata": {},
   "outputs": [],
   "source": [
    " pred_rf.to_csv('sub_rf_defaults.csv')"
   ]
  },
  {
   "cell_type": "markdown",
   "metadata": {},
   "source": [
    "#### Submitted and scored  holdout set predictions at  1.6941.   Much worse score in competition despite the very good test accuracy."
   ]
  },
  {
   "cell_type": "markdown",
   "metadata": {},
   "source": [
    "### Add features to the pipeline\n",
    "\n",
    "1. Add bigrams to CountVectorizer and tokenize on alphanumeric (previously was used with default settings)\n",
    "2. Dimension reduction with SelectKBest using chi-squared (300 features).\n",
    "3. Scale all features to range \\[-1, 1\\] with MaxAbsScaler\n",
    "4. Go back to OneVsAll(LogisticRegression)"
   ]
  },
  {
   "cell_type": "code",
   "execution_count": 49,
   "metadata": {},
   "outputs": [],
   "source": [
    "# Select 300 best features\n",
    "chi_k = 300\n",
    "\n",
    "# Perform preprocessing\n",
    "get_text_data = FunctionTransformer(combine_text_columns, validate=False)\n",
    "get_numeric_data = FunctionTransformer(lambda x: x[NUMERIC_COLUMNS], validate=False)\n",
    "\n",
    "# Create the token pattern: TOKENS_ALPHANUMERIC\n",
    "TOKENS_ALPHANUMERIC = '[A-Za-z0-9]+(?=\\\\s+)'\n",
    "\n",
    "# Instantiate pipeline: pl\n",
    "pl_03 = Pipeline([\n",
    "        ('union', FeatureUnion(\n",
    "            transformer_list = [\n",
    "                ('numeric_features', Pipeline([\n",
    "                    ('selector', get_numeric_data),\n",
    "                    ('imputer', Imputer())\n",
    "                ])),\n",
    "                ('text_features', Pipeline([\n",
    "                    ('selector', get_text_data),\n",
    "                    # soup up vectorizer a bit\n",
    "                    ('vectorizer', CountVectorizer(token_pattern=TOKENS_ALPHANUMERIC,\n",
    "                                                   ngram_range=(1, 2))),  # adding bigrams\n",
    "                    ('dim_red', SelectKBest(chi2, chi_k))\n",
    "                ]))\n",
    "             ]\n",
    "        )),\n",
    "        ('scale', MaxAbsScaler()),\n",
    "        ('clf', OneVsRestClassifier(LogisticRegression()))\n",
    "    ])"
   ]
  },
  {
   "cell_type": "markdown",
   "metadata": {},
   "source": [
    "##### Tutorial doesn't fit or predict with this model in the tutorial.  It seems natural to do that."
   ]
  },
  {
   "cell_type": "code",
   "execution_count": 50,
   "metadata": {},
   "outputs": [
    {
     "name": "stdout",
     "output_type": "stream",
     "text": [
      "fit time: 586.9454308111488 seconds\n"
     ]
    }
   ],
   "source": [
    "start = timer()\n",
    "# Fit to the training data\n",
    "pl_03.fit(X_train, y_train)\n",
    "end = timer()\n",
    "print('fit time: {:.2f} seconds'.format(end - start))"
   ]
  },
  {
   "cell_type": "code",
   "execution_count": 51,
   "metadata": {},
   "outputs": [],
   "source": [
    "# Compute and print accuracy\n",
    "# Print the accuracy scores\n",
    "yhat_train = pl_03.predict(X_train)\n",
    "yhat_test = pl_03.predict(X_test)"
   ]
  },
  {
   "cell_type": "code",
   "execution_count": 52,
   "metadata": {},
   "outputs": [
    {
     "name": "stdout",
     "output_type": "stream",
     "text": [
      "train accuracy: 0.55\n",
      "test accuracy: 0.55\n"
     ]
    }
   ],
   "source": [
    "print('train accuracy: {:.4f}'.format(accuracy_score(yhat_train, y_train)))\n",
    "print('test accuracy: {:.4f}'.format(accuracy_score(yhat_train, y_train)))"
   ]
  },
  {
   "cell_type": "code",
   "execution_count": 61,
   "metadata": {},
   "outputs": [
    {
     "name": "stdout",
     "output_type": "stream",
     "text": [
      "predict time: 3.6259336847979284 seconds\n"
     ]
    }
   ],
   "source": [
    "start = timer()\n",
    "# Generate predictions: predictions\n",
    "predictions_03 = pl_03.predict_proba(holdout)\n",
    "end = timer()\n",
    "print('predict time: {:.2} seconds'.format(end - start))\n",
    "\n",
    "prediction_df_03 = pd.DataFrame(columns=pd.get_dummies(df[LABELS], prefix_sep='__').columns, \n",
    "                             index=holdout.index,\n",
    "                             data=predictions_03)\n",
    "\n",
    "prediction_df_03.to_csv('sub3.csv')"
   ]
  },
  {
   "cell_type": "markdown",
   "metadata": {},
   "source": [
    "#### Submitted model with bigrams, dimension reduction and scaling - score is 0.8174.  Not as good as first model, but  close.\n",
    "\n",
    "It may be that tossing all those features (there are 29k of them) is overdoing it.  It's be that they've done it to minimize processing time."
   ]
  },
  {
   "cell_type": "markdown",
   "metadata": {},
   "source": [
    "### Add feature interactions \n",
    "\n",
    "The tutorial provides a utility transformer called SparseInteractions. This adds features to the model based on the combination of each feature pair (i.e. cross-product of wordvec features).\n",
    "\n",
    "The tutorial shows two models (called pl04 and pl05).  I went directly to pl05. Neither one of these model is fitted in the tutorial."
   ]
  },
  {
   "cell_type": "code",
   "execution_count": 54,
   "metadata": {},
   "outputs": [],
   "source": [
    "from python.sparse_interactions import SparseInteractions\n",
    "\n",
    "# Instantiate pipeline: pl\n",
    "pl04 = Pipeline([\n",
    "        ('union', FeatureUnion(\n",
    "            transformer_list = [\n",
    "                ('numeric_features', Pipeline([\n",
    "                    ('selector', get_numeric_data),\n",
    "                    ('imputer', Imputer())\n",
    "                ])),\n",
    "                ('text_features', Pipeline([\n",
    "                    ('selector', get_text_data),\n",
    "                    ('vectorizer', CountVectorizer(token_pattern=TOKENS_ALPHANUMERIC,\n",
    "                                                   ngram_range=(1, 2))),  \n",
    "                    ('dim_red', SelectKBest(chi2, chi_k))\n",
    "                ]))\n",
    "             ]\n",
    "        )),\n",
    "        # Now add the interaction features to the selected feature set\n",
    "        ('int', SparseInteractions(degree=2)),\n",
    "        ('scale', MaxAbsScaler()),\n",
    "        ('clf', OneVsRestClassifier(LogisticRegression()))\n",
    "    ])"
   ]
  },
  {
   "cell_type": "markdown",
   "metadata": {},
   "source": [
    "### Use hashing vectorizer instead of CountVectorizer\n",
    "\n",
    "For the final model they swap vectorizer claiming computational advantages."
   ]
  },
  {
   "cell_type": "code",
   "execution_count": 55,
   "metadata": {},
   "outputs": [],
   "source": [
    "# Import the hashing vectorizer\n",
    "from sklearn.feature_extraction.text import HashingVectorizer\n",
    "\n",
    "# Instantiate the winning model pipeline: pl\n",
    "pl05 = Pipeline([\n",
    "        ('union', FeatureUnion(\n",
    "            transformer_list = [\n",
    "                ('numeric_features', Pipeline([\n",
    "                    ('selector', get_numeric_data),\n",
    "                    ('imputer', Imputer())\n",
    "                ])),\n",
    "                ('text_features', Pipeline([\n",
    "                    ('selector', get_text_data),\n",
    "                    ('vectorizer', HashingVectorizer(token_pattern=TOKENS_ALPHANUMERIC,\n",
    "                                                     non_negative=True, norm=None, binary=False,\n",
    "                                                     ngram_range=(1,2))),\n",
    "                    ('dim_red', SelectKBest(chi2, chi_k))\n",
    "                ]))\n",
    "             ]\n",
    "        )),\n",
    "        ('int', SparseInteractions(degree=2)),\n",
    "        ('scale', MaxAbsScaler()),\n",
    "        ('clf', OneVsRestClassifier(LogisticRegression(), n_jobs=-1))\n",
    "    ])"
   ]
  },
  {
   "cell_type": "markdown",
   "metadata": {},
   "source": [
    "### This is the  final model in the tutorial.  Fit and see how it does."
   ]
  },
  {
   "cell_type": "code",
   "execution_count": 56,
   "metadata": {},
   "outputs": [
    {
     "name": "stderr",
     "output_type": "stream",
     "text": [
      "C:\\Users\\saus\\Anaconda3\\lib\\site-packages\\sklearn\\feature_extraction\\hashing.py:94: DeprecationWarning: the option non_negative=True has been deprecated in 0.19 and will be removed in version 0.21.\n",
      "  \" in version 0.21.\", DeprecationWarning)\n",
      "C:\\Users\\saus\\Anaconda3\\lib\\site-packages\\sklearn\\feature_extraction\\hashing.py:94: DeprecationWarning: the option non_negative=True has been deprecated in 0.19 and will be removed in version 0.21.\n",
      "  \" in version 0.21.\", DeprecationWarning)\n"
     ]
    },
    {
     "name": "stdout",
     "output_type": "stream",
     "text": [
      "fit time: 3606.163022079796 seconds\n"
     ]
    },
    {
     "name": "stderr",
     "output_type": "stream",
     "text": [
      "C:\\Users\\saus\\Anaconda3\\lib\\site-packages\\sklearn\\feature_extraction\\hashing.py:94: DeprecationWarning: the option non_negative=True has been deprecated in 0.19 and will be removed in version 0.21.\n",
      "  \" in version 0.21.\", DeprecationWarning)\n"
     ]
    },
    {
     "name": "stdout",
     "output_type": "stream",
     "text": [
      "\n",
      "Accuracy on budget dataset:  0.7799762663169071\n"
     ]
    }
   ],
   "source": [
    "start = timer()\n",
    "# Fit to the training data\n",
    "pl05.fit(X_train, y_train)\n",
    "end = timer()\n",
    "print('fit time: {:.2} seconds'.format(end - start))\n",
    "\n",
    "# Compute and print accuracy\n",
    "accuracy = pl05.score(X_test, y_test)\n",
    "print(\"\\nAccuracy on budget dataset: \", accuracy)"
   ]
  },
  {
   "cell_type": "markdown",
   "metadata": {},
   "source": [
    "##### That took ~ 1 hour.  Accuracy is better.  Now submit."
   ]
  },
  {
   "cell_type": "code",
   "execution_count": 58,
   "metadata": {},
   "outputs": [
    {
     "name": "stderr",
     "output_type": "stream",
     "text": [
      "C:\\Users\\saus\\Anaconda3\\lib\\site-packages\\sklearn\\feature_extraction\\hashing.py:94: DeprecationWarning: the option non_negative=True has been deprecated in 0.19 and will be removed in version 0.21.\n",
      "  \" in version 0.21.\", DeprecationWarning)\n"
     ]
    },
    {
     "name": "stdout",
     "output_type": "stream",
     "text": [
      "predict time: 39.612105117842475 seconds\n"
     ]
    }
   ],
   "source": [
    "start = timer()\n",
    "# Generate predictions: predictions\n",
    "predictions = pl05.predict_proba(holdout)\n",
    "end = timer()\n",
    "print('predict time: {:.2} seconds'.format(end - start))\n",
    "\n",
    "prediction_df = pd.DataFrame(columns=pd.get_dummies(df[LABELS], prefix_sep='__').columns, \n",
    "                             index=holdout.index,\n",
    "                             data=predictions)\n",
    "\n",
    "prediction_df.to_csv('subm4.csv')"
   ]
  },
  {
   "cell_type": "code",
   "execution_count": 59,
   "metadata": {},
   "outputs": [
    {
     "name": "stderr",
     "output_type": "stream",
     "text": [
      "C:\\Users\\saus\\Anaconda3\\lib\\site-packages\\sklearn\\feature_extraction\\hashing.py:94: DeprecationWarning: the option non_negative=True has been deprecated in 0.19 and will be removed in version 0.21.\n",
      "  \" in version 0.21.\", DeprecationWarning)\n",
      "C:\\Users\\saus\\Anaconda3\\lib\\site-packages\\sklearn\\feature_extraction\\hashing.py:94: DeprecationWarning: the option non_negative=True has been deprecated in 0.19 and will be removed in version 0.21.\n",
      "  \" in version 0.21.\", DeprecationWarning)\n"
     ]
    }
   ],
   "source": [
    "# Compute and print accuracy\n",
    "# Print the accuracy scores\n",
    "yhat_train = pl05.predict(X_train)\n",
    "yhat_test = pl05.predict(X_test)"
   ]
  },
  {
   "cell_type": "code",
   "execution_count": 60,
   "metadata": {},
   "outputs": [
    {
     "name": "stdout",
     "output_type": "stream",
     "text": [
      "train accuracy: 0.79\n",
      "test accuracy: 0.79\n"
     ]
    }
   ],
   "source": [
    "print('train accuracy: {:.2f}'.format(accuracy_score(yhat_train, y_train)))\n",
    "print('test accuracy: {:.2f}'.format(accuracy_score(yhat_train, y_train)))"
   ]
  },
  {
   "cell_type": "markdown",
   "metadata": {},
   "source": [
    "###  Final model as presented in tutorial scores 0.8893 on the holdout.  This is considerably worse than simpler earlier models.  \n",
    "\n",
    "In the next notebooks we'll explore metrics in detail and see what can be learned about each of these models."
   ]
  },
  {
   "cell_type": "code",
   "execution_count": null,
   "metadata": {},
   "outputs": [],
   "source": []
  }
 ],
 "metadata": {
  "kernelspec": {
   "display_name": "Python 3",
   "language": "python",
   "name": "python3"
  },
  "language_info": {
   "codemirror_mode": {
    "name": "ipython",
    "version": 3
   },
   "file_extension": ".py",
   "mimetype": "text/x-python",
   "name": "python",
   "nbconvert_exporter": "python",
   "pygments_lexer": "ipython3",
   "version": "3.6.6"
  }
 },
 "nbformat": 4,
 "nbformat_minor": 2
}
