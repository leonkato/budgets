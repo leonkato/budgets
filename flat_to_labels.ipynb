{
 "cells": [
  {
   "cell_type": "markdown",
   "metadata": {},
   "source": [
    "#### Goals:\n",
    "\n",
    "1. investigate prediction and probability outputs of mod0\n",
    "\n",
    "2. produce a tool to go from flat probabilities to predictions that match the input (i.e. 9 columns of string labels) so that standard sklearn metrics can be applied.\n",
    "\n",
    "3. make this an importable function for later use (python/flat_to_labels.py).\n",
    "\n",
    "#### The classification scheme in the DrivenData tutorial approach\n",
    "\n",
    "The DrivenData tutorial takes the following steps to create a classifier for a 9-target, multilabel problem:\n",
    "\n",
    "1. One-hot encode target \n",
    "    * input:  9 targets of string labels \n",
    "    * output: 104 columns of binary labels\n",
    "\n",
    "\n",
    "2. Classify using OneVsAll(LogisticRegression())\n",
    "    * inputs: 104 columns of binary targets and  feature columns\n",
    "    * outputs: model, predictions, probabilities\n",
    "\n",
    "In the competition framework, the goal is to minimize log loss.  Log loss uses the probability predictions and DrivenData provides a custom log loss metric (see *python/dd_mmll.py*) that normalizes within groups of columns associated with each target. \n",
    "\n",
    "The OneVsAll(LogisticRegression()) approach creates 104 separate binary classifiers, each of which takes no note of the larger problem context.  A consequence of this method is that when outputs are predicted, each output is predicted independent of the others.  As a result, this classifier could predict as many as 104 1 outputs or as few as 0, while the nature of the problem suggests that there should be exactly 1 output for each set of binary labels representing one of the nine separate targets.\n",
    "\n",
    "The issue is the same for the probability outputs of the classifiers.  The sum of the probabilites within a target grouping should be exactly 1.\n",
    "\n",
    "This is the reason DrivenData's custom metric normalizes within the groups - to enforce the constraint that within a group, probabilities must sum to 1, but it should be noted that the OneVsAll classifier has no such constraint.\n",
    "\n",
    "If this model is to be used to predict outputs (i.e. the actual labels, as opposed to probabilities), a similar approach must be taken.  Within a target group the label with highest probabilty should be predicted as 1 with all other labels predicted to be 0.\n",
    "\n",
    "In order to produce meaningful probabilties and outputs, we need to do post-processing on the probabilities produced by OneVsRest(LogisticRegression()).\n",
    "\n",
    "For this problem, to produce correct probabilty outputs, within each target group we need to normalize so that the sum of all the labels sum to 1 (as in the DrivenData metric).  To produce correct label outputs, using the corrected probabilies, select the highest probabilty label and predict 1, all others, predict 0.\n",
    "\n",
    "#### Limitations of  aggregate log loss as metric for multi-target, multi-label problems\n",
    "\n",
    "Log loss is a convenient metric for characterizing the overall performance of a model in multi-target, multi-label problems, in that it is a single number that captures some important aspects of model performance.\n",
    "\n",
    "However, log loss averaged across all the targets, does not give a very interpretable assessment of where the model is doing well or poorly.  To create better models we would like to know where the model performing well or poorly.\n",
    "\n",
    "The goal here is to take the probability output in the one-hot format and produce predictions that are expressed as labels.  With these predicted labels, the standard sklearn classification metrics can be used to assess how well or poorly the model is for on each target as well as the overall performance."
   ]
  },
  {
   "cell_type": "code",
   "execution_count": 1,
   "metadata": {},
   "outputs": [],
   "source": [
    "### in case I change anything under the covers, make it show up here.\n",
    "%load_ext autoreload\n",
    "%autoreload 2"
   ]
  },
  {
   "cell_type": "markdown",
   "metadata": {},
   "source": [
    "#### Imports"
   ]
  },
  {
   "cell_type": "code",
   "execution_count": 2,
   "metadata": {},
   "outputs": [],
   "source": [
    "import pandas as pd\n",
    "import matplotlib.pyplot as plt\n",
    "import numpy as np\n",
    "import seaborn as sns\n",
    "pd.set_option('display.max_columns', 60)\n",
    "\n",
    "from timeit import default_timer as timer"
   ]
  },
  {
   "cell_type": "code",
   "execution_count": 3,
   "metadata": {},
   "outputs": [],
   "source": [
    "# Import classifiers\n",
    "from sklearn.linear_model import LogisticRegression\n",
    "from sklearn.multiclass import OneVsRestClassifier\n",
    "# metrics\n",
    "from sklearn.metrics import classification_report, confusion_matrix, accuracy_score, log_loss"
   ]
  },
  {
   "cell_type": "code",
   "execution_count": 4,
   "metadata": {},
   "outputs": [],
   "source": [
    "# pipeline stuff\n",
    "from sklearn.pipeline import Pipeline\n",
    "from sklearn.preprocessing import StandardScaler, label_binarize"
   ]
  },
  {
   "cell_type": "code",
   "execution_count": 5,
   "metadata": {},
   "outputs": [],
   "source": [
    "# stuff in .python directory\n",
    "\n",
    "### split ensuring train/test both have all labels\n",
    "from python.multilabel import multilabel_train_test_split\n",
    "### drivendata metric\n",
    "from python.dd_mmll import multi_multi_log_loss, BOX_PLOTS_COLUMN_INDICES"
   ]
  },
  {
   "cell_type": "code",
   "execution_count": 6,
   "metadata": {},
   "outputs": [],
   "source": [
    "def plot_cm(cm):\n",
    "    ax = plt.subplot()\n",
    "    sns.heatmap(cm, annot=True, ax = ax, fmt='g', cmap='Blues'); #annot=True to annotate cells\n",
    "    # labels, title and ticks\n",
    "    ax.set_xlabel('Predicted labels');\n",
    "    ax.set_ylabel('True labels'); \n",
    "    ax.set_title('Confusion Matrix'); \n",
    "    ax.xaxis.set_ticklabels(np.arange(cm.shape[0])); \n",
    "    ax.yaxis.set_ticklabels(np.arange(cm.shape[0]));"
   ]
  },
  {
   "cell_type": "code",
   "execution_count": 7,
   "metadata": {},
   "outputs": [],
   "source": [
    "# these are the indices for each of the 9 targets after one-hot encoding\n",
    "BOX_PLOTS_COLUMN_INDICES = [slice(0, 37),\n",
    "                            slice(37, 48),\n",
    "                            slice(48, 51),\n",
    "                            slice(51, 76),\n",
    "                            slice(76, 79),\n",
    "                            slice(79, 82),\n",
    "                            slice(82, 87),\n",
    "                            slice(87, 96),\n",
    "                            slice(96, 104)]"
   ]
  },
  {
   "cell_type": "code",
   "execution_count": 8,
   "metadata": {},
   "outputs": [],
   "source": [
    "BPCI = BOX_PLOTS_COLUMN_INDICES"
   ]
  },
  {
   "cell_type": "markdown",
   "metadata": {},
   "source": [
    "__============================ End of preliminaries =======================__"
   ]
  },
  {
   "cell_type": "code",
   "execution_count": 9,
   "metadata": {
    "scrolled": true
   },
   "outputs": [],
   "source": [
    "# Get data.  Might want this for the labels\n",
    "df = pd.read_csv('data/TrainingData.csv', index_col=0)"
   ]
  },
  {
   "cell_type": "code",
   "execution_count": 10,
   "metadata": {},
   "outputs": [
    {
     "data": {
      "text/plain": [
       "Base Salary/Compensation       97670\n",
       "Benefits                       85467\n",
       "NO_LABEL                       69644\n",
       "Other Compensation/Stipend     61685\n",
       "Supplies/Materials             31935\n",
       "Substitute Compensation        27357\n",
       "Contracted Services             7512\n",
       "Other Non-Compensation          6297\n",
       "Travel & Conferences            5030\n",
       "Equipment & Equipment Lease     4460\n",
       "Rent/Utilities                  3220\n",
       "Name: Object_Type, dtype: int64"
      ]
     },
     "execution_count": 10,
     "metadata": {},
     "output_type": "execute_result"
    }
   ],
   "source": [
    "# take a look at some labels within one target\n",
    "df['Object_Type'].value_counts()"
   ]
  },
  {
   "cell_type": "code",
   "execution_count": 11,
   "metadata": {},
   "outputs": [],
   "source": [
    "# These are actually the targets, not labels.\n",
    "LABELS = sorted(['Function',  'Use',  'Sharing',  'Reporting',  'Student_Type',  'Position_Type', \n",
    "          'Object_Type',  'Pre_K',  'Operating_Status'])"
   ]
  },
  {
   "cell_type": "code",
   "execution_count": 12,
   "metadata": {},
   "outputs": [
    {
     "data": {
      "text/plain": [
       "['Function',\n",
       " 'Object_Type',\n",
       " 'Operating_Status',\n",
       " 'Position_Type',\n",
       " 'Pre_K',\n",
       " 'Reporting',\n",
       " 'Sharing',\n",
       " 'Student_Type',\n",
       " 'Use']"
      ]
     },
     "execution_count": 12,
     "metadata": {},
     "output_type": "execute_result"
    }
   ],
   "source": [
    "LABELS"
   ]
  },
  {
   "cell_type": "code",
   "execution_count": 13,
   "metadata": {
    "scrolled": true
   },
   "outputs": [
    {
     "data": {
      "text/plain": [
       "Index(['Function', 'Use', 'Sharing', 'Reporting', 'Student_Type',\n",
       "       'Position_Type', 'Object_Type', 'Pre_K', 'Operating_Status',\n",
       "       'Object_Description', 'Text_2', 'SubFund_Description',\n",
       "       'Job_Title_Description', 'Text_3', 'Text_4', 'Sub_Object_Description',\n",
       "       'Location_Description', 'FTE', 'Function_Description',\n",
       "       'Facility_or_Department', 'Position_Extra', 'Total',\n",
       "       'Program_Description', 'Fund_Description', 'Text_1'],\n",
       "      dtype='object')"
      ]
     },
     "execution_count": 13,
     "metadata": {},
     "output_type": "execute_result"
    }
   ],
   "source": [
    "# look at all the columns in the data; the targets are left-most\n",
    "df.columns"
   ]
  },
  {
   "cell_type": "code",
   "execution_count": 14,
   "metadata": {
    "scrolled": false
   },
   "outputs": [
    {
     "data": {
      "text/plain": [
       "Index(['Function__Aides Compensation',\n",
       "       'Function__Career & Academic Counseling', 'Function__Communications',\n",
       "       'Function__Curriculum Development',\n",
       "       'Function__Data Processing & Information Services',\n",
       "       'Function__Development & Fundraising', 'Function__Enrichment',\n",
       "       'Function__Extended Time & Tutoring',\n",
       "       'Function__Facilities & Maintenance', 'Function__Facilities Planning',\n",
       "       ...\n",
       "       'Student_Type__Special Education', 'Student_Type__Unspecified',\n",
       "       'Use__Business Services', 'Use__ISPD', 'Use__Instruction',\n",
       "       'Use__Leadership', 'Use__NO_LABEL', 'Use__O&M',\n",
       "       'Use__Pupil Services & Enrichment', 'Use__Untracked Budget Set-Aside'],\n",
       "      dtype='object', length=104)"
      ]
     },
     "execution_count": 14,
     "metadata": {},
     "output_type": "execute_result"
    }
   ],
   "source": [
    "### the names of the dummies\n",
    "col_labels = pd.get_dummies(df[LABELS],  prefix_sep='__').columns; col_labels"
   ]
  },
  {
   "cell_type": "code",
   "execution_count": 15,
   "metadata": {
    "scrolled": false
   },
   "outputs": [
    {
     "data": {
      "text/plain": [
       "{'Function': array(['Aides Compensation', 'Career & Academic Counseling',\n",
       "        'Communications', 'Curriculum Development',\n",
       "        'Data Processing & Information Services',\n",
       "        'Development & Fundraising', 'Enrichment',\n",
       "        'Extended Time & Tutoring', 'Facilities & Maintenance',\n",
       "        'Facilities Planning',\n",
       "        'Finance, Budget, Purchasing & Distribution', 'Food Services',\n",
       "        'Governance', 'Human Resources',\n",
       "        'Instructional Materials & Supplies', 'Insurance', 'Legal',\n",
       "        'Library & Media', 'NO_LABEL', 'Other Compensation',\n",
       "        'Other Non-Compensation', 'Parent & Community Relations',\n",
       "        'Physical Health & Services', 'Professional Development',\n",
       "        'Recruitment', 'Research & Accountability',\n",
       "        'School Administration', 'School Supervision', 'Security & Safety',\n",
       "        'Social & Emotional',\n",
       "        'Special Population Program Management & Support',\n",
       "        'Student Assignment', 'Student Transportation',\n",
       "        'Substitute Compensation', 'Teacher Compensation',\n",
       "        'Untracked Budget Set-Aside', 'Utilities'], dtype=object),\n",
       " 'Object_Type': array(['Base Salary/Compensation', 'Benefits', 'Contracted Services',\n",
       "        'Equipment & Equipment Lease', 'NO_LABEL',\n",
       "        'Other Compensation/Stipend', 'Other Non-Compensation',\n",
       "        'Rent/Utilities', 'Substitute Compensation', 'Supplies/Materials',\n",
       "        'Travel & Conferences'], dtype=object),\n",
       " 'Operating_Status': array(['Non-Operating', 'Operating, Not PreK-12', 'PreK-12 Operating'],\n",
       "       dtype=object),\n",
       " 'Position_Type': array(['(Exec) Director', 'Area Officers', 'Club Advisor/Coach',\n",
       "        'Coordinator/Manager', 'Custodian', 'Guidance Counselor',\n",
       "        'Instructional Coach', 'Librarian', 'NO_LABEL', 'Non-Position',\n",
       "        'Nurse', 'Nurse Aide', 'Occupational Therapist', 'Other',\n",
       "        'Physical Therapist', 'Principal', 'Psychologist',\n",
       "        'School Monitor/Security', 'Sec/Clerk/Other Admin',\n",
       "        'Social Worker', 'Speech Therapist', 'Substitute', 'TA', 'Teacher',\n",
       "        'Vice Principal'], dtype=object),\n",
       " 'Pre_K': array(['NO_LABEL', 'Non PreK', 'PreK'], dtype=object),\n",
       " 'Reporting': array(['NO_LABEL', 'Non-School', 'School'], dtype=object),\n",
       " 'Sharing': array(['Leadership & Management', 'NO_LABEL', 'School Reported',\n",
       "        'School on Central Budgets', 'Shared Services'], dtype=object),\n",
       " 'Student_Type': array(['Alternative', 'At Risk', 'ELL', 'Gifted', 'NO_LABEL', 'Poverty',\n",
       "        'PreK', 'Special Education', 'Unspecified'], dtype=object),\n",
       " 'Use': array(['Business Services', 'ISPD', 'Instruction', 'Leadership',\n",
       "        'NO_LABEL', 'O&M', 'Pupil Services & Enrichment',\n",
       "        'Untracked Budget Set-Aside'], dtype=object)}"
      ]
     },
     "execution_count": 15,
     "metadata": {},
     "output_type": "execute_result"
    }
   ],
   "source": [
    "# save the labels for the dummy variables in a dictionary\n",
    "the_labels = {target : np.array(pd.get_dummies(df[target]).columns) for target in LABELS}; the_labels"
   ]
  },
  {
   "cell_type": "code",
   "execution_count": 16,
   "metadata": {},
   "outputs": [],
   "source": [
    "# grab the saved outputs of mod0\n",
    "mod0_out = np.load('./model_out/mod0.npz')"
   ]
  },
  {
   "cell_type": "code",
   "execution_count": 17,
   "metadata": {},
   "outputs": [
    {
     "data": {
      "text/plain": [
       "['m0_train_probas',\n",
       " 'm0_train_yhat',\n",
       " 'm0_y_train',\n",
       " 'm0_test_probas',\n",
       " 'm0_test_yhat',\n",
       " 'm0_y_test']"
      ]
     },
     "execution_count": 17,
     "metadata": {},
     "output_type": "execute_result"
    }
   ],
   "source": [
    "# look at keys\n",
    "mod0_out.keys()"
   ]
  },
  {
   "cell_type": "markdown",
   "metadata": {},
   "source": [
    "#### Take a look at the prediction output of mod0.  They don't seem right.\n",
    "\n",
    "In the first target, mod0.predict() only produces 592 ones where we ought to find one positive prediction for each row of inputs."
   ]
  },
  {
   "cell_type": "code",
   "execution_count": 18,
   "metadata": {},
   "outputs": [
    {
     "data": {
      "text/plain": [
       "(80055, 104)"
      ]
     },
     "execution_count": 18,
     "metadata": {},
     "output_type": "execute_result"
    }
   ],
   "source": [
    "# check shape\n",
    "mod0_out['m0_test_probas'].shape"
   ]
  },
  {
   "cell_type": "code",
   "execution_count": 19,
   "metadata": {},
   "outputs": [],
   "source": [
    "# get hands on test yhat, i.e. the predictions; this is what we want to turn into 9 columns of labels.\n",
    "m0_test_yhat = mod0_out['m0_test_yhat']"
   ]
  },
  {
   "cell_type": "code",
   "execution_count": 20,
   "metadata": {},
   "outputs": [
    {
     "data": {
      "text/plain": [
       "(80055, 104)"
      ]
     },
     "execution_count": 20,
     "metadata": {},
     "output_type": "execute_result"
    }
   ],
   "source": [
    "# yep, that's the shape\n",
    "m0_test_yhat.shape"
   ]
  },
  {
   "cell_type": "code",
   "execution_count": 21,
   "metadata": {},
   "outputs": [
    {
     "data": {
      "text/plain": [
       "(array([0, 1]), array([2961443,     592], dtype=int64))"
      ]
     },
     "execution_count": 21,
     "metadata": {},
     "output_type": "execute_result"
    }
   ],
   "source": [
    "### How many 0s/1s in first target?  There are 592.\n",
    "np.unique(m0_test_yhat[:, :37], return_counts=True)"
   ]
  },
  {
   "cell_type": "markdown",
   "metadata": {},
   "source": [
    "####   Now look at the corresponding probabilities"
   ]
  },
  {
   "cell_type": "code",
   "execution_count": 22,
   "metadata": {},
   "outputs": [],
   "source": [
    "### look at corresponding probas.\n",
    "m0_test_probas = mod0_out['m0_test_probas']"
   ]
  },
  {
   "cell_type": "code",
   "execution_count": 23,
   "metadata": {},
   "outputs": [],
   "source": [
    "### just the first target\n",
    "m0tp_Function = m0_test_probas[:, :37]"
   ]
  },
  {
   "cell_type": "code",
   "execution_count": 24,
   "metadata": {},
   "outputs": [
    {
     "data": {
      "text/plain": [
       "(80055, 37)"
      ]
     },
     "execution_count": 24,
     "metadata": {},
     "output_type": "execute_result"
    }
   ],
   "source": [
    "### okay, that's the right shape\n",
    "m0tp_Function.shape"
   ]
  },
  {
   "cell_type": "markdown",
   "metadata": {},
   "source": [
    "#### Look at the row sums of the probabilities within a target.  Aggregate probability for row should sum to 1.0.\n",
    "\n",
    "Row sums is a red herring.  Because each column is independent, it can have a probability between 0 and 1.  The row sum is the sum of the these probabilities and it can be more than 1 (it could be up to num_cols).  There's no constraint on this within one-vs-rest framework."
   ]
  },
  {
   "cell_type": "code",
   "execution_count": 25,
   "metadata": {},
   "outputs": [],
   "source": [
    "# get the row sums\n",
    "m0tp_Function_row_sums = np.sum(m0tp_Function, axis=1)"
   ]
  },
  {
   "cell_type": "code",
   "execution_count": 26,
   "metadata": {},
   "outputs": [
    {
     "data": {
      "text/plain": [
       "(80055,)"
      ]
     },
     "execution_count": 26,
     "metadata": {},
     "output_type": "execute_result"
    }
   ],
   "source": [
    "# that's the right number of rows\n",
    "m0tp_Function_row_sums.shape"
   ]
  },
  {
   "cell_type": "code",
   "execution_count": 27,
   "metadata": {},
   "outputs": [
    {
     "data": {
      "image/png": "[encoded data removed]",
      "text/plain": [
       "<Figure size 1152x432 with 1 Axes>"
      ]
     },
     "metadata": {},
     "output_type": "display_data"
    }
   ],
   "source": [
    "# plot the row sums\n",
    "plt.figure(figsize=(16, 6))\n",
    "plt.scatter(np.arange(80055), m0tp_Function_row_sums, marker='.', s=5);\n",
    "# plt.xlim(0, 100)"
   ]
  },
  {
   "cell_type": "markdown",
   "metadata": {},
   "source": [
    "#### That is a strange picture.\n",
    "\n",
    "It has predicted these columns independently, so, yes, the row sums of probabilities can be more than 1.  DD said they would normalize within labels in the metric.\n",
    "\n",
    "But I'm confused that when the model is called on to predict, it predicts only 592 labels, where we're looking for 80k (i.e. one per sample).\n",
    "\n"
   ]
  },
  {
   "cell_type": "markdown",
   "metadata": {},
   "source": [
    "####  Maybe a better question is the following:  In the first target (37 columns) how many rows have an entry with probabilty > 0.5?"
   ]
  },
  {
   "cell_type": "code",
   "execution_count": 28,
   "metadata": {},
   "outputs": [
    {
     "data": {
      "text/plain": [
       "592"
      ]
     },
     "execution_count": 28,
     "metadata": {},
     "output_type": "execute_result"
    }
   ],
   "source": [
    "np.sum(m0_test_probas[:, :37] > 0.5)"
   ]
  },
  {
   "cell_type": "markdown",
   "metadata": {},
   "source": [
    "###  This is how the model predicts.  It might predict more than one label within a target.  That would be bad.  It can also predict no labels.\n",
    "\n",
    "I __*think*__ that if you use logistic regression in a multilabel fashion, logreg enforces the constraint that the sum of probabilities for all label (for a sample) is one.  It predicts by selecting the highest probabilty label.  We need to do the same."
   ]
  },
  {
   "cell_type": "code",
   "execution_count": 29,
   "metadata": {},
   "outputs": [],
   "source": [
    "m0tp_Function_normalized = m0tp_Function/np.sum(m0tp_Function, axis=1, keepdims=True)"
   ]
  },
  {
   "cell_type": "code",
   "execution_count": 30,
   "metadata": {
    "scrolled": true
   },
   "outputs": [
    {
     "data": {
      "image/png": "[encoded data removed]",
      "text/plain": [
       "<Figure size 1152x432 with 1 Axes>"
      ]
     },
     "metadata": {},
     "output_type": "display_data"
    }
   ],
   "source": [
    "# plot the normalized probabilities for label 'Function'\n",
    "\n",
    "plt.figure(figsize=(16, 6))\n",
    "plt.scatter(np.arange(80055), np.sum(m0tp_Function_normalized, axis=1));\n",
    "# plt.xlim(0, 100)"
   ]
  },
  {
   "cell_type": "markdown",
   "metadata": {},
   "source": [
    "#### See how many positive predictions result after normalizing the probabilities.\n",
    "\n",
    "So if you do that you get even less labels (120 vs 592 before normalization).  We have to remember that 0.5 is the threshold for *binary* classification.   In multilabel classification, the most probable label is predicted."
   ]
  },
  {
   "cell_type": "code",
   "execution_count": 31,
   "metadata": {
    "scrolled": true
   },
   "outputs": [
    {
     "data": {
      "text/plain": [
       "120"
      ]
     },
     "execution_count": 31,
     "metadata": {},
     "output_type": "execute_result"
    }
   ],
   "source": [
    "np.sum(m0tp_Function_normalized >= 0.5)"
   ]
  },
  {
   "cell_type": "markdown",
   "metadata": {},
   "source": [
    "##### Check how many 1s were predicted per row on average."
   ]
  },
  {
   "cell_type": "code",
   "execution_count": 32,
   "metadata": {},
   "outputs": [],
   "source": [
    "# give me the row sums\n",
    "all_col_row_sums = np.sum(m0_test_yhat, axis=1, keepdims=True)"
   ]
  },
  {
   "cell_type": "code",
   "execution_count": 33,
   "metadata": {},
   "outputs": [
    {
     "data": {
      "text/plain": [
       "(80055, 1)"
      ]
     },
     "execution_count": 33,
     "metadata": {},
     "output_type": "execute_result"
    }
   ],
   "source": [
    "all_col_row_sums.shape"
   ]
  },
  {
   "cell_type": "code",
   "execution_count": 34,
   "metadata": {},
   "outputs": [
    {
     "data": {
      "text/plain": [
       "5.509799512834926"
      ]
     },
     "execution_count": 34,
     "metadata": {},
     "output_type": "execute_result"
    }
   ],
   "source": [
    "np.average(all_col_row_sums)"
   ]
  },
  {
   "cell_type": "code",
   "execution_count": 35,
   "metadata": {},
   "outputs": [
    {
     "data": {
      "text/plain": [
       "5.509799512834926"
      ]
     },
     "execution_count": 35,
     "metadata": {},
     "output_type": "execute_result"
    }
   ],
   "source": [
    "m0_test_yhat.sum()/80055"
   ]
  },
  {
   "cell_type": "markdown",
   "metadata": {},
   "source": [
    "#### So it predicts about 5.5 labels per row on average.  We're looking for exactly 9 in every row.\n",
    "\n",
    "It must do that because these are all the one-hot coded labels with > 0.5 probabilty.  It thinks it's predicting 104 different binary classifications."
   ]
  },
  {
   "cell_type": "markdown",
   "metadata": {},
   "source": [
    "#### Let's make an array with the same shape as yhat_proba that consists of  0.5 everywhere.  Then compare to yhat and also count number of occurences > 0.5 in each row.  Average that by row."
   ]
  },
  {
   "cell_type": "code",
   "execution_count": 36,
   "metadata": {},
   "outputs": [],
   "source": [
    "# array of 0.5\n",
    "one_half = np.ones(m0_test_probas.shape) * 0.5"
   ]
  },
  {
   "cell_type": "code",
   "execution_count": 37,
   "metadata": {},
   "outputs": [],
   "source": [
    "# these are the predictions\n",
    "sb_ones = m0_test_probas > one_half"
   ]
  },
  {
   "cell_type": "code",
   "execution_count": 38,
   "metadata": {},
   "outputs": [
    {
     "data": {
      "text/plain": [
       "(80055, 104)"
      ]
     },
     "execution_count": 38,
     "metadata": {},
     "output_type": "execute_result"
    }
   ],
   "source": [
    "# check shape\n",
    "sb_ones.shape"
   ]
  },
  {
   "cell_type": "code",
   "execution_count": 39,
   "metadata": {},
   "outputs": [
    {
     "data": {
      "text/plain": [
       "0.05297884146956659"
      ]
     },
     "execution_count": 39,
     "metadata": {},
     "output_type": "execute_result"
    }
   ],
   "source": [
    "# says 1 in 20 is over 0.5 or they could all be 0.05, but the values in this array are either 1 or 0\n",
    "np.average(sb_ones)"
   ]
  },
  {
   "cell_type": "code",
   "execution_count": 40,
   "metadata": {},
   "outputs": [
    {
     "data": {
      "text/plain": [
       "5.509799512834926"
      ]
     },
     "execution_count": 40,
     "metadata": {},
     "output_type": "execute_result"
    }
   ],
   "source": [
    "# average number of ones in a row\n",
    "np.average(np.sum(sb_ones, axis=1, keepdims=True))"
   ]
  },
  {
   "cell_type": "code",
   "execution_count": 41,
   "metadata": {},
   "outputs": [
    {
     "data": {
      "text/plain": [
       "(array([False,  True]), array([7884633,  441087], dtype=int64))"
      ]
     },
     "execution_count": 41,
     "metadata": {},
     "output_type": "execute_result"
    }
   ],
   "source": [
    "# how many 1/0s in sb_ones\n",
    "np.unique(sb_ones, return_counts=True)"
   ]
  },
  {
   "cell_type": "markdown",
   "metadata": {},
   "source": [
    "#### And there you have it.  That's definitive.  The model predicts 1 where the individual classifiers do and pays no attention to the fact that this is a hierarchical problem."
   ]
  },
  {
   "cell_type": "code",
   "execution_count": 42,
   "metadata": {},
   "outputs": [
    {
     "data": {
      "text/plain": [
       "True"
      ]
     },
     "execution_count": 42,
     "metadata": {},
     "output_type": "execute_result"
    }
   ],
   "source": [
    "(sb_ones == m0_test_yhat).all()"
   ]
  },
  {
   "cell_type": "markdown",
   "metadata": {},
   "source": [
    "###  The prediction tool\n",
    "\n",
    "What we need to do is reverse the original dummy encoding of the labels.\n",
    "\n",
    "But it needs to be done differently from what m0.predict() does.  Instead of comparing to 0.5, it should select the most probable label from the labels for each target and predict one for that label."
   ]
  },
  {
   "cell_type": "code",
   "execution_count": 43,
   "metadata": {},
   "outputs": [
    {
     "data": {
      "text/plain": [
       "[slice(0, 37, None),\n",
       " slice(37, 48, None),\n",
       " slice(48, 51, None),\n",
       " slice(51, 76, None),\n",
       " slice(76, 79, None),\n",
       " slice(79, 82, None),\n",
       " slice(82, 87, None),\n",
       " slice(87, 96, None),\n",
       " slice(96, 104, None)]"
      ]
     },
     "execution_count": 43,
     "metadata": {},
     "output_type": "execute_result"
    }
   ],
   "source": [
    "# take a look at the columns indices again\n",
    "BPCI"
   ]
  },
  {
   "cell_type": "code",
   "execution_count": 44,
   "metadata": {},
   "outputs": [
    {
     "data": {
      "text/plain": [
       "104"
      ]
     },
     "execution_count": 44,
     "metadata": {},
     "output_type": "execute_result"
    }
   ],
   "source": [
    "# check that sum of all labels for all targets is right\n",
    "np.sum([len(x) for x in the_labels.values()])"
   ]
  },
  {
   "cell_type": "code",
   "execution_count": 45,
   "metadata": {
    "scrolled": false
   },
   "outputs": [
    {
     "data": {
      "text/plain": [
       "{'Function': array(['Aides Compensation', 'Career & Academic Counseling',\n",
       "        'Communications', 'Curriculum Development',\n",
       "        'Data Processing & Information Services',\n",
       "        'Development & Fundraising', 'Enrichment',\n",
       "        'Extended Time & Tutoring', 'Facilities & Maintenance',\n",
       "        'Facilities Planning',\n",
       "        'Finance, Budget, Purchasing & Distribution', 'Food Services',\n",
       "        'Governance', 'Human Resources',\n",
       "        'Instructional Materials & Supplies', 'Insurance', 'Legal',\n",
       "        'Library & Media', 'NO_LABEL', 'Other Compensation',\n",
       "        'Other Non-Compensation', 'Parent & Community Relations',\n",
       "        'Physical Health & Services', 'Professional Development',\n",
       "        'Recruitment', 'Research & Accountability',\n",
       "        'School Administration', 'School Supervision', 'Security & Safety',\n",
       "        'Social & Emotional',\n",
       "        'Special Population Program Management & Support',\n",
       "        'Student Assignment', 'Student Transportation',\n",
       "        'Substitute Compensation', 'Teacher Compensation',\n",
       "        'Untracked Budget Set-Aside', 'Utilities'], dtype=object),\n",
       " 'Object_Type': array(['Base Salary/Compensation', 'Benefits', 'Contracted Services',\n",
       "        'Equipment & Equipment Lease', 'NO_LABEL',\n",
       "        'Other Compensation/Stipend', 'Other Non-Compensation',\n",
       "        'Rent/Utilities', 'Substitute Compensation', 'Supplies/Materials',\n",
       "        'Travel & Conferences'], dtype=object),\n",
       " 'Operating_Status': array(['Non-Operating', 'Operating, Not PreK-12', 'PreK-12 Operating'],\n",
       "       dtype=object),\n",
       " 'Position_Type': array(['(Exec) Director', 'Area Officers', 'Club Advisor/Coach',\n",
       "        'Coordinator/Manager', 'Custodian', 'Guidance Counselor',\n",
       "        'Instructional Coach', 'Librarian', 'NO_LABEL', 'Non-Position',\n",
       "        'Nurse', 'Nurse Aide', 'Occupational Therapist', 'Other',\n",
       "        'Physical Therapist', 'Principal', 'Psychologist',\n",
       "        'School Monitor/Security', 'Sec/Clerk/Other Admin',\n",
       "        'Social Worker', 'Speech Therapist', 'Substitute', 'TA', 'Teacher',\n",
       "        'Vice Principal'], dtype=object),\n",
       " 'Pre_K': array(['NO_LABEL', 'Non PreK', 'PreK'], dtype=object),\n",
       " 'Reporting': array(['NO_LABEL', 'Non-School', 'School'], dtype=object),\n",
       " 'Sharing': array(['Leadership & Management', 'NO_LABEL', 'School Reported',\n",
       "        'School on Central Budgets', 'Shared Services'], dtype=object),\n",
       " 'Student_Type': array(['Alternative', 'At Risk', 'ELL', 'Gifted', 'NO_LABEL', 'Poverty',\n",
       "        'PreK', 'Special Education', 'Unspecified'], dtype=object),\n",
       " 'Use': array(['Business Services', 'ISPD', 'Instruction', 'Leadership',\n",
       "        'NO_LABEL', 'O&M', 'Pupil Services & Enrichment',\n",
       "        'Untracked Budget Set-Aside'], dtype=object)}"
      ]
     },
     "execution_count": 45,
     "metadata": {},
     "output_type": "execute_result"
    }
   ],
   "source": [
    "# remind me what this looks like\n",
    "the_labels"
   ]
  },
  {
   "cell_type": "code",
   "execution_count": 46,
   "metadata": {},
   "outputs": [
    {
     "data": {
      "text/plain": [
       "array([[ 1.92843866,  0.96301845,  0.52120362, ...,  0.15998248,\n",
       "         1.37254686,  0.44514501],\n",
       "       [-0.70269207,  1.02506106, -0.80576858, ...,  1.52546617,\n",
       "         0.92925398, -0.75413769],\n",
       "       [-0.76708121, -0.32171032, -1.26033232, ..., -0.60444519,\n",
       "         0.03586943, -1.0404113 ],\n",
       "       ...,\n",
       "       [ 0.15441199, -0.44320498,  0.9859913 , ..., -0.48817907,\n",
       "         0.59707065,  0.72856935],\n",
       "       [ 0.10795906,  1.02987783, -0.89603561, ..., -0.40694795,\n",
       "        -1.76668148,  0.37080699],\n",
       "       [ 1.07550481,  0.78474139,  0.06916617, ..., -0.14370114,\n",
       "        -0.46303034,  0.08239344]])"
      ]
     },
     "execution_count": 46,
     "metadata": {},
     "output_type": "execute_result"
    }
   ],
   "source": [
    "# build a small random input with the correct number of columns\n",
    "test_case = np.random.randn(10, 104); test_case"
   ]
  },
  {
   "cell_type": "code",
   "execution_count": 47,
   "metadata": {},
   "outputs": [
    {
     "data": {
      "text/plain": [
       "(10, 11)"
      ]
     },
     "execution_count": 47,
     "metadata": {},
     "output_type": "execute_result"
    }
   ],
   "source": [
    "# make sure I can get at the pieces\n",
    "test_case[:, BPCI[1]].shape"
   ]
  },
  {
   "cell_type": "code",
   "execution_count": 48,
   "metadata": {},
   "outputs": [],
   "source": [
    "# LABELS = [Function]\n",
    "\n",
    "# indices is the set of slices that correspond to the labels (actually they're targets, not labels)\n",
    "# the_labels is a dictionary mapping target name to array of labels for this target\n",
    "def flat_to_labels(probas, indices=BPCI, targets=np.array(LABELS), the_labels=the_labels):\n",
    "    ''' input: array of probabilities             (n_samples, 104), between 0 and 1\n",
    "        output: an array of predictions of labels (n_samples, 9),   string label.   '''\n",
    "    # \n",
    "    num_cols = len(targets)\n",
    "    # probably won't need this\n",
    "    num_rows = probas.shape[0]\n",
    "    # make a place to put the output arrays\n",
    "    the_outputs = []\n",
    "    for idx, targ in enumerate(targets):\n",
    "        out_col = the_labels[targ][np.argmax(probas[:, BPCI[idx]], axis=1)].reshape(-1, 1)\n",
    "        the_outputs.append(out_col)\n",
    "    return np.concatenate(the_outputs, axis=1)"
   ]
  },
  {
   "cell_type": "markdown",
   "metadata": {},
   "source": [
    "####  Looks like this might be working..."
   ]
  },
  {
   "cell_type": "code",
   "execution_count": 49,
   "metadata": {
    "scrolled": true
   },
   "outputs": [
    {
     "data": {
      "text/plain": [
       "array([['Security & Safety', 'Supplies/Materials',\n",
       "        'Operating, Not PreK-12', 'Occupational Therapist', 'PreK',\n",
       "        'NO_LABEL', 'School on Central Budgets', 'Unspecified',\n",
       "        'Pupil Services & Enrichment'],\n",
       "       ['Facilities & Maintenance', 'Other Non-Compensation',\n",
       "        'Non-Operating', 'Psychologist', 'Non PreK', 'Non-School',\n",
       "        'Shared Services', 'Special Education', 'NO_LABEL'],\n",
       "       ['Untracked Budget Set-Aside', 'Contracted Services',\n",
       "        'PreK-12 Operating', 'Substitute', 'Non PreK', 'NO_LABEL',\n",
       "        'School Reported', 'Poverty', 'Instruction'],\n",
       "       ['Professional Development', 'Benefits', 'PreK-12 Operating',\n",
       "        'Physical Therapist', 'NO_LABEL', 'School', 'School Reported',\n",
       "        'NO_LABEL', 'Pupil Services & Enrichment'],\n",
       "       ['NO_LABEL', 'Equipment & Equipment Lease', 'Non-Operating',\n",
       "        'Social Worker', 'Non PreK', 'Non-School', 'School Reported',\n",
       "        'ELL', 'NO_LABEL'],\n",
       "       ['Parent & Community Relations', 'Travel & Conferences',\n",
       "        'Operating, Not PreK-12', 'Vice Principal', 'PreK', 'School',\n",
       "        'School Reported', 'NO_LABEL', 'NO_LABEL'],\n",
       "       ['Professional Development', 'NO_LABEL', 'Non-Operating',\n",
       "        'Non-Position', 'PreK', 'Non-School', 'Shared Services', 'PreK',\n",
       "        'Instruction'],\n",
       "       ['Untracked Budget Set-Aside', 'Equipment & Equipment Lease',\n",
       "        'Operating, Not PreK-12', 'Club Advisor/Coach', 'NO_LABEL',\n",
       "        'School', 'School Reported', 'ELL', 'Untracked Budget Set-Aside'],\n",
       "       ['Legal', 'NO_LABEL', 'Operating, Not PreK-12',\n",
       "        'Coordinator/Manager', 'NO_LABEL', 'NO_LABEL',\n",
       "        'School on Central Budgets', 'Poverty', 'Business Services'],\n",
       "       ['Teacher Compensation', 'Other Compensation/Stipend',\n",
       "        'Non-Operating', 'School Monitor/Security', 'Non PreK',\n",
       "        'Non-School', 'NO_LABEL', 'NO_LABEL', 'Instruction']],\n",
       "      dtype=object)"
      ]
     },
     "execution_count": 49,
     "metadata": {},
     "output_type": "execute_result"
    }
   ],
   "source": [
    "flat_to_labels(test_case)"
   ]
  },
  {
   "cell_type": "code",
   "execution_count": 50,
   "metadata": {},
   "outputs": [],
   "source": [
    "m0_test_predictions = flat_to_labels(m0_test_probas)"
   ]
  },
  {
   "cell_type": "code",
   "execution_count": 51,
   "metadata": {},
   "outputs": [
    {
     "data": {
      "text/plain": [
       "(80055, 9)"
      ]
     },
     "execution_count": 51,
     "metadata": {},
     "output_type": "execute_result"
    }
   ],
   "source": [
    "m0_test_predictions.shape"
   ]
  },
  {
   "cell_type": "code",
   "execution_count": 52,
   "metadata": {},
   "outputs": [
    {
     "data": {
      "text/plain": [
       "array([['NO_LABEL', 'Benefits', 'PreK-12 Operating', 'NO_LABEL',\n",
       "        'NO_LABEL', 'School', 'School Reported', 'Unspecified',\n",
       "        'Instruction'],\n",
       "       ['NO_LABEL', 'Benefits', 'PreK-12 Operating', 'NO_LABEL',\n",
       "        'NO_LABEL', 'School', 'School Reported', 'Unspecified',\n",
       "        'Instruction'],\n",
       "       ['NO_LABEL', 'Benefits', 'PreK-12 Operating', 'NO_LABEL',\n",
       "        'NO_LABEL', 'School', 'School Reported', 'Unspecified',\n",
       "        'Instruction'],\n",
       "       ['NO_LABEL', 'Benefits', 'PreK-12 Operating', 'NO_LABEL',\n",
       "        'NO_LABEL', 'School', 'School Reported', 'Unspecified',\n",
       "        'Instruction'],\n",
       "       ['Substitute Compensation', 'Benefits', 'PreK-12 Operating',\n",
       "        'Substitute', 'NO_LABEL', 'School', 'School Reported',\n",
       "        'Unspecified', 'Instruction'],\n",
       "       ['NO_LABEL', 'Benefits', 'PreK-12 Operating', 'NO_LABEL',\n",
       "        'NO_LABEL', 'School', 'School Reported', 'Unspecified',\n",
       "        'Instruction'],\n",
       "       ['NO_LABEL', 'Benefits', 'PreK-12 Operating', 'NO_LABEL',\n",
       "        'NO_LABEL', 'School', 'School Reported', 'Unspecified',\n",
       "        'Instruction'],\n",
       "       ['Substitute Compensation', 'Base Salary/Compensation',\n",
       "        'PreK-12 Operating', 'Substitute', 'NO_LABEL', 'School',\n",
       "        'School Reported', 'Unspecified', 'Instruction'],\n",
       "       ['NO_LABEL', 'Benefits', 'PreK-12 Operating', 'NO_LABEL',\n",
       "        'NO_LABEL', 'School', 'School Reported', 'Unspecified',\n",
       "        'Instruction'],\n",
       "       ['NO_LABEL', 'Benefits', 'PreK-12 Operating', 'NO_LABEL',\n",
       "        'NO_LABEL', 'School', 'School Reported', 'Unspecified',\n",
       "        'Instruction']], dtype=object)"
      ]
     },
     "execution_count": 52,
     "metadata": {},
     "output_type": "execute_result"
    }
   ],
   "source": [
    "m0_test_predictions[:10,:]"
   ]
  },
  {
   "cell_type": "markdown",
   "metadata": {},
   "source": [
    "#### Okay, m0_y_test is one-hot encoded.  So I don't have the original input, only the one-hot.\n",
    "\n",
    "But I can recreate it by running flat_to_labels."
   ]
  },
  {
   "cell_type": "markdown",
   "metadata": {},
   "source": [
    "#### get the input from the test set"
   ]
  },
  {
   "cell_type": "code",
   "execution_count": 53,
   "metadata": {},
   "outputs": [],
   "source": [
    "m0_y_test = mod0_out['m0_y_test']"
   ]
  },
  {
   "cell_type": "code",
   "execution_count": 54,
   "metadata": {
    "scrolled": true
   },
   "outputs": [
    {
     "data": {
      "text/plain": [
       "((80055, 104), (80055, 9))"
      ]
     },
     "execution_count": 54,
     "metadata": {},
     "output_type": "execute_result"
    }
   ],
   "source": [
    "# check shapes\n",
    "m0_y_test.shape, m0_test_predictions.shape"
   ]
  },
  {
   "cell_type": "code",
   "execution_count": 55,
   "metadata": {},
   "outputs": [],
   "source": [
    "# turn it back into targets/labels\n",
    "m0_y_test_orig = flat_to_labels(m0_y_test)"
   ]
  },
  {
   "cell_type": "code",
   "execution_count": 56,
   "metadata": {
    "scrolled": true
   },
   "outputs": [
    {
     "data": {
      "text/plain": [
       "((80055, 9), (80055, 9))"
      ]
     },
     "execution_count": 56,
     "metadata": {},
     "output_type": "execute_result"
    }
   ],
   "source": [
    "# verify shapes\n",
    "m0_y_test_orig.shape, m0_test_predictions.shape"
   ]
  },
  {
   "cell_type": "markdown",
   "metadata": {},
   "source": [
    "####  Now I should be able to run sklearn metrics on each target/prediction pair."
   ]
  },
  {
   "cell_type": "code",
   "execution_count": 57,
   "metadata": {
    "scrolled": true
   },
   "outputs": [
    {
     "name": "stdout",
     "output_type": "stream",
     "text": [
      "Accuracy for Function: 0.2760\n",
      "Accuracy for Object_Type: 0.4253\n",
      "Accuracy for Operating_Status: 0.8588\n",
      "Accuracy for Position_Type: 0.3729\n",
      "Accuracy for Pre_K: 0.7663\n",
      "Accuracy for Reporting: 0.6410\n",
      "Accuracy for Sharing: 0.6337\n",
      "Accuracy for Student_Type: 0.5570\n",
      "Accuracy for Use: 0.5082\n"
     ]
    }
   ],
   "source": [
    "for idx, name in enumerate(LABELS): \n",
    "    score = accuracy_score(m0_y_test_orig[:, idx], m0_test_predictions[:, idx])\n",
    "    print('Accuracy for {}: {:0.4f}'.format(name, score))"
   ]
  },
  {
   "cell_type": "markdown",
   "metadata": {},
   "source": [
    "#### These are the exact results I got from running LogisticRegression classifier on each target individually (see mod0_multiple_ways.ipynb for more background)."
   ]
  }
 ],
 "metadata": {
  "kernelspec": {
   "display_name": "Python 3",
   "language": "python",
   "name": "python3"
  },
  "language_info": {
   "codemirror_mode": {
    "name": "ipython",
    "version": 3
   },
   "file_extension": ".py",
   "mimetype": "text/x-python",
   "name": "python",
   "nbconvert_exporter": "python",
   "pygments_lexer": "ipython3",
   "version": "3.6.5"
  }
 },
 "nbformat": 4,
 "nbformat_minor": 2
}
