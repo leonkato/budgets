{
 "cells": [
  {
   "cell_type": "markdown",
   "metadata": {},
   "source": [
    "### See what random forest does with best features so far.\n",
    "\n",
    "This file shows what the default random forest does with best feature engineering so far.\n",
    "\n",
    "Fits in 6 minutes.\n",
    "Aggregate log loss on test set: 0.1707\n",
    "Average accuracy score for all targets : 0.977\n",
    "Average F1 score for all targets : 0.976\n",
    "\n",
    "So it's pretty good, but not quite as good as best logistic regression.  Some tuning may help."
   ]
  },
  {
   "cell_type": "code",
   "execution_count": 1,
   "metadata": {},
   "outputs": [
    {
     "name": "stderr",
     "output_type": "stream",
     "text": [
      "C:\\Users\\saus\\Anaconda3\\lib\\site-packages\\sklearn\\ensemble\\weight_boosting.py:29: DeprecationWarning: numpy.core.umath_tests is an internal NumPy module and should not be imported. It will be removed in a future NumPy release.\n",
      "  from numpy.core.umath_tests import inner1d\n"
     ]
    }
   ],
   "source": [
    "#### Imports/setup\n",
    "\n",
    "import pandas as pd\n",
    "import matplotlib.pyplot as plt\n",
    "import numpy as np\n",
    "pd.set_option('display.max_columns', 60)\n",
    "\n",
    "from timeit import default_timer as timer\n",
    "\n",
    "# for the pipeline\n",
    "from sklearn.pipeline import Pipeline\n",
    "# for the selectors\n",
    "from sklearn.preprocessing import FunctionTransformer, StandardScaler, MaxAbsScaler, Imputer\n",
    "# for gluing preprocessed text and numbers together\n",
    "from sklearn.pipeline import FeatureUnion\n",
    "\n",
    "# Import classifiers\n",
    "from sklearn.linear_model import LogisticRegression\n",
    "from sklearn.multiclass import OneVsRestClassifier\n",
    "from sklearn.ensemble import RandomForestClassifier\n",
    "\n",
    "# Import CountVectorizer and HashingVectorizer\n",
    "from sklearn.feature_extraction.text import CountVectorizer, HashingVectorizer\n",
    "\n",
    "from sklearn.feature_selection import chi2, SelectKBest\n",
    "\n",
    "# metrics\n",
    "from sklearn.metrics import f1_score, accuracy_score, classification_report\n",
    "\n",
    "# unflattener\n",
    "import python.flat_to_labels as ftl\n",
    "\n",
    "#### Set up a train-test split making sure we have all labels in both splits\n",
    "from python.multilabel import multilabel_train_test_split\n",
    "\n",
    "from python.dd_mmll import multi_multi_log_loss, BOX_PLOTS_COLUMN_INDICES"
   ]
  },
  {
   "cell_type": "markdown",
   "metadata": {},
   "source": [
    "#### Load the data"
   ]
  },
  {
   "cell_type": "code",
   "execution_count": 2,
   "metadata": {
    "scrolled": true
   },
   "outputs": [
    {
     "data": {
      "text/html": [
       "<div>\n",
       "<style scoped>\n",
       "    .dataframe tbody tr th:only-of-type {\n",
       "        vertical-align: middle;\n",
       "    }\n",
       "\n",
       "    .dataframe tbody tr th {\n",
       "        vertical-align: top;\n",
       "    }\n",
       "\n",
       "    .dataframe thead th {\n",
       "        text-align: right;\n",
       "    }\n",
       "</style>\n",
       "<table border=\"1\" class=\"dataframe\">\n",
       "  <thead>\n",
       "    <tr style=\"text-align: right;\">\n",
       "      <th></th>\n",
       "      <th>Function</th>\n",
       "      <th>Use</th>\n",
       "      <th>Sharing</th>\n",
       "      <th>Reporting</th>\n",
       "      <th>Student_Type</th>\n",
       "      <th>Position_Type</th>\n",
       "      <th>Object_Type</th>\n",
       "      <th>Pre_K</th>\n",
       "      <th>Operating_Status</th>\n",
       "      <th>Object_Description</th>\n",
       "      <th>Text_2</th>\n",
       "      <th>SubFund_Description</th>\n",
       "      <th>Job_Title_Description</th>\n",
       "      <th>Text_3</th>\n",
       "      <th>Text_4</th>\n",
       "      <th>Sub_Object_Description</th>\n",
       "      <th>Location_Description</th>\n",
       "      <th>FTE</th>\n",
       "      <th>Function_Description</th>\n",
       "      <th>Facility_or_Department</th>\n",
       "      <th>Position_Extra</th>\n",
       "      <th>Total</th>\n",
       "      <th>Program_Description</th>\n",
       "      <th>Fund_Description</th>\n",
       "      <th>Text_1</th>\n",
       "    </tr>\n",
       "  </thead>\n",
       "  <tbody>\n",
       "    <tr>\n",
       "      <th>134338</th>\n",
       "      <td>Teacher Compensation</td>\n",
       "      <td>Instruction</td>\n",
       "      <td>School Reported</td>\n",
       "      <td>School</td>\n",
       "      <td>NO_LABEL</td>\n",
       "      <td>Teacher</td>\n",
       "      <td>NO_LABEL</td>\n",
       "      <td>NO_LABEL</td>\n",
       "      <td>PreK-12 Operating</td>\n",
       "      <td>NaN</td>\n",
       "      <td>NaN</td>\n",
       "      <td>NaN</td>\n",
       "      <td>Teacher-Elementary</td>\n",
       "      <td>NaN</td>\n",
       "      <td>NaN</td>\n",
       "      <td>NaN</td>\n",
       "      <td>NaN</td>\n",
       "      <td>1.0</td>\n",
       "      <td>NaN</td>\n",
       "      <td>NaN</td>\n",
       "      <td>KINDERGARTEN</td>\n",
       "      <td>50471.810</td>\n",
       "      <td>KINDERGARTEN</td>\n",
       "      <td>General Fund</td>\n",
       "      <td>NaN</td>\n",
       "    </tr>\n",
       "    <tr>\n",
       "      <th>206341</th>\n",
       "      <td>NO_LABEL</td>\n",
       "      <td>NO_LABEL</td>\n",
       "      <td>NO_LABEL</td>\n",
       "      <td>NO_LABEL</td>\n",
       "      <td>NO_LABEL</td>\n",
       "      <td>NO_LABEL</td>\n",
       "      <td>NO_LABEL</td>\n",
       "      <td>NO_LABEL</td>\n",
       "      <td>Non-Operating</td>\n",
       "      <td>CONTRACTOR SERVICES</td>\n",
       "      <td>BOND EXPENDITURES</td>\n",
       "      <td>BUILDING FUND</td>\n",
       "      <td>(blank)</td>\n",
       "      <td>Regular</td>\n",
       "      <td>NaN</td>\n",
       "      <td>NaN</td>\n",
       "      <td>NaN</td>\n",
       "      <td>NaN</td>\n",
       "      <td>RGN  GOB</td>\n",
       "      <td>NaN</td>\n",
       "      <td>UNDESIGNATED</td>\n",
       "      <td>3477.860</td>\n",
       "      <td>BUILDING IMPROVEMENT SERVICES</td>\n",
       "      <td>NaN</td>\n",
       "      <td>BUILDING IMPROVEMENT SERVICES</td>\n",
       "    </tr>\n",
       "    <tr>\n",
       "      <th>326408</th>\n",
       "      <td>Teacher Compensation</td>\n",
       "      <td>Instruction</td>\n",
       "      <td>School Reported</td>\n",
       "      <td>School</td>\n",
       "      <td>Unspecified</td>\n",
       "      <td>Teacher</td>\n",
       "      <td>Base Salary/Compensation</td>\n",
       "      <td>Non PreK</td>\n",
       "      <td>PreK-12 Operating</td>\n",
       "      <td>Personal Services - Teachers</td>\n",
       "      <td>NaN</td>\n",
       "      <td>NaN</td>\n",
       "      <td>TCHER 2ND GRADE</td>\n",
       "      <td>NaN</td>\n",
       "      <td>Regular Instruction</td>\n",
       "      <td>NaN</td>\n",
       "      <td>NaN</td>\n",
       "      <td>1.0</td>\n",
       "      <td>NaN</td>\n",
       "      <td>NaN</td>\n",
       "      <td>TEACHER</td>\n",
       "      <td>62237.130</td>\n",
       "      <td>Instruction - Regular</td>\n",
       "      <td>General Purpose School</td>\n",
       "      <td>NaN</td>\n",
       "    </tr>\n",
       "    <tr>\n",
       "      <th>364634</th>\n",
       "      <td>Substitute Compensation</td>\n",
       "      <td>Instruction</td>\n",
       "      <td>School Reported</td>\n",
       "      <td>School</td>\n",
       "      <td>Unspecified</td>\n",
       "      <td>Substitute</td>\n",
       "      <td>Benefits</td>\n",
       "      <td>NO_LABEL</td>\n",
       "      <td>PreK-12 Operating</td>\n",
       "      <td>EMPLOYEE BENEFITS</td>\n",
       "      <td>TEACHER SUBS</td>\n",
       "      <td>GENERAL FUND</td>\n",
       "      <td>Teacher, Short Term Sub</td>\n",
       "      <td>Regular</td>\n",
       "      <td>NaN</td>\n",
       "      <td>NaN</td>\n",
       "      <td>NaN</td>\n",
       "      <td>NaN</td>\n",
       "      <td>UNALLOC BUDGETS/SCHOOLS</td>\n",
       "      <td>NaN</td>\n",
       "      <td>PROFESSIONAL-INSTRUCTIONAL</td>\n",
       "      <td>22.300</td>\n",
       "      <td>GENERAL MIDDLE/JUNIOR HIGH SCH</td>\n",
       "      <td>NaN</td>\n",
       "      <td>REGULAR INSTRUCTION</td>\n",
       "    </tr>\n",
       "    <tr>\n",
       "      <th>47683</th>\n",
       "      <td>Substitute Compensation</td>\n",
       "      <td>Instruction</td>\n",
       "      <td>School Reported</td>\n",
       "      <td>School</td>\n",
       "      <td>Unspecified</td>\n",
       "      <td>Teacher</td>\n",
       "      <td>Substitute Compensation</td>\n",
       "      <td>NO_LABEL</td>\n",
       "      <td>PreK-12 Operating</td>\n",
       "      <td>TEACHER COVERAGE FOR TEACHER</td>\n",
       "      <td>TEACHER SUBS</td>\n",
       "      <td>GENERAL FUND</td>\n",
       "      <td>Teacher, Secondary (High)</td>\n",
       "      <td>Alternative</td>\n",
       "      <td>NaN</td>\n",
       "      <td>NaN</td>\n",
       "      <td>NaN</td>\n",
       "      <td>NaN</td>\n",
       "      <td>NON-PROJECT</td>\n",
       "      <td>NaN</td>\n",
       "      <td>PROFESSIONAL-INSTRUCTIONAL</td>\n",
       "      <td>54.166</td>\n",
       "      <td>GENERAL HIGH SCHOOL EDUCATION</td>\n",
       "      <td>NaN</td>\n",
       "      <td>REGULAR INSTRUCTION</td>\n",
       "    </tr>\n",
       "  </tbody>\n",
       "</table>\n",
       "</div>"
      ],
      "text/plain": [
       "                       Function          Use          Sharing Reporting  \\\n",
       "134338     Teacher Compensation  Instruction  School Reported    School   \n",
       "206341                 NO_LABEL     NO_LABEL         NO_LABEL  NO_LABEL   \n",
       "326408     Teacher Compensation  Instruction  School Reported    School   \n",
       "364634  Substitute Compensation  Instruction  School Reported    School   \n",
       "47683   Substitute Compensation  Instruction  School Reported    School   \n",
       "\n",
       "       Student_Type Position_Type               Object_Type     Pre_K  \\\n",
       "134338     NO_LABEL       Teacher                  NO_LABEL  NO_LABEL   \n",
       "206341     NO_LABEL      NO_LABEL                  NO_LABEL  NO_LABEL   \n",
       "326408  Unspecified       Teacher  Base Salary/Compensation  Non PreK   \n",
       "364634  Unspecified    Substitute                  Benefits  NO_LABEL   \n",
       "47683   Unspecified       Teacher   Substitute Compensation  NO_LABEL   \n",
       "\n",
       "         Operating_Status            Object_Description             Text_2  \\\n",
       "134338  PreK-12 Operating                           NaN                NaN   \n",
       "206341      Non-Operating           CONTRACTOR SERVICES  BOND EXPENDITURES   \n",
       "326408  PreK-12 Operating  Personal Services - Teachers                NaN   \n",
       "364634  PreK-12 Operating             EMPLOYEE BENEFITS       TEACHER SUBS   \n",
       "47683   PreK-12 Operating  TEACHER COVERAGE FOR TEACHER       TEACHER SUBS   \n",
       "\n",
       "       SubFund_Description       Job_Title_Description       Text_3  \\\n",
       "134338                 NaN         Teacher-Elementary           NaN   \n",
       "206341       BUILDING FUND                     (blank)      Regular   \n",
       "326408                 NaN             TCHER 2ND GRADE          NaN   \n",
       "364634        GENERAL FUND    Teacher, Short Term Sub       Regular   \n",
       "47683         GENERAL FUND  Teacher, Secondary (High)   Alternative   \n",
       "\n",
       "                     Text_4 Sub_Object_Description Location_Description  FTE  \\\n",
       "134338                  NaN                    NaN                  NaN  1.0   \n",
       "206341                  NaN                    NaN                  NaN  NaN   \n",
       "326408  Regular Instruction                    NaN                  NaN  1.0   \n",
       "364634                  NaN                    NaN                  NaN  NaN   \n",
       "47683                   NaN                    NaN                  NaN  NaN   \n",
       "\n",
       "           Function_Description Facility_or_Department  \\\n",
       "134338                      NaN                    NaN   \n",
       "206341                 RGN  GOB                    NaN   \n",
       "326408                      NaN                    NaN   \n",
       "364634  UNALLOC BUDGETS/SCHOOLS                    NaN   \n",
       "47683               NON-PROJECT                    NaN   \n",
       "\n",
       "                    Position_Extra      Total             Program_Description  \\\n",
       "134338               KINDERGARTEN   50471.810                    KINDERGARTEN   \n",
       "206341                UNDESIGNATED   3477.860   BUILDING IMPROVEMENT SERVICES   \n",
       "326408                     TEACHER  62237.130           Instruction - Regular   \n",
       "364634  PROFESSIONAL-INSTRUCTIONAL     22.300  GENERAL MIDDLE/JUNIOR HIGH SCH   \n",
       "47683   PROFESSIONAL-INSTRUCTIONAL     54.166   GENERAL HIGH SCHOOL EDUCATION   \n",
       "\n",
       "              Fund_Description                         Text_1  \n",
       "134338            General Fund                            NaN  \n",
       "206341                     NaN  BUILDING IMPROVEMENT SERVICES  \n",
       "326408  General Purpose School                            NaN  \n",
       "364634                     NaN            REGULAR INSTRUCTION  \n",
       "47683                      NaN            REGULAR INSTRUCTION  "
      ]
     },
     "execution_count": 2,
     "metadata": {},
     "output_type": "execute_result"
    }
   ],
   "source": [
    "# Get data\n",
    "the_data = pd.read_csv('../data/TrainingData.csv', index_col=0)\n",
    "\n",
    "# take a look\n",
    "the_data.head()"
   ]
  },
  {
   "cell_type": "markdown",
   "metadata": {},
   "source": [
    "####  Encode the targets as categorical variables"
   ]
  },
  {
   "cell_type": "code",
   "execution_count": 3,
   "metadata": {
    "scrolled": true
   },
   "outputs": [
    {
     "name": "stdout",
     "output_type": "stream",
     "text": [
      "Function            category\n",
      "Object_Type         category\n",
      "Operating_Status    category\n",
      "Position_Type       category\n",
      "Pre_K               category\n",
      "Reporting           category\n",
      "Sharing             category\n",
      "Student_Type        category\n",
      "Use                 category\n",
      "dtype: object\n"
     ]
    }
   ],
   "source": [
    "### bind variable LABELS - these are actually the targets and we're going to one-hot encode them...\n",
    "LABELS = ['Function',  'Use',  'Sharing',  'Reporting',  'Student_Type',  'Position_Type', \n",
    "          'Object_Type',  'Pre_K',  'Operating_Status']\n",
    "\n",
    "### This turns out to be key.  Submission requires the dummy versions of these vars to be in this order.\n",
    "LABELS.sort()\n",
    "\n",
    "# Define the lambda function: categorize_label\n",
    "categorize_label = lambda x: x.astype('category')\n",
    "\n",
    "# Convert df[LABELS] to a categorical type\n",
    "the_data[LABELS] = the_data[LABELS].apply(categorize_label, axis=0)\n",
    "\n",
    "# Print the converted dtypes\n",
    "print(the_data[LABELS].dtypes)"
   ]
  },
  {
   "cell_type": "markdown",
   "metadata": {
    "scrolled": true
   },
   "source": [
    "#### Save the unique labels for each output (category)"
   ]
  },
  {
   "cell_type": "code",
   "execution_count": 4,
   "metadata": {
    "scrolled": true
   },
   "outputs": [
    {
     "data": {
      "text/plain": [
       "['Instruction',\n",
       " 'NO_LABEL',\n",
       " 'O&M',\n",
       " 'Pupil Services & Enrichment',\n",
       " 'ISPD',\n",
       " 'Leadership',\n",
       " 'Business Services',\n",
       " 'Untracked Budget Set-Aside']"
      ]
     },
     "execution_count": 4,
     "metadata": {},
     "output_type": "execute_result"
    }
   ],
   "source": [
    "# build a dictionary\n",
    "the_labels = {col : the_data[col].unique().tolist() for col in the_data[LABELS].columns}\n",
    "# take a look at one entry\n",
    "the_labels['Use']"
   ]
  },
  {
   "cell_type": "code",
   "execution_count": 5,
   "metadata": {},
   "outputs": [
    {
     "data": {
      "text/plain": [
       "[('Function', 37),\n",
       " ('Object_Type', 11),\n",
       " ('Operating_Status', 3),\n",
       " ('Position_Type', 25),\n",
       " ('Pre_K', 3),\n",
       " ('Reporting', 3),\n",
       " ('Sharing', 5),\n",
       " ('Student_Type', 9),\n",
       " ('Use', 8)]"
      ]
     },
     "execution_count": 5,
     "metadata": {},
     "output_type": "execute_result"
    }
   ],
   "source": [
    "[(col, len(the_labels[col])) for col in the_data[LABELS].columns]"
   ]
  },
  {
   "cell_type": "markdown",
   "metadata": {},
   "source": [
    "#### Change fraction to suit.\n",
    "Note: small fractions will have a hard time ensuring labels in both splits."
   ]
  },
  {
   "cell_type": "code",
   "execution_count": 6,
   "metadata": {},
   "outputs": [],
   "source": [
    "# downsize it or not\n",
    "df = the_data.sample(frac=0.15, random_state=777)\n",
    "# df = the_data"
   ]
  },
  {
   "cell_type": "markdown",
   "metadata": {},
   "source": [
    "#### Get targets as set of one-hot encoded columns"
   ]
  },
  {
   "cell_type": "code",
   "execution_count": 7,
   "metadata": {},
   "outputs": [],
   "source": [
    "# name these columns\n",
    "NUMERIC_COLUMNS = ['FTE', 'Total']\n",
    "\n",
    "# Get labels and convert to dummy variables: label_dummies\n",
    "label_dummies = pd.get_dummies(df[LABELS])"
   ]
  },
  {
   "cell_type": "code",
   "execution_count": 8,
   "metadata": {},
   "outputs": [
    {
     "data": {
      "text/plain": [
       "(60042, 104)"
      ]
     },
     "execution_count": 8,
     "metadata": {},
     "output_type": "execute_result"
    }
   ],
   "source": [
    "label_dummies.shape"
   ]
  },
  {
   "cell_type": "markdown",
   "metadata": {},
   "source": [
    "#### Setting up a train-test split  for modeling"
   ]
  },
  {
   "cell_type": "markdown",
   "metadata": {},
   "source": [
    "#### =========== Begin ModRF; use random forest on features from best logistic regression model  ======================"
   ]
  },
  {
   "cell_type": "markdown",
   "metadata": {},
   "source": [
    "Some things to note about the default CountVectorizer:\n",
    "1) All strings are downcased\n",
    "2) The default setting selects tokens of 2 or more alphanumeric characters (punctuation is completely ignored and always treated as a token separator).  This means single letter or digit tokens are ignored.\n",
    "3) If the vectorizer is used to transform another input (e.g. test), any tokens not in the original corpus are ignored."
   ]
  },
  {
   "cell_type": "code",
   "execution_count": 9,
   "metadata": {},
   "outputs": [],
   "source": [
    "# define combine_text_columns()\n",
    "def combine_text_columns(df, to_drop=NUMERIC_COLUMNS + LABELS):\n",
    "    \"\"\" converts all text columns in each row of df to single string \"\"\"\n",
    "    # Drop non-text columns that are in the df\n",
    "    to_drop = set(to_drop) & set(df.columns.tolist())\n",
    "    text_data = df.drop(to_drop, axis=1)  \n",
    "    # Replace nans with blanks\n",
    "    text_data.fillna('', inplace=True)    \n",
    "    # Join all text items in a row that have a space in between\n",
    "    return text_data.apply(lambda x: \" \".join(x), axis=1)"
   ]
  },
  {
   "cell_type": "markdown",
   "metadata": {},
   "source": [
    "#### For RF, it's okay to use the labels directly (instead of binarizing).  The probabilities will come out the way we need them.  They may be in a list with one element per target.\n",
    "\n",
    "Slight change of plans: multilabel_train_test_split only works with binary indicator matrices.  So a quick workaround is to dummy the labels, then do the split.  Then use the indices of the y_train/y_test to get the original ys that we want to use.\n",
    "\n",
    "For mmll we need the label probabilities as array of shape (num_samples, 104).  Can get this format by calling np.hstack on proba output.\n",
    "\n",
    "Another ramification: mmll also wants ys in binarized format.  So we need those to do the comparison.  We have them from the dummy variable version of the original input."
   ]
  },
  {
   "cell_type": "code",
   "execution_count": 10,
   "metadata": {},
   "outputs": [],
   "source": [
    "# Import FunctionTransformer\n",
    "from sklearn.preprocessing import FunctionTransformer\n",
    "\n",
    "# Get the dummy encoding of the labels\n",
    "dummy_labels = pd.get_dummies(df[LABELS])\n",
    "\n",
    "# Get the features in the data\n",
    "NON_LABELS = [c for c in df.columns if c not in LABELS]\n",
    "\n",
    "# Split into training and test sets\n",
    "X_train, X_test, y_train, y_test = multilabel_train_test_split(df[NON_LABELS],\n",
    "                                                               dummy_labels,\n",
    "                                                               0.2, \n",
    "                                                               seed=123)\n",
    "# Preprocess the text data: get_text_data\n",
    "get_text_data = FunctionTransformer(combine_text_columns, validate=False)\n",
    "\n",
    "# Use all 0s instead of noise: get_numeric_data\n",
    "get_numeric_data_hack = FunctionTransformer(lambda x: np.zeros(x[NUMERIC_COLUMNS].shape, dtype=np.float), validate=False)"
   ]
  },
  {
   "cell_type": "markdown",
   "metadata": {},
   "source": [
    "#### Swapping the binarized labels for the real labels."
   ]
  },
  {
   "cell_type": "code",
   "execution_count": 11,
   "metadata": {},
   "outputs": [],
   "source": [
    "y_train_bin = y_train; y_test_bin = y_test"
   ]
  },
  {
   "cell_type": "code",
   "execution_count": 12,
   "metadata": {
    "scrolled": false
   },
   "outputs": [],
   "source": [
    "### now get the original ys\n",
    "y_train = df.loc[y_train_bin.index, LABELS]"
   ]
  },
  {
   "cell_type": "code",
   "execution_count": 13,
   "metadata": {
    "scrolled": true
   },
   "outputs": [
    {
     "data": {
      "text/plain": [
       "(12008, 9)"
      ]
     },
     "execution_count": 13,
     "metadata": {},
     "output_type": "execute_result"
    }
   ],
   "source": [
    "y_test = df.loc[y_test_bin.index, LABELS]; y_test.shape"
   ]
  },
  {
   "cell_type": "markdown",
   "metadata": {},
   "source": [
    "#### Check the shapes."
   ]
  },
  {
   "cell_type": "code",
   "execution_count": 14,
   "metadata": {},
   "outputs": [
    {
     "data": {
      "text/plain": [
       "((48034, 9), (12008, 9))"
      ]
     },
     "execution_count": 14,
     "metadata": {},
     "output_type": "execute_result"
    }
   ],
   "source": [
    "y_train.shape, y_test.shape"
   ]
  },
  {
   "cell_type": "code",
   "execution_count": 15,
   "metadata": {},
   "outputs": [
    {
     "data": {
      "text/plain": [
       "((48034, 104), (12008, 104))"
      ]
     },
     "execution_count": 15,
     "metadata": {},
     "output_type": "execute_result"
    }
   ],
   "source": [
    "y_train_bin.shape, y_test_bin.shape"
   ]
  },
  {
   "cell_type": "markdown",
   "metadata": {},
   "source": [
    "#### Check that all the columns have some true values (we need all the labels populated)."
   ]
  },
  {
   "cell_type": "code",
   "execution_count": 16,
   "metadata": {
    "scrolled": false
   },
   "outputs": [
    {
     "data": {
      "text/plain": [
       "array([    3,     4,     6,    16,    26,    37,    41,    62,    76,\n",
       "          84,   154,   176,   210,   221,   231,   264,   335,   338,\n",
       "         345,   391,   497,   501,   590,   704,   885,  1024,  1270,\n",
       "        1528,  1716,  1773,  2296,  2336,  2386,  2416,  7139,  7501,\n",
       "       10452], dtype=int64)"
      ]
     },
     "execution_count": 16,
     "metadata": {},
     "output_type": "execute_result"
    }
   ],
   "source": [
    "np.sort(y_train_bin.iloc[:,0:37].sum(axis=0))"
   ]
  },
  {
   "cell_type": "code",
   "execution_count": 17,
   "metadata": {},
   "outputs": [
    {
     "data": {
      "text/plain": [
       "Teacher Compensation                               10452\n",
       "Substitute Compensation                             7501\n",
       "NO_LABEL                                            7139\n",
       "Instructional Materials & Supplies                  2416\n",
       "Facilities & Maintenance                            2386\n",
       "Professional Development                            2336\n",
       "Aides Compensation                                  2296\n",
       "Student Transportation                              1773\n",
       "Food Services                                       1716\n",
       "School Administration                               1528\n",
       "Enrichment                                          1270\n",
       "Extended Time & Tutoring                            1024\n",
       "Curriculum Development                               885\n",
       "Physical Health & Services                           704\n",
       "Social & Emotional                                   590\n",
       "Library & Media                                      501\n",
       "Special Population Program Management & Support      497\n",
       "Data Processing & Information Services               391\n",
       "Career & Academic Counseling                         345\n",
       "Security & Safety                                    338\n",
       "School Supervision                                   335\n",
       "Parent & Community Relations                         264\n",
       "Utilities                                            231\n",
       "Finance, Budget, Purchasing & Distribution           221\n",
       "Other Non-Compensation                               210\n",
       "Research & Accountability                            176\n",
       "Human Resources                                      154\n",
       "Governance                                            84\n",
       "Other Compensation                                    76\n",
       "Recruitment                                           62\n",
       "Student Assignment                                    41\n",
       "Untracked Budget Set-Aside                            37\n",
       "Communications                                        26\n",
       "Legal                                                 16\n",
       "Development & Fundraising                              6\n",
       "Insurance                                              4\n",
       "Facilities Planning                                    3\n",
       "Name: Function, dtype: int64"
      ]
     },
     "execution_count": 17,
     "metadata": {},
     "output_type": "execute_result"
    }
   ],
   "source": [
    "y_train['Function'].value_counts()"
   ]
  },
  {
   "cell_type": "markdown",
   "metadata": {},
   "source": [
    "#### Make a classifier"
   ]
  },
  {
   "cell_type": "code",
   "execution_count": 18,
   "metadata": {},
   "outputs": [],
   "source": [
    "# Insert random forest clf instead of onevsrest\n",
    "ModRF = Pipeline([\n",
    "    ('union', FeatureUnion(transformer_list = [\n",
    "        ('numeric_features', Pipeline([\n",
    "            ('selector', get_numeric_data_hack),\n",
    "            ('imputer', Imputer())\n",
    "        ])),\n",
    "        ('text_features', Pipeline([\n",
    "            ('selector', get_text_data),\n",
    "            ('vectorizer', CountVectorizer(ngram_range=(1,2)))\n",
    "        ]))\n",
    "    ])),\n",
    "    ('rf', RandomForestClassifier(n_jobs=-1))])"
   ]
  },
  {
   "cell_type": "markdown",
   "metadata": {},
   "source": [
    "##### Fit  took 6 min with n_jobs=-1 and all default parameters"
   ]
  },
  {
   "cell_type": "code",
   "execution_count": 19,
   "metadata": {},
   "outputs": [
    {
     "name": "stdout",
     "output_type": "stream",
     "text": [
      "fit time: 20.80 seconds\n"
     ]
    }
   ],
   "source": [
    "start = timer()\n",
    "# Fit to the training data\n",
    "ModRF.fit(X_train, y_train)\n",
    "end = timer()\n",
    "print('fit time: {:0.2f} seconds'.format(end - start))"
   ]
  },
  {
   "cell_type": "markdown",
   "metadata": {},
   "source": [
    "#### Get the probability predictions."
   ]
  },
  {
   "cell_type": "code",
   "execution_count": 20,
   "metadata": {},
   "outputs": [
    {
     "name": "stdout",
     "output_type": "stream",
     "text": [
      "Predict.proba time: 4.39 seconds\n"
     ]
    }
   ],
   "source": [
    "# get probas\n",
    "start = timer()\n",
    "ModRF_train_probas = ModRF.predict_proba(X_train)\n",
    "ModRF_test_probas = ModRF.predict_proba(X_test)\n",
    "end = timer()\n",
    "print('Predict.proba time: {:0.2f} seconds'.format(end - start))"
   ]
  },
  {
   "cell_type": "markdown",
   "metadata": {},
   "source": [
    "#### Make sure the shapes are right."
   ]
  },
  {
   "cell_type": "code",
   "execution_count": 21,
   "metadata": {
    "scrolled": true
   },
   "outputs": [
    {
     "data": {
      "text/plain": [
       "((48034, 104), (48034, 104))"
      ]
     },
     "execution_count": 21,
     "metadata": {},
     "output_type": "execute_result"
    }
   ],
   "source": [
    "np.hstack(ModRF_train_probas).shape, dummy_labels.loc[y_train.index, :].values.shape"
   ]
  },
  {
   "cell_type": "code",
   "execution_count": 22,
   "metadata": {
    "scrolled": true
   },
   "outputs": [
    {
     "name": "stdout",
     "output_type": "stream",
     "text": [
      "log loss on training set: 0.0444\n",
      "log loss on test set: 0.3739\n"
     ]
    }
   ],
   "source": [
    "print('log loss on training set: {:0.4f}'.format(\n",
    "    multi_multi_log_loss(np.hstack(ModRF_train_probas),\n",
    "                         dummy_labels.loc[y_train.index, :].values, \n",
    "                         BOX_PLOTS_COLUMN_INDICES)))\n",
    "print('log loss on test set: {:0.4f}'.format(\n",
    "    multi_multi_log_loss(np.hstack(ModRF_test_probas),\n",
    "                         dummy_labels.loc[y_test.index, :].values, \n",
    "                         BOX_PLOTS_COLUMN_INDICES)))"
   ]
  },
  {
   "cell_type": "markdown",
   "metadata": {},
   "source": [
    "#### For standard metrics we need the yhats and the ys."
   ]
  },
  {
   "cell_type": "code",
   "execution_count": 23,
   "metadata": {},
   "outputs": [],
   "source": [
    "def report_f1(true, pred):\n",
    "    the_scores = []\n",
    "    for target in range(len(LABELS)):\n",
    "        the_score = f1_score(true[:, target], pred[:, target], average='weighted')\n",
    "        print('F1 score for target {}: {:.3f}'.format(LABELS[target], the_score))\n",
    "        the_scores.append(the_score)\n",
    "    print('Average F1 score for all targets : {:.3f}'.format(np.mean(the_scores)))\n",
    "\n",
    "def report_accuracy(true, pred):\n",
    "    the_scores = []\n",
    "    for target in range(len(LABELS)):\n",
    "        the_score = accuracy_score(true[:, target], pred[:, target])\n",
    "        print('Accuracy score for target {}: {:.3f}'.format(LABELS[target], the_score))\n",
    "        the_scores.append(the_score)\n",
    "    print('Average accuracy score for all targets : {:.3f}'.format(np.mean(the_scores)))"
   ]
  },
  {
   "cell_type": "markdown",
   "metadata": {},
   "source": [
    "#### For log loss we need binarized ys and probability predictions."
   ]
  },
  {
   "cell_type": "code",
   "execution_count": 24,
   "metadata": {},
   "outputs": [],
   "source": [
    "# grab the columns for each target - that's in BPCI indexed by position in LABELS\n",
    "# normalize so probabilities sum to one (unless sum is zero, then we clip)\n",
    "\n",
    "BPCI = BOX_PLOTS_COLUMN_INDICES\n",
    "\n",
    "def norm_probs(probs, indices=BPCI, targets = LABELS):\n",
    "    ''' input:  array n_samples, 104 ; output: array n_samples, 104 \n",
    "         normalized within target columns such that for each target, the sum of probabilities for each row is 1'''\n",
    "    # make a copy; don't want to smash the input\n",
    "    lprobs = np.copy(probs)\n",
    "    for i, targ in enumerate(targets):\n",
    "        lprobs[:, indices[i]] /=  np.clip(np.sum(lprobs[:, indices[i]], axis=1, keepdims=True), 1e-15, np.inf)\n",
    "    return lprobs\n",
    "\n",
    "from sklearn.metrics import log_loss\n",
    "def report_log_loss(true, pred):\n",
    "    ''' Takes true in binarized format.  Both args are shape (n_samples, 104)'''\n",
    "    the_scores = []\n",
    "    # note: BPCI[idx] is the slice that gets the right columns for each target\n",
    "    # first normalize probabilities within targets \n",
    "    normed_probas = norm_probs(pred)\n",
    "    the_scores = []\n",
    "    for idx, target in enumerate(LABELS):\n",
    "        the_score = log_loss(true[:, BPCI[idx]], pred[:, BPCI[idx]])\n",
    "        print('log loss for target {}: {:.3f}'.format(target, the_score))\n",
    "        the_scores.append(the_score)\n",
    "    print('Average log_loss for all targets : {:.3f}'.format(np.mean(the_scores))) "
   ]
  },
  {
   "cell_type": "markdown",
   "metadata": {},
   "source": [
    "#### Check shapes"
   ]
  },
  {
   "cell_type": "code",
   "execution_count": 25,
   "metadata": {},
   "outputs": [
    {
     "data": {
      "text/plain": [
       "((12008, 9), (12008, 9))"
      ]
     },
     "execution_count": 25,
     "metadata": {},
     "output_type": "execute_result"
    }
   ],
   "source": [
    "y_test.shape, ftl.flat_to_labels(np.hstack(ModRF_test_probas)).shape"
   ]
  },
  {
   "cell_type": "code",
   "execution_count": 26,
   "metadata": {},
   "outputs": [
    {
     "name": "stdout",
     "output_type": "stream",
     "text": [
      "F1 score for target Function: 0.929\n",
      "F1 score for target Object_Type: 0.966\n",
      "F1 score for target Operating_Status: 0.981\n",
      "F1 score for target Position_Type: 0.956\n",
      "F1 score for target Pre_K: 0.985\n",
      "F1 score for target Reporting: 0.970\n",
      "F1 score for target Sharing: 0.956\n",
      "F1 score for target Student_Type: 0.962\n",
      "F1 score for target Use: 0.946\n",
      "Average F1 score for all targets : 0.961\n"
     ]
    }
   ],
   "source": [
    "report_f1(y_test.values, ftl.flat_to_labels(np.hstack(ModRF_test_probas)))"
   ]
  },
  {
   "cell_type": "code",
   "execution_count": 27,
   "metadata": {},
   "outputs": [
    {
     "name": "stdout",
     "output_type": "stream",
     "text": [
      "Accuracy score for target Function: 0.930\n",
      "Accuracy score for target Object_Type: 0.966\n",
      "Accuracy score for target Operating_Status: 0.981\n",
      "Accuracy score for target Position_Type: 0.956\n",
      "Accuracy score for target Pre_K: 0.985\n",
      "Accuracy score for target Reporting: 0.970\n",
      "Accuracy score for target Sharing: 0.956\n",
      "Accuracy score for target Student_Type: 0.962\n",
      "Accuracy score for target Use: 0.947\n",
      "Average accuracy score for all targets : 0.962\n"
     ]
    }
   ],
   "source": [
    "report_accuracy(y_test.values, ftl.flat_to_labels(np.hstack(ModRF_test_probas)))"
   ]
  },
  {
   "cell_type": "markdown",
   "metadata": {},
   "source": [
    "#### Result confirms DrivenData metric above."
   ]
  },
  {
   "cell_type": "code",
   "execution_count": 28,
   "metadata": {
    "scrolled": true
   },
   "outputs": [
    {
     "name": "stdout",
     "output_type": "stream",
     "text": [
      "log loss for target Function: 0.801\n",
      "log loss for target Object_Type: 0.340\n",
      "log loss for target Operating_Status: 0.183\n",
      "log loss for target Position_Type: 0.438\n",
      "log loss for target Pre_K: 0.140\n",
      "log loss for target Reporting: 0.259\n",
      "log loss for target Sharing: 0.425\n",
      "log loss for target Student_Type: 0.321\n",
      "log loss for target Use: 0.458\n",
      "Average log_loss for all targets : 0.374\n"
     ]
    }
   ],
   "source": [
    "report_log_loss(y_test_bin.values, np.hstack(ModRF_test_probas))"
   ]
  },
  {
   "cell_type": "code",
   "execution_count": 29,
   "metadata": {
    "scrolled": true
   },
   "outputs": [],
   "source": [
    "# # Load the holdout data: holdout\n",
    "# ### Over here the file is TestData.csv\n",
    "# holdout = pd.read_csv('../data/TestData.csv', index_col=0)"
   ]
  },
  {
   "cell_type": "code",
   "execution_count": 30,
   "metadata": {},
   "outputs": [],
   "source": [
    "# # start = timer()\n",
    "# # # Generate predictions: predictions\n",
    "# ModRF_predictions = ModRF.predict_proba(holdout)\n",
    "# end = timer()\n",
    "# print('predict time: {} seconds'.format(end - start))"
   ]
  },
  {
   "cell_type": "code",
   "execution_count": 31,
   "metadata": {},
   "outputs": [],
   "source": [
    "# pred_Mod_RF = pd.DataFrame(columns=pd.get_dummies(df[LABELS], prefix_sep='__').columns, \n",
    "#                              index=holdout.index,\n",
    "#                              data=ModRF_predictions)\n",
    "\n",
    "# pred_Mod_RF.to_csv('pred_Mod_RF.csv')"
   ]
  },
  {
   "cell_type": "markdown",
   "metadata": {},
   "source": [
    "***"
   ]
  }
 ],
 "metadata": {
  "kernelspec": {
   "display_name": "Python 3",
   "language": "python",
   "name": "python3"
  },
  "language_info": {
   "codemirror_mode": {
    "name": "ipython",
    "version": 3
   },
   "file_extension": ".py",
   "mimetype": "text/x-python",
   "name": "python",
   "nbconvert_exporter": "python",
   "pygments_lexer": "ipython3",
   "version": "3.6.6"
  }
 },
 "nbformat": 4,
 "nbformat_minor": 2
}
