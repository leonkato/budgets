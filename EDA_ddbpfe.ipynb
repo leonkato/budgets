{
 "cells": [
  {
   "cell_type": "markdown",
   "metadata": {},
   "source": [
    "### EDA on DrivenData Box Plots for Education dataset"
   ]
  },
  {
   "cell_type": "markdown",
   "metadata": {},
   "source": [
    "#### Agenda\n",
    "\n",
    "* Targets\n",
    "    * What are they?\n",
    "    * For each target\n",
    "        * Labels\n",
    "            * how many of each?\n",
    "            * distribution?\n",
    "\n",
    "* Features\n",
    "    * How many values per feature?\n",
    "    * Types:\n",
    "        * numerical\n",
    "            * distribution\n",
    "        * strings\n",
    "            * how many distinct strings?  tokens\n",
    "            * how many of each?\n",
    "            * would preprocessing change those statistics\n",
    "                * tokenization pattern\n",
    "                * stemming\n",
    "\n",
    "\n",
    "* Look at the holdout set.  From mismatch between train/test and submitted results, it seems that there must be some difference(s) from the labeled training data."
   ]
  },
  {
   "cell_type": "code",
   "execution_count": 1,
   "metadata": {},
   "outputs": [],
   "source": [
    "import pandas as pd\n",
    "import matplotlib.pyplot as plt\n",
    "import numpy as np\n",
    "pd.set_option('display.max_columns', 60)"
   ]
  },
  {
   "cell_type": "code",
   "execution_count": 2,
   "metadata": {},
   "outputs": [],
   "source": [
    "from sklearn.feature_extraction.text import CountVectorizer"
   ]
  },
  {
   "cell_type": "code",
   "execution_count": 3,
   "metadata": {},
   "outputs": [],
   "source": [
    "# read the data\n",
    "df = pd.read_csv('data/TrainingData.csv', index_col=0)"
   ]
  },
  {
   "cell_type": "code",
   "execution_count": 4,
   "metadata": {},
   "outputs": [
    {
     "data": {
      "text/plain": [
       "(400277, 25)"
      ]
     },
     "execution_count": 4,
     "metadata": {},
     "output_type": "execute_result"
    }
   ],
   "source": [
    "# check shape\n",
    "df.shape"
   ]
  },
  {
   "cell_type": "code",
   "execution_count": 5,
   "metadata": {},
   "outputs": [
    {
     "data": {
      "text/plain": [
       "Index(['Function', 'Use', 'Sharing', 'Reporting', 'Student_Type',\n",
       "       'Position_Type', 'Object_Type', 'Pre_K', 'Operating_Status',\n",
       "       'Object_Description', 'Text_2', 'SubFund_Description',\n",
       "       'Job_Title_Description', 'Text_3', 'Text_4', 'Sub_Object_Description',\n",
       "       'Location_Description', 'FTE', 'Function_Description',\n",
       "       'Facility_or_Department', 'Position_Extra', 'Total',\n",
       "       'Program_Description', 'Fund_Description', 'Text_1'],\n",
       "      dtype='object')"
      ]
     },
     "execution_count": 5,
     "metadata": {},
     "output_type": "execute_result"
    }
   ],
   "source": [
    "# columns 0-8 are the targets; 9-25 are the features\n",
    "df.columns"
   ]
  },
  {
   "cell_type": "code",
   "execution_count": 6,
   "metadata": {},
   "outputs": [
    {
     "name": "stderr",
     "output_type": "stream",
     "text": [
      "C:\\Users\\saus\\Anaconda3\\lib\\site-packages\\IPython\\core\\interactiveshell.py:2785: DtypeWarning: Columns (5,11) have mixed types. Specify dtype option on import or set low_memory=False.\n",
      "  interactivity=interactivity, compiler=compiler, result=result)\n"
     ]
    }
   ],
   "source": [
    "# read the holdout set\n",
    "holdout = pd.read_csv('data/TestData.csv', index_col=0)"
   ]
  },
  {
   "cell_type": "code",
   "execution_count": 7,
   "metadata": {
    "scrolled": true
   },
   "outputs": [
    {
     "data": {
      "text/plain": [
       "(50064, 16)"
      ]
     },
     "execution_count": 7,
     "metadata": {},
     "output_type": "execute_result"
    }
   ],
   "source": [
    "# check shape.  This has only features, no targets\n",
    "holdout.shape"
   ]
  },
  {
   "cell_type": "code",
   "execution_count": 8,
   "metadata": {
    "scrolled": true
   },
   "outputs": [
    {
     "data": {
      "text/plain": [
       "['FTE',\n",
       " 'Facility_or_Department',\n",
       " 'Function_Description',\n",
       " 'Fund_Description',\n",
       " 'Job_Title_Description',\n",
       " 'Location_Description',\n",
       " 'Object_Description',\n",
       " 'Position_Extra',\n",
       " 'Program_Description',\n",
       " 'SubFund_Description',\n",
       " 'Sub_Object_Description',\n",
       " 'Text_1',\n",
       " 'Text_2',\n",
       " 'Text_3',\n",
       " 'Text_4',\n",
       " 'Total']"
      ]
     },
     "execution_count": 8,
     "metadata": {},
     "output_type": "execute_result"
    }
   ],
   "source": [
    "# since the holdout has no labels, these are the features.\n",
    "sorted(list(holdout.columns))"
   ]
  },
  {
   "cell_type": "markdown",
   "metadata": {},
   "source": [
    "### Explore the targets (outputs to be predicted) and their distribution."
   ]
  },
  {
   "cell_type": "code",
   "execution_count": 9,
   "metadata": {},
   "outputs": [],
   "source": [
    "# bind a name for the targets\n",
    "TARGETS = sorted(['Function', 'Use', 'Sharing', 'Reporting', 'Student_Type',\n",
    "                'Position_Type', 'Object_Type', 'Pre_K', 'Operating_Status'])"
   ]
  },
  {
   "cell_type": "code",
   "execution_count": 10,
   "metadata": {
    "scrolled": true
   },
   "outputs": [
    {
     "name": "stdout",
     "output_type": "stream",
     "text": [
      "['Function', 'Object_Type', 'Operating_Status', 'Position_Type', 'Pre_K', 'Reporting', 'Sharing', 'Student_Type', 'Use']\n"
     ]
    }
   ],
   "source": [
    "# check\n",
    "print(TARGETS)"
   ]
  },
  {
   "cell_type": "code",
   "execution_count": 11,
   "metadata": {
    "scrolled": true
   },
   "outputs": [
    {
     "name": "stdout",
     "output_type": "stream",
     "text": [
      "['FTE', 'Facility_or_Department', 'Function_Description', 'Fund_Description', 'Job_Title_Description', 'Location_Description', 'Object_Description', 'Position_Extra', 'Program_Description', 'SubFund_Description', 'Sub_Object_Description', 'Text_1', 'Text_2', 'Text_3', 'Text_4', 'Total']\n"
     ]
    }
   ],
   "source": [
    "# and the features\n",
    "FEATURES = sorted(list(set(df.columns) - set(TARGETS))); print(FEATURES)"
   ]
  },
  {
   "cell_type": "code",
   "execution_count": 12,
   "metadata": {},
   "outputs": [],
   "source": [
    "# only the text features\n",
    "TFEATURES = ['Facility_or_Department', 'Function_Description', 'Fund_Description', \n",
    "             'Job_Title_Description', 'Location_Description', 'Object_Description', \n",
    "             'Position_Extra', 'Program_Description', 'SubFund_Description', \n",
    "             'Sub_Object_Description', 'Text_1', 'Text_2', 'Text_3', 'Text_4']"
   ]
  },
  {
   "cell_type": "code",
   "execution_count": 13,
   "metadata": {},
   "outputs": [],
   "source": [
    "# only the numerical features\n",
    "NFEATURES = ['FTE', 'Total']"
   ]
  },
  {
   "cell_type": "code",
   "execution_count": 14,
   "metadata": {},
   "outputs": [
    {
     "data": {
      "text/plain": [
       "Function            0\n",
       "Object_Type         0\n",
       "Operating_Status    0\n",
       "Position_Type       0\n",
       "Pre_K               0\n",
       "Reporting           0\n",
       "Sharing             0\n",
       "Student_Type        0\n",
       "Use                 0\n",
       "dtype: int64"
      ]
     },
     "execution_count": 14,
     "metadata": {},
     "output_type": "execute_result"
    }
   ],
   "source": [
    "# any unlabeled rows in the dataset? No.\n",
    "df[TARGETS].isnull().sum()"
   ]
  },
  {
   "cell_type": "code",
   "execution_count": 15,
   "metadata": {},
   "outputs": [
    {
     "data": {
      "text/plain": [
       "Function            37\n",
       "Object_Type         11\n",
       "Operating_Status     3\n",
       "Position_Type       25\n",
       "Pre_K                3\n",
       "Reporting            3\n",
       "Sharing              5\n",
       "Student_Type         9\n",
       "Use                  8\n",
       "dtype: int64"
      ]
     },
     "execution_count": 15,
     "metadata": {},
     "output_type": "execute_result"
    }
   ],
   "source": [
    "# number of unique labels for each target\n",
    "df[TARGETS].nunique()"
   ]
  },
  {
   "cell_type": "markdown",
   "metadata": {},
   "source": [
    "####  Look at the label counts for each target.  For the whole dataset, we could use value_counts, but we may need run this on arrays, so we use numpy. \n",
    "\n",
    "Since we may want to do this more than once, it's worth building some code to do it.  \n",
    "\n",
    "We need to see label distributions for all the targets.   "
   ]
  },
  {
   "cell_type": "markdown",
   "metadata": {},
   "source": [
    "#### Build the the label counts input for the plotter."
   ]
  },
  {
   "cell_type": "code",
   "execution_count": 16,
   "metadata": {},
   "outputs": [],
   "source": [
    "def build_label_counts(target_array):\n",
    "    ''' takes array of targets and builds mapping: target to dataframe.\n",
    "        dataframe contains 2 columns: labels and counts of labels, sorted by label count    '''\n",
    "    # first build dict to hold count of labels, keyed by target\n",
    "    label_counts = {t : np.unique(df[t], return_counts=True) for t in TARGETS}\n",
    "    # sort by counts and push into df, retaining dictionary structure.\n",
    "    return {t : pd.DataFrame(sorted(list(zip(label_counts[t][0], label_counts[t][1])), \n",
    "                                    key=lambda x: x[1])) for t in TARGETS}"
   ]
  },
  {
   "cell_type": "markdown",
   "metadata": {},
   "source": [
    "#### Build the plotter."
   ]
  },
  {
   "cell_type": "code",
   "execution_count": 17,
   "metadata": {},
   "outputs": [],
   "source": [
    "def plot_label_profile(targets, size=15):\n",
    "    ''' draw the picture using the input from build_label_counts'''\n",
    "    fig, axes = plt.subplots(3, 3, figsize=(size,size))\n",
    "    for n, t in enumerate(targets.keys()):\n",
    "        the_ax = axes[n//3][n%3]\n",
    "        the_ax.set_title(t)\n",
    "        the_ax.bar(targets[t].index, targets[t].iloc[:, 1]);"
   ]
  },
  {
   "cell_type": "code",
   "execution_count": 18,
   "metadata": {},
   "outputs": [],
   "source": [
    "def show_label_profile(target_array, size=15):\n",
    "    plot_label_profile(build_label_counts(target_array), size=size)"
   ]
  },
  {
   "cell_type": "code",
   "execution_count": 19,
   "metadata": {
    "scrolled": false
   },
   "outputs": [
    {
     "data": {
      "image/png": "[encoded data removed]",
      "text/plain": [
       "<Figure size 1080x1080 with 9 Axes>"
      ]
     },
     "metadata": {},
     "output_type": "display_data"
    }
   ],
   "source": [
    "show_label_profile(df[TARGETS], size=15)"
   ]
  },
  {
   "cell_type": "markdown",
   "metadata": {},
   "source": [
    "#### The plot shows significant label imbalance for most targets."
   ]
  },
  {
   "cell_type": "markdown",
   "metadata": {},
   "source": [
    "#### ================================================================================"
   ]
  },
  {
   "cell_type": "markdown",
   "metadata": {},
   "source": [
    "## Explore the features"
   ]
  },
  {
   "cell_type": "code",
   "execution_count": 20,
   "metadata": {},
   "outputs": [
    {
     "data": {
      "text/plain": [
       "FTE                       274206\n",
       "Facility_or_Department    346391\n",
       "Function_Description       58082\n",
       "Fund_Description          197400\n",
       "Job_Title_Description     107534\n",
       "Location_Description      238223\n",
       "Object_Description         24784\n",
       "Position_Extra            135513\n",
       "Program_Description        95617\n",
       "SubFund_Description        93422\n",
       "Sub_Object_Description    308674\n",
       "Text_1                    107992\n",
       "Text_2                    312060\n",
       "Text_3                    291125\n",
       "Text_4                    346531\n",
       "Total                       4555\n",
       "dtype: int64"
      ]
     },
     "execution_count": 20,
     "metadata": {},
     "output_type": "execute_result"
    }
   ],
   "source": [
    "# how about empty features; lots and lots.\n",
    "df[FEATURES].isnull().sum()"
   ]
  },
  {
   "cell_type": "code",
   "execution_count": 21,
   "metadata": {},
   "outputs": [
    {
     "data": {
      "image/png": "[encoded data removed]",
      "text/plain": [
       "<Figure size 432x288 with 1 Axes>"
      ]
     },
     "metadata": {},
     "output_type": "display_data"
    }
   ],
   "source": [
    "# Calculate number of unique values for each text feature: num_unique_values\n",
    "num_unique_values = df[TFEATURES].apply(pd.Series.nunique, axis=0)\n",
    "\n",
    "# Plot number of unique values for each label\n",
    "num_unique_values.plot(kind='bar')\n",
    "\n",
    "# Label the axes\n",
    "plt.xlabel('Features')\n",
    "plt.ylabel('Number of unique values')\n",
    "\n",
    "# Display the plot\n",
    "plt.show()"
   ]
  },
  {
   "cell_type": "markdown",
   "metadata": {},
   "source": [
    "#### Are holdout and test data (really train and test together)  different?\n",
    "\n",
    "I can't compare the labels because they are withheld for the holdout set.  So the plots below look at the features, to see if there's a difference.  \n",
    "\n",
    "We count the number of unique entries in the features and divide by number of samples.  Shapes are similar, numbers off by 1/2 to 1 order of magnitude.  Since the dataset is 10 times as big as the holdout, that tells me there are relatively more different unique values in the holdout."
   ]
  },
  {
   "cell_type": "code",
   "execution_count": 22,
   "metadata": {},
   "outputs": [
    {
     "data": {
      "image/png": "[encoded data removed]",
      "text/plain": [
       "<Figure size 432x288 with 1 Axes>"
      ]
     },
     "metadata": {},
     "output_type": "display_data"
    }
   ],
   "source": [
    "# FEATURES = ['Facility_or_Department', 'Function_Description',  'Fund_Description', 'Job_Title_Description', \n",
    "#             'Location_Description','Object_Description','Position_Extra',  'Program_Description', 'SubFund_Description',\n",
    "#             'Sub_Object_Description', 'Text_1', 'Text_2', 'Text_3', 'Text_4']\n",
    "#\n",
    "plt.plot(np.log10(df[TFEATURES].nunique()/df.shape[0]))\n",
    "plt.xticks(TFEATURES, rotation=90)\n",
    "plt.xlabel('Features')\n",
    "plt.ylabel('log10 number of unique values')\n",
    "plt.title('log10 unique values/feature for dataset');"
   ]
  },
  {
   "cell_type": "code",
   "execution_count": 23,
   "metadata": {},
   "outputs": [
    {
     "data": {
      "image/png": "[encoded data removed]",
      "text/plain": [
       "<Figure size 432x288 with 1 Axes>"
      ]
     },
     "metadata": {},
     "output_type": "display_data"
    }
   ],
   "source": [
    "plt.plot(np.log10(holdout[TFEATURES].nunique()/holdout.shape[0]))\n",
    "plt.xticks(TFEATURES, rotation=90)\n",
    "plt.xlabel('Features')\n",
    "plt.ylabel('log10 number of unique values')\n",
    "plt.title('log10 unique values/feature for holdout');"
   ]
  },
  {
   "cell_type": "markdown",
   "metadata": {},
   "source": [
    "## Look at the number of tokens in the features."
   ]
  },
  {
   "cell_type": "markdown",
   "metadata": {},
   "source": [
    "#### Build a function to get the token set (combining all text fields in a row) using default CountVectorizer."
   ]
  },
  {
   "cell_type": "code",
   "execution_count": 24,
   "metadata": {},
   "outputs": [],
   "source": [
    "def get_token_pop(data, feature_names):\n",
    "    ''' Input is columns of text data; \n",
    "        Output is tuple: mapping: feature_name to list of tokens; list of unique tokens in entire input.'''\n",
    "    tokens_by_feature = {f : CountVectorizer().fit(data[f].fillna('')).get_feature_names()\n",
    "                           for f in feature_names}\n",
    "    t_numbers = []\n",
    "    all_tokens = []                    \n",
    "    for f in feature_names:\n",
    "        t_numbers.append(len(tokens_by_feature[f]))\n",
    "        all_tokens.extend(tokens_by_feature[f])\n",
    "        print('Feature: {} has {} tokens'.format(f, len(tokens_by_feature[f])))\n",
    "    all_tokens = list(set(all_tokens))\n",
    "    print('total number of tokens for all features: {}'.format(np.sum(t_numbers)))  \n",
    "    print('total number of unique tokens for all features: {}'.format(len(set(all_tokens)))) \n",
    "    return (tokens_by_feature, all_tokens)"
   ]
  },
  {
   "cell_type": "markdown",
   "metadata": {},
   "source": [
    "#### Get the token population and count tokens by feature and total unique tokens for full dataset and the holdout set."
   ]
  },
  {
   "cell_type": "code",
   "execution_count": 25,
   "metadata": {},
   "outputs": [
    {
     "name": "stdout",
     "output_type": "stream",
     "text": [
      "Feature: Facility_or_Department has 251 tokens\n",
      "Feature: Function_Description has 802 tokens\n",
      "Feature: Fund_Description has 225 tokens\n",
      "Feature: Job_Title_Description has 1642 tokens\n",
      "Feature: Location_Description has 414 tokens\n",
      "Feature: Object_Description has 578 tokens\n",
      "Feature: Position_Extra has 497 tokens\n",
      "Feature: Program_Description has 528 tokens\n",
      "Feature: SubFund_Description has 397 tokens\n",
      "Feature: Sub_Object_Description has 275 tokens\n",
      "Feature: Text_1 has 1571 tokens\n",
      "Feature: Text_2 has 356 tokens\n",
      "Feature: Text_3 has 66 tokens\n",
      "Feature: Text_4 has 370 tokens\n",
      "total number of tokens for all features: 7972\n",
      "total number of unique tokens for all features: 3728\n"
     ]
    }
   ],
   "source": [
    "# get token dictionary and unique tokens for full dataset\n",
    "df_token_dict, df_all_tokens = get_token_pop(df[TFEATURES],TFEATURES)"
   ]
  },
  {
   "cell_type": "code",
   "execution_count": 26,
   "metadata": {},
   "outputs": [
    {
     "name": "stdout",
     "output_type": "stream",
     "text": [
      "Feature: Facility_or_Department has 153 tokens\n",
      "Feature: Function_Description has 525 tokens\n",
      "Feature: Fund_Description has 246 tokens\n",
      "Feature: Job_Title_Description has 1328 tokens\n",
      "Feature: Location_Description has 409 tokens\n",
      "Feature: Object_Description has 433 tokens\n",
      "Feature: Position_Extra has 328 tokens\n",
      "Feature: Program_Description has 381 tokens\n",
      "Feature: SubFund_Description has 263 tokens\n",
      "Feature: Sub_Object_Description has 519 tokens\n",
      "Feature: Text_1 has 850 tokens\n",
      "Feature: Text_2 has 259 tokens\n",
      "Feature: Text_3 has 26 tokens\n",
      "Feature: Text_4 has 218 tokens\n",
      "total number of tokens for all features: 5938\n",
      "total number of unique tokens for all features: 2766\n"
     ]
    }
   ],
   "source": [
    "# get token dictionary and unique tokens for full dataset\n",
    "ho_token_dict, ho_all_tokens = get_token_pop(holdout[TFEATURES],TFEATURES)"
   ]
  },
  {
   "cell_type": "markdown",
   "metadata": {},
   "source": [
    "#### Build function to compare token lists; should take two lists and return 3-tuple: list of items in both sets, list of items only in 1st input, list of items only in 2nd input."
   ]
  },
  {
   "cell_type": "code",
   "execution_count": 27,
   "metadata": {},
   "outputs": [],
   "source": [
    "def compare_token_lists(l1, l2):\n",
    "    s1, s2 = set(l1), set(l2)\n",
    "    inboth = sorted(list(s1 & s2))\n",
    "    inl1 = sorted(list(s1 - s2))\n",
    "    inl2 = sorted(list(s2 - s1))\n",
    "    return (inboth, inl1, inl2)"
   ]
  },
  {
   "cell_type": "code",
   "execution_count": 28,
   "metadata": {},
   "outputs": [],
   "source": [
    "inboth, inl1, inl2 = compare_token_lists(df_all_tokens, ho_all_tokens)"
   ]
  },
  {
   "cell_type": "code",
   "execution_count": 29,
   "metadata": {},
   "outputs": [
    {
     "data": {
      "text/plain": [
       "(2411, 1317, 355)"
      ]
     },
     "execution_count": 29,
     "metadata": {},
     "output_type": "execute_result"
    }
   ],
   "source": [
    "len(inboth), len(inl1), len(inl2)"
   ]
  },
  {
   "cell_type": "markdown",
   "metadata": {},
   "source": [
    "#####     holdout has 2766 unique tokens.  2411 were seen in dataset; 355 tokens not seen in the dataset."
   ]
  },
  {
   "cell_type": "code",
   "execution_count": 30,
   "metadata": {},
   "outputs": [
    {
     "name": "stdout",
     "output_type": "stream",
     "text": [
      "['7th', '8th', 'aas', 'abate', 'abc', 'abd', 'abuse', 'accntab', 'accounta', 'acctg', 'accts', 'actbly', 'adapt', 'administr', 'administratvie', 'advisory', 'aep', 'aff', 'african', 'agricul', 'ah', 'ahc', 'al', 'alarms', 'algebra', 'alterations', 'analy', 'analyiii', 'anly', 'ann', 'anst', 'anticipation', 'appreciation', 'appren', 'ar', 'architectur', 'arrangements', 'as', 'asbes', 'asperger', 'assessmen', 'association', 'ast', 'astii', 'attend', 'au', 'aud', 'baccalaureate', 'badges', 'baptist', 'baseb', 'basebl', 'bb', 'beh', 'between', 'blue', 'bnfts', 'braillist', 'bsktbl', 'build', 'busn', 'cafm', 'campuses', 'capitol', 'carr', 'carry', 'cataloging', 'cate', 'cch', 'cdr', 'cell', 'chf', 'chi', 'chld', 'civ', 'cl', 'clas', 'cler', 'clinicans', 'cntl', 'coga', 'combin', 'commercial', 'commun', 'comptroller', 'cond', 'config', 'construct', 'consulting', 'cor', 'cord', 'cosme', 'coun', 'courier', 'cpl', 'cred', 'credits', 'ctrl', 'cultural', 'cur', 'cycle', 'dba', 'de', 'demonstration', 'desktp', 'detention', 'diag', 'diagnosticia', 'directly', 'disco', 'dispatc', 'dive', 'dose', 'dpa', 'drainage', 'dram', 'dramatics', 'driveriii', 'dsgn', 'dsk', 'du', 'duties', 'eap', 'elctrn', 'elec', 'electric', 'ely', 'em', 'emotional', 'englsh', 'engnr', 'enterp', 'entities', 'equipt', 'equity', 'expend', 'exter', 'faci', 'facil', 'facilit', 'fash', 'fi', 'finisher', 'footbl', 'footbll', 'fr', 'frm', 'frmn', 'fto', 'games', 'government', 'graph', 'grd', 'grds', 'ground', 'groundskeeper', 'hc', 'heat', 'heritage', 'hispanic', 'hl', 'homebnd', 'honda', 'honor', 'hosp', 'hotel', 'housekeeping', 'hum', 'hw', 'im', 'immigr', 'includes', 'inclus', 'inclusiveness', 'independence', 'inn', 'instrucational', 'instrucional', 'intergovernment', 'internship', 'intn', 'intrp', 'intrv', 'inven', 'itin', 'jour', 'journalis', 'jrvar', 'kin', 'kp', 'lan', 'leasership', 'libr', 'lifeskills', 'lifeworks', 'lld', 'ln', 'lrc', 'ls', 'ma', 'mariachi', 'mat', 'meals', 'mg', 'millworker', 'mkt', 'ml', 'mn', 'mobil', 'mold', 'money', 'moni', 'monster', 'msgr', 'mth', 'mult', 'mus', 'name', 'needed', 'negotiatio', 'networking', 'netwrk', 'ni', 'nondisciplinary', 'noneducation', 'notes', 'nvfb', 'nwsppr', 'occup', 'occupation', 'ombuds', 'ope', 'operato', 'orien', 'over', 'overcrowding', 'pagers', 'pal', 'paper', 'parks', 'pathway', 'pcard', 'pda', 'pel', 'permit', 'phone', 'photog', 'pla', 'playscape', 'playscapes', 'plmg', 'pln', 'pol', 'powerlifting', 'ppcd', 'preferred', 'preshool', 'pri', 'prmo', 'prn', 'problem', 'procure', 'proportionate', 'psychology', 'qua', 'qual', 'record', 'redesign', 'reduced', 'refreshment', 'registra', 'relat', 'reproduction', 'revenues', 'saf', 'samsa', 'sbs', 'sco', 'scores', 'screener', 'secur', 'sems', 'servicess', 'sfty', 'shares', 'shcl', 'signing', 'sk', 'skil', 'softb', 'solving', 'spc', 'speci', 'spi', 'spiii', 'spl', 'sprt', 'squad', 'srvc', 'srvs', 'ssa', 'ssig', 'sta', 'storekeeper', 'strcom', 'struggler', 'su', 'subcert', 'substance', 'successor', 'supported', 'suppr', 'supprt', 'swt', 'sysadm', 'systm', 'tactical', 'tan', 'teasher', 'telec', 'telecommunications', 'th', 'theat', 'ther', 'tm', 'tourism', 'tournaments', 'trainr', 'tran', 'trex', 'trustees', 'turnsch', 'uil', 'unacceptable', 'unix', 'utility', 'vac', 'vacancies', 'vacancy', 'varfb', 'veh', 'vetp', 'vfb', 'vh', 'vietnamese', 'volbl', 'volleyb', 'volly', 'walmart', 'wan', 'welder', 'worldwide', 'wrest', 'yearbook', 'yrbk']\n"
     ]
    }
   ],
   "source": [
    "print(inl2)"
   ]
  },
  {
   "cell_type": "markdown",
   "metadata": {},
   "source": [
    "#####  Next question: Which feature(s) are the unseen tokens in?"
   ]
  },
  {
   "cell_type": "code",
   "execution_count": 31,
   "metadata": {},
   "outputs": [
    {
     "name": "stdout",
     "output_type": "stream",
     "text": [
      "feature Facility_or_Department, in both: 152, in 1 only: 99, in 2 only: 1\n",
      "feature Function_Description, in both: 511, in 1 only: 291, in 2 only: 14\n",
      "feature Fund_Description, in both: 186, in 1 only: 39, in 2 only: 60\n",
      "feature Job_Title_Description, in both: 1008, in 1 only: 634, in 2 only: 320\n",
      "feature Location_Description, in both: 317, in 1 only: 97, in 2 only: 92\n",
      "feature Object_Description, in both: 392, in 1 only: 186, in 2 only: 41\n",
      "feature Position_Extra, in both: 327, in 1 only: 170, in 2 only: 1\n",
      "feature Program_Description, in both: 373, in 1 only: 155, in 2 only: 8\n",
      "feature SubFund_Description, in both: 263, in 1 only: 134, in 2 only: 0\n",
      "feature Sub_Object_Description, in both: 227, in 1 only: 48, in 2 only: 292\n",
      "feature Text_1, in both: 846, in 1 only: 725, in 2 only: 4\n",
      "feature Text_2, in both: 257, in 1 only: 99, in 2 only: 2\n",
      "feature Text_3, in both: 26, in 1 only: 40, in 2 only: 0\n",
      "feature Text_4, in both: 216, in 1 only: 154, in 2 only: 2\n"
     ]
    }
   ],
   "source": [
    "# compare tokenizing only within features\n",
    "for f in TFEATURES:\n",
    "    inboth, inl1, inl2 = compare_token_lists(df_token_dict[f], ho_token_dict[f])\n",
    "    print('feature {}, in both: {}, in 1 only: {}, in 2 only: {}'.format(f, len(inboth), len(inl1), len(inl2)))"
   ]
  },
  {
   "cell_type": "markdown",
   "metadata": {},
   "source": [
    "##### So there is perhaps some value in using the token set for all fields to represent the features, because if you tokenize within a feature, you'll miss words that might be used in new data that could have been captured. I'm not sure if that's going to help in classification or not."
   ]
  },
  {
   "cell_type": "code",
   "execution_count": 32,
   "metadata": {
    "scrolled": true
   },
   "outputs": [
    {
     "name": "stdout",
     "output_type": "stream",
     "text": [
      "feature Facility_or_Department, in both: 153, in 1 only: 3575, in 2 only: 0\n",
      "feature Function_Description, in both: 518, in 1 only: 3210, in 2 only: 7\n",
      "feature Fund_Description, in both: 235, in 1 only: 3493, in 2 only: 11\n",
      "feature Job_Title_Description, in both: 1087, in 1 only: 2641, in 2 only: 241\n",
      "feature Location_Description, in both: 390, in 1 only: 3338, in 2 only: 19\n",
      "feature Object_Description, in both: 417, in 1 only: 3311, in 2 only: 16\n",
      "feature Position_Extra, in both: 328, in 1 only: 3400, in 2 only: 0\n",
      "feature Program_Description, in both: 375, in 1 only: 3353, in 2 only: 6\n",
      "feature SubFund_Description, in both: 263, in 1 only: 3465, in 2 only: 0\n",
      "feature Sub_Object_Description, in both: 454, in 1 only: 3274, in 2 only: 65\n",
      "feature Text_1, in both: 846, in 1 only: 2882, in 2 only: 4\n",
      "feature Text_2, in both: 258, in 1 only: 3470, in 2 only: 1\n",
      "feature Text_3, in both: 26, in 1 only: 3702, in 2 only: 0\n",
      "feature Text_4, in both: 216, in 1 only: 3512, in 2 only: 2\n"
     ]
    }
   ],
   "source": [
    "# now the same question, but see if the unseen tokens in holdout are seen in the collection of tokens from the dataset\n",
    "for f in TFEATURES:\n",
    "    inboth, inl1, inl2 = compare_token_lists(df_all_tokens, ho_token_dict[f])\n",
    "    print('feature {}, in both: {}, in 1 only: {}, in 2 only: {}'.format(f, len(inboth), len(inl1), len(inl2)))"
   ]
  },
  {
   "cell_type": "markdown",
   "metadata": {},
   "source": [
    "#### A quick look at the features with the most new tokens in the holdout set."
   ]
  },
  {
   "cell_type": "code",
   "execution_count": 33,
   "metadata": {
    "scrolled": false
   },
   "outputs": [
    {
     "data": {
      "text/plain": [
       "357"
      ]
     },
     "execution_count": 33,
     "metadata": {},
     "output_type": "execute_result"
    }
   ],
   "source": [
    "# unique strings in Sub_Obj_Desc...\n",
    "len(holdout.Sub_Object_Description.dropna().unique())"
   ]
  },
  {
   "cell_type": "code",
   "execution_count": 34,
   "metadata": {},
   "outputs": [
    {
     "data": {
      "text/plain": [
       "(32317, 17747)"
      ]
     },
     "execution_count": 34,
     "metadata": {},
     "output_type": "execute_result"
    }
   ],
   "source": [
    "# how many non-null/null in Job_Title_Desc\n",
    "holdout.Job_Title_Description.notnull().sum(), holdout.Job_Title_Description.isnull().sum()"
   ]
  },
  {
   "cell_type": "code",
   "execution_count": 35,
   "metadata": {},
   "outputs": [
    {
     "data": {
      "text/plain": [
       "2190"
      ]
     },
     "execution_count": 35,
     "metadata": {},
     "output_type": "execute_result"
    }
   ],
   "source": [
    "# unique strings in Job_Title_Desc\n",
    "len(holdout.Job_Title_Description.dropna().unique())"
   ]
  },
  {
   "cell_type": "markdown",
   "metadata": {},
   "source": [
    "### Look at the numerical features."
   ]
  },
  {
   "cell_type": "markdown",
   "metadata": {},
   "source": [
    "#### FTE"
   ]
  },
  {
   "cell_type": "code",
   "execution_count": 36,
   "metadata": {
    "scrolled": true
   },
   "outputs": [
    {
     "data": {
      "image/png": "[encoded data removed]",
      "text/plain": [
       "<Figure size 432x288 with 1 Axes>"
      ]
     },
     "metadata": {},
     "output_type": "display_data"
    }
   ],
   "source": [
    "df.FTE.plot(marker='.', linestyle='none')\n",
    "plt.title('values of FTE');"
   ]
  },
  {
   "cell_type": "code",
   "execution_count": 37,
   "metadata": {
    "scrolled": false
   },
   "outputs": [
    {
     "data": {
      "text/plain": [
       "274206"
      ]
     },
     "execution_count": 37,
     "metadata": {},
     "output_type": "execute_result"
    }
   ],
   "source": [
    "df.FTE.isnull().sum()"
   ]
  },
  {
   "cell_type": "code",
   "execution_count": 38,
   "metadata": {
    "scrolled": true
   },
   "outputs": [
    {
     "data": {
      "text/plain": [
       "count    126071.000000\n",
       "mean          0.426794\n",
       "std           0.573576\n",
       "min          -0.087551\n",
       "25%           0.000792\n",
       "50%           0.130927\n",
       "75%           1.000000\n",
       "max          46.800000\n",
       "Name: FTE, dtype: float64"
      ]
     },
     "execution_count": 38,
     "metadata": {},
     "output_type": "execute_result"
    }
   ],
   "source": [
    "df.FTE.describe()"
   ]
  },
  {
   "cell_type": "code",
   "execution_count": 39,
   "metadata": {
    "scrolled": true
   },
   "outputs": [
    {
     "data": {
      "text/plain": [
       "Text(0.5,1,'distribution of log10 FTE')"
      ]
     },
     "execution_count": 39,
     "metadata": {},
     "output_type": "execute_result"
    },
    {
     "data": {
      "image/png": "[encoded data removed]",
      "text/plain": [
       "<Figure size 720x288 with 2 Axes>"
      ]
     },
     "metadata": {},
     "output_type": "display_data"
    }
   ],
   "source": [
    "fig, (ax1, ax2) = plt.subplots(1, 2, figsize=(10, 4))\n",
    "\n",
    "df.FTE.hist(ax=ax1, bins=30)\n",
    "ax1.set_title('distribution of FTE')\n",
    "# have to do something about zero values, negative values, and very small values\n",
    "np.log10(df.FTE.transform(lambda x: 10e-5 if (x <= 10e-5) else x)).hist(ax=ax2, bins=30)\n",
    "ax2.set_title('distribution of log10 FTE')"
   ]
  },
  {
   "cell_type": "markdown",
   "metadata": {},
   "source": [
    "#### This feature has 274k  NaNs, and some bogus entries (< 0 or very, very small).  But if you get rid of those, it may be possible to usefully bin the values by the log (or  a fraction)."
   ]
  },
  {
   "cell_type": "markdown",
   "metadata": {},
   "source": [
    "#### Total\n",
    "\n",
    "It looks like the negative numbers are just someone's convention that doesn't make sense since all of these line items represent spending.  Very well may be possible to use the absolute value of the feature."
   ]
  },
  {
   "cell_type": "code",
   "execution_count": 40,
   "metadata": {
    "scrolled": false
   },
   "outputs": [
    {
     "data": {
      "image/png": "[encoded data removed]",
      "text/plain": [
       "<Figure size 432x288 with 1 Axes>"
      ]
     },
     "metadata": {},
     "output_type": "display_data"
    }
   ],
   "source": [
    "df.Total.plot(marker='.', linestyle='none')\n",
    "plt.title('values of Total');"
   ]
  },
  {
   "cell_type": "code",
   "execution_count": 41,
   "metadata": {
    "scrolled": true
   },
   "outputs": [
    {
     "data": {
      "text/plain": [
       "4555"
      ]
     },
     "execution_count": 41,
     "metadata": {},
     "output_type": "execute_result"
    }
   ],
   "source": [
    "# how many nulls\n",
    "df.Total.isnull().sum()"
   ]
  },
  {
   "cell_type": "code",
   "execution_count": 42,
   "metadata": {},
   "outputs": [
    {
     "data": {
      "text/plain": [
       "(351806, 43870)"
      ]
     },
     "execution_count": 42,
     "metadata": {},
     "output_type": "execute_result"
    }
   ],
   "source": [
    "# how many greater/less than 0; about 10% are negative\n",
    "(df.Total > 0).sum(), (df.Total < 0).sum()"
   ]
  },
  {
   "cell_type": "markdown",
   "metadata": {},
   "source": [
    "#### Summary stats "
   ]
  },
  {
   "cell_type": "code",
   "execution_count": 43,
   "metadata": {
    "scrolled": true
   },
   "outputs": [
    {
     "data": {
      "text/plain": [
       "count    3.957220e+05\n",
       "mean     1.310586e+04\n",
       "std      3.682254e+05\n",
       "min     -8.746631e+07\n",
       "25%      7.379770e+01\n",
       "50%      4.612300e+02\n",
       "75%      3.652662e+03\n",
       "max      1.297000e+08\n",
       "Name: Total, dtype: float64"
      ]
     },
     "execution_count": 43,
     "metadata": {},
     "output_type": "execute_result"
    }
   ],
   "source": [
    "df.Total.describe()"
   ]
  },
  {
   "cell_type": "code",
   "execution_count": 44,
   "metadata": {
    "scrolled": true
   },
   "outputs": [
    {
     "data": {
      "text/plain": [
       "count    3.957220e+05\n",
       "mean     1.706067e+04\n",
       "std      3.680634e+05\n",
       "min      0.000000e+00\n",
       "25%      1.290962e+02\n",
       "50%      6.531659e+02\n",
       "75%      4.571945e+03\n",
       "max      1.297000e+08\n",
       "Name: Total, dtype: float64"
      ]
     },
     "execution_count": 44,
     "metadata": {},
     "output_type": "execute_result"
    }
   ],
   "source": [
    "np.absolute(df.Total).describe()"
   ]
  },
  {
   "cell_type": "markdown",
   "metadata": {},
   "source": [
    "#### The max is a strange value; let's examine the row."
   ]
  },
  {
   "cell_type": "code",
   "execution_count": 45,
   "metadata": {},
   "outputs": [
    {
     "data": {
      "text/html": [
       "<div>\n",
       "<style scoped>\n",
       "    .dataframe tbody tr th:only-of-type {\n",
       "        vertical-align: middle;\n",
       "    }\n",
       "\n",
       "    .dataframe tbody tr th {\n",
       "        vertical-align: top;\n",
       "    }\n",
       "\n",
       "    .dataframe thead th {\n",
       "        text-align: right;\n",
       "    }\n",
       "</style>\n",
       "<table border=\"1\" class=\"dataframe\">\n",
       "  <thead>\n",
       "    <tr style=\"text-align: right;\">\n",
       "      <th></th>\n",
       "      <th>Function</th>\n",
       "      <th>Use</th>\n",
       "      <th>Sharing</th>\n",
       "      <th>Reporting</th>\n",
       "      <th>Student_Type</th>\n",
       "      <th>Position_Type</th>\n",
       "      <th>Object_Type</th>\n",
       "      <th>Pre_K</th>\n",
       "      <th>Operating_Status</th>\n",
       "      <th>Object_Description</th>\n",
       "      <th>Text_2</th>\n",
       "      <th>SubFund_Description</th>\n",
       "      <th>Job_Title_Description</th>\n",
       "      <th>Text_3</th>\n",
       "      <th>Text_4</th>\n",
       "      <th>Sub_Object_Description</th>\n",
       "      <th>Location_Description</th>\n",
       "      <th>FTE</th>\n",
       "      <th>Function_Description</th>\n",
       "      <th>Facility_or_Department</th>\n",
       "      <th>Position_Extra</th>\n",
       "      <th>Total</th>\n",
       "      <th>Program_Description</th>\n",
       "      <th>Fund_Description</th>\n",
       "      <th>Text_1</th>\n",
       "    </tr>\n",
       "  </thead>\n",
       "  <tbody>\n",
       "    <tr>\n",
       "      <th>358538</th>\n",
       "      <td>NO_LABEL</td>\n",
       "      <td>NO_LABEL</td>\n",
       "      <td>NO_LABEL</td>\n",
       "      <td>NO_LABEL</td>\n",
       "      <td>NO_LABEL</td>\n",
       "      <td>NO_LABEL</td>\n",
       "      <td>NO_LABEL</td>\n",
       "      <td>NO_LABEL</td>\n",
       "      <td>Operating, Not PreK-12</td>\n",
       "      <td>Payments to a Community School*</td>\n",
       "      <td>NaN</td>\n",
       "      <td>Regular Instruction</td>\n",
       "      <td>NaN</td>\n",
       "      <td>NaN</td>\n",
       "      <td>NaN</td>\n",
       "      <td>Tuition And Other Similar Payments</td>\n",
       "      <td>NaN</td>\n",
       "      <td>NaN</td>\n",
       "      <td>Other Regular</td>\n",
       "      <td>NaN</td>\n",
       "      <td>NaN</td>\n",
       "      <td>1.297000e+08</td>\n",
       "      <td>NaN</td>\n",
       "      <td>General</td>\n",
       "      <td>SPECIAL PROJECTS-FINANCIA</td>\n",
       "    </tr>\n",
       "  </tbody>\n",
       "</table>\n",
       "</div>"
      ],
      "text/plain": [
       "        Function       Use   Sharing Reporting Student_Type Position_Type  \\\n",
       "358538  NO_LABEL  NO_LABEL  NO_LABEL  NO_LABEL     NO_LABEL      NO_LABEL   \n",
       "\n",
       "       Object_Type     Pre_K        Operating_Status  \\\n",
       "358538    NO_LABEL  NO_LABEL  Operating, Not PreK-12   \n",
       "\n",
       "                     Object_Description Text_2  SubFund_Description  \\\n",
       "358538  Payments to a Community School*    NaN  Regular Instruction   \n",
       "\n",
       "       Job_Title_Description Text_3 Text_4  \\\n",
       "358538                   NaN    NaN    NaN   \n",
       "\n",
       "                    Sub_Object_Description Location_Description  FTE  \\\n",
       "358538  Tuition And Other Similar Payments                  NaN  NaN   \n",
       "\n",
       "       Function_Description Facility_or_Department Position_Extra  \\\n",
       "358538        Other Regular                    NaN            NaN   \n",
       "\n",
       "               Total Program_Description Fund_Description  \\\n",
       "358538  1.297000e+08                 NaN          General   \n",
       "\n",
       "                           Text_1  \n",
       "358538  SPECIAL PROJECTS-FINANCIA  "
      ]
     },
     "execution_count": 45,
     "metadata": {},
     "output_type": "execute_result"
    }
   ],
   "source": [
    "df[df.Total > 1e8]"
   ]
  },
  {
   "cell_type": "code",
   "execution_count": 46,
   "metadata": {
    "scrolled": true
   },
   "outputs": [
    {
     "data": {
      "image/png": "[encoded data removed]",
      "text/plain": [
       "<Figure size 720x288 with 2 Axes>"
      ]
     },
     "metadata": {},
     "output_type": "display_data"
    }
   ],
   "source": [
    "fig, (ax1, ax2) = plt.subplots(1, 2, figsize=(10, 4))\n",
    "\n",
    "np.abs(df.Total.dropna()).hist(ax=ax1, bins=10000)\n",
    "ax1.set_title('distribution of Total')\n",
    "ax1.set_xlim(0, 1e6)\n",
    "# have to do something about zero values, negative values, and very small values\n",
    "np.log10(np.abs(df.Total).transform(lambda x: 10e-5 if (x <= 10e-5) else x)).hist(ax=ax2, bins=30)\n",
    "ax2.set_title('distribution of log10 Total');"
   ]
  },
  {
   "cell_type": "markdown",
   "metadata": {},
   "source": [
    "#### The standard histogram is rendered pretty much useless by the extreme values at the high end.  The log version tells us that without the outliers we have a fairly well-behaved set of values.  Again, binning may be useful."
   ]
  },
  {
   "cell_type": "code",
   "execution_count": 47,
   "metadata": {
    "scrolled": true
   },
   "outputs": [
    {
     "data": {
      "text/html": [
       "<div>\n",
       "<style scoped>\n",
       "    .dataframe tbody tr th:only-of-type {\n",
       "        vertical-align: middle;\n",
       "    }\n",
       "\n",
       "    .dataframe tbody tr th {\n",
       "        vertical-align: top;\n",
       "    }\n",
       "\n",
       "    .dataframe thead th {\n",
       "        text-align: right;\n",
       "    }\n",
       "</style>\n",
       "<table border=\"1\" class=\"dataframe\">\n",
       "  <thead>\n",
       "    <tr style=\"text-align: right;\">\n",
       "      <th></th>\n",
       "      <th>Function</th>\n",
       "      <th>Use</th>\n",
       "      <th>Sharing</th>\n",
       "      <th>Reporting</th>\n",
       "      <th>Student_Type</th>\n",
       "      <th>Position_Type</th>\n",
       "      <th>Object_Type</th>\n",
       "      <th>Pre_K</th>\n",
       "      <th>Operating_Status</th>\n",
       "      <th>Object_Description</th>\n",
       "      <th>Text_2</th>\n",
       "      <th>SubFund_Description</th>\n",
       "      <th>Job_Title_Description</th>\n",
       "      <th>Text_3</th>\n",
       "      <th>Text_4</th>\n",
       "      <th>Sub_Object_Description</th>\n",
       "      <th>Location_Description</th>\n",
       "      <th>FTE</th>\n",
       "      <th>Function_Description</th>\n",
       "      <th>Facility_or_Department</th>\n",
       "      <th>Position_Extra</th>\n",
       "      <th>Total</th>\n",
       "      <th>Program_Description</th>\n",
       "      <th>Fund_Description</th>\n",
       "      <th>Text_1</th>\n",
       "    </tr>\n",
       "  </thead>\n",
       "  <tbody>\n",
       "    <tr>\n",
       "      <th>396891</th>\n",
       "      <td>NO_LABEL</td>\n",
       "      <td>NO_LABEL</td>\n",
       "      <td>NO_LABEL</td>\n",
       "      <td>NO_LABEL</td>\n",
       "      <td>NO_LABEL</td>\n",
       "      <td>NO_LABEL</td>\n",
       "      <td>NO_LABEL</td>\n",
       "      <td>NO_LABEL</td>\n",
       "      <td>Non-Operating</td>\n",
       "      <td>Supplemental *</td>\n",
       "      <td>NaN</td>\n",
       "      <td>Other Instruction</td>\n",
       "      <td>NaN</td>\n",
       "      <td>NaN</td>\n",
       "      <td>NaN</td>\n",
       "      <td>Certificated Employees Salaries And Wages</td>\n",
       "      <td>NaN</td>\n",
       "      <td>NaN</td>\n",
       "      <td>Summer Remediation *</td>\n",
       "      <td>NaN</td>\n",
       "      <td>NaN</td>\n",
       "      <td>-905.64</td>\n",
       "      <td>NaN</td>\n",
       "      <td>Title I - Disadvantaged Children/Targeted Assi...</td>\n",
       "      <td>SCHOOLWIDE-AAPS</td>\n",
       "    </tr>\n",
       "    <tr>\n",
       "      <th>17</th>\n",
       "      <td>NO_LABEL</td>\n",
       "      <td>NO_LABEL</td>\n",
       "      <td>NO_LABEL</td>\n",
       "      <td>NO_LABEL</td>\n",
       "      <td>NO_LABEL</td>\n",
       "      <td>NO_LABEL</td>\n",
       "      <td>NO_LABEL</td>\n",
       "      <td>NO_LABEL</td>\n",
       "      <td>Non-Operating</td>\n",
       "      <td>Classroom Supplies</td>\n",
       "      <td>NaN</td>\n",
       "      <td>Support Services--Pupils</td>\n",
       "      <td>NaN</td>\n",
       "      <td>NaN</td>\n",
       "      <td>NaN</td>\n",
       "      <td>General Supplies *</td>\n",
       "      <td>NaN</td>\n",
       "      <td>NaN</td>\n",
       "      <td>Direction of Support Services - Pupils *</td>\n",
       "      <td>NaN</td>\n",
       "      <td>NaN</td>\n",
       "      <td>-421.05</td>\n",
       "      <td>NaN</td>\n",
       "      <td>Title I - Disadvantaged Children/Targeted Assi...</td>\n",
       "      <td>TITLE I SCHOOLWIDE</td>\n",
       "    </tr>\n",
       "    <tr>\n",
       "      <th>301679</th>\n",
       "      <td>Teacher Compensation</td>\n",
       "      <td>Instruction</td>\n",
       "      <td>School Reported</td>\n",
       "      <td>School</td>\n",
       "      <td>Unspecified</td>\n",
       "      <td>Teacher</td>\n",
       "      <td>Benefits</td>\n",
       "      <td>NO_LABEL</td>\n",
       "      <td>PreK-12 Operating</td>\n",
       "      <td>CONTRA BENEFITS</td>\n",
       "      <td>NaN</td>\n",
       "      <td>GENERAL FUND</td>\n",
       "      <td>Teacher, Summer School</td>\n",
       "      <td>NaN</td>\n",
       "      <td>NaN</td>\n",
       "      <td>NaN</td>\n",
       "      <td>NaN</td>\n",
       "      <td>NaN</td>\n",
       "      <td>NON-PROJECT</td>\n",
       "      <td>NaN</td>\n",
       "      <td>UNDESIGNATED</td>\n",
       "      <td>-24.21</td>\n",
       "      <td>EMPLOYEE BENEFITS</td>\n",
       "      <td>NaN</td>\n",
       "      <td>EMPLOYEE BENEFITS</td>\n",
       "    </tr>\n",
       "    <tr>\n",
       "      <th>179871</th>\n",
       "      <td>Substitute Compensation</td>\n",
       "      <td>Instruction</td>\n",
       "      <td>School Reported</td>\n",
       "      <td>School</td>\n",
       "      <td>Unspecified</td>\n",
       "      <td>Other</td>\n",
       "      <td>Benefits</td>\n",
       "      <td>NO_LABEL</td>\n",
       "      <td>PreK-12 Operating</td>\n",
       "      <td>CONTRA BENEFITS</td>\n",
       "      <td>NaN</td>\n",
       "      <td>GENERAL FUND</td>\n",
       "      <td>Tutor Interpreter</td>\n",
       "      <td>NaN</td>\n",
       "      <td>NaN</td>\n",
       "      <td>NaN</td>\n",
       "      <td>NaN</td>\n",
       "      <td>NaN</td>\n",
       "      <td>NON-PROJECT</td>\n",
       "      <td>NaN</td>\n",
       "      <td>UNDESIGNATED</td>\n",
       "      <td>-147.00</td>\n",
       "      <td>EMPLOYEE BENEFITS</td>\n",
       "      <td>NaN</td>\n",
       "      <td>EMPLOYEE BENEFITS</td>\n",
       "    </tr>\n",
       "    <tr>\n",
       "      <th>443061</th>\n",
       "      <td>NO_LABEL</td>\n",
       "      <td>NO_LABEL</td>\n",
       "      <td>NO_LABEL</td>\n",
       "      <td>NO_LABEL</td>\n",
       "      <td>NO_LABEL</td>\n",
       "      <td>NO_LABEL</td>\n",
       "      <td>NO_LABEL</td>\n",
       "      <td>NO_LABEL</td>\n",
       "      <td>Non-Operating</td>\n",
       "      <td>Contracted Food Services</td>\n",
       "      <td>NaN</td>\n",
       "      <td>Community Services</td>\n",
       "      <td>NaN</td>\n",
       "      <td>NaN</td>\n",
       "      <td>NaN</td>\n",
       "      <td>Contracted Craft Or Trade Services *</td>\n",
       "      <td>NaN</td>\n",
       "      <td>NaN</td>\n",
       "      <td>Other Community Services *</td>\n",
       "      <td>NaN</td>\n",
       "      <td>NaN</td>\n",
       "      <td>-718.47</td>\n",
       "      <td>NaN</td>\n",
       "      <td>Title I - Disadvantaged Children/Targeted Assi...</td>\n",
       "      <td>TITLE I C/O-ENCUMBR</td>\n",
       "    </tr>\n",
       "  </tbody>\n",
       "</table>\n",
       "</div>"
      ],
      "text/plain": [
       "                       Function          Use          Sharing Reporting  \\\n",
       "396891                 NO_LABEL     NO_LABEL         NO_LABEL  NO_LABEL   \n",
       "17                     NO_LABEL     NO_LABEL         NO_LABEL  NO_LABEL   \n",
       "301679     Teacher Compensation  Instruction  School Reported    School   \n",
       "179871  Substitute Compensation  Instruction  School Reported    School   \n",
       "443061                 NO_LABEL     NO_LABEL         NO_LABEL  NO_LABEL   \n",
       "\n",
       "       Student_Type Position_Type Object_Type     Pre_K   Operating_Status  \\\n",
       "396891     NO_LABEL      NO_LABEL    NO_LABEL  NO_LABEL      Non-Operating   \n",
       "17         NO_LABEL      NO_LABEL    NO_LABEL  NO_LABEL      Non-Operating   \n",
       "301679  Unspecified       Teacher    Benefits  NO_LABEL  PreK-12 Operating   \n",
       "179871  Unspecified         Other    Benefits  NO_LABEL  PreK-12 Operating   \n",
       "443061     NO_LABEL      NO_LABEL    NO_LABEL  NO_LABEL      Non-Operating   \n",
       "\n",
       "              Object_Description Text_2       SubFund_Description  \\\n",
       "396891            Supplemental *    NaN         Other Instruction   \n",
       "17            Classroom Supplies    NaN  Support Services--Pupils   \n",
       "301679           CONTRA BENEFITS    NaN              GENERAL FUND   \n",
       "179871           CONTRA BENEFITS    NaN              GENERAL FUND   \n",
       "443061  Contracted Food Services    NaN        Community Services   \n",
       "\n",
       "          Job_Title_Description Text_3 Text_4  \\\n",
       "396891                      NaN    NaN    NaN   \n",
       "17                          NaN    NaN    NaN   \n",
       "301679  Teacher, Summer School     NaN    NaN   \n",
       "179871       Tutor Interpreter     NaN    NaN   \n",
       "443061                      NaN    NaN    NaN   \n",
       "\n",
       "                           Sub_Object_Description Location_Description  FTE  \\\n",
       "396891  Certificated Employees Salaries And Wages                  NaN  NaN   \n",
       "17                             General Supplies *                  NaN  NaN   \n",
       "301679                                        NaN                  NaN  NaN   \n",
       "179871                                        NaN                  NaN  NaN   \n",
       "443061       Contracted Craft Or Trade Services *                  NaN  NaN   \n",
       "\n",
       "                            Function_Description Facility_or_Department  \\\n",
       "396891                      Summer Remediation *                    NaN   \n",
       "17      Direction of Support Services - Pupils *                    NaN   \n",
       "301679                               NON-PROJECT                    NaN   \n",
       "179871                               NON-PROJECT                    NaN   \n",
       "443061                Other Community Services *                    NaN   \n",
       "\n",
       "       Position_Extra   Total Program_Description  \\\n",
       "396891            NaN -905.64                 NaN   \n",
       "17                NaN -421.05                 NaN   \n",
       "301679   UNDESIGNATED  -24.21   EMPLOYEE BENEFITS   \n",
       "179871   UNDESIGNATED -147.00   EMPLOYEE BENEFITS   \n",
       "443061            NaN -718.47                 NaN   \n",
       "\n",
       "                                         Fund_Description  \\\n",
       "396891  Title I - Disadvantaged Children/Targeted Assi...   \n",
       "17      Title I - Disadvantaged Children/Targeted Assi...   \n",
       "301679                                                NaN   \n",
       "179871                                                NaN   \n",
       "443061  Title I - Disadvantaged Children/Targeted Assi...   \n",
       "\n",
       "                      Text_1  \n",
       "396891      SCHOOLWIDE-AAPS   \n",
       "17        TITLE I SCHOOLWIDE  \n",
       "301679     EMPLOYEE BENEFITS  \n",
       "179871     EMPLOYEE BENEFITS  \n",
       "443061   TITLE I C/O-ENCUMBR  "
      ]
     },
     "execution_count": 47,
     "metadata": {},
     "output_type": "execute_result"
    }
   ],
   "source": [
    "### look at some rows where total is negative\n",
    "df[df.Total < 0].sample(n=5)"
   ]
  },
  {
   "cell_type": "markdown",
   "metadata": {},
   "source": [
    "## Look at the token set.  See if stemming can help.\n",
    "\n",
    "The are many abbreviations and typos/misspellings."
   ]
  },
  {
   "cell_type": "code",
   "execution_count": 48,
   "metadata": {},
   "outputs": [],
   "source": [
    "# sort the token set\n",
    "corpus = sorted(df_all_tokens)"
   ]
  },
  {
   "cell_type": "code",
   "execution_count": 49,
   "metadata": {},
   "outputs": [],
   "source": [
    "import nltk\n",
    "from nltk.corpus import stopwords, LazyCorpusLoader\n",
    "\n",
    "english_stops = stopwords.words('english')"
   ]
  },
  {
   "cell_type": "code",
   "execution_count": 50,
   "metadata": {},
   "outputs": [
    {
     "data": {
      "text/plain": [
       "3728"
      ]
     },
     "execution_count": 50,
     "metadata": {},
     "output_type": "execute_result"
    }
   ],
   "source": [
    "len(corpus)"
   ]
  },
  {
   "cell_type": "code",
   "execution_count": 51,
   "metadata": {},
   "outputs": [],
   "source": [
    "no_stops = [t for t in corpus if t not in english_stops]"
   ]
  },
  {
   "cell_type": "markdown",
   "metadata": {},
   "source": [
    "#### Got rid of ~50 tokens"
   ]
  },
  {
   "cell_type": "code",
   "execution_count": 52,
   "metadata": {
    "scrolled": true
   },
   "outputs": [
    {
     "data": {
      "text/plain": [
       "3680"
      ]
     },
     "execution_count": 52,
     "metadata": {},
     "output_type": "execute_result"
    }
   ],
   "source": [
    "len(no_stops)"
   ]
  },
  {
   "cell_type": "code",
   "execution_count": 53,
   "metadata": {},
   "outputs": [],
   "source": [
    "from nltk.stem import WordNetLemmatizer\n",
    "# Instantiate the WordNetLemmatizer\n",
    "wordnet_lemmatizer = WordNetLemmatizer()"
   ]
  },
  {
   "cell_type": "code",
   "execution_count": 54,
   "metadata": {},
   "outputs": [],
   "source": [
    "lemmatized = [wordnet_lemmatizer.lemmatize(t) for t in no_stops]"
   ]
  },
  {
   "cell_type": "code",
   "execution_count": 55,
   "metadata": {},
   "outputs": [
    {
     "data": {
      "text/plain": [
       "3680"
      ]
     },
     "execution_count": 55,
     "metadata": {},
     "output_type": "execute_result"
    }
   ],
   "source": [
    "len(lemmatized)"
   ]
  },
  {
   "cell_type": "markdown",
   "metadata": {},
   "source": [
    "#### not at all"
   ]
  },
  {
   "cell_type": "code",
   "execution_count": 56,
   "metadata": {},
   "outputs": [],
   "source": [
    "from nltk.stem.porter import PorterStemmer"
   ]
  },
  {
   "cell_type": "code",
   "execution_count": 57,
   "metadata": {},
   "outputs": [],
   "source": [
    "pstem = PorterStemmer()\n",
    "porterized = [pstem.stem(t) for t in corpus]"
   ]
  },
  {
   "cell_type": "code",
   "execution_count": 58,
   "metadata": {
    "scrolled": true
   },
   "outputs": [
    {
     "data": {
      "text/plain": [
       "3728"
      ]
     },
     "execution_count": 58,
     "metadata": {},
     "output_type": "execute_result"
    }
   ],
   "source": [
    "len(porterized)"
   ]
  },
  {
   "cell_type": "markdown",
   "metadata": {},
   "source": [
    "### Stemming is not going to gain us much if anything without more work.  A more fruitful approach would be something like (but not exactly) spelling correction.\n",
    "\n",
    "E.g. 'adm', 'admin', 'adminis', 'administ', 'administrat', 'administration', 'administrative', 'administrator', 'administrators'\n",
    "probably all mean the same thing.  Collapse multiple tokens onto 1 and results should improve."
   ]
  },
  {
   "cell_type": "markdown",
   "metadata": {},
   "source": [
    "#### For reference, all the tokens from the dataset are below."
   ]
  },
  {
   "cell_type": "code",
   "execution_count": 59,
   "metadata": {
    "scrolled": true
   },
   "outputs": [
    {
     "name": "stdout",
     "output_type": "stream",
     "text": [
      "['00a', '12', '1st', '2nd', '3rd', '4th', '56', '5th', '60', '60hrs', '6th', '70', '70h', '70hr', '70hrs', '70hs', '720', '80', '80hrs', '80hs', '84', '9th', 'aaps', 'ab', 'aba', 'abatement', 'absence', 'absorber', 'ac', 'acad', 'academ', 'academic', 'academically', 'academies', 'academy', 'acadmey', 'acc', 'accelerated', 'access', 'accessories', 'accident', 'accnts', 'accompanists', 'accoun', 'account', 'accountability', 'accountant', 'accountants', 'accounting', 'accounts', 'acct', 'acctblty', 'achiev', 'achieve', 'achievment', 'achv', 'acq', 'acqu', 'acquis', 'acquisition', 'acquisitions', 'act', 'acte', 'acti', 'acting', 'action', 'active', 'activi', 'activiti', 'activities', 'activity', 'activties', 'actually', 'actuary', 'ad', 'ada', 'adapted', 'adaptive', 'add', 'addit', 'addition', 'additional', 'addl', 'addtn', 'adie', 'aditional', 'adj', 'adjustme', 'adjustment', 'adjustments', 'adl', 'adm', 'admin', 'adminis', 'administ', 'administrat', 'administration', 'administrative', 'administrator', 'administrators', 'adminsitrative', 'adminstrative', 'adminstriative', 'admissions', 'admn', 'adobe', 'adopt', 'adopted', 'adult', 'adults', 'advanc', 'advance', 'advanced', 'advancement', 'advances', 'advaned', 'advantage', 'advertisements', 'advertising', 'advisor', 'advncmnt', 'advocate', 'ae', 'aefla', 'aeronaut', 'aetna', 'affair', 'affairs', 'affiliates', 'afjrotc', 'aft', 'after', 'aftercare', 'afterschool', 'against', 'agencies', 'agency', 'agenda', 'agent', 'agents', 'ages', 'agreement', 'agreements', 'agricultural', 'agriculture', 'agriscience', 'aha', 'aid', 'aide', 'aided', 'aides', 'aids', 'air', 'aircraft', 'alao', 'alarm', 'alcolhol', 'aligning', 'all', 'allcity', 'alliance', 'alloc', 'allocation', 'allocations', 'allotment', 'allowance', 'allowances', 'allstate', 'alpha', 'alrm', 'alrms', 'alt', 'alter', 'alternative', 'alum', 'alumni', 'am', 'ambassador', 'amd', 'amendment', 'amer', 'america', 'american', 'americorp', 'americorps', 'ameritech', 'an', 'ana', 'analysis', 'analyst', 'ancora', 'and', 'animal', 'anlayst', 'anlyt', 'annex', 'annual', 'annuity', 'anonymous', 'another', 'anschut', 'answer', 'anticipated', 'any', 'aob', 'ap', 'app', 'appachi', 'appeals', 'appl', 'apple', 'appliance', 'application', 'applications', 'appraisal', 'apprec', 'apprentice', 'apprenticeship', 'apprenticeships', 'approp', 'appropriation', 'approval', 'apps', 'aquatic', 'arbitrage', 'arboreal', 'arch', 'archaelogical', 'architect', 'architectural', 'architecture', 'archivist', 'ard', 'area', 'army', 'around', 'arra', 'art', 'articulated', 'artist', 'arts', 'asbestos', 'asd', 'asfepa', 'asia', 'asid', 'aside', 'ass', 'assembler', 'assesment', 'assess', 'assessment', 'assessments', 'asset', 'assets', 'assgmt', 'assgn', 'assgnmt', 'assi', 'assign', 'assignment', 'assignments', 'assis', 'assist', 'assista', 'assistan', 'assistance', 'assistane', 'assistant', 'assistants', 'assistive', 'assitant', 'assmt', 'assn', 'assoc', 'associa', 'associate', 'associated', 'asst', 'assur', 'assurance', 'asthma', 'at', 'ath', 'athl', 'athle', 'athletic', 'athletics', 'atrt', 'atsp', 'attendance', 'attendant', 'attendence', 'attn', 'attorney', 'attorneys', 'atwll', 'audio', 'audiologi', 'audiologist', 'audiology', 'audiovisual', 'audit', 'auditing', 'auditor', 'auditory', 'aug', 'august', 'aut', 'autism', 'autistic', 'auto', 'autobody', 'automation', 'automechanics', 'automotive', 'autonamy', 'autonomous', 'autsm', 'aux', 'auxiliary', 'av', 'avenue', 'avg', 'aviation', 'avid', 'award', 'awards', 'ayp', 'ba', 'bacc', 'baccalaur', 'baccalaurate', 'bachelor', 'back', 'background', 'backpack', 'baker', 'bakery', 'band', 'bank', 'banking', 'banquets', 'bar', 'barbering', 'barrier', 'base', 'baseball', 'based', 'basic', 'basis', 'basketball', 'bbb', 'bcbs', 'bckflw', 'bd', 'bdg', 'bdgt', 'be', 'beat', 'beginning', 'behalf', 'behav', 'behavi', 'behavior', 'behavioral', 'behaviorial', 'behavorial', 'bel', 'believers', 'bell', 'benchmark', 'benef', 'benefit', 'benefits', 'best', 'beyond', 'bga', 'bgt', 'bi', 'bible', 'bicycle', 'bil', 'biling', 'bilingua', 'bilingual', 'bilinguial', 'billing', 'bilng', 'bilngl', 'binding', 'binligual', 'bio', 'biological', 'biology', 'bird', 'birth', 'bks', 'bl', 'black', 'blank', 'bldg', 'bldgs', 'blind', 'blk', 'blngl', 'block', 'bnc', 'bo', 'board', 'boards', 'bodies', 'body', 'boiler', 'boilermaker', 'boilers', 'bolto', 'bolton', 'bond', 'bonding', 'bonds', 'bonus', 'bonuses', 'book', 'bookkeeper', 'bookkeepers', 'bookr', 'books', 'boost', 'boot', 'bottled', 'bowl', 'boy', 'boys', 'bp', 'braille', 'brandmuscle', 'brd', 'brdg', 'breaker', 'breakfast', 'brick', 'bricklayer', 'bricks', 'bridge', 'bright', 'brkfast', 'broad', 'broadcast', 'broadcasting', 'broken', 'brothers', 'bs', 'bsi', 'budg', 'budget', 'budgetary', 'budgeting', 'budgets', 'buhrer', 'building', 'buildings', 'buisness', 'bulk', 'bump', 'bunch', 'bureau', 'bus', 'buses', 'busine', 'busines', 'business', 'buy', 'buyer', 'by', 'byot', 'ca', 'cabinet', 'cabinetmaker', 'cable', 'cad', 'cadd', 'cadre', 'cafe', 'cafeteria', 'camera', 'camp', 'campaign', 'campbell', 'camps', 'campus', 'candies', 'candle', 'candy', 'cao', 'cap', 'capacity', 'cape', 'capital', 'capitalized', 'captain', 'car', 'card', 'cards', 'care', 'careeer', 'career', 'caregiver', 'caretaker', 'carl', 'carnegie', 'carpenter', 'carpentry', 'carpet', 'carreer', 'carrier', 'carryforward', 'carryo', 'carryover', 'case', 'cash', 'cashier', 'catalyst', 'category', 'catholic', 'cbla', 'cc', 'cclc', 'ccoach', 'ccss', 'cd', 'cdb', 'cdc', 'cde', 'ce', 'cec', 'ceis', 'cela', 'celeb', 'cen', 'cent', 'cente', 'center', 'centers', 'central', 'century', 'ceo', 'cera', 'ceramic', 'cert', 'certificated', 'certification', 'certifications', 'certified', 'certifiedaddl', 'ceu', 'cf', 'cfda', 'cfo', 'cgc', 'ch', 'cha', 'chai', 'chair', 'chairperson', 'chal', 'challenge', 'champions', 'chance', 'chancellor', 'chanclr', 'change', 'chapter', 'char', 'character', 'charge', 'charges', 'charitable', 'charities', 'charity', 'charter', 'charters', 'charting', 'chdrn', 'che', 'cheerlea', 'cheerleader', 'cheerleaders', 'cheerleading', 'chef', 'chem', 'chemical', 'chemistry', 'chief', 'child', 'childcare', 'childhd', 'childhood', 'childn', 'children', 'chiller', 'chinese', 'chllnge', 'choice', 'choir', 'choral', 'chorus', 'chosen', 'chp', 'christian', 'chrtr', 'church', 'cie', 'cio', 'circle', 'circles', 'cisco', 'citizens', 'city', 'civics', 'claiming', 'claims', 'class', 'classified', 'classroom', 'classroon', 'clean', 'cleaner', 'cleaners', 'cleaning', 'clerical', 'clerk', 'client', 'climate', 'climbing', 'clinic', 'clinical', 'clk', 'clos', 'closed', 'closeures', 'closing', 'closings', 'clothing', 'clout', 'cls', 'club', 'clubs', 'cluster', 'cms', 'cmsd', 'cnflct', 'cnfrn', 'cnslg', 'cntr', 'cntrl', 'cntry', 'co', 'coa', 'coac', 'coach', 'coaches', 'coaching', 'coalit', 'coalition', 'coappp', 'coatings', 'cocurricular', 'cocurriculum', 'code', 'cogat', 'cohart', 'cohort', 'col', 'coll', 'collabo', 'collabor', 'collaborat', 'collaboration', 'collaborative', 'collaboratives', 'collaorative', 'colle', 'collection', 'collections', 'college', 'collegiate', 'colleyball', 'collinw', 'collision', 'colorado', 'com', 'combination', 'combustion', 'comes', 'comm', 'command', 'commerc', 'commission', 'commissions', 'commodities', 'commodity', 'common', 'commty', 'communicatio', 'communication', 'communications', 'communities', 'community', 'comp', 'compan', 'compass', 'compen', 'compensation', 'compensatory', 'competency', 'competition', 'competitive', 'compl', 'completion', 'complex', 'compliance', 'composition', 'compr', 'comprehensive', 'comptr', 'comptrolle', 'compute', 'computer', 'computers', 'computing', 'concepts', 'concession', 'concessions', 'concussion', 'condiments', 'condition', 'conditioning', 'conf', 'confer', 'conference', 'conflict', 'cong', 'connect', 'connections', 'connectivity', 'cons', 'conservation', 'conslt', 'consolidated', 'consolidation', 'consolidations', 'consortium', 'const', 'constit', 'constituency', 'constr', 'constrct', 'constrt', 'construction', 'constuction', 'consul', 'consult', 'consultanc', 'consultant', 'consultants', 'consumer', 'cont', 'contact', 'containd', 'contained', 'contemporary', 'content', 'contingencies', 'contingency', 'continuing', 'contr', 'contra', 'contract', 'contracted', 'contracting', 'contractor', 'contractors', 'contracts', 'contractual', 'contrib', 'contributing', 'contribution', 'contro', 'control', 'controller', 'controls', 'conversion', 'coo', 'cood', 'cook', 'coop', 'cooperating', 'cooperative', 'coor', 'coord', 'coordinated', 'coordination', 'coordinator', 'cop', 'copayment', 'copier', 'copiers', 'cops', 'copy', 'copying', 'core', 'corese', 'cornerstone', 'corod', 'corp', 'corporal', 'corporati', 'corporatio', 'corporation', 'corps', 'correction', 'correctionist', 'cos', 'cosmetology', 'cosmotology', 'cost', 'costs', 'costume', 'cota', 'coteaching', 'council', 'couns', 'counsel', 'counseling', 'counselor', 'counselors', 'count', 'counter', 'counterman', 'countr', 'country', 'county', 'coupon', 'court', 'cov', 'cover', 'coverage', 'covered', 'coverings', 'cpa', 'cr', 'craft', 'crafts', 'crdt', 'create', 'creating', 'creative', 'credit', 'crew', 'criminal', 'crisis', 'crit', 'critical', 'cross', 'crossing', 'crt', 'crystal', 'cst', 'csx', 'ctae', 'ctag', 'cte', 'ctemp', 'cti', 'ctl', 'cto', 'ctr', 'ctu', 'cty', 'culinary', 'cult', 'culture', 'cultures', 'curator', 'curr', 'currc', 'current', 'curric', 'curricular', 'curriculum', 'cus', 'cusotidan', 'cust', 'custodain', 'custodial', 'custodian', 'custodians', 'customer', 'customized', 'cutters', 'cvn', 'da', 'daep', 'daily', 'damaged', 'dance', 'dancing', 'data', 'database', 'datacoord', 'day', 'days', 'dc', 'dcta', 'deaf', 'dean', 'deb', 'debate', 'debt', 'dec', 'decathlon', 'decis', 'decision', 'decrease', 'ded', 'dedicated', 'deductible', 'deep', 'def', 'defined', 'degreed', 'del', 'deli', 'delinq', 'delinquent', 'delivery', 'dell', 'delta', 'demnd', 'demolition', 'demostration', 'dental', 'dep', 'department', 'departments', 'depot', 'depots', 'depr', 'depreciation', 'dept', 'depty', 'deputy', 'des', 'desauze', 'description', 'deseg', 'desgn', 'design', 'designated', 'designer', 'desk', 'desktop', 'destination', 'destructive', 'detective', 'detent', 'determ', 'determination', 'dev', 'deve', 'devel', 'develop', 'develope', 'developer', 'developmen', 'development', 'developmentally', 'develpmnt', 'develpmt', 'devices', 'devp', 'dhh', 'dhr', 'di', 'diabetes', 'diagnostic', 'diagnostician', 'diagnosticians', 'diags', 'diesel', 'dietary', 'dietician', 'diff', 'differen', 'differentia', 'differential', 'differentiated', 'digital', 'dike', 'dinner', 'dipl', 'diploma', 'diplomas', 'dir', 'direc', 'direct', 'direction', 'directo', 'director', 'directory', 'directr', 'dis', 'disabilit', 'disabilities', 'disability', 'disabled', 'disadvantaged', 'disbursing', 'disc', 'discharged', 'discipl', 'disciplinary', 'discipline', 'discovery', 'discretionary', 'disk', 'dislocated', 'disord', 'disorder', 'disorders', 'dispatch', 'dispatcher', 'dispath', 'dispensing', 'disposal', 'dist', 'distance', 'distinction', 'distinguished', 'distributed', 'distribution', 'district', 'districts', 'districtwide', 'div', 'diversified', 'diversity', 'division', 'do', 'doctoral', 'doctorate', 'document', 'doe', 'dolgencorp', 'dollar', 'dollars', 'domestic', 'donat', 'donated', 'donatio', 'donation', 'donations', 'donors', 'dop', 'dot', 'dots', 'dpia', 'dr', 'drafting', 'drama', 'dream', 'drgp', 'drill', 'driver', 'drivers', 'drnge', 'drop', 'dropout', 'drug', 'drugs', 'drum', 'drumline', 'ds', 'dual', 'duck', 'dues', 'duplicating', 'duplicator', 'duty', 'dv', 'dvl', 'dvlp', 'dvlpmnt', 'dyslexia', 'each', 'early', 'earth', 'east', 'eaton', 'ebd', 'ec', 'ece', 'ecea', 'eclar', 'econ', 'economic', 'economics', 'ecse', 'ed', 'edc', 'edcuational', 'editor', 'edu', 'educ', 'educat', 'education', 'educational', 'educato', 'educatoinal', 'educator', 'educators', 'eett', 'eff', 'effec', 'effective', 'effectiveness', 'eg', 'ei', 'eii', 'eip', 'eis', 'el', 'ela', 'elc', 'elect', 'election', 'electr', 'electrical', 'electrician', 'electricity', 'electronic', 'electronics', 'elem', 'elementary', 'elev', 'ell', 'elpa', 'elumalai', 'embsy', 'emerg', 'emergency', 'emis', 'emp', 'empac', 'empl', 'employ', 'employed', 'employee', 'employees', 'employer', 'employment', 'empower', 'empowerment', 'en', 'encounter', 'encumbr', 'end', 'endowment', 'ends', 'energy', 'enforcement', 'eng', 'engage', 'engagement', 'engin', 'engineer', 'engineering', 'english', 'engmnt', 'enhancement', 'enhancements', 'enhancing', 'enrichment', 'enroll', 'enrollment', 'ent', 'enterprise', 'enterprises', 'enterprs', 'entrprs', 'entry', 'env', 'enviro', 'environ', 'environmental', 'envision', 'envrmntl', 'epa', 'episcopal', 'eqpt', 'equ', 'equine', 'equip', 'equipmen', 'equipment', 'equipmnt', 'equivalent', 'equp', 'er', 'erate', 'ercm', 'ernst', 'ers', 'es', 'esc', 'esco', 'escrow', 'ese', 'esea', 'esernv', 'esl', 'esol', 'essay', 'estate', 'esthetician', 'esy', 'et', 'etaa', 'etc', 'etech', 'etiquette', 'ets', 'ett', 'ev', 'eval', 'evaluati', 'evaluation', 'evaluations', 'evaluator', 'eve', 'even', 'evening', 'event', 'events', 'every', 'ex', 'exam', 'examinations', 'examiner', 'exceeding', 'excelerator', 'excellence', 'except', 'exception', 'exceptional', 'excess', 'excl', 'exe', 'exec', 'executive', 'exempt', 'exeter', 'exp', 'expand', 'expanded', 'expanding', 'expans', 'expansion', 'expectations', 'expelled', 'expendable', 'expenditures', 'expense', 'expenses', 'exper', 'experience', 'expert', 'exploration', 'explorer', 'exploring', 'exps', 'ext', 'extended', 'external', 'extg', 'extra', 'extracurricula', 'extracurricular', 'ez', 'fa', 'fac', 'face', 'facilitato', 'facilitator', 'facilites', 'facilities', 'facility', 'facing', 'facsimile', 'faculty', 'fair', 'fairfax', 'fall', 'fam', 'fame', 'families', 'family', 'famis', 'famly', 'fapt', 'farm', 'fasd', 'fast', 'faster', 'fd', 'fdlrs', 'fdn', 'fdtn', 'feb', 'fed', 'federal', 'federation', 'fee', 'feed', 'feeding', 'fees', 'fefp', 'fellows', 'fellowship', 'female', 'fencing', 'festival', 'ffe', 'fica', 'fidelity', 'field', 'fifth', 'fil', 'file', 'films', 'filmstrips', 'fin', 'finalist', 'finan', 'finance', 'financia', 'financial', 'finch', 'find', 'fine', 'finearts', 'fingerprinting', 'fire', 'first', 'fiscal', 'fit', 'fitfun', 'fitness', 'five', 'fix', 'fixed', 'fixtures', 'fl', 'flag', 'flats', 'fleet', 'flex', 'flexible', 'floor', 'flow', 'flowthrough', 'flowthru', 'fluids', 'fm', 'fmly', 'fnd', 'focus', 'food', 'foods', 'foodsrv', 'foodsvc', 'football', 'for', 'foreign', 'foreman', 'foremman', 'forensics', 'forman', 'forms', 'formula', 'forng', 'forum', 'foun', 'found', 'foundat', 'foundati', 'foundatio', 'foundation', 'foundations', 'fourth', 'francaise', 'free', 'freedom', 'freight', 'french', 'fresh', 'friends', 'fringe', 'from', 'front', 'fruit', 'fs', 'fsd', 'fsfoa', 'fss', 'ft', 'fte', 'ftes', 'fuel', 'fuels', 'full', 'fun', 'function', 'functional', 'functions', 'fund', 'fundamental', 'fundamentals', 'funded', 'funding', 'fundra', 'funds', 'furnishing', 'furniture', 'fuse', 'future', 'futures', 'fvs', 'fy', 'fy2', 'fyii', 'gallagher', 'game', 'gamma', 'gang', 'gap', 'garage', 'garageman', 'garbage', 'garden', 'gardener', 'gardner', 'garfield', 'gas', 'gasoline', 'gator', 'gc', 'gdpg', 'ge', 'ged', 'gelber', 'gems', 'gen', 'gender', 'general', 'generalist', 'generator', 'generic', 'genl', 'geographic', 'geography', 'geometry', 'george', 'german', 'gesp', 'get', 'gi', 'gibbons', 'gift', 'gifted', 'gir', 'girl', 'girls', 'giver', 'glass', 'glazier', 'global', 'gnets', 'goal', 'goals', 'gob', 'golf', 'good', 'got', 'gov', 'governance', 'governmental', 'gr', 'grad', 'grade', 'grades', 'grads', 'graduate', 'graduation', 'graftech', 'grant', 'grants', 'graphic', 'grass', 'grasscutters', 'gratuities', 'grease', 'great', 'greek', 'green', 'grnt', 'gross', 'grounds', 'groundworks', 'group', 'groupings', 'groups', 'grow', 'grown', 'growth', 'grp', 'grt', 'grwpl', 'grwpln', 'gt', 'guarantee', 'guard', 'guards', 'guid', 'guidance', 'guiness', 'guitar', 'gvr', 'gymnastics', 'habitat', 'handicapped', 'handicaps', 'hands', 'hannah', 'harass', 'hardw', 'hardware', 'harvard', 'hat', 'hate', 'hats', 'hay', 'hazardous', 'hazmat', 'hb', 'hbsc', 'hd', 'hdc', 'he', 'hea', 'head', 'headstar', 'headstart', 'healt', 'health', 'healthier', 'healthiest', 'healthly', 'healthy', 'healty', 'hear', 'hearing', 'hearings', 'heart', 'heating', 'heavy', 'heights', 'held', 'help', 'helper', 'helpline', 'here', 'hh', 'hhs', 'hi', 'hidden', 'high', 'higher', 'highly', 'highway', 'hire', 'hirin', 'hist', 'history', 'hiv', 'hlth', 'hmn', 'hndcpd', 'hoa', 'hof', 'holding', 'holdings', 'holiday', 'home', 'homebased', 'homebound', 'homegrown', 'homeless', 'homes', 'homework', 'horticulture', 'hospital', 'hospitality', 'hospitals', 'host', 'hosts', 'hour', 'hourly', 'hous', 'house', 'housing', 'hqt', 'hr', 'hris', 'hrly', 'hrs', 'hs', 'hsbc', 'hst', 'hstw', 'hub', 'hubs', 'human', 'humanities', 'humanware', 'hurricane', 'hvac', 'hvy', 'hydronic', 'hygiene', 'ia', 'iaf', 'ib', 'ic', 'id', 'idea', 'ideas', 'identified', 'iep', 'ii', 'iia', 'iid', 'iii', 'ikon', 'imagination', 'immigrant', 'immunization', 'imp', 'impa', 'impact', 'impaired', 'impairment', 'implem', 'implement', 'implementation', 'implemnt', 'implm', 'imporvoment', 'improv', 'improve', 'improved', 'improvemen', 'improvement', 'improvements', 'improving', 'improvment', 'improvmt', 'imprv', 'imprvmnt', 'in', 'inactive', 'inc', 'incarcerated', 'incentiv', 'incentive', 'incentives', 'incl', 'including', 'inclusion', 'inclusive', 'income', 'increase', 'increment', 'ind', 'indemnities', 'independent', 'indian', 'indirect', 'indiv', 'individual', 'individuals', 'induction', 'indust', 'industria', 'industrial', 'industries', 'industry', 'industy', 'inf', 'info', 'infor', 'inform', 'information', 'infra', 'inheriting', 'iniative', 'ininerant', 'init', 'initial', 'initiative', 'initiatives', 'initiatvs', 'initvs', 'inner', 'inno', 'innov', 'innovation', 'innovations', 'innovative', 'inovation', 'inquiry', 'ins', 'inservice', 'insights', 'inspector', 'inst', 'install', 'installation', 'installations', 'installer', 'insti', 'institut', 'institute', 'institutions', 'instnl', 'instr', 'instrc', 'instrctn', 'instru', 'instruc', 'instruct', 'instruction', 'instructional', 'instructn', 'instructor', 'instrum', 'instrument', 'instrumental', 'instruments', 'insulator', 'insuranc', 'insurance', 'int', 'integr', 'integrated', 'integration', 'intel', 'intell', 'intellect', 'intellectually', 'intelligence', 'intensive', 'intentional', 'inter', 'interactive', 'interagy', 'interdisciplinary', 'interest', 'interfund', 'intergov', 'intergovernmental', 'interim', 'interm', 'intermediate', 'intern', 'internal', 'international', 'internet', 'internl', 'interntl', 'interp', 'interpretation', 'interpreter', 'interrelated', 'interscholastic', 'interv', 'interve', 'intervent', 'intervention', 'interventions', 'intg', 'intgr', 'intl', 'intr', 'intradistrict', 'intramural', 'intrcom', 'intrn', 'intructional', 'intrvnt', 'intrvtn', 'ints', 'inv', 'invent', 'inventio', 'inventory', 'invest', 'investigation', 'investigative', 'investigator', 'investme', 'investment', 'invl', 'invntry', 'invol', 'involvem', 'involvement', 'involvment', 'involvmt', 'ipad', 'ipd', 'irc', 'ironworker', 'irrig', 'irrigation', 'is', 'isef', 'isp', 'iss', 'issn', 'issuance', 'issue', 'issues', 'ist', 'it', 'ita', 'item', 'itema', 'itemaa', 'itemab', 'itemabed', 'itemac', 'itemad', 'itemae', 'itemaf', 'itemag', 'itemah', 'itemai', 'itemaj', 'itemb', 'itemc', 'itemd', 'iteme', 'itemf', 'itemfa', 'itemfb', 'itemfc', 'itemfccentral', 'itemfcco', 'itemfd', 'itemfe', 'itemff', 'itemfg', 'itemfh', 'itemg', 'itemga', 'itemgb', 'itemgc', 'itemgd', 'itemge', 'itemgf', 'itemgg', 'itemgh', 'itemgi', 'itemha', 'itemhb', 'itemi', 'itemj', 'itemk', 'iteml', 'itemm', 'itemn', 'itemo', 'itemp', 'itempp', 'itempq', 'itemq', 'itemr', 'items', 'itemt', 'itemu', 'itemv', 'itemwz', 'itemx', 'itemy', 'itemya', 'itemz', 'itinerant', 'itinerate', 'itl', 'iv', 'jail', 'janitor', 'janitorial', 'japanese', 'jcf', 'jf', 'jhs', 'job', 'jobs', 'john', 'joliet', 'journalism', 'jr', 'jrotc', 'judgements', 'judgments', 'jul', 'july', 'jump', 'jun', 'june', 'junior', 'justice', 'juvenile', 'jv', 'k12', 'kappa', 'kdg', 'keep', 'kept', 'key', 'keybank', 'keycorp', 'keys', 'kg', 'kid', 'kidergarten', 'kids', 'kind', 'kindegarten', 'kinder', 'kinderagrten', 'kindergar', 'kindergarden', 'kindergart', 'kindergarten', 'kindergatn', 'kindrng', 'kitchen', 'kndgarten', 'kng', 'knowledge', 'kra', 'ksu', 'la', 'lab', 'labor', 'laboratory', 'laborer', 'lacrosse', 'ladder', 'land', 'landscape', 'lang', 'langs', 'language', 'languages', 'lanschool', 'large', 'latin', 'laundry', 'law', 'lawyer', 'lay', 'layered', 'lbr', 'ld', 'ldbd', 'ldr', 'ldrship', 'ldrshp', 'lea', 'lead', 'leader', 'leaders', 'leadership', 'leading', 'leadman', 'league', 'leagues', 'learn', 'learners', 'learning', 'leas', 'lease', 'leased', 'leasehold', 'leases', 'leave', 'leaves', 'led', 'ledger', 'legacy', 'legal', 'legislative', 'legl', 'leisure', 'lem', 'lep', 'less', 'let', 'level', 'levy', 'lfi', 'lghtng', 'li', 'liability', 'liaison', 'liaisons', 'liaso', 'liason', 'liasons', 'lib', 'libraian', 'librar', 'librarian', 'librarians', 'libraries', 'library', 'lic', 'license', 'licensed', 'licensing', 'licensure', 'liceracy', 'lieutenant', 'life', 'lifeguar', 'lightning', 'lights', 'limited', 'line', 'link', 'linkage', 'liste', 'listening', 'lit', 'liter', 'literac', 'literacy', 'literary', 'll', 'lli', 'lmc', 'lng', 'loans', 'local', 'locally', 'locks', 'locksmith', 'lodging', 'logistics', 'long', 'loss', 'lost', 'lotc', 'lottery', 'love', 'lowe', 'lower', 'lpn', 'lrn', 'lrng', 'lssp', 'lsta', 'lt', 'lts', 'lua', 'lunch', 'luncheo', 'lunches', 'lunchroom', 'lung', 'lutheran', 'lv', 'lvl', 'lw', 'maanger', 'mach', 'machine', 'machinery', 'machines', 'macy', 'madness', 'mag', 'magement', 'magnet', 'mail', 'mailroom', 'main', 'mainenance', 'mainstream', 'maint', 'maintance', 'maintenacne', 'maintenance', 'maison', 'maj', 'major', 'majr', 'make', 'making', 'mala', 'male', 'mallet', 'man', 'manag', 'manage', 'managed', 'managemen', 'management', 'managemnt', 'manager', 'mandel', 'mang', 'manger', 'mangr', 'manual', 'manuals', 'manuf', 'manufacturing', 'map', 'maps', 'marching', 'marion', 'marketing', 'marsh', 'mart', 'marzano', 'mason', 'masonry', 'mass', 'mast', 'master', 'match', 'matching', 'matenance', 'material', 'materials', 'math', 'mathematics', 'mather', 'matls', 'matrls', 'matters', 'max', 'may', 'mcdonald', 'mcginty', 'mckinney', 'md', 'mdta', 'me', 'mea', 'measures', 'meat', 'mech', 'mechanic', 'mechanics', 'med', 'media', 'mediation', 'medicaid', 'medical', 'medicare', 'meeting', 'meetings', 'mem', 'member', 'members', 'memberships', 'memo', 'memorial', 'men', 'mental', 'mentally', 'mentor', 'mentoring', 'mentors', 'mentorship', 'mesa', 'messenger', 'metal', 'metalwks', 'metlife', 'metro', 'mf', 'mgmt', 'mgr', 'mgt', 'mhuw', 'mid', 'midd', 'middle', 'migrant', 'mil', 'mild', 'mildly', 'mileage', 'miles', 'military', 'milk', 'mill', 'millage', 'millwright', 'mimh', 'min', 'mind', 'mini', 'ministr', 'minor', 'minority', 'minute', 'mis', 'misc', 'miscellaneous', 'miscellenous', 'misical', 'mixed', 'mlb', 'mngr', 'mntl', 'mo', 'mobile', 'mobility', 'moc', 'model', 'moderate', 'modif', 'modification', 'modified', 'mon', 'monitor', 'monitoring', 'monitors', 'montessori', 'month', 'months', 'montsorri', 'more', 'motivation', 'motor', 'mound', 'move', 'moveable', 'ms', 'msp', 'mstr', 'msu', 'mtce', 'mtg', 'mtl', 'mtrls', 'mttrs', 'multi', 'multicult', 'multicultural', 'multihandicapped', 'multilingual', 'museum', 'musi', 'music', 'musical', 'mutual', 'mycom', 'nasa', 'nat', 'national', 'nationwide', 'natl', 'natural', 'nbpts', 'nc', 'ncaa', 'ncert', 'nclb', 'nclusion', 'ncta', 'ne', 'need', 'needs', 'neg', 'negl', 'neglected', 'negotiation', 'negotiations', 'neighborhood', 'neighborhoods', 'neighbrhd', 'nestle', 'net', 'netwk', 'network', 'networks', 'new', 'newcomer', 'newcomers', 'news', 'newspaper', 'newspapers', 'next', 'nfac', 'nfl', 'niet', 'night', 'nights', 'nike', 'ninth', 'no', 'non', 'nonathletic', 'nonbenefitted', 'noncap', 'noncapitalized', 'noncert', 'none', 'nonpublic', 'nonresident', 'north', 'not', 'notification', 'nov', 'np', 'ns', 'nsba', 'nsf', 'nsta', 'ntnl', 'ntwk', 'number', 'numeracy', 'nurse', 'nursery', 'nurses', 'nursing', 'nutrit', 'nutrition', 'nutritionfacilitator', 'nutritionist', 'nw', 'nwcnfrn', 'oai', 'oaks', 'objective', 'objects', 'observer', 'obsolete', 'occ', 'occp', 'occupancy', 'occupational', 'occupations', 'octo', 'october', 'ode', 'odnr', 'of', 'ofc', 'ofcr', 'off', 'offi', 'offic', 'office', 'officemax', 'officer', 'officers', 'official', 'officials', 'offr', 'offset', 'ofitemfc', 'ogt', 'oh', 'ohio', 'ohsti', 'oi', 'oil', 'old', 'olympics', 'ombudsman', 'on', 'one', 'onis', 'online', 'only', 'onthe', 'op', 'open', 'opening', 'openings', 'oper', 'operated', 'operating', 'operation', 'operations', 'operatns', 'operator', 'opp', 'opportuni', 'opportunity', 'ops', 'optical', 'optional', 'options', 'or', 'orchestra', 'orea', 'org', 'organization', 'organizational', 'organizations', 'orientation', 'oriented', 'orl', 'ortho', 'orthopedically', 'ose', 'ospr', 'ot', 'oth', 'other', 'others', 'othr', 'otr', 'our', 'ourselve', 'out', 'outdoor', 'outlay', 'outlays', 'outrch', 'outre', 'outreach', 'outside', 'ovac', 'override', 'oversight', 'overtime', 'owens', 'oye', 'pac', 'pack', 'padas', 'paid', 'paint', 'painter', 'painting', 'paintng', 'panasonic', 'paperback', 'par', 'para', 'paralegal', 'parapro', 'paraprof', 'paraprofessional', 'paraprofessionals', 'parent', 'parental', 'parenting', 'parents', 'park', 'parking', 'parnt', 'part', 'partially', 'participant', 'participants', 'participation', 'participatory', 'partne', 'partner', 'partners', 'partnershi', 'partnership', 'partnerships', 'partnrs', 'parts', 'party', 'pass', 'passroom', 'path', 'pathologist', 'pathologists', 'pathologst', 'pathology', 'paths', 'pathways', 'patrol', 'pavement', 'pay', 'payable', 'payment', 'payments', 'payout', 'payroll', 'pbs', 'pc', 'pcops', 'pd', 'pe', 'pedagogy', 'pedestrian', 'peer', 'pell', 'pension', 'people', 'pep', 'pepsi', 'per', 'percussion', 'perf', 'perfomance', 'performance', 'performing', 'periodic', 'periodicals', 'perishable', 'perkins', 'perm', 'permanent', 'pers', 'person', 'personal', 'personel', 'personnel', 'pert', 'pest', 'petro', 'pga', 'pgm', 'pgms', 'ph', 'phase', 'phi', 'philliber', 'phonics', 'photography', 'phy', 'phys', 'physical', 'physics', 'pi', 'piano', 'pilot', 'pioneer', 'pipe', 'pirncipal', 'pk', 'pl', 'place', 'placem', 'placement', 'placements', 'plan', 'plancement', 'planetarium', 'planner', 'planning', 'plant', 'plaster', 'plasterer', 'plato', 'play', 'playgrd', 'playground', 'playoff', 'plcmnt', 'plcmt', 'plot', 'plumber', 'plumbing', 'plus', 'pm', 'pmt', 'pnsca', 'podcasting', 'point', 'police', 'policies', 'policy', 'political', 'poly', 'pool', 'pools', 'populations', 'porgram', 'portable', 'portables', 'portal', 'portble', 'portfolio', 'portio', 'pos', 'position', 'positive', 'positoin', 'positon', 'post', 'postage', 'postsecondary', 'potential', 'power', 'ppg', 'pr', 'practical', 'practice', 'praxis', 'prblm', 'pre', 'preformance', 'pregn', 'pregnancy', 'prek', 'prekindergarten', 'premium', 'premiums', 'prep', 'preparation', 'preparatory', 'preparing', 'presch', 'preschool', 'prescl', 'prescriptions', 'president', 'press', 'prev', 'prevent', 'prevention', 'prg', 'prgm', 'prgms', 'prgram', 'prgrm', 'price', 'pricipal', 'prim', 'primary', 'prin', 'princ', 'princiapl', 'principal', 'principals', 'prinicp', 'prinicpal', 'print', 'printer', 'printers', 'printing', 'printshop', 'prior', 'priority', 'private', 'prize', 'prizes', 'prj', 'prjt', 'prnt', 'pro', 'proc', 'process', 'processing', 'processor', 'procurement', 'prod', 'product', 'production', 'products', 'prof', 'professi', 'professiona', 'professional', 'professionals', 'proff', 'proficiency', 'proficient', 'profits', 'profnd', 'profound', 'prog', 'progr', 'program', 'programmatic', 'programmer', 'programming', 'programs', 'progrm', 'progrming', 'progs', 'proj', 'project', 'projects', 'promise', 'promotion', 'prop', 'property', 'propos', 'protech', 'protective', 'protectv', 'prov', 'provide', 'provided', 'provider', 'provisions', 'prt', 'prtble', 'prvntn', 'psc', 'pschologist', 'pshycologist', 'psp', 'psy', 'psych', 'psychological', 'psychologist', 'psychologists', 'psychometrician', 'psycologist', 'pt', 'pta', 'ptr', 'pub', 'publi', 'public', 'publications', 'publish', 'publishing', 'pump', 'pup', 'pupil', 'pupils', 'puppetry', 'purch', 'purchase', 'purchased', 'purchases', 'purchasing', 'purpose', 'purposes', 'qa', 'qbe', 'qc', 'qualified', 'qualit', 'quality', 'qualty', 'quantity', 'quest', 'qwest', 'qzab', 'race', 'radio', 'raising', 'ranch', 'rate', 'rates', 'rbi', 'rd', 'rdg', 're', 'read', 'reader', 'readers', 'readi', 'readiness', 'reading', 'ready', 'real', 'realoc', 'realty', 'reasource', 'rec', 'receiver', 'receives', 'receiving', 'receptionist', 'reclassified', 'recognition', 'records', 'recovery', 'recr', 'recreation', 'recreational', 'recrui', 'recruit', 'recruiter', 'recruiting', 'recruitment', 'recycling', 'red', 'redemption', 'reduction', 'ref', 'reference', 'references', 'referral', 'reform', 'refrigeration', 'refugee', 'refugees', 'refunded', 'refunding', 'refunds', 'reg', 'region', 'regional', 'registered', 'registrar', 'registration', 'registrations', 'regular', 'regulr', 'reim', 'reimb', 'reimbur', 'reimbursable', 'reimburse', 'reimbursem', 'reimbursement', 'reimbursements', 'reimbursment', 'reinforce', 'reinsurance', 'rel', 'relatated', 'related', 'relation', 'relations', 'release', 'relief', 'rem', 'remaining', 'remedial', 'remediation', 'remod', 'remodel', 'remodeling', 'removal', 'renewal', 'renov', 'renovation', 'renovations', 'rent', 'rental', 'rentals', 'renv', 'rep', 'repair', 'repairman', 'repairs', 'repl', 'replacement', 'report', 'reporting', 'reports', 'reprod', 'req', 'reqd', 'require', 'reroofng', 'res', 'resale', 'rescs', 'research', 'reserve', 'reserved', 'resettlement', 'reside', 'residency', 'resident', 'residential', 'reso', 'resolution', 'resource', 'resources', 'resourcs', 'resp', 'respon', 'respons', 'response', 'responsible', 'restaurant', 'restorative', 'restr', 'restructuring', 'results', 'ret', 'retainage', 'retarded', 'retention', 'retire', 'retired', 'retiree', 'retirement', 'retntn', 'retrd', 'retreat', 'retrofif', 'retrofit', 'return', 'rev', 'revenue', 'review', 'revitalization', 'rgn', 'ribbon', 'rice', 'rifle', 'right', 'risk', 'rite', 'rm', 'rn', 'rnvsafesc', 'road', 'robotic', 'robotics', 'rock', 'rockefe', 'rocks', 'rode', 'rollout', 'rollup', 'ronald', 'roof', 'roofer', 'roofing', 'room', 'rope', 'rotary', 'rotc', 'round', 'roundup', 'route', 'router', 'routing', 'rplm', 'rpm', 'rpr', 'rsb', 'rsrc', 'rsrch', 'rt', 'rtd', 'rte', 'rti', 'rtrs', 'rttp', 'rttt', 'run', 'runs', 'rvas', 'rx', 'sac', 'sadd', 'safe', 'safety', 'saftey', 'sai', 'sal', 'salaried', 'salaries', 'salary', 'sale', 'sales', 'sam', 'sams', 'sanitation', 'sasi', 'sat', 'satellite', 'saturda', 'saturday', 'savings', 'sc', 'scc', 'sch', 'sched', 'schedule', 'scheduler', 'schl', 'schls', 'scholar', 'scholars', 'scholarsh', 'scholarshi', 'scholarship', 'scholarships', 'schoo', 'school', 'schooled', 'schoolnet', 'schools', 'schoolwide', 'schoolwides', 'sci', 'scienc', 'science', 'sciences', 'scii', 'scl', 'scnd', 'scndy', 'scoial', 'scope', 'score', 'scoring', 'screening', 'scrty', 'se', 'sea', 'searc', 'search', 'seas', 'sec', 'secetary', 'second', 'secondary', 'secretaries', 'secretary', 'sectio', 'section', 'secure', 'security', 'sel', 'select', 'selection', 'self', 'senior', 'seniors', 'sep', 'sepc', 'sepcial', 'sept', 'sequence', 'ser', 'serg', 'sergeant', 'serial', 'series', 'serv', 'serve', 'servi', 'servic', 'service', 'services', 'servicing', 'serving', 'servs', 'ses', 'set', 'setaside', 'settlement', 'settlements', 'severe', 'severely', 'sewage', 'sewer', 'sewerman', 'sews', 'sex', 'sexual', 'sfpc', 'sftball', 'sftwre', 'sh', 'sha', 'shakespeare', 'share', 'shared', 'sharepoint', 'sheet', 'sheetmtl', 'sheets', 'shell', 'shelter', 'sheltered', 'sherwin', 'shift', 'shipping', 'shop', 'short', 'show', 'showcase', 'shrt', 'shs', 'si', 'sick', 'side', 'sig', 'sighted', 'sign', 'significant', 'sim', 'similar', 'singing', 'sip', 'sis', 'site', 'size', 'skill', 'skills', 'sl', 'slhs', 'slp', 'slry', 'small', 'smaller', 'smart', 'sme', 'smed', 'smh', 'smoothed', 'snack', 'snacks', 'sns', 'soc', 'soccer', 'social', 'society', 'softall', 'softball', 'software', 'sol', 'sold', 'solid', 'solution', 'solutions', 'sound', 'sourc', 'sources', 'south', 'southern', 'sp', 'space', 'spanish', 'spclst', 'spe', 'speakers', 'speaki', 'spec', 'specalist', 'speced', 'specia', 'special', 'specialis', 'specialist', 'specials', 'specialsit', 'specific', 'speclst', 'spectrum', 'sped', 'speech', 'spending', 'spgcrk', 'spo', 'spons', 'sponsor', 'sponsorship', 'sport', 'sports', 'spring', 'sql', 'square', 'sr', 'srv', 'srvcs', 'ss', 'st', 'stabilitazion', 'stabilization', 'stadium', 'staduim', 'staff', 'staffing', 'stage', 'stages', 'stance', 'stand', 'standard', 'standards', 'staples', 'star', 'starbucks', 'stars', 'start', 'starting', 'startup', 'state', 'stationary', 'statistical', 'statistician', 'stdnt', 'stds', 'ste', 'steam', 'steamfitter', 'steele', 'stem', 'stems', 'step', 'steps', 'sterling', 'stim', 'stimulus', 'stip', 'stipend', 'stipends', 'stock', 'stone', 'store', 'str', 'strands', 'strat', 'strate', 'strategic', 'strategies', 'strategist', 'strategy', 'stratey', 'stratigic', 'street', 'strengthen', 'strengthening', 'stretch', 'string', 'strive', 'strt', 'structural', 'structured', 'structures', 'stu', 'stud', 'student', 'students', 'studies', 'studnt', 'study', 'sub', 'subaward', 'subclass', 'subcontract', 'subject', 'submissions', 'subpart', 'subs', 'subscription', 'subscriptions', 'subsidies', 'subsidy', 'subsistence', 'subst', 'substitute', 'substitutes', 'subteacher', 'succeed', 'success', 'sufficient', 'suite', 'sum', 'summ', 'summer', 'summit', 'suncorp', 'sunday', 'sundries', 'sup', 'supensio', 'super', 'superintendent', 'superintendents', 'superintentents', 'superv', 'supervision', 'supervisor', 'supervisors', 'supervisory', 'supl', 'supp', 'supper', 'suppl', 'supplement', 'supplemental', 'supplemented', 'supplements', 'supplies', 'suppliment', 'supplimental', 'supply', 'suppor', 'support', 'supporting', 'supportive', 'suppression', 'suppt', 'suprv', 'supt', 'supv', 'supvr', 'surgical', 'surrogate', 'susp', 'suspen', 'suspense', 'suspension', 'sustainability', 'sustainabilty', 'sv', 'svc', 'svcs', 'svrs', 'sw', 'swap', 'sweeper', 'sweepers', 'swim', 'swimming', 'swing', 'symposium', 'sys', 'syst', 'system', 'systems', 'systemwide', 'sytms', 'ta', 'tabacco', 'tag', 'tagging', 'tailoring', 'take', 'talented', 'tanf', 'tap', 'tapestry', 'taps', 'targ', 'target', 'targeted', 'targt', 'tas', 'tau', 'tax', 'taxes', 'taylor', 'tba', 'tch', 'tcher', 'tchr', 'tchracct', 'tchrs', 'te', 'tea', 'teacehr', 'teach', 'teacher', 'teachers', 'teachersup', 'teaching', 'teachr', 'teachre', 'teacjer', 'team', 'teams', 'tech', 'techaide', 'techer', 'techician', 'technical', 'technician', 'technicians', 'technlgies', 'technlogie', 'technol', 'technolgies', 'technolog', 'technologist', 'technology', 'teen', 'telecom', 'telecommunication', 'telegram', 'telephone', 'teletype', 'temp', 'temporary', 'temps', 'tennis', 'term', 'terminal', 'terminated', 'test', 'tester', 'testing', 'tests', 'text', 'textbook', 'textbooks', 'than', 'that', 'thats', 'thatãƒâƒ', 'the', 'thearpy', 'theater', 'theatre', 'their', 'therap', 'therapeutic', 'therapist', 'therapists', 'therapy', 'therp', 'think', 'thinking', 'third', 'thnk', 'three', 'thriving', 'thro', 'through', 'thru', 'ti', 'ticket', 'tif', 'tile', 'time', 'timecard', 'timers', 'tinner', 'tip', 'tires', 'title', 'tmd', 'tmo', 'tn', 'to', 'tobacco', 'together', 'tolerance', 'tomor', 'tomorrow', 'tomr', 'tool', 'toolkit', 'toolroom', 'top', 'tosas', 'tournament', 'tr', 'tra', 'track', 'trade', 'trades', 'traditiona', 'traditional', 'traffic', 'trai', 'train', 'trainee', 'trainer', 'trainers', 'trainier', 'trainin', 'training', 'trans', 'transfe', 'transfer', 'transfers', 'transform', 'transformatio', 'transformation', 'transisition', 'transition', 'transitory', 'translation', 'translator', 'transp', 'transport', 'transportaion', 'transportation', 'transportion', 'transprtn', 'trav', 'travel', 'traveling', 'treasurer', 'treasury', 'treatment', 'trip', 'trips', 'trng', 'trnr', 'tru', 'truancy', 'truant', 'truck', 'trust', 'trustee', 'trw', 'tsa', 'tst', 'tti', 'ttl', 'tubes', 'tuition', 'turn', 'turnaround', 'turning', 'tutor', 'tutorial', 'tutoring', 'tv', 'twenty', 'twice', 'twilight', 'two', 'txt', 'typing', 'typist', 'ub', 'unalloc', 'unallocated', 'unassigned', 'under', 'undesignated', 'undistributed', 'unemployment', 'uni', 'unicare', 'uniform', 'uniforms', 'union', 'unit', 'united', 'units', 'univ', 'universit', 'university', 'unused', 'up', 'upgrade', 'upgrades', 'upholstery', 'upk', 'upkeep', 'upload', 'upper', 'urban', 'urog', 'us', 'usage', 'usda', 'use', 'used', 'uses', 'using', 'utilities', 'vacation', 'valley', 'vans', 'var', 'variable', 'variance', 'various', 've', 'vegetable', 'vegetables', 'veggie', 'vegrtables', 'vehicle', 'vehicles', 'vend', 'vending', 'vendor', 'vendors', 'vento', 'verification', 'vertical', 'vesp', 'vi', 'via', 'vib', 'vice', 'video', 'videographer', 'violence', 'violin', 'virtual', 'vis', 'visio', 'vision', 'visiting', 'visual', 'visually', 'vndg', 'voc', 'vocal', 'vocational', 'voe', 'voices', 'voip', 'volleyball', 'volleybally', 'voluntary', 'volunteer', 'votec', 'voyager', 'vpk', 'wae', 'wages', 'waiting', 'wal', 'walk', 'wall', 'wallace', 'walls', 'warehouse', 'warehousemen', 'warehousing', 'warm', 'was', 'wash', 'waste', 'wastewater', 'water', 'watrproofng', 'watterson', 'wave', 'way', 'wc', 'wealth', 'web', 'webinars', 'webmaster', 'week', 'weekend', 'welcome', 'welding', 'wellness', 'west', 'wf', 'when', 'white', 'whiz', 'who', 'whse', 'wide', 'wildlife', 'will', 'williams', 'wingspread', 'wired', 'wirelesscontvty', 'with', 'within', 'witness', 'wk', 'wkr', 'women', 'work', 'worke', 'worker', 'workers', 'workforce', 'working', 'works', 'workshop', 'workshops', 'workstudy', 'world', 'wrestling', 'wrhs', 'write', 'writer', 'writing', 'wrk', 'wrkr', 'wrong', 'wsd', 'xcurricluar', 'xerox', 'xmas', 'xpay', 'xtr', 'yard', 'year', 'years', 'yellow', 'ymca', 'young', 'your', 'youth', 'yr', 'yrbs', 'yrs', 'yth', 'zero', 'zeta', 'zone', 'zoo', 'zuni', 'zz']\n"
     ]
    }
   ],
   "source": [
    "print(corpus)"
   ]
  }
 ],
 "metadata": {
  "kernelspec": {
   "display_name": "Python 3",
   "language": "python",
   "name": "python3"
  },
  "language_info": {
   "codemirror_mode": {
    "name": "ipython",
    "version": 3
   },
   "file_extension": ".py",
   "mimetype": "text/x-python",
   "name": "python",
   "nbconvert_exporter": "python",
   "pygments_lexer": "ipython3",
   "version": "3.6.6"
  }
 },
 "nbformat": 4,
 "nbformat_minor": 2
}
