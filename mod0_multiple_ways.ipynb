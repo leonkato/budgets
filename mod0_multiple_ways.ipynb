{
 "cells": [
  {
   "cell_type": "markdown",
   "metadata": {},
   "source": [
    "### The first model two different ways\n",
    "\n",
    "I want to try doing the first model in 2 ways:\n",
    "\n",
    "1. Exactly the way the tutorial did it (one-hot encode targets; use sklean.multilabel to drive 104 binary classifiers across this input).\n",
    "2. Use logistic regression in a multilabel fashion directly on the input (unencoded).  It will use 9 different classifiers (one for each target).\n",
    "\n",
    "For both I want to do the following reporting:\n",
    "\n",
    "1. accuracy score\n",
    "2. classification report\n",
    "3. confusion matrix\n",
    "4. log loss (using sklearn.metrics.log_loss) and the drivendata version.  For sklearn's log_loss, I need to chop up the probability output into 9 chunks and average.  Interesting to see if both arrive at the same value."
   ]
  },
  {
   "cell_type": "markdown",
   "metadata": {},
   "source": [
    "### Why is this worth doing?\n",
    "\n",
    "1. I don't understand why the test scores (computed using the \"official\" metric) of the \"better\" models do not track the scored submissions.  It could be that the holdout set is from a different distribution.  Another explanation is that the \"official\" metric does not compute log_loss correctly.\n",
    "\n",
    "\n",
    "2. Log_loss doesn't tell me much about what the model gets right or wrong or why.  Standard metrics can be helpful for that.\n",
    "\n",
    "\n",
    "3. Is one-vs-103 different from (9 * one-vs-num_labels for each target)?  I'm not sure of the answer.  It would seem that when predicting probabilities for labels, the sum of probabilities for each sample ought be one (within one target) and I doubt that 1-vs-103 will do that.\n",
    "\n",
    "\n",
    "4. It's a simple matter of programming."
   ]
  },
  {
   "cell_type": "markdown",
   "metadata": {},
   "source": [
    "### Results Summary\n",
    "\n",
    "__OneVsRest(LogisticRegression()) on one-hot encoded multi-target nulti-label doesn't predict labels or probabilities the way \n",
    "*$NumberOfTargets * MultiLabelClassifier$* does.   We need to do post-processing on the output of OneVsRest.__\n",
    "\n",
    "__For details, see explanation at the beginning of Flat_to_labels.ipynb.__"
   ]
  },
  {
   "cell_type": "markdown",
   "metadata": {},
   "source": [
    "#### Imports/setup"
   ]
  },
  {
   "cell_type": "code",
   "execution_count": 1,
   "metadata": {},
   "outputs": [],
   "source": [
    "### in case I change anything under the covers, make it show up here.\n",
    "%load_ext autoreload\n",
    "%autoreload 2\n",
    "\n",
    "import pandas as pd\n",
    "import matplotlib.pyplot as plt\n",
    "import numpy as np\n",
    "import seaborn as sns\n",
    "pd.set_option('display.max_columns', 60)\n",
    "\n",
    "from timeit import default_timer as timer\n",
    "\n",
    "# Import classifiers\n",
    "from sklearn.linear_model import LogisticRegression\n",
    "from sklearn.multiclass import OneVsRestClassifier\n",
    "# metrics\n",
    "from sklearn.metrics import classification_report, confusion_matrix, accuracy_score, log_loss\n",
    "\n",
    "# pipeline stuff\n",
    "from sklearn.pipeline import Pipeline\n",
    "from sklearn.preprocessing import StandardScaler, label_binarize\n",
    "\n",
    "# stuff in .python directory\n",
    "\n",
    "### split ensuring train/test both have all labels\n",
    "from python.multilabel import multilabel_train_test_split\n",
    "### drivendata metric\n",
    "from python.dd_mmll import multi_multi_log_loss, BOX_PLOTS_COLUMN_INDICES"
   ]
  },
  {
   "cell_type": "code",
   "execution_count": 2,
   "metadata": {},
   "outputs": [],
   "source": [
    "def plot_cm(cm):\n",
    "    ax = plt.subplot()\n",
    "    sns.heatmap(cm, annot=True, ax = ax, fmt='g', cmap='Blues'); #annot=True to annotate cells\n",
    "    # labels, title and ticks\n",
    "    ax.set_xlabel('Predicted labels');\n",
    "    ax.set_ylabel('True labels'); \n",
    "    ax.set_title('Confusion Matrix'); \n",
    "    ax.xaxis.set_ticklabels(np.arange(cm.shape[0])); \n",
    "    ax.yaxis.set_ticklabels(np.arange(cm.shape[0]));"
   ]
  },
  {
   "cell_type": "markdown",
   "metadata": {},
   "source": [
    "#### Load the data"
   ]
  },
  {
   "cell_type": "code",
   "execution_count": 3,
   "metadata": {},
   "outputs": [],
   "source": [
    "# Get data\n",
    "df = pd.read_csv('data/TrainingData.csv', index_col=0)"
   ]
  },
  {
   "cell_type": "code",
   "execution_count": 4,
   "metadata": {
    "scrolled": false
   },
   "outputs": [
    {
     "data": {
      "text/html": [
       "<div>\n",
       "<style scoped>\n",
       "    .dataframe tbody tr th:only-of-type {\n",
       "        vertical-align: middle;\n",
       "    }\n",
       "\n",
       "    .dataframe tbody tr th {\n",
       "        vertical-align: top;\n",
       "    }\n",
       "\n",
       "    .dataframe thead th {\n",
       "        text-align: right;\n",
       "    }\n",
       "</style>\n",
       "<table border=\"1\" class=\"dataframe\">\n",
       "  <thead>\n",
       "    <tr style=\"text-align: right;\">\n",
       "      <th></th>\n",
       "      <th>Function</th>\n",
       "      <th>Use</th>\n",
       "      <th>Sharing</th>\n",
       "      <th>Reporting</th>\n",
       "      <th>Student_Type</th>\n",
       "      <th>Position_Type</th>\n",
       "      <th>Object_Type</th>\n",
       "      <th>Pre_K</th>\n",
       "      <th>Operating_Status</th>\n",
       "      <th>Object_Description</th>\n",
       "      <th>Text_2</th>\n",
       "      <th>SubFund_Description</th>\n",
       "      <th>Job_Title_Description</th>\n",
       "      <th>Text_3</th>\n",
       "      <th>Text_4</th>\n",
       "      <th>Sub_Object_Description</th>\n",
       "      <th>Location_Description</th>\n",
       "      <th>FTE</th>\n",
       "      <th>Function_Description</th>\n",
       "      <th>Facility_or_Department</th>\n",
       "      <th>Position_Extra</th>\n",
       "      <th>Total</th>\n",
       "      <th>Program_Description</th>\n",
       "      <th>Fund_Description</th>\n",
       "      <th>Text_1</th>\n",
       "    </tr>\n",
       "  </thead>\n",
       "  <tbody>\n",
       "    <tr>\n",
       "      <th>134338</th>\n",
       "      <td>Teacher Compensation</td>\n",
       "      <td>Instruction</td>\n",
       "      <td>School Reported</td>\n",
       "      <td>School</td>\n",
       "      <td>NO_LABEL</td>\n",
       "      <td>Teacher</td>\n",
       "      <td>NO_LABEL</td>\n",
       "      <td>NO_LABEL</td>\n",
       "      <td>PreK-12 Operating</td>\n",
       "      <td>NaN</td>\n",
       "      <td>NaN</td>\n",
       "      <td>NaN</td>\n",
       "      <td>Teacher-Elementary</td>\n",
       "      <td>NaN</td>\n",
       "      <td>NaN</td>\n",
       "      <td>NaN</td>\n",
       "      <td>NaN</td>\n",
       "      <td>1.0</td>\n",
       "      <td>NaN</td>\n",
       "      <td>NaN</td>\n",
       "      <td>KINDERGARTEN</td>\n",
       "      <td>50471.81</td>\n",
       "      <td>KINDERGARTEN</td>\n",
       "      <td>General Fund</td>\n",
       "      <td>NaN</td>\n",
       "    </tr>\n",
       "    <tr>\n",
       "      <th>206341</th>\n",
       "      <td>NO_LABEL</td>\n",
       "      <td>NO_LABEL</td>\n",
       "      <td>NO_LABEL</td>\n",
       "      <td>NO_LABEL</td>\n",
       "      <td>NO_LABEL</td>\n",
       "      <td>NO_LABEL</td>\n",
       "      <td>NO_LABEL</td>\n",
       "      <td>NO_LABEL</td>\n",
       "      <td>Non-Operating</td>\n",
       "      <td>CONTRACTOR SERVICES</td>\n",
       "      <td>BOND EXPENDITURES</td>\n",
       "      <td>BUILDING FUND</td>\n",
       "      <td>(blank)</td>\n",
       "      <td>Regular</td>\n",
       "      <td>NaN</td>\n",
       "      <td>NaN</td>\n",
       "      <td>NaN</td>\n",
       "      <td>NaN</td>\n",
       "      <td>RGN  GOB</td>\n",
       "      <td>NaN</td>\n",
       "      <td>UNDESIGNATED</td>\n",
       "      <td>3477.86</td>\n",
       "      <td>BUILDING IMPROVEMENT SERVICES</td>\n",
       "      <td>NaN</td>\n",
       "      <td>BUILDING IMPROVEMENT SERVICES</td>\n",
       "    </tr>\n",
       "    <tr>\n",
       "      <th>326408</th>\n",
       "      <td>Teacher Compensation</td>\n",
       "      <td>Instruction</td>\n",
       "      <td>School Reported</td>\n",
       "      <td>School</td>\n",
       "      <td>Unspecified</td>\n",
       "      <td>Teacher</td>\n",
       "      <td>Base Salary/Compensation</td>\n",
       "      <td>Non PreK</td>\n",
       "      <td>PreK-12 Operating</td>\n",
       "      <td>Personal Services - Teachers</td>\n",
       "      <td>NaN</td>\n",
       "      <td>NaN</td>\n",
       "      <td>TCHER 2ND GRADE</td>\n",
       "      <td>NaN</td>\n",
       "      <td>Regular Instruction</td>\n",
       "      <td>NaN</td>\n",
       "      <td>NaN</td>\n",
       "      <td>1.0</td>\n",
       "      <td>NaN</td>\n",
       "      <td>NaN</td>\n",
       "      <td>TEACHER</td>\n",
       "      <td>62237.13</td>\n",
       "      <td>Instruction - Regular</td>\n",
       "      <td>General Purpose School</td>\n",
       "      <td>NaN</td>\n",
       "    </tr>\n",
       "  </tbody>\n",
       "</table>\n",
       "</div>"
      ],
      "text/plain": [
       "                    Function          Use          Sharing Reporting  \\\n",
       "134338  Teacher Compensation  Instruction  School Reported    School   \n",
       "206341              NO_LABEL     NO_LABEL         NO_LABEL  NO_LABEL   \n",
       "326408  Teacher Compensation  Instruction  School Reported    School   \n",
       "\n",
       "       Student_Type Position_Type               Object_Type     Pre_K  \\\n",
       "134338     NO_LABEL       Teacher                  NO_LABEL  NO_LABEL   \n",
       "206341     NO_LABEL      NO_LABEL                  NO_LABEL  NO_LABEL   \n",
       "326408  Unspecified       Teacher  Base Salary/Compensation  Non PreK   \n",
       "\n",
       "         Operating_Status            Object_Description             Text_2  \\\n",
       "134338  PreK-12 Operating                           NaN                NaN   \n",
       "206341      Non-Operating           CONTRACTOR SERVICES  BOND EXPENDITURES   \n",
       "326408  PreK-12 Operating  Personal Services - Teachers                NaN   \n",
       "\n",
       "       SubFund_Description Job_Title_Description   Text_3  \\\n",
       "134338                 NaN   Teacher-Elementary       NaN   \n",
       "206341       BUILDING FUND               (blank)  Regular   \n",
       "326408                 NaN       TCHER 2ND GRADE      NaN   \n",
       "\n",
       "                     Text_4 Sub_Object_Description Location_Description  FTE  \\\n",
       "134338                  NaN                    NaN                  NaN  1.0   \n",
       "206341                  NaN                    NaN                  NaN  NaN   \n",
       "326408  Regular Instruction                    NaN                  NaN  1.0   \n",
       "\n",
       "       Function_Description Facility_or_Department Position_Extra     Total  \\\n",
       "134338                  NaN                    NaN  KINDERGARTEN   50471.81   \n",
       "206341             RGN  GOB                    NaN   UNDESIGNATED   3477.86   \n",
       "326408                  NaN                    NaN        TEACHER  62237.13   \n",
       "\n",
       "                  Program_Description        Fund_Description  \\\n",
       "134338                   KINDERGARTEN            General Fund   \n",
       "206341  BUILDING IMPROVEMENT SERVICES                     NaN   \n",
       "326408          Instruction - Regular  General Purpose School   \n",
       "\n",
       "                               Text_1  \n",
       "134338                            NaN  \n",
       "206341  BUILDING IMPROVEMENT SERVICES  \n",
       "326408                            NaN  "
      ]
     },
     "execution_count": 4,
     "metadata": {},
     "output_type": "execute_result"
    }
   ],
   "source": [
    "# take a look\n",
    "df.head(3)"
   ]
  },
  {
   "cell_type": "markdown",
   "metadata": {},
   "source": [
    "####  Encode the labels as categorical variables"
   ]
  },
  {
   "cell_type": "code",
   "execution_count": 5,
   "metadata": {},
   "outputs": [
    {
     "name": "stdout",
     "output_type": "stream",
     "text": [
      "Function            category\n",
      "Object_Type         category\n",
      "Operating_Status    category\n",
      "Position_Type       category\n",
      "Pre_K               category\n",
      "Reporting           category\n",
      "Sharing             category\n",
      "Student_Type        category\n",
      "Use                 category\n",
      "dtype: object\n"
     ]
    }
   ],
   "source": [
    "### bind variable LABELS - these are actually the targets and we're going to one-hot encode them in the first approach\n",
    "LABELS = ['Function',  'Use',  'Sharing',  'Reporting',  'Student_Type',  'Position_Type', \n",
    "          'Object_Type',  'Pre_K',  'Operating_Status']\n",
    "\n",
    "### This turns out to be key.  Submission requires the dummy versions of these vars to be in this order.\n",
    "LABELS.sort()\n",
    "\n",
    "# Define the lambda function: categorize_label\n",
    "categorize_label = lambda x: x.astype('category')\n",
    "\n",
    "# Convert df[LABELS] to a categorical type\n",
    "df[LABELS] = df[LABELS].apply(categorize_label, axis=0)\n",
    "\n",
    "# Print the converted dtypes\n",
    "print(df[LABELS].dtypes)"
   ]
  },
  {
   "cell_type": "markdown",
   "metadata": {},
   "source": [
    "#### Capture all the labels for each output"
   ]
  },
  {
   "cell_type": "code",
   "execution_count": 6,
   "metadata": {},
   "outputs": [],
   "source": [
    "target_labels = {t : np.unique(df[[t]]) for t in LABELS}"
   ]
  },
  {
   "cell_type": "code",
   "execution_count": 7,
   "metadata": {},
   "outputs": [
    {
     "data": {
      "text/plain": [
       "{'Function': array(['Aides Compensation', 'Career & Academic Counseling',\n",
       "        'Communications', 'Curriculum Development',\n",
       "        'Data Processing & Information Services',\n",
       "        'Development & Fundraising', 'Enrichment',\n",
       "        'Extended Time & Tutoring', 'Facilities & Maintenance',\n",
       "        'Facilities Planning',\n",
       "        'Finance, Budget, Purchasing & Distribution', 'Food Services',\n",
       "        'Governance', 'Human Resources',\n",
       "        'Instructional Materials & Supplies', 'Insurance', 'Legal',\n",
       "        'Library & Media', 'NO_LABEL', 'Other Compensation',\n",
       "        'Other Non-Compensation', 'Parent & Community Relations',\n",
       "        'Physical Health & Services', 'Professional Development',\n",
       "        'Recruitment', 'Research & Accountability',\n",
       "        'School Administration', 'School Supervision', 'Security & Safety',\n",
       "        'Social & Emotional',\n",
       "        'Special Population Program Management & Support',\n",
       "        'Student Assignment', 'Student Transportation',\n",
       "        'Substitute Compensation', 'Teacher Compensation',\n",
       "        'Untracked Budget Set-Aside', 'Utilities'], dtype=object),\n",
       " 'Object_Type': array(['Base Salary/Compensation', 'Benefits', 'Contracted Services',\n",
       "        'Equipment & Equipment Lease', 'NO_LABEL',\n",
       "        'Other Compensation/Stipend', 'Other Non-Compensation',\n",
       "        'Rent/Utilities', 'Substitute Compensation', 'Supplies/Materials',\n",
       "        'Travel & Conferences'], dtype=object),\n",
       " 'Operating_Status': array(['Non-Operating', 'Operating, Not PreK-12', 'PreK-12 Operating'],\n",
       "       dtype=object),\n",
       " 'Position_Type': array(['(Exec) Director', 'Area Officers', 'Club Advisor/Coach',\n",
       "        'Coordinator/Manager', 'Custodian', 'Guidance Counselor',\n",
       "        'Instructional Coach', 'Librarian', 'NO_LABEL', 'Non-Position',\n",
       "        'Nurse', 'Nurse Aide', 'Occupational Therapist', 'Other',\n",
       "        'Physical Therapist', 'Principal', 'Psychologist',\n",
       "        'School Monitor/Security', 'Sec/Clerk/Other Admin',\n",
       "        'Social Worker', 'Speech Therapist', 'Substitute', 'TA', 'Teacher',\n",
       "        'Vice Principal'], dtype=object),\n",
       " 'Pre_K': array(['NO_LABEL', 'Non PreK', 'PreK'], dtype=object),\n",
       " 'Reporting': array(['NO_LABEL', 'Non-School', 'School'], dtype=object),\n",
       " 'Sharing': array(['Leadership & Management', 'NO_LABEL', 'School Reported',\n",
       "        'School on Central Budgets', 'Shared Services'], dtype=object),\n",
       " 'Student_Type': array(['Alternative', 'At Risk', 'ELL', 'Gifted', 'NO_LABEL', 'Poverty',\n",
       "        'PreK', 'Special Education', 'Unspecified'], dtype=object),\n",
       " 'Use': array(['Business Services', 'ISPD', 'Instruction', 'Leadership',\n",
       "        'NO_LABEL', 'O&M', 'Pupil Services & Enrichment',\n",
       "        'Untracked Budget Set-Aside'], dtype=object)}"
      ]
     },
     "execution_count": 7,
     "metadata": {},
     "output_type": "execute_result"
    }
   ],
   "source": [
    "target_labels"
   ]
  },
  {
   "cell_type": "markdown",
   "metadata": {},
   "source": [
    "# The approach from the tutorial"
   ]
  },
  {
   "cell_type": "markdown",
   "metadata": {},
   "source": [
    "======================================================================================"
   ]
  },
  {
   "cell_type": "markdown",
   "metadata": {},
   "source": [
    "#### Setting up a train-test split  for modeling"
   ]
  },
  {
   "cell_type": "code",
   "execution_count": 8,
   "metadata": {},
   "outputs": [],
   "source": [
    "NUMERIC_COLUMNS = ['FTE', 'Total']"
   ]
  },
  {
   "cell_type": "markdown",
   "metadata": {},
   "source": [
    "#### multilabel_train_test_split makes sure that all labels appear in both train and test sets."
   ]
  },
  {
   "cell_type": "code",
   "execution_count": 9,
   "metadata": {},
   "outputs": [
    {
     "name": "stdout",
     "output_type": "stream",
     "text": [
      "(320222, 2) (80055, 2) (320222, 104) (80055, 104)\n"
     ]
    }
   ],
   "source": [
    "# Create the new DataFrame: numeric_data_only\n",
    "numeric_data_only = df[NUMERIC_COLUMNS].fillna(-1000)\n",
    "\n",
    "# Get labels and convert to dummy variables: label_dummies\n",
    "label_dummies = pd.get_dummies(df[LABELS])\n",
    "\n",
    "# Create training and test sets\n",
    "X_train, X_test, y_train, y_test = multilabel_train_test_split(numeric_data_only,\n",
    "                                                               label_dummies,\n",
    "                                                               size=0.2, \n",
    "                                                               seed=123)\n",
    "\n",
    "# Show the shapes\n",
    "print(X_train.shape, X_test.shape, y_train.shape, y_test.shape)"
   ]
  },
  {
   "cell_type": "markdown",
   "metadata": {},
   "source": [
    "#### save these indices so I can use them later in the second approach (i.e. I'll use them to get the same data in the splits)"
   ]
  },
  {
   "cell_type": "code",
   "execution_count": 10,
   "metadata": {},
   "outputs": [
    {
     "data": {
      "text/plain": [
       "(True, True)"
      ]
     },
     "execution_count": 10,
     "metadata": {},
     "output_type": "execute_result"
    }
   ],
   "source": [
    "# I can use these indices if I need them so as not to have to mess with multi_label_train_test_split.\n",
    "(X_train.index == y_train.index).all(), (X_test.index == y_test.index).all()"
   ]
  },
  {
   "cell_type": "code",
   "execution_count": 11,
   "metadata": {},
   "outputs": [
    {
     "data": {
      "text/plain": [
       "(400277, 2)"
      ]
     },
     "execution_count": 11,
     "metadata": {},
     "output_type": "execute_result"
    }
   ],
   "source": [
    "df[NUMERIC_COLUMNS].shape"
   ]
  },
  {
   "cell_type": "markdown",
   "metadata": {},
   "source": [
    "#### Start with a simple model\n",
    "\n",
    "The first model ignores everything but the two numeric columns to get started and check for correct format (104 columns of predictions).  \n",
    "\n",
    "Create a multiclass classifier clf by placing LogisticRegression() inside OneVsRestClassifier()[sic].\n",
    "\n",
    "Then fit it to the features (the two numeric columns) and the targets (one-hot encoded)."
   ]
  },
  {
   "cell_type": "code",
   "execution_count": 12,
   "metadata": {},
   "outputs": [
    {
     "name": "stdout",
     "output_type": "stream",
     "text": [
      "fit time: 144.0290496170407 seconds\n"
     ]
    }
   ],
   "source": [
    "# Create the DataFrame: numeric_data_only\n",
    "numeric_data_only = df[NUMERIC_COLUMNS].fillna(-1000)\n",
    "\n",
    "# Get labels and convert to dummy variables: label_dummies\n",
    "label_dummies = pd.get_dummies(df[LABELS])\n",
    "\n",
    "# Create training and test sets\n",
    "X_train, X_test, y_train, y_test = multilabel_train_test_split(numeric_data_only,\n",
    "                                                               label_dummies,\n",
    "                                                               size=0.2, \n",
    "                                                               seed=123)\n",
    "# Instantiate the classifier: clf\n",
    "mod0 = OneVsRestClassifier(LogisticRegression(), n_jobs=-1)\n",
    "\n",
    "start = timer()\n",
    "# Fit the classifier to the training data\n",
    "mod0.fit(X_train, y_train)\n",
    "end = timer()\n",
    "print('fit time: {} seconds'.format(end - start))"
   ]
  },
  {
   "cell_type": "markdown",
   "metadata": {},
   "source": [
    "#### Save the predictions "
   ]
  },
  {
   "cell_type": "code",
   "execution_count": 13,
   "metadata": {},
   "outputs": [],
   "source": [
    "_train_idx, _test_idx = X_train.index, X_test.index"
   ]
  },
  {
   "cell_type": "code",
   "execution_count": 14,
   "metadata": {},
   "outputs": [],
   "source": [
    "# Predict so that we can use sklearn metrics - they compare y and yhat\n",
    "mod0_train_yhat = mod0.predict(X_train)\n",
    "mod0_test_yhat = mod0.predict(X_test)"
   ]
  },
  {
   "cell_type": "code",
   "execution_count": 15,
   "metadata": {
    "scrolled": true
   },
   "outputs": [
    {
     "data": {
      "text/plain": [
       "((320222, 104), (80055, 104))"
      ]
     },
     "execution_count": 15,
     "metadata": {},
     "output_type": "execute_result"
    }
   ],
   "source": [
    "# check shapes of yhats\n",
    "mod0_train_yhat.shape, mod0_test_yhat.shape"
   ]
  },
  {
   "cell_type": "markdown",
   "metadata": {},
   "source": [
    "#### Not very accurate but correct format."
   ]
  },
  {
   "cell_type": "code",
   "execution_count": 16,
   "metadata": {
    "scrolled": false
   },
   "outputs": [
    {
     "name": "stdout",
     "output_type": "stream",
     "text": [
      "train accuracy: 0.00001249\n",
      "test accuracy: 0.00000000\n"
     ]
    }
   ],
   "source": [
    "print('train accuracy: {:.8f}'.format(accuracy_score( y_train, mod0_train_yhat)))\n",
    "print('test accuracy: {:.8f}'.format(accuracy_score(y_test, mod0_test_yhat)))"
   ]
  },
  {
   "cell_type": "markdown",
   "metadata": {},
   "source": [
    "### Check classification report"
   ]
  },
  {
   "cell_type": "code",
   "execution_count": 17,
   "metadata": {},
   "outputs": [
    {
     "name": "stdout",
     "output_type": "stream",
     "text": [
      "             precision    recall  f1-score   support\n",
      "\n",
      "          0       0.00      0.00      0.00      3981\n",
      "          1       0.00      0.00      0.00       567\n",
      "          2       0.00      0.00      0.00        63\n",
      "          3       0.00      0.00      0.00      1547\n",
      "          4       0.00      0.00      0.00       599\n",
      "          5       0.00      0.00      0.00        18\n",
      "          6       0.00      0.00      0.00      2093\n",
      "          7       0.00      0.00      0.00      1688\n",
      "          8       0.00      0.00      0.00      4029\n",
      "          9       0.00      0.00      0.00         8\n",
      "         10       0.00      0.00      0.00       437\n",
      "         11       0.00      0.00      0.00      2900\n",
      "         12       0.00      0.00      0.00       150\n",
      "         13       0.00      0.00      0.00       258\n",
      "         14       0.00      0.00      0.00      3916\n",
      "         15       0.00      0.00      0.00        20\n",
      "         16       0.00      0.00      0.00        22\n",
      "         17       0.00      0.00      0.00       933\n",
      "         18       1.00      0.00      0.00     11857\n",
      "         19       0.00      0.00      0.00       154\n",
      "         20       0.00      0.00      0.00       350\n",
      "         21       0.00      0.00      0.00       404\n",
      "         22       0.00      0.00      0.00      1202\n",
      "         23       0.00      0.00      0.00      3771\n",
      "         24       0.00      0.00      0.00       112\n",
      "         25       0.00      0.00      0.00       282\n",
      "         26       0.00      0.00      0.00      2668\n",
      "         27       0.00      0.00      0.00       572\n",
      "         28       0.00      0.00      0.00       513\n",
      "         29       0.00      0.00      0.00      1024\n",
      "         30       0.00      0.00      0.00       857\n",
      "         31       0.00      0.00      0.00        65\n",
      "         32       0.00      0.00      0.00      2905\n",
      "         33       0.03      0.00      0.00     12412\n",
      "         34       0.00      0.00      0.00     17237\n",
      "         35       0.00      0.00      0.00        88\n",
      "         36       0.00      0.00      0.00       353\n",
      "         37       0.65      0.83      0.73     19504\n",
      "         38       0.01      0.00      0.00     17187\n",
      "         39       0.00      0.00      0.00      1473\n",
      "         40       0.00      0.00      0.00       885\n",
      "         41       0.94      0.00      0.00     13857\n",
      "         42       0.00      0.00      0.00     12373\n",
      "         43       0.00      0.00      0.00      1289\n",
      "         44       0.00      0.00      0.00       615\n",
      "         45       0.00      0.00      0.00      5454\n",
      "         46       0.00      0.00      0.00      6378\n",
      "         47       0.00      0.00      0.00      1040\n",
      "         48       0.00      0.00      0.00      9632\n",
      "         49       0.00      0.00      0.00      1676\n",
      "         50       0.86      1.00      0.92     68747\n",
      "         51       0.00      0.00      0.00       131\n",
      "         52       0.00      0.00      0.00        31\n",
      "         53       0.00      0.00      0.00       767\n",
      "         54       0.00      0.00      0.00      1517\n",
      "         55       0.00      0.00      0.00      1986\n",
      "         56       0.00      0.00      0.00       530\n",
      "         57       0.00      0.00      0.00      1017\n",
      "         58       0.00      0.00      0.00       414\n",
      "         59       1.00      0.00      0.00     19495\n",
      "         60       0.00      0.00      0.00      4161\n",
      "         61       0.00      0.00      0.00       380\n",
      "         62       0.00      0.00      0.00        22\n",
      "         63       0.00      0.00      0.00       105\n",
      "         64       0.00      0.00      0.00      7518\n",
      "         65       0.00      0.00      0.00        61\n",
      "         66       0.00      0.00      0.00       443\n",
      "         67       0.00      0.00      0.00       340\n",
      "         68       0.00      0.00      0.00       355\n",
      "         69       0.00      0.00      0.00      1781\n",
      "         70       0.00      0.00      0.00       336\n",
      "         71       0.00      0.00      0.00       404\n",
      "         72       0.04      0.00      0.00     12663\n",
      "         73       0.00      0.00      0.00      4548\n",
      "         74       0.00      0.00      0.00     20559\n",
      "         75       0.00      0.00      0.00       491\n",
      "         76       0.77      1.00      0.87     61348\n",
      "         77       0.00      0.00      0.00     16118\n",
      "         78       0.00      0.00      0.00      2589\n",
      "         79       1.00      0.00      0.00     11308\n",
      "         80       0.00      0.00      0.00     17445\n",
      "         81       0.64      1.00      0.78     51302\n",
      "         82       0.00      0.00      0.00      3455\n",
      "         83       1.00      0.00      0.00     11862\n",
      "         84       0.63      1.00      0.78     50718\n",
      "         85       0.00      0.00      0.00      5476\n",
      "         86       0.00      0.00      0.00      8544\n",
      "         87       0.00      0.00      0.00        94\n",
      "         88       0.00      0.00      0.00       621\n",
      "         89       0.00      0.00      0.00      1361\n",
      "         90       0.00      0.00      0.00       322\n",
      "         91       0.91      0.00      0.00     19931\n",
      "         92       0.00      0.00      0.00      3561\n",
      "         93       0.00      0.00      0.00      1170\n",
      "         94       0.00      0.00      0.00      8425\n",
      "         95       0.56      1.00      0.72     44570\n",
      "         96       0.00      0.00      0.00      1169\n",
      "         97       0.00      0.00      0.00      5158\n",
      "         98       0.71      0.24      0.36     40671\n",
      "         99       0.00      0.00      0.00      3237\n",
      "        100       1.00      0.00      0.00     15699\n",
      "        101       0.00      0.00      0.00      9296\n",
      "        102       0.00      0.00      0.00      4737\n",
      "        103       0.00      0.00      0.00        88\n",
      "\n",
      "avg / total       0.47      0.42      0.36    720495\n",
      "\n"
     ]
    },
    {
     "name": "stderr",
     "output_type": "stream",
     "text": [
      "C:\\Users\\saus\\Anaconda3\\lib\\site-packages\\sklearn\\metrics\\classification.py:1135: UndefinedMetricWarning: Precision and F-score are ill-defined and being set to 0.0 in labels with no predicted samples.\n",
      "  'precision', 'predicted', average, warn_for)\n"
     ]
    }
   ],
   "source": [
    "print(classification_report(y_test, mod0_test_yhat))"
   ]
  },
  {
   "cell_type": "markdown",
   "metadata": {},
   "source": [
    "##### The code below fails, complaining about input format but what's more it messes something up in the guts of numpy pretty printer and printing arrays starts to fail, causing major difficulties.  Beware!\n",
    "```\n",
    "np.set_printoptions(threshold='nan')\n",
    "print(confusion_matrix(y_test, mod0_yhat_test))\n",
    "np.set_printoptions(threshold=1000)\n",
    "```\n",
    "\n",
    "##### To do: need a better way to print a big confusion matrix"
   ]
  },
  {
   "cell_type": "markdown",
   "metadata": {},
   "source": [
    "### Now get log_loss\n",
    "\n",
    "For that we need to predict probabilities..."
   ]
  },
  {
   "cell_type": "code",
   "execution_count": 18,
   "metadata": {},
   "outputs": [],
   "source": [
    "### Predict train and test probas\n",
    "mod0_train_probas = mod0.predict_proba(X_train)\n",
    "mod0_test_probas = mod0.predict_proba(X_test)"
   ]
  },
  {
   "cell_type": "markdown",
   "metadata": {},
   "source": [
    "##### Save the predictions and y values for train and test."
   ]
  },
  {
   "cell_type": "code",
   "execution_count": 19,
   "metadata": {},
   "outputs": [],
   "source": [
    "# predictions and values from train and test sets.  All are flattened  (n_samples, 104)\n",
    "np.savez('./model_out/mod0', \n",
    "         m0_train_probas = mod0_train_probas,\n",
    "         m0_train_yhat   = mod0_train_yhat,\n",
    "         m0_y_train      = y_train.values,\n",
    "         m0_test_probas  = mod0_test_probas,\n",
    "         m0_test_yhat    = mod0_test_yhat,\n",
    "         m0_y_test       = y_test.values)"
   ]
  },
  {
   "cell_type": "markdown",
   "metadata": {},
   "source": [
    "##### Check that it worked."
   ]
  },
  {
   "cell_type": "code",
   "execution_count": 20,
   "metadata": {},
   "outputs": [],
   "source": [
    "thing = np.load('./model_out/mod0.npz')"
   ]
  },
  {
   "cell_type": "code",
   "execution_count": 21,
   "metadata": {},
   "outputs": [
    {
     "data": {
      "text/plain": [
       "['m0_train_probas',\n",
       " 'm0_train_yhat',\n",
       " 'm0_y_train',\n",
       " 'm0_test_probas',\n",
       " 'm0_test_yhat',\n",
       " 'm0_y_test']"
      ]
     },
     "execution_count": 21,
     "metadata": {},
     "output_type": "execute_result"
    }
   ],
   "source": [
    "thing.keys()"
   ]
  },
  {
   "cell_type": "markdown",
   "metadata": {},
   "source": [
    "##### Indices of the targets after one-hot encoding"
   ]
  },
  {
   "cell_type": "code",
   "execution_count": 22,
   "metadata": {
    "scrolled": false
   },
   "outputs": [],
   "source": [
    "BOX_PLOTS_COLUMN_INDICES = [slice(0, 37),\n",
    "                            slice(37, 48),\n",
    "                            slice(48, 51),\n",
    "                            slice(51, 76),\n",
    "                            slice(76, 79),\n",
    "                            slice(79, 82),\n",
    "                            slice(82, 87),\n",
    "                            slice(87, 96),\n",
    "                            slice(96, 104)]"
   ]
  },
  {
   "cell_type": "code",
   "execution_count": 23,
   "metadata": {},
   "outputs": [],
   "source": [
    "# to save typing\n",
    "BPCI = BOX_PLOTS_COLUMN_INDICES"
   ]
  },
  {
   "cell_type": "code",
   "execution_count": 24,
   "metadata": {
    "scrolled": true
   },
   "outputs": [
    {
     "name": "stdout",
     "output_type": "stream",
     "text": [
      "Test set mmll    :  1.3557\n",
      "Training set mmll:  1.3535\n"
     ]
    }
   ],
   "source": [
    "### Note the order: opposite of sklearn metrics\n",
    "### Note on inputs: needs nd.arrays for input, if df, use df.values\n",
    "print('Test set mmll    :  {:.4f}'.format(multi_multi_log_loss(mod0_test_probas, y_test.values, BPCI)))\n",
    "print('Training set mmll:  {:.4f}'.format(multi_multi_log_loss(mod0_train_probas, y_train.values, BPCI)))"
   ]
  },
  {
   "cell_type": "markdown",
   "metadata": {},
   "source": [
    "#### So far so good.  This is the same as the results I had before."
   ]
  },
  {
   "cell_type": "markdown",
   "metadata": {},
   "source": [
    "__================ End of Model 0, first approach ==================__"
   ]
  },
  {
   "cell_type": "markdown",
   "metadata": {},
   "source": [
    "### Now do it another way...\n",
    "\n",
    "In this scheme, fit a multilabel classifier to each target separately."
   ]
  },
  {
   "cell_type": "markdown",
   "metadata": {},
   "source": [
    "##### I want to classify each target separately.  It would make more sense to call the targets \"TARGETS\" rather than \"LABELS\""
   ]
  },
  {
   "cell_type": "code",
   "execution_count": 25,
   "metadata": {},
   "outputs": [
    {
     "data": {
      "text/plain": [
       "['Function',\n",
       " 'Object_Type',\n",
       " 'Operating_Status',\n",
       " 'Position_Type',\n",
       " 'Pre_K',\n",
       " 'Reporting',\n",
       " 'Sharing',\n",
       " 'Student_Type',\n",
       " 'Use']"
      ]
     },
     "execution_count": 25,
     "metadata": {},
     "output_type": "execute_result"
    }
   ],
   "source": [
    "LABELS"
   ]
  },
  {
   "cell_type": "code",
   "execution_count": 26,
   "metadata": {},
   "outputs": [],
   "source": [
    "# Create the input DataFrame: numeric_data_only\n",
    "numeric_data_only = df[NUMERIC_COLUMNS].fillna(-1000)\n",
    "\n",
    "# This was the first way\n",
    "# Get labels and convert to dummy variables: label_dummies\n",
    "# label_dummies = pd.get_dummies(df[LABELS])\n",
    "\n",
    "### Instead of that, make a df with a column for each target\n",
    "targets = df[LABELS]"
   ]
  },
  {
   "cell_type": "code",
   "execution_count": 27,
   "metadata": {},
   "outputs": [
    {
     "data": {
      "text/html": [
       "<div>\n",
       "<style scoped>\n",
       "    .dataframe tbody tr th:only-of-type {\n",
       "        vertical-align: middle;\n",
       "    }\n",
       "\n",
       "    .dataframe tbody tr th {\n",
       "        vertical-align: top;\n",
       "    }\n",
       "\n",
       "    .dataframe thead th {\n",
       "        text-align: right;\n",
       "    }\n",
       "</style>\n",
       "<table border=\"1\" class=\"dataframe\">\n",
       "  <thead>\n",
       "    <tr style=\"text-align: right;\">\n",
       "      <th></th>\n",
       "      <th>Function</th>\n",
       "      <th>Object_Type</th>\n",
       "      <th>Operating_Status</th>\n",
       "      <th>Position_Type</th>\n",
       "      <th>Pre_K</th>\n",
       "      <th>Reporting</th>\n",
       "      <th>Sharing</th>\n",
       "      <th>Student_Type</th>\n",
       "      <th>Use</th>\n",
       "    </tr>\n",
       "  </thead>\n",
       "  <tbody>\n",
       "    <tr>\n",
       "      <th>134338</th>\n",
       "      <td>Teacher Compensation</td>\n",
       "      <td>NO_LABEL</td>\n",
       "      <td>PreK-12 Operating</td>\n",
       "      <td>Teacher</td>\n",
       "      <td>NO_LABEL</td>\n",
       "      <td>School</td>\n",
       "      <td>School Reported</td>\n",
       "      <td>NO_LABEL</td>\n",
       "      <td>Instruction</td>\n",
       "    </tr>\n",
       "    <tr>\n",
       "      <th>206341</th>\n",
       "      <td>NO_LABEL</td>\n",
       "      <td>NO_LABEL</td>\n",
       "      <td>Non-Operating</td>\n",
       "      <td>NO_LABEL</td>\n",
       "      <td>NO_LABEL</td>\n",
       "      <td>NO_LABEL</td>\n",
       "      <td>NO_LABEL</td>\n",
       "      <td>NO_LABEL</td>\n",
       "      <td>NO_LABEL</td>\n",
       "    </tr>\n",
       "    <tr>\n",
       "      <th>326408</th>\n",
       "      <td>Teacher Compensation</td>\n",
       "      <td>Base Salary/Compensation</td>\n",
       "      <td>PreK-12 Operating</td>\n",
       "      <td>Teacher</td>\n",
       "      <td>Non PreK</td>\n",
       "      <td>School</td>\n",
       "      <td>School Reported</td>\n",
       "      <td>Unspecified</td>\n",
       "      <td>Instruction</td>\n",
       "    </tr>\n",
       "    <tr>\n",
       "      <th>364634</th>\n",
       "      <td>Substitute Compensation</td>\n",
       "      <td>Benefits</td>\n",
       "      <td>PreK-12 Operating</td>\n",
       "      <td>Substitute</td>\n",
       "      <td>NO_LABEL</td>\n",
       "      <td>School</td>\n",
       "      <td>School Reported</td>\n",
       "      <td>Unspecified</td>\n",
       "      <td>Instruction</td>\n",
       "    </tr>\n",
       "    <tr>\n",
       "      <th>47683</th>\n",
       "      <td>Substitute Compensation</td>\n",
       "      <td>Substitute Compensation</td>\n",
       "      <td>PreK-12 Operating</td>\n",
       "      <td>Teacher</td>\n",
       "      <td>NO_LABEL</td>\n",
       "      <td>School</td>\n",
       "      <td>School Reported</td>\n",
       "      <td>Unspecified</td>\n",
       "      <td>Instruction</td>\n",
       "    </tr>\n",
       "  </tbody>\n",
       "</table>\n",
       "</div>"
      ],
      "text/plain": [
       "                       Function               Object_Type   Operating_Status  \\\n",
       "134338     Teacher Compensation                  NO_LABEL  PreK-12 Operating   \n",
       "206341                 NO_LABEL                  NO_LABEL      Non-Operating   \n",
       "326408     Teacher Compensation  Base Salary/Compensation  PreK-12 Operating   \n",
       "364634  Substitute Compensation                  Benefits  PreK-12 Operating   \n",
       "47683   Substitute Compensation   Substitute Compensation  PreK-12 Operating   \n",
       "\n",
       "       Position_Type     Pre_K Reporting          Sharing Student_Type  \\\n",
       "134338       Teacher  NO_LABEL    School  School Reported     NO_LABEL   \n",
       "206341      NO_LABEL  NO_LABEL  NO_LABEL         NO_LABEL     NO_LABEL   \n",
       "326408       Teacher  Non PreK    School  School Reported  Unspecified   \n",
       "364634    Substitute  NO_LABEL    School  School Reported  Unspecified   \n",
       "47683        Teacher  NO_LABEL    School  School Reported  Unspecified   \n",
       "\n",
       "                Use  \n",
       "134338  Instruction  \n",
       "206341     NO_LABEL  \n",
       "326408  Instruction  \n",
       "364634  Instruction  \n",
       "47683   Instruction  "
      ]
     },
     "execution_count": 27,
     "metadata": {},
     "output_type": "execute_result"
    }
   ],
   "source": [
    "### check the target columns\n",
    "targets.head()"
   ]
  },
  {
   "cell_type": "markdown",
   "metadata": {},
   "source": [
    "#### Let's start by doing only one target"
   ]
  },
  {
   "cell_type": "code",
   "execution_count": 28,
   "metadata": {},
   "outputs": [],
   "source": [
    "# save for possible later use\n",
    "originals = X_train, X_test, y_train, y_test"
   ]
  },
  {
   "cell_type": "markdown",
   "metadata": {},
   "source": [
    "####  I'd like to scale first, but I didn't before so it's not fair to do it now.  It's worth checking to see if it makes a difference in the output.\n",
    "\n",
    "[[ Do it 9 x one-vs-rest style but scale input first (using pipeline).  Can do it because I'm only using numerical features.  By the way, it fits 10 times faster with scaled features.  ]]"
   ]
  },
  {
   "cell_type": "code",
   "execution_count": 29,
   "metadata": {},
   "outputs": [
    {
     "name": "stdout",
     "output_type": "stream",
     "text": [
      "fit time: 216.33792663528612 seconds\n"
     ]
    }
   ],
   "source": [
    "X_train, X_test, y_train, y_test = originals\n",
    "\n",
    "# Instantiate the classifier: clf\n",
    "\n",
    "### Don't scale \n",
    "mod0_Function = Pipeline([### ('scale', StandardScaler()),\n",
    "                          ('logreg', LogisticRegression())])\n",
    "\n",
    "start = timer()\n",
    "# Fit the classifier to the training data\n",
    "### X_train is okay - it's just the numeric data;\n",
    "### y_train needs to be just the Function column out of target.\n",
    "mod0_Function.fit(X_train, targets.loc[X_train.index, 'Function'])\n",
    "\n",
    "end = timer()\n",
    "print('fit time: {} seconds'.format(end - start))"
   ]
  },
  {
   "cell_type": "markdown",
   "metadata": {},
   "source": [
    "#### Gather all the prediction outputs into a dictionary"
   ]
  },
  {
   "cell_type": "code",
   "execution_count": 30,
   "metadata": {},
   "outputs": [],
   "source": [
    "m0_Function_out = {'yhat_train'       : mod0_Function.predict(X_train),\n",
    "                   'yhat_proba_train' : mod0_Function.predict_proba(X_train),\n",
    "                   'yhat_test'        : mod0_Function.predict(X_test),\n",
    "                   'yhat_proba_test'  : mod0_Function.predict_proba(X_test) }"
   ]
  },
  {
   "cell_type": "markdown",
   "metadata": {},
   "source": [
    "### Try scaling and compare results to unscaled version."
   ]
  },
  {
   "cell_type": "code",
   "execution_count": 31,
   "metadata": {},
   "outputs": [
    {
     "name": "stdout",
     "output_type": "stream",
     "text": [
      "fit time: 24.85362495200002 seconds\n"
     ]
    }
   ],
   "source": [
    "# Instantiate the classifier: clf\n",
    "\n",
    "### this time scale\n",
    "mod0s_Function = Pipeline([('scale', StandardScaler()),\n",
    "                           ('logreg', LogisticRegression())])\n",
    "\n",
    "start = timer()\n",
    "# Fit the classifier to the training data\n",
    "### X_train is okay - it's just the numeric data; y_train needs to be just the Function column out of target\n",
    "mod0s_Function.fit(X_train, targets.loc[X_train.index, 'Function'])\n",
    "\n",
    "end = timer()\n",
    "print('fit time: {} seconds'.format(end - start))"
   ]
  },
  {
   "cell_type": "code",
   "execution_count": 32,
   "metadata": {},
   "outputs": [],
   "source": [
    "# predict and save outputs\n",
    "m0s_Function_out = {'yhat_train'       : mod0s_Function.predict(X_train),\n",
    "                   'yhat_proba_train' : mod0s_Function.predict_proba(X_train),\n",
    "                   'yhat_test'        : mod0s_Function.predict(X_test),\n",
    "                   'yhat_proba_test'  : mod0s_Function.predict_proba(X_test) }"
   ]
  },
  {
   "cell_type": "code",
   "execution_count": 33,
   "metadata": {},
   "outputs": [
    {
     "data": {
      "text/plain": [
       "array(['NO_LABEL', 'NO_LABEL', 'NO_LABEL', 'NO_LABEL',\n",
       "       'Substitute Compensation'], dtype=object)"
      ]
     },
     "execution_count": 33,
     "metadata": {},
     "output_type": "execute_result"
    }
   ],
   "source": [
    "# check test prediction output\n",
    "m0s_Function_out['yhat_test'][:5]"
   ]
  },
  {
   "cell_type": "markdown",
   "metadata": {},
   "source": [
    "#### Comparing predictions\n",
    "\n",
    "Okay, scaling makes a difference to the output so to compare apples and apples, we can't first scale in this model before checking the difference between one-vs-rest on flattened labels and one-vs-rest internal to a column."
   ]
  },
  {
   "cell_type": "code",
   "execution_count": 34,
   "metadata": {
    "scrolled": false
   },
   "outputs": [
    {
     "data": {
      "text/plain": [
       "0.9740024108274884"
      ]
     },
     "execution_count": 34,
     "metadata": {},
     "output_type": "execute_result"
    }
   ],
   "source": [
    "### what percentage of the unscaled/scaled are the same?\n",
    "(m0_Function_out['yhat_train'] == m0s_Function_out['yhat_train']).sum()/len(m0_Function_out['yhat_train'])"
   ]
  },
  {
   "cell_type": "code",
   "execution_count": 35,
   "metadata": {
    "scrolled": true
   },
   "outputs": [
    {
     "data": {
      "text/plain": [
       "0.975117106988945"
      ]
     },
     "execution_count": 35,
     "metadata": {},
     "output_type": "execute_result"
    }
   ],
   "source": [
    "(m0_Function_out['yhat_test'] == m0s_Function_out['yhat_test']).sum()/len(m0_Function_out['yhat_test'])"
   ]
  },
  {
   "cell_type": "markdown",
   "metadata": {},
   "source": [
    "##### Compare probability outputs\n",
    "\n",
    "These are floats, so compute average absolute difference."
   ]
  },
  {
   "cell_type": "code",
   "execution_count": 36,
   "metadata": {
    "scrolled": false
   },
   "outputs": [
    {
     "data": {
      "text/plain": [
       "0.12263367959215235"
      ]
     },
     "execution_count": 36,
     "metadata": {},
     "output_type": "execute_result"
    }
   ],
   "source": [
    "# somewhat different on training set\n",
    "np.absolute((m0_Function_out['yhat_proba_train'] - m0s_Function_out['yhat_proba_train'])).sum()/len(m0_Function_out['yhat_proba_train'])"
   ]
  },
  {
   "cell_type": "code",
   "execution_count": 37,
   "metadata": {
    "scrolled": true
   },
   "outputs": [
    {
     "data": {
      "text/plain": [
       "1.2507864403264413e-18"
      ]
     },
     "execution_count": 37,
     "metadata": {},
     "output_type": "execute_result"
    }
   ],
   "source": [
    "# very close on test set\n",
    "np.absolute((m0_Function_out['yhat_proba_test'] - m0s_Function_out['yhat_proba_test']).sum())/len(m0_Function_out['yhat_proba_test'])"
   ]
  },
  {
   "cell_type": "markdown",
   "metadata": {},
   "source": [
    "#### Quick experiment:  are the row sums of the probabilty predictions = 1?  Yes, they are.  That's what the other scheme does *not* do."
   ]
  },
  {
   "cell_type": "code",
   "execution_count": 74,
   "metadata": {
    "scrolled": true
   },
   "outputs": [
    {
     "data": {
      "text/plain": [
       "(80055, 37)"
      ]
     },
     "execution_count": 74,
     "metadata": {},
     "output_type": "execute_result"
    }
   ],
   "source": [
    "m0_Function_out['yhat_proba_test'].shape"
   ]
  },
  {
   "cell_type": "code",
   "execution_count": 79,
   "metadata": {},
   "outputs": [],
   "source": [
    "the_row_sums = np.sum(m0_Function_out['yhat_proba_test'], axis=1, keepdims=True)"
   ]
  },
  {
   "cell_type": "code",
   "execution_count": 80,
   "metadata": {},
   "outputs": [
    {
     "data": {
      "image/png": "[encoded data removed]",
      "text/plain": [
       "<Figure size 432x288 with 1 Axes>"
      ]
     },
     "metadata": {},
     "output_type": "display_data"
    }
   ],
   "source": [
    "plt.plot(the_row_sums);"
   ]
  },
  {
   "cell_type": "markdown",
   "metadata": {},
   "source": [
    "### Now expand this approach to fit all 9 targets (without scaling for comparison to mod0).  When that's done, I can compare the metrics between the two approaches."
   ]
  },
  {
   "cell_type": "markdown",
   "metadata": {},
   "source": [
    "#####  in pseudo-code\n",
    "```\n",
    "for target in targets\n",
    "    make and name a clf\n",
    "    fit clf on X_test and target column   \n",
    "    make predictions for test and train and save\n",
    "```"
   ]
  },
  {
   "cell_type": "code",
   "execution_count": 38,
   "metadata": {
    "scrolled": true
   },
   "outputs": [
    {
     "data": {
      "text/plain": [
       "['Function',\n",
       " 'Object_Type',\n",
       " 'Operating_Status',\n",
       " 'Position_Type',\n",
       " 'Pre_K',\n",
       " 'Reporting',\n",
       " 'Sharing',\n",
       " 'Student_Type',\n",
       " 'Use']"
      ]
     },
     "execution_count": 38,
     "metadata": {},
     "output_type": "execute_result"
    }
   ],
   "source": [
    "### what are the targets??\n",
    "LABELS"
   ]
  },
  {
   "cell_type": "code",
   "execution_count": 39,
   "metadata": {},
   "outputs": [],
   "source": [
    "### Call each classifier m0ml[<target name>]\n",
    "\n",
    "# make the clfs and stash\n",
    "_clfs = {}\n",
    "for t in LABELS:\n",
    "    _clfs[t] = LogisticRegression()"
   ]
  },
  {
   "cell_type": "code",
   "execution_count": 40,
   "metadata": {},
   "outputs": [
    {
     "name": "stdout",
     "output_type": "stream",
     "text": [
      "Fitting target: Function\n",
      "fit time for target \"Function\": 218.3 seconds\n",
      "Test set accuracy for Function: 0.2760\n",
      "Fitting target: Object_Type\n",
      "fit time for target \"Object_Type\": 31.2 seconds\n",
      "Test set accuracy for Object_Type: 0.4253\n",
      "Fitting target: Operating_Status\n",
      "fit time for target \"Operating_Status\": 7.6 seconds\n",
      "Test set accuracy for Operating_Status: 0.8588\n",
      "Fitting target: Position_Type\n",
      "fit time for target \"Position_Type\": 112.9 seconds\n",
      "Test set accuracy for Position_Type: 0.3729\n",
      "Fitting target: Pre_K\n",
      "fit time for target \"Pre_K\": 4.5 seconds\n",
      "Test set accuracy for Pre_K: 0.7663\n",
      "Fitting target: Reporting\n",
      "fit time for target \"Reporting\": 5.0 seconds\n",
      "Test set accuracy for Reporting: 0.6410\n",
      "Fitting target: Sharing\n",
      "fit time for target \"Sharing\": 9.3 seconds\n",
      "Test set accuracy for Sharing: 0.6337\n",
      "Fitting target: Student_Type\n",
      "fit time for target \"Student_Type\": 27.3 seconds\n",
      "Test set accuracy for Student_Type: 0.5571\n",
      "Fitting target: Use\n",
      "fit time for target \"Use\": 20.2 seconds\n",
      "Test set accuracy for Use: 0.5082\n",
      "\n",
      "Done.  Total elapsed time: 437.3\n"
     ]
    }
   ],
   "source": [
    "# now fit them\n",
    "start_all = timer()\n",
    "for t in LABELS:  \n",
    "    start = timer()\n",
    "    print('Fitting target: {}'.format(t))\n",
    "    # fit a model\n",
    "    fm = _clfs[t].fit(X_train, targets.loc[X_train.index, t])\n",
    "\n",
    "    stop = timer()\n",
    "    print('fit time for target \"{}\": {:.1f} seconds'.format(t, stop - start))\n",
    "    # print model accuracy\n",
    "    print('Test set accuracy for {}: {:.4f}'.format(t, fm.score(X_test, targets.loc[X_test.index, t])))\n",
    "    \n",
    "stop_all = timer()    \n",
    "print('\\nDone.  Total elapsed time: {:.1f}'.format(stop_all - start_all))"
   ]
  },
  {
   "cell_type": "markdown",
   "metadata": {},
   "source": [
    "#### Now predict on train, test  and get probabilities."
   ]
  },
  {
   "cell_type": "code",
   "execution_count": 41,
   "metadata": {},
   "outputs": [],
   "source": [
    "### make a dictionary to put the predictions and ys (for use with metrics)\n",
    "m0ml_outs = {}\n",
    "for t in LABELS:\n",
    "    mod = _clfs[t]\n",
    "    # save training set outputs for this target\n",
    "    m0ml_outs[t + '_train_yhat'] = mod.predict(X_train)\n",
    "    m0ml_outs[t + '_train_probas'] = mod.predict_proba(X_train)\n",
    "    m0ml_outs[t + '_train_y'] = targets.loc[X_train.index, t]\n",
    "    # save test set outputs for this target\n",
    "    m0ml_outs[t + '_test_yhat'] = mod.predict(X_test)\n",
    "    m0ml_outs[t + '_test_probas'] = mod.predict_proba(X_test) \n",
    "    m0ml_outs[t + '_test_y'] = targets.loc[X_test.index, t]"
   ]
  },
  {
   "cell_type": "code",
   "execution_count": 42,
   "metadata": {},
   "outputs": [
    {
     "data": {
      "text/plain": [
       "{'Function_train_yhat': array(['Teacher Compensation', 'Teacher Compensation', 'NO_LABEL', ...,\n",
       "        'Substitute Compensation', 'NO_LABEL', 'NO_LABEL'], dtype=object),\n",
       " 'Function_train_probas': array([[0.07261103, 0.0108835 , 0.00080785, ..., 0.20931259, 0.0060043 ,\n",
       "         0.00537075],\n",
       "        [0.07454707, 0.01118834, 0.00083044, ..., 0.21528051, 0.00616998,\n",
       "         0.00552494],\n",
       "        [0.03587419, 0.00657149, 0.00081801, ..., 0.18540589, 0.00112401,\n",
       "         0.00616536],\n",
       "        ...,\n",
       "        [0.06345908, 0.00945997, 0.0007027 , ..., 0.18163636, 0.00522194,\n",
       "         0.00465768],\n",
       "        [0.03612179, 0.0066201 , 0.00082405, ..., 0.18681166, 0.00113216,\n",
       "         0.0062124 ],\n",
       "        [0.0358737 , 0.00657139, 0.000818  , ..., 0.18540311, 0.00112399,\n",
       "         0.00616527]]),\n",
       " 'Function_train_y': 134338                               Teacher Compensation\n",
       " 326408                               Teacher Compensation\n",
       " 47683                             Substitute Compensation\n",
       " 229958                           Facilities & Maintenance\n",
       " 417668                 Instructional Materials & Supplies\n",
       " 126378                                      Food Services\n",
       " 85262                             Substitute Compensation\n",
       " 304569                                           NO_LABEL\n",
       " 84272                                Teacher Compensation\n",
       " 21870                                            NO_LABEL\n",
       " 18698                             Substitute Compensation\n",
       " 169454                 Instructional Materials & Supplies\n",
       " 169914                                  Security & Safety\n",
       " 189701                                          Utilities\n",
       " 43727                                            NO_LABEL\n",
       " 5614                                             NO_LABEL\n",
       " 291539                            Substitute Compensation\n",
       " 307038                               Teacher Compensation\n",
       " 27645                                            NO_LABEL\n",
       " 126388                            Substitute Compensation\n",
       " 14962                                Teacher Compensation\n",
       " 84040                                            NO_LABEL\n",
       " 61639                             Substitute Compensation\n",
       " 225768                             Student Transportation\n",
       " 267322                               Teacher Compensation\n",
       " 35619                                Teacher Compensation\n",
       " 308098                             Student Transportation\n",
       " 227367                                           NO_LABEL\n",
       " 329096                                      Food Services\n",
       " 238335                            Substitute Compensation\n",
       "                                ...                       \n",
       " 325834    Special Population Program Management & Support\n",
       " 82242                                            NO_LABEL\n",
       " 272277                                           NO_LABEL\n",
       " 395293                           Professional Development\n",
       " 36463                            Facilities & Maintenance\n",
       " 209265                               Teacher Compensation\n",
       " 333748    Special Population Program Management & Support\n",
       " 292626                                           NO_LABEL\n",
       " 128261                               Teacher Compensation\n",
       " 186318                               Teacher Compensation\n",
       " 210652                            Substitute Compensation\n",
       " 340354                                 Aides Compensation\n",
       " 435205                               Teacher Compensation\n",
       " 174827                                 Aides Compensation\n",
       " 277504                               Teacher Compensation\n",
       " 70455                                            NO_LABEL\n",
       " 72072                               School Administration\n",
       " 68311                                Teacher Compensation\n",
       " 225892                               Teacher Compensation\n",
       " 446383                                           NO_LABEL\n",
       " 155111                             Student Transportation\n",
       " 278248                 Instructional Materials & Supplies\n",
       " 397424                                           NO_LABEL\n",
       " 220181                                      Food Services\n",
       " 307423                                           NO_LABEL\n",
       " 46691                                Teacher Compensation\n",
       " 109283                           Professional Development\n",
       " 102430                            Substitute Compensation\n",
       " 433672                                    Library & Media\n",
       " 415831                            Substitute Compensation\n",
       " Name: Function, Length: 320222, dtype: category\n",
       " Categories (37, object): [Aides Compensation, Career & Academic Counseling, Communications, Curriculum Development, ..., Substitute Compensation, Teacher Compensation, Untracked Budget Set-Aside, Utilities],\n",
       " 'Function_test_yhat': array(['NO_LABEL', 'NO_LABEL', 'NO_LABEL', ..., 'Substitute Compensation',\n",
       "        'Substitute Compensation', 'Substitute Compensation'], dtype=object),\n",
       " 'Function_test_probas': array([[0.0360888 , 0.00661361, 0.00082324, ..., 0.1866238 , 0.00113108,\n",
       "         0.00620611],\n",
       "        [0.03587214, 0.00657109, 0.00081796, ..., 0.18539429, 0.00112394,\n",
       "         0.00616497],\n",
       "        [0.03588537, 0.00657368, 0.00081828, ..., 0.18546916, 0.00112437,\n",
       "         0.00616748],\n",
       "        ...,\n",
       "        [0.06344903, 0.00945841, 0.00070259, ..., 0.18160645, 0.00522107,\n",
       "         0.00465691],\n",
       "        [0.06346128, 0.00946032, 0.00070273, ..., 0.18164349, 0.0052221 ,\n",
       "         0.00465787],\n",
       "        [0.06431543, 0.00959131, 0.00071208, ..., 0.18411224, 0.00529972,\n",
       "         0.00472065]]),\n",
       " 'Function_test_y': 206341                                      NO_LABEL\n",
       " 364634                       Substitute Compensation\n",
       " 275539                          Teacher Compensation\n",
       " 330504            Instructional Materials & Supplies\n",
       " 64760                                       NO_LABEL\n",
       " 266302                          Teacher Compensation\n",
       " 80585                           Teacher Compensation\n",
       " 231688                       Substitute Compensation\n",
       " 328560                      Facilities & Maintenance\n",
       " 263107            Instructional Materials & Supplies\n",
       " 172213                          Teacher Compensation\n",
       " 325427                                      NO_LABEL\n",
       " 29389                           Teacher Compensation\n",
       " 381109                       Substitute Compensation\n",
       " 370555                                    Enrichment\n",
       " 440127                       Substitute Compensation\n",
       " 325090        Data Processing & Information Services\n",
       " 383119                    Physical Health & Services\n",
       " 19635                             Aides Compensation\n",
       " 428220                  Career & Academic Counseling\n",
       " 111550                          Teacher Compensation\n",
       " 190675                            Aides Compensation\n",
       " 358766                                      NO_LABEL\n",
       " 209391                            School Supervision\n",
       " 182924                         School Administration\n",
       " 266955                          Teacher Compensation\n",
       " 55658                        Substitute Compensation\n",
       " 55030                           Teacher Compensation\n",
       " 326332                          Teacher Compensation\n",
       " 137456            Instructional Materials & Supplies\n",
       "                              ...                    \n",
       " 295217                      Extended Time & Tutoring\n",
       " 424924            Instructional Materials & Supplies\n",
       " 30734                         Student Transportation\n",
       " 233013                         School Administration\n",
       " 87519                                       NO_LABEL\n",
       " 405120            Instructional Materials & Supplies\n",
       " 293852                            Aides Compensation\n",
       " 415168            Instructional Materials & Supplies\n",
       " 326406                          Teacher Compensation\n",
       " 214308                                      NO_LABEL\n",
       " 290459                        Curriculum Development\n",
       " 220345            Instructional Materials & Supplies\n",
       " 294654                      Professional Development\n",
       " 377156                            School Supervision\n",
       " 177734                      Professional Development\n",
       " 149066                                      NO_LABEL\n",
       " 207895                        Student Transportation\n",
       " 437599                        Other Non-Compensation\n",
       " 22476                         Student Transportation\n",
       " 157693                            Aides Compensation\n",
       " 135370                                      NO_LABEL\n",
       " 98381                        Substitute Compensation\n",
       " 168851    Finance, Budget, Purchasing & Distribution\n",
       " 54280                        Substitute Compensation\n",
       " 343458                       Substitute Compensation\n",
       " 248062                      Professional Development\n",
       " 203453                                      NO_LABEL\n",
       " 58170                        Substitute Compensation\n",
       " 375092                       Substitute Compensation\n",
       " 413949                  Parent & Community Relations\n",
       " Name: Function, Length: 80055, dtype: category\n",
       " Categories (37, object): [Aides Compensation, Career & Academic Counseling, Communications, Curriculum Development, ..., Substitute Compensation, Teacher Compensation, Untracked Budget Set-Aside, Utilities],\n",
       " 'Object_Type_train_yhat': array(['Base Salary/Compensation', 'Base Salary/Compensation', 'Benefits',\n",
       "        ..., 'Base Salary/Compensation', 'Benefits', 'Benefits'],\n",
       "       dtype=object),\n",
       " 'Object_Type_train_probas': array([[0.38915545, 0.15087316, 0.01165174, ..., 0.08767162, 0.08788146,\n",
       "         0.01029744],\n",
       "        [0.40963173, 0.1302186 , 0.01226776, ..., 0.0887884 , 0.0921497 ,\n",
       "         0.01083191],\n",
       "        [0.05779558, 0.31467198, 0.02678813, ..., 0.03760766, 0.11525057,\n",
       "         0.0170782 ],\n",
       "        ...,\n",
       "        [0.30667723, 0.23809375, 0.00918696, ..., 0.08125444, 0.07047313,\n",
       "         0.0081484 ],\n",
       "        [0.05946081, 0.30487779, 0.02756013, ..., 0.03812743, 0.11840348,\n",
       "         0.01756495],\n",
       "        [0.05779241, 0.3146906 , 0.02678666, ..., 0.03760666, 0.11524457,\n",
       "         0.01707727]]),\n",
       " 'Object_Type_train_y': 134338                      NO_LABEL\n",
       " 326408      Base Salary/Compensation\n",
       " 47683        Substitute Compensation\n",
       " 229958                      Benefits\n",
       " 417668            Supplies/Materials\n",
       " 126378                      Benefits\n",
       " 85262                       Benefits\n",
       " 304569                      NO_LABEL\n",
       " 84272       Base Salary/Compensation\n",
       " 21870                       NO_LABEL\n",
       " 18698        Substitute Compensation\n",
       " 169454            Supplies/Materials\n",
       " 169914      Base Salary/Compensation\n",
       " 189701                Rent/Utilities\n",
       " 43727                       NO_LABEL\n",
       " 5614                        NO_LABEL\n",
       " 291539      Base Salary/Compensation\n",
       " 307038      Base Salary/Compensation\n",
       " 27645                       NO_LABEL\n",
       " 126388       Substitute Compensation\n",
       " 14962       Base Salary/Compensation\n",
       " 84040                       NO_LABEL\n",
       " 61639                       Benefits\n",
       " 225768    Other Compensation/Stipend\n",
       " 267322                      Benefits\n",
       " 35619       Base Salary/Compensation\n",
       " 308098    Other Compensation/Stipend\n",
       " 227367                      NO_LABEL\n",
       " 329096      Base Salary/Compensation\n",
       " 238335      Base Salary/Compensation\n",
       "                      ...            \n",
       " 325834            Supplies/Materials\n",
       " 82242            Contracted Services\n",
       " 272277                      NO_LABEL\n",
       " 395293    Other Compensation/Stipend\n",
       " 36463            Contracted Services\n",
       " 209265                      NO_LABEL\n",
       " 333748      Base Salary/Compensation\n",
       " 292626                      NO_LABEL\n",
       " 128261      Base Salary/Compensation\n",
       " 186318      Base Salary/Compensation\n",
       " 210652       Substitute Compensation\n",
       " 340354                      Benefits\n",
       " 435205                      Benefits\n",
       " 174827      Base Salary/Compensation\n",
       " 277504                      Benefits\n",
       " 70455                       NO_LABEL\n",
       " 72072       Base Salary/Compensation\n",
       " 68311     Other Compensation/Stipend\n",
       " 225892      Base Salary/Compensation\n",
       " 446383                      NO_LABEL\n",
       " 155111    Other Compensation/Stipend\n",
       " 278248            Supplies/Materials\n",
       " 397424                      NO_LABEL\n",
       " 220181      Base Salary/Compensation\n",
       " 307423                      NO_LABEL\n",
       " 46691     Other Compensation/Stipend\n",
       " 109283    Other Compensation/Stipend\n",
       " 102430      Base Salary/Compensation\n",
       " 433672                      Benefits\n",
       " 415831       Substitute Compensation\n",
       " Name: Object_Type, Length: 320222, dtype: category\n",
       " Categories (11, object): [Base Salary/Compensation, Benefits, Contracted Services, Equipment & Equipment Lease, ..., Rent/Utilities, Substitute Compensation, Supplies/Materials, Travel & Conferences],\n",
       " 'Object_Type_test_yhat': array(['Benefits', 'Benefits', 'Benefits', ...,\n",
       "        'Base Salary/Compensation', 'Base Salary/Compensation',\n",
       "        'Base Salary/Compensation'], dtype=object),\n",
       " 'Object_Type_test_probas': array([[0.05923091, 0.30623108, 0.02745354, ..., 0.03805636, 0.11796852,\n",
       "         0.01749776],\n",
       "        [0.05778236, 0.31474968, 0.026782  , ..., 0.03760349, 0.11522551,\n",
       "         0.01707433],\n",
       "        [0.05786789, 0.31424719, 0.02682165, ..., 0.03763046, 0.11538759,\n",
       "         0.01709933],\n",
       "        ...,\n",
       "        [0.30659487, 0.23818028, 0.00918454, ..., 0.0812474 , 0.07045582,\n",
       "         0.00814628],\n",
       "        [0.30669518, 0.2380744 , 0.00918756, ..., 0.08125575, 0.07047725,\n",
       "         0.00814891],\n",
       "        [0.31374332, 0.23070136, 0.00938514, ..., 0.08188812, 0.07191544,\n",
       "         0.00832383]]),\n",
       " 'Object_Type_test_y': 206341                       NO_LABEL\n",
       " 364634                       Benefits\n",
       " 275539                       Benefits\n",
       " 330504             Supplies/Materials\n",
       " 64760                        NO_LABEL\n",
       " 266302                       Benefits\n",
       " 80585                        Benefits\n",
       " 231688        Substitute Compensation\n",
       " 328560     Other Compensation/Stipend\n",
       " 263107             Supplies/Materials\n",
       " 172213       Base Salary/Compensation\n",
       " 325427                       NO_LABEL\n",
       " 29389                        Benefits\n",
       " 381109        Substitute Compensation\n",
       " 370555             Supplies/Materials\n",
       " 440127        Substitute Compensation\n",
       " 325090                       Benefits\n",
       " 383119       Base Salary/Compensation\n",
       " 19635        Base Salary/Compensation\n",
       " 428220       Base Salary/Compensation\n",
       " 111550                       Benefits\n",
       " 190675                       Benefits\n",
       " 358766                       NO_LABEL\n",
       " 209391             Supplies/Materials\n",
       " 182924       Base Salary/Compensation\n",
       " 266955                       Benefits\n",
       " 55658         Substitute Compensation\n",
       " 55030      Other Compensation/Stipend\n",
       " 326332                       Benefits\n",
       " 137456             Supplies/Materials\n",
       "                      ...             \n",
       " 295217     Other Compensation/Stipend\n",
       " 424924             Supplies/Materials\n",
       " 30734                        Benefits\n",
       " 233013                       Benefits\n",
       " 87519                        NO_LABEL\n",
       " 405120             Supplies/Materials\n",
       " 293852       Base Salary/Compensation\n",
       " 415168             Supplies/Materials\n",
       " 326406                       Benefits\n",
       " 214308                       NO_LABEL\n",
       " 290459         Other Non-Compensation\n",
       " 220345             Supplies/Materials\n",
       " 294654     Other Compensation/Stipend\n",
       " 377156                       NO_LABEL\n",
       " 177734            Contracted Services\n",
       " 149066                       NO_LABEL\n",
       " 207895       Base Salary/Compensation\n",
       " 437599    Equipment & Equipment Lease\n",
       " 22476      Other Compensation/Stipend\n",
       " 157693                       NO_LABEL\n",
       " 135370                       NO_LABEL\n",
       " 98381        Base Salary/Compensation\n",
       " 168851       Base Salary/Compensation\n",
       " 54280         Substitute Compensation\n",
       " 343458       Base Salary/Compensation\n",
       " 248062           Travel & Conferences\n",
       " 203453                       NO_LABEL\n",
       " 58170         Substitute Compensation\n",
       " 375092        Substitute Compensation\n",
       " 413949                       NO_LABEL\n",
       " Name: Object_Type, Length: 80055, dtype: category\n",
       " Categories (11, object): [Base Salary/Compensation, Benefits, Contracted Services, Equipment & Equipment Lease, ..., Rent/Utilities, Substitute Compensation, Supplies/Materials, Travel & Conferences],\n",
       " 'Operating_Status_train_yhat': array(['PreK-12 Operating', 'PreK-12 Operating', 'PreK-12 Operating', ...,\n",
       "        'PreK-12 Operating', 'PreK-12 Operating', 'PreK-12 Operating'],\n",
       "       dtype=object),\n",
       " 'Operating_Status_train_probas': array([[0.03791281, 0.04147408, 0.92061311],\n",
       "        [0.03793897, 0.0414904 , 0.92057063],\n",
       "        [0.16942513, 0.02024081, 0.81033407],\n",
       "        ...,\n",
       "        [0.03786079, 0.04137542, 0.92076379],\n",
       "        [0.16946401, 0.02024412, 0.81029187],\n",
       "        [0.16942505, 0.0202408 , 0.81033415]]),\n",
       " 'Operating_Status_train_y': 134338         PreK-12 Operating\n",
       " 326408         PreK-12 Operating\n",
       " 47683          PreK-12 Operating\n",
       " 229958         PreK-12 Operating\n",
       " 417668         PreK-12 Operating\n",
       " 126378         PreK-12 Operating\n",
       " 85262          PreK-12 Operating\n",
       " 304569             Non-Operating\n",
       " 84272          PreK-12 Operating\n",
       " 21870     Operating, Not PreK-12\n",
       " 18698          PreK-12 Operating\n",
       " 169454         PreK-12 Operating\n",
       " 169914         PreK-12 Operating\n",
       " 189701         PreK-12 Operating\n",
       " 43727              Non-Operating\n",
       " 5614               Non-Operating\n",
       " 291539         PreK-12 Operating\n",
       " 307038         PreK-12 Operating\n",
       " 27645     Operating, Not PreK-12\n",
       " 126388         PreK-12 Operating\n",
       " 14962          PreK-12 Operating\n",
       " 84040              Non-Operating\n",
       " 61639          PreK-12 Operating\n",
       " 225768         PreK-12 Operating\n",
       " 267322         PreK-12 Operating\n",
       " 35619          PreK-12 Operating\n",
       " 308098         PreK-12 Operating\n",
       " 227367             Non-Operating\n",
       " 329096         PreK-12 Operating\n",
       " 238335         PreK-12 Operating\n",
       "                    ...          \n",
       " 325834         PreK-12 Operating\n",
       " 82242          PreK-12 Operating\n",
       " 272277             Non-Operating\n",
       " 395293         PreK-12 Operating\n",
       " 36463          PreK-12 Operating\n",
       " 209265         PreK-12 Operating\n",
       " 333748         PreK-12 Operating\n",
       " 292626             Non-Operating\n",
       " 128261         PreK-12 Operating\n",
       " 186318         PreK-12 Operating\n",
       " 210652         PreK-12 Operating\n",
       " 340354         PreK-12 Operating\n",
       " 435205         PreK-12 Operating\n",
       " 174827         PreK-12 Operating\n",
       " 277504         PreK-12 Operating\n",
       " 70455     Operating, Not PreK-12\n",
       " 72072          PreK-12 Operating\n",
       " 68311          PreK-12 Operating\n",
       " 225892         PreK-12 Operating\n",
       " 446383             Non-Operating\n",
       " 155111         PreK-12 Operating\n",
       " 278248         PreK-12 Operating\n",
       " 397424             Non-Operating\n",
       " 220181         PreK-12 Operating\n",
       " 307423             Non-Operating\n",
       " 46691          PreK-12 Operating\n",
       " 109283         PreK-12 Operating\n",
       " 102430         PreK-12 Operating\n",
       " 433672         PreK-12 Operating\n",
       " 415831         PreK-12 Operating\n",
       " Name: Operating_Status, Length: 320222, dtype: category\n",
       " Categories (3, object): [Non-Operating, Operating, Not PreK-12, PreK-12 Operating],\n",
       " 'Operating_Status_test_yhat': array(['PreK-12 Operating', 'PreK-12 Operating', 'PreK-12 Operating', ...,\n",
       "        'PreK-12 Operating', 'PreK-12 Operating', 'PreK-12 Operating'],\n",
       "       dtype=object),\n",
       " 'Operating_Status_test_probas': array([[0.1694587 , 0.02024366, 0.81029764],\n",
       "        [0.16942481, 0.02024078, 0.8103344 ],\n",
       "        [0.16942683, 0.02024095, 0.81033221],\n",
       "        ...,\n",
       "        [0.03786093, 0.04137521, 0.92076386],\n",
       "        [0.03786108, 0.04137531, 0.92076361],\n",
       "        [0.03781167, 0.04141093, 0.9207774 ]]),\n",
       " 'Operating_Status_test_y': 206341             Non-Operating\n",
       " 364634         PreK-12 Operating\n",
       " 275539         PreK-12 Operating\n",
       " 330504         PreK-12 Operating\n",
       " 64760              Non-Operating\n",
       " 266302         PreK-12 Operating\n",
       " 80585          PreK-12 Operating\n",
       " 231688         PreK-12 Operating\n",
       " 328560         PreK-12 Operating\n",
       " 263107         PreK-12 Operating\n",
       " 172213         PreK-12 Operating\n",
       " 325427             Non-Operating\n",
       " 29389          PreK-12 Operating\n",
       " 381109         PreK-12 Operating\n",
       " 370555         PreK-12 Operating\n",
       " 440127         PreK-12 Operating\n",
       " 325090         PreK-12 Operating\n",
       " 383119         PreK-12 Operating\n",
       " 19635          PreK-12 Operating\n",
       " 428220         PreK-12 Operating\n",
       " 111550         PreK-12 Operating\n",
       " 190675         PreK-12 Operating\n",
       " 358766    Operating, Not PreK-12\n",
       " 209391         PreK-12 Operating\n",
       " 182924         PreK-12 Operating\n",
       " 266955         PreK-12 Operating\n",
       " 55658          PreK-12 Operating\n",
       " 55030          PreK-12 Operating\n",
       " 326332         PreK-12 Operating\n",
       " 137456         PreK-12 Operating\n",
       "                    ...          \n",
       " 295217         PreK-12 Operating\n",
       " 424924         PreK-12 Operating\n",
       " 30734          PreK-12 Operating\n",
       " 233013         PreK-12 Operating\n",
       " 87519              Non-Operating\n",
       " 405120         PreK-12 Operating\n",
       " 293852         PreK-12 Operating\n",
       " 415168         PreK-12 Operating\n",
       " 326406         PreK-12 Operating\n",
       " 214308             Non-Operating\n",
       " 290459         PreK-12 Operating\n",
       " 220345         PreK-12 Operating\n",
       " 294654         PreK-12 Operating\n",
       " 377156         PreK-12 Operating\n",
       " 177734         PreK-12 Operating\n",
       " 149066             Non-Operating\n",
       " 207895         PreK-12 Operating\n",
       " 437599         PreK-12 Operating\n",
       " 22476          PreK-12 Operating\n",
       " 157693         PreK-12 Operating\n",
       " 135370             Non-Operating\n",
       " 98381          PreK-12 Operating\n",
       " 168851         PreK-12 Operating\n",
       " 54280          PreK-12 Operating\n",
       " 343458         PreK-12 Operating\n",
       " 248062         PreK-12 Operating\n",
       " 203453             Non-Operating\n",
       " 58170          PreK-12 Operating\n",
       " 375092         PreK-12 Operating\n",
       " 413949         PreK-12 Operating\n",
       " Name: Operating_Status, Length: 80055, dtype: category\n",
       " Categories (3, object): [Non-Operating, Operating, Not PreK-12, PreK-12 Operating],\n",
       " 'Position_Type_train_yhat': array(['Teacher', 'Teacher', 'NO_LABEL', ..., 'Substitute', 'NO_LABEL',\n",
       "        'NO_LABEL'], dtype=object),\n",
       " 'Position_Type_train_probas': array([[6.39472048e-03, 6.28398325e-02, 8.87970729e-03, ...,\n",
       "         9.13511189e-02, 2.17990545e-01, 8.76745844e-03],\n",
       "        [6.61611865e-03, 6.47053690e-02, 9.17906406e-03, ...,\n",
       "         9.43057920e-02, 2.25506946e-01, 9.07022362e-03],\n",
       "        [7.15283402e-04, 1.30829948e-04, 1.21642003e-02, ...,\n",
       "         4.19148778e-02, 2.39345715e-01, 4.82628663e-03],\n",
       "        ...,\n",
       "        [5.38386827e-03, 5.38097648e-02, 7.52281542e-03, ...,\n",
       "         7.77510110e-02, 1.84055853e-01, 7.39589269e-03],\n",
       "        [7.20771782e-04, 1.31602723e-04, 1.22538895e-02, ...,\n",
       "         4.22025431e-02, 2.41172617e-01, 4.86317592e-03],\n",
       "        [7.15272544e-04, 1.30828404e-04, 1.21640226e-02, ...,\n",
       "         4.19143064e-02, 2.39342100e-01, 4.82621364e-03]]),\n",
       " 'Position_Type_train_y': 134338                Teacher\n",
       " 326408                Teacher\n",
       " 47683                 Teacher\n",
       " 229958              Custodian\n",
       " 417668           Non-Position\n",
       " 126378    Coordinator/Manager\n",
       " 85262              Substitute\n",
       " 304569               NO_LABEL\n",
       " 84272                 Teacher\n",
       " 21870                NO_LABEL\n",
       " 18698              Substitute\n",
       " 169454               NO_LABEL\n",
       " 169914                  Other\n",
       " 189701           Non-Position\n",
       " 43727                NO_LABEL\n",
       " 5614                 NO_LABEL\n",
       " 291539             Substitute\n",
       " 307038                Teacher\n",
       " 27645                NO_LABEL\n",
       " 126388             Substitute\n",
       " 14962                 Teacher\n",
       " 84040                NO_LABEL\n",
       " 61639              Substitute\n",
       " 225768                  Other\n",
       " 267322                Teacher\n",
       " 35619                 Teacher\n",
       " 308098                  Other\n",
       " 227367               NO_LABEL\n",
       " 329096    Coordinator/Manager\n",
       " 238335             Substitute\n",
       "                  ...         \n",
       " 325834               NO_LABEL\n",
       " 82242                NO_LABEL\n",
       " 272277               NO_LABEL\n",
       " 395293                Teacher\n",
       " 36463            Non-Position\n",
       " 209265                Teacher\n",
       " 333748           Psychologist\n",
       " 292626               NO_LABEL\n",
       " 128261                Teacher\n",
       " 186318                Teacher\n",
       " 210652             Substitute\n",
       " 340354                     TA\n",
       " 435205                Teacher\n",
       " 174827                     TA\n",
       " 277504                Teacher\n",
       " 70455                NO_LABEL\n",
       " 72072          Vice Principal\n",
       " 68311                 Teacher\n",
       " 225892                Teacher\n",
       " 446383               NO_LABEL\n",
       " 155111                  Other\n",
       " 278248               NO_LABEL\n",
       " 397424               NO_LABEL\n",
       " 220181                  Other\n",
       " 307423               NO_LABEL\n",
       " 46691                 Teacher\n",
       " 109283    Instructional Coach\n",
       " 102430             Substitute\n",
       " 433672              Librarian\n",
       " 415831             Substitute\n",
       " Name: Position_Type, Length: 320222, dtype: category\n",
       " Categories (25, object): [(Exec) Director, Area Officers, Club Advisor/Coach, Coordinator/Manager, ..., Substitute, TA, Teacher, Vice Principal],\n",
       " 'Position_Type_test_yhat': array(['NO_LABEL', 'NO_LABEL', 'NO_LABEL', ..., 'Substitute',\n",
       "        'Substitute', 'Substitute'], dtype=object),\n",
       " 'Position_Type_test_probas': array([[7.20038926e-04, 1.31500462e-04, 1.22419284e-02, ...,\n",
       "         4.21642697e-02, 2.40928713e-01, 4.85825074e-03],\n",
       "        [7.15238081e-04, 1.30823503e-04, 1.21634587e-02, ...,\n",
       "         4.19124928e-02, 2.39330626e-01, 4.82598198e-03],\n",
       "        [7.15530644e-04, 1.30865093e-04, 1.21682460e-02, ...,\n",
       "         4.19278861e-02, 2.39428027e-01, 4.82794864e-03],\n",
       "        ...,\n",
       "        [5.38277330e-03, 5.37992599e-02, 7.52139832e-03, ...,\n",
       "         7.77365197e-02, 1.84020350e-01, 7.39444203e-03],\n",
       "        [5.38407901e-03, 5.38107677e-02, 7.52318309e-03, ...,\n",
       "         7.77543486e-02, 1.84064837e-01, 7.39623189e-03],\n",
       "        [5.48085701e-03, 5.48651652e-02, 7.63668698e-03, ...,\n",
       "         7.89671221e-02, 1.86936773e-01, 7.51701884e-03]]),\n",
       " 'Position_Type_test_y': 206341                 NO_LABEL\n",
       " 364634               Substitute\n",
       " 275539                  Teacher\n",
       " 330504                 NO_LABEL\n",
       " 64760                  NO_LABEL\n",
       " 266302                  Teacher\n",
       " 80585                   Teacher\n",
       " 231688               Substitute\n",
       " 328560                Custodian\n",
       " 263107                 NO_LABEL\n",
       " 172213                  Teacher\n",
       " 325427                 NO_LABEL\n",
       " 29389                   Teacher\n",
       " 381109                  Teacher\n",
       " 370555                 NO_LABEL\n",
       " 440127               Substitute\n",
       " 325090                    Other\n",
       " 383119    Sec/Clerk/Other Admin\n",
       " 19635                        TA\n",
       " 428220       Guidance Counselor\n",
       " 111550                  Teacher\n",
       " 190675                       TA\n",
       " 358766                 NO_LABEL\n",
       " 209391             Non-Position\n",
       " 182924           Vice Principal\n",
       " 266955                  Teacher\n",
       " 55658                Substitute\n",
       " 55030                   Teacher\n",
       " 326332                  Teacher\n",
       " 137456                 NO_LABEL\n",
       "                   ...          \n",
       " 295217                  Teacher\n",
       " 424924             Non-Position\n",
       " 30734                     Other\n",
       " 233013      Coordinator/Manager\n",
       " 87519                  NO_LABEL\n",
       " 405120                 NO_LABEL\n",
       " 293852                       TA\n",
       " 415168             Non-Position\n",
       " 326406                  Teacher\n",
       " 214308                 NO_LABEL\n",
       " 290459                 NO_LABEL\n",
       " 220345                 NO_LABEL\n",
       " 294654             Non-Position\n",
       " 377156    Sec/Clerk/Other Admin\n",
       " 177734                 NO_LABEL\n",
       " 149066                 NO_LABEL\n",
       " 207895                    Other\n",
       " 437599             Non-Position\n",
       " 22476                     Other\n",
       " 157693                       TA\n",
       " 135370                 NO_LABEL\n",
       " 98381                Substitute\n",
       " 168851                    Other\n",
       " 54280                Substitute\n",
       " 343458               Substitute\n",
       " 248062                 NO_LABEL\n",
       " 203453                 NO_LABEL\n",
       " 58170                Substitute\n",
       " 375092               Substitute\n",
       " 413949                    Other\n",
       " Name: Position_Type, Length: 80055, dtype: category\n",
       " Categories (25, object): [(Exec) Director, Area Officers, Club Advisor/Coach, Coordinator/Manager, ..., Substitute, TA, Teacher, Vice Principal],\n",
       " 'Pre_K_train_yhat': array(['NO_LABEL', 'NO_LABEL', 'NO_LABEL', ..., 'NO_LABEL', 'NO_LABEL',\n",
       "        'NO_LABEL'], dtype=object),\n",
       " 'Pre_K_train_probas': array([[0.53664483, 0.41432113, 0.04903404],\n",
       "        [0.53679005, 0.41420119, 0.04900876],\n",
       "        [0.83109732, 0.14131375, 0.02758893],\n",
       "        ...,\n",
       "        [0.53641167, 0.41447334, 0.04911499],\n",
       "        [0.83111449, 0.14130077, 0.02758474],\n",
       "        [0.83109729, 0.14131377, 0.02758894]]),\n",
       " 'Pre_K_train_y': 134338    NO_LABEL\n",
       " 326408    Non PreK\n",
       " 47683     NO_LABEL\n",
       " 229958    NO_LABEL\n",
       " 417668    NO_LABEL\n",
       " 126378    NO_LABEL\n",
       " 85262     NO_LABEL\n",
       " 304569    NO_LABEL\n",
       " 84272     Non PreK\n",
       " 21870     NO_LABEL\n",
       " 18698     Non PreK\n",
       " 169454    NO_LABEL\n",
       " 169914    Non PreK\n",
       " 189701    NO_LABEL\n",
       " 43727     NO_LABEL\n",
       " 5614      NO_LABEL\n",
       " 291539    NO_LABEL\n",
       " 307038    Non PreK\n",
       " 27645     NO_LABEL\n",
       " 126388    Non PreK\n",
       " 14962     Non PreK\n",
       " 84040     NO_LABEL\n",
       " 61639     NO_LABEL\n",
       " 225768    Non PreK\n",
       " 267322    NO_LABEL\n",
       " 35619     Non PreK\n",
       " 308098    Non PreK\n",
       " 227367    NO_LABEL\n",
       " 329096    NO_LABEL\n",
       " 238335    NO_LABEL\n",
       "             ...   \n",
       " 325834    NO_LABEL\n",
       " 82242     NO_LABEL\n",
       " 272277    NO_LABEL\n",
       " 395293    NO_LABEL\n",
       " 36463     NO_LABEL\n",
       " 209265    NO_LABEL\n",
       " 333748    Non PreK\n",
       " 292626    NO_LABEL\n",
       " 128261    NO_LABEL\n",
       " 186318    NO_LABEL\n",
       " 210652    Non PreK\n",
       " 340354    NO_LABEL\n",
       " 435205    NO_LABEL\n",
       " 174827    NO_LABEL\n",
       " 277504    NO_LABEL\n",
       " 70455     NO_LABEL\n",
       " 72072     Non PreK\n",
       " 68311     NO_LABEL\n",
       " 225892    NO_LABEL\n",
       " 446383    NO_LABEL\n",
       " 155111    Non PreK\n",
       " 278248    NO_LABEL\n",
       " 397424    NO_LABEL\n",
       " 220181    Non PreK\n",
       " 307423    NO_LABEL\n",
       " 46691     NO_LABEL\n",
       " 109283    NO_LABEL\n",
       " 102430    NO_LABEL\n",
       " 433672    NO_LABEL\n",
       " 415831    Non PreK\n",
       " Name: Pre_K, Length: 320222, dtype: category\n",
       " Categories (3, object): [NO_LABEL, Non PreK, PreK],\n",
       " 'Pre_K_test_yhat': array(['NO_LABEL', 'NO_LABEL', 'NO_LABEL', ..., 'NO_LABEL', 'NO_LABEL',\n",
       "        'NO_LABEL'], dtype=object),\n",
       " 'Pre_K_test_probas': array([[0.83111214, 0.14130255, 0.02758531],\n",
       "        [0.83109718, 0.14131385, 0.02758897],\n",
       "        [0.83109808, 0.14131318, 0.02758875],\n",
       "        ...,\n",
       "        [0.53641264, 0.41447236, 0.049115  ],\n",
       "        [0.53641352, 0.41447164, 0.04911484],\n",
       "        [0.53608187, 0.41478603, 0.04913209]]),\n",
       " 'Pre_K_test_y': 206341    NO_LABEL\n",
       " 364634    NO_LABEL\n",
       " 275539    NO_LABEL\n",
       " 330504    NO_LABEL\n",
       " 64760     NO_LABEL\n",
       " 266302    NO_LABEL\n",
       " 80585     NO_LABEL\n",
       " 231688    NO_LABEL\n",
       " 328560    Non PreK\n",
       " 263107    NO_LABEL\n",
       " 172213    NO_LABEL\n",
       " 325427    NO_LABEL\n",
       " 29389     NO_LABEL\n",
       " 381109    Non PreK\n",
       " 370555    Non PreK\n",
       " 440127    Non PreK\n",
       " 325090    NO_LABEL\n",
       " 383119    NO_LABEL\n",
       " 19635     Non PreK\n",
       " 428220    NO_LABEL\n",
       " 111550    NO_LABEL\n",
       " 190675    NO_LABEL\n",
       " 358766    NO_LABEL\n",
       " 209391    NO_LABEL\n",
       " 182924    NO_LABEL\n",
       " 266955    NO_LABEL\n",
       " 55658     Non PreK\n",
       " 55030     Non PreK\n",
       " 326332    NO_LABEL\n",
       " 137456    NO_LABEL\n",
       "             ...   \n",
       " 295217    NO_LABEL\n",
       " 424924    NO_LABEL\n",
       " 30734     NO_LABEL\n",
       " 233013    NO_LABEL\n",
       " 87519     NO_LABEL\n",
       " 405120    NO_LABEL\n",
       " 293852        PreK\n",
       " 415168        PreK\n",
       " 326406        PreK\n",
       " 214308    NO_LABEL\n",
       " 290459    NO_LABEL\n",
       " 220345    NO_LABEL\n",
       " 294654    Non PreK\n",
       " 377156    NO_LABEL\n",
       " 177734    NO_LABEL\n",
       " 149066    NO_LABEL\n",
       " 207895    NO_LABEL\n",
       " 437599    Non PreK\n",
       " 22476     Non PreK\n",
       " 157693    NO_LABEL\n",
       " 135370    NO_LABEL\n",
       " 98381     NO_LABEL\n",
       " 168851    NO_LABEL\n",
       " 54280     Non PreK\n",
       " 343458    NO_LABEL\n",
       " 248062    Non PreK\n",
       " 203453    NO_LABEL\n",
       " 58170     Non PreK\n",
       " 375092    Non PreK\n",
       " 413949    NO_LABEL\n",
       " Name: Pre_K, Length: 80055, dtype: category\n",
       " Categories (3, object): [NO_LABEL, Non PreK, PreK],\n",
       " 'Reporting_train_yhat': array(['School', 'School', 'School', ..., 'School', 'School', 'School'],\n",
       "       dtype=object),\n",
       " 'Reporting_train_probas': array([[0.04486863, 0.2072149 , 0.74791648],\n",
       "        [0.04493724, 0.20726536, 0.74779741],\n",
       "        [0.18959213, 0.22670169, 0.58370619],\n",
       "        ...,\n",
       "        [0.04464636, 0.20702675, 0.74832689],\n",
       "        [0.18967657, 0.22671909, 0.58360434],\n",
       "        [0.18959196, 0.22670166, 0.58370638]]),\n",
       " 'Reporting_train_y': 134338        School\n",
       " 326408        School\n",
       " 47683         School\n",
       " 229958        School\n",
       " 417668        School\n",
       " 126378    Non-School\n",
       " 85262         School\n",
       " 304569      NO_LABEL\n",
       " 84272         School\n",
       " 21870       NO_LABEL\n",
       " 18698         School\n",
       " 169454        School\n",
       " 169914    Non-School\n",
       " 189701        School\n",
       " 43727       NO_LABEL\n",
       " 5614        NO_LABEL\n",
       " 291539        School\n",
       " 307038        School\n",
       " 27645       NO_LABEL\n",
       " 126388        School\n",
       " 14962         School\n",
       " 84040       NO_LABEL\n",
       " 61639         School\n",
       " 225768    Non-School\n",
       " 267322        School\n",
       " 35619         School\n",
       " 308098    Non-School\n",
       " 227367      NO_LABEL\n",
       " 329096    Non-School\n",
       " 238335        School\n",
       "              ...    \n",
       " 325834    Non-School\n",
       " 82242         School\n",
       " 272277      NO_LABEL\n",
       " 395293    Non-School\n",
       " 36463         School\n",
       " 209265        School\n",
       " 333748    Non-School\n",
       " 292626      NO_LABEL\n",
       " 128261        School\n",
       " 186318        School\n",
       " 210652        School\n",
       " 340354        School\n",
       " 435205        School\n",
       " 174827        School\n",
       " 277504        School\n",
       " 70455       NO_LABEL\n",
       " 72072         School\n",
       " 68311     Non-School\n",
       " 225892        School\n",
       " 446383      NO_LABEL\n",
       " 155111    Non-School\n",
       " 278248        School\n",
       " 397424      NO_LABEL\n",
       " 220181        School\n",
       " 307423      NO_LABEL\n",
       " 46691     Non-School\n",
       " 109283    Non-School\n",
       " 102430        School\n",
       " 433672    Non-School\n",
       " 415831        School\n",
       " Name: Reporting, Length: 320222, dtype: category\n",
       " Categories (3, object): [NO_LABEL, Non-School, School],\n",
       " 'Reporting_test_yhat': array(['School', 'School', 'School', ..., 'School', 'School', 'School'],\n",
       "       dtype=object),\n",
       " 'Reporting_test_probas': array([[0.18966502, 0.22671671, 0.58361827],\n",
       "        [0.18959145, 0.22670155, 0.583707  ],\n",
       "        [0.18959583, 0.22670245, 0.58370172],\n",
       "        ...,\n",
       "        [0.04464633, 0.20702662, 0.74832705],\n",
       "        [0.04464674, 0.20702692, 0.74832634],\n",
       "        [0.04460399, 0.20702017, 0.74837585]]),\n",
       " 'Reporting_test_y': 206341      NO_LABEL\n",
       " 364634        School\n",
       " 275539        School\n",
       " 330504        School\n",
       " 64760       NO_LABEL\n",
       " 266302        School\n",
       " 80585         School\n",
       " 231688        School\n",
       " 328560        School\n",
       " 263107        School\n",
       " 172213        School\n",
       " 325427      NO_LABEL\n",
       " 29389         School\n",
       " 381109        School\n",
       " 370555    Non-School\n",
       " 440127        School\n",
       " 325090    Non-School\n",
       " 383119    Non-School\n",
       " 19635         School\n",
       " 428220        School\n",
       " 111550        School\n",
       " 190675        School\n",
       " 358766      NO_LABEL\n",
       " 209391    Non-School\n",
       " 182924        School\n",
       " 266955        School\n",
       " 55658         School\n",
       " 55030         School\n",
       " 326332    Non-School\n",
       " 137456        School\n",
       "              ...    \n",
       " 295217        School\n",
       " 424924        School\n",
       " 30734     Non-School\n",
       " 233013    Non-School\n",
       " 87519       NO_LABEL\n",
       " 405120        School\n",
       " 293852    Non-School\n",
       " 415168        School\n",
       " 326406        School\n",
       " 214308      NO_LABEL\n",
       " 290459    Non-School\n",
       " 220345        School\n",
       " 294654    Non-School\n",
       " 377156    Non-School\n",
       " 177734    Non-School\n",
       " 149066      NO_LABEL\n",
       " 207895    Non-School\n",
       " 437599    Non-School\n",
       " 22476     Non-School\n",
       " 157693        School\n",
       " 135370      NO_LABEL\n",
       " 98381         School\n",
       " 168851    Non-School\n",
       " 54280         School\n",
       " 343458    Non-School\n",
       " 248062        School\n",
       " 203453      NO_LABEL\n",
       " 58170         School\n",
       " 375092        School\n",
       " 413949        School\n",
       " Name: Reporting, Length: 80055, dtype: category\n",
       " Categories (3, object): [NO_LABEL, Non-School, School],\n",
       " 'Sharing_train_yhat': array(['School Reported', 'School Reported', 'School Reported', ...,\n",
       "        'School Reported', 'School Reported', 'School Reported'],\n",
       "       dtype=object),\n",
       " 'Sharing_train_probas': array([[0.08131766, 0.06599849, 0.64585824, 0.09127998, 0.11554563],\n",
       "        [0.08131334, 0.0660807 , 0.64578955, 0.09127606, 0.11554035],\n",
       "        [0.04569682, 0.19859072, 0.57595518, 0.06781849, 0.11193879],\n",
       "        ...,\n",
       "        [0.08129378, 0.06572605, 0.6461382 , 0.09127353, 0.11556844],\n",
       "        [0.04569587, 0.19866625, 0.57588337, 0.0678174 , 0.11193711],\n",
       "        [0.04569682, 0.19859058, 0.57595532, 0.06781849, 0.11193879]]),\n",
       " 'Sharing_train_y': 134338              School Reported\n",
       " 326408              School Reported\n",
       " 47683               School Reported\n",
       " 229958              School Reported\n",
       " 417668              School Reported\n",
       " 126378    School on Central Budgets\n",
       " 85262               School Reported\n",
       " 304569                     NO_LABEL\n",
       " 84272               School Reported\n",
       " 21870                      NO_LABEL\n",
       " 18698               School Reported\n",
       " 169454              School Reported\n",
       " 169914      Leadership & Management\n",
       " 189701              School Reported\n",
       " 43727                      NO_LABEL\n",
       " 5614                       NO_LABEL\n",
       " 291539              School Reported\n",
       " 307038              School Reported\n",
       " 27645                      NO_LABEL\n",
       " 126388              School Reported\n",
       " 14962               School Reported\n",
       " 84040                      NO_LABEL\n",
       " 61639               School Reported\n",
       " 225768              Shared Services\n",
       " 267322              School Reported\n",
       " 35619               School Reported\n",
       " 308098              Shared Services\n",
       " 227367                     NO_LABEL\n",
       " 329096      Leadership & Management\n",
       " 238335              School Reported\n",
       "                     ...            \n",
       " 325834              Shared Services\n",
       " 82242               School Reported\n",
       " 272277                     NO_LABEL\n",
       " 395293              Shared Services\n",
       " 36463               School Reported\n",
       " 209265              School Reported\n",
       " 333748    School on Central Budgets\n",
       " 292626                     NO_LABEL\n",
       " 128261              School Reported\n",
       " 186318              School Reported\n",
       " 210652              School Reported\n",
       " 340354              School Reported\n",
       " 435205              School Reported\n",
       " 174827              School Reported\n",
       " 277504              School Reported\n",
       " 70455                      NO_LABEL\n",
       " 72072               School Reported\n",
       " 68311     School on Central Budgets\n",
       " 225892              School Reported\n",
       " 446383                     NO_LABEL\n",
       " 155111              Shared Services\n",
       " 278248              School Reported\n",
       " 397424                     NO_LABEL\n",
       " 220181              Shared Services\n",
       " 307423                     NO_LABEL\n",
       " 46691     School on Central Budgets\n",
       " 109283              Shared Services\n",
       " 102430              School Reported\n",
       " 433672    School on Central Budgets\n",
       " 415831              School Reported\n",
       " Name: Sharing, Length: 320222, dtype: category\n",
       " Categories (5, object): [Leadership & Management, NO_LABEL, School Reported, School on Central Budgets, Shared Services],\n",
       " 'Sharing_test_yhat': array(['School Reported', 'School Reported', 'School Reported', ...,\n",
       "        'School Reported', 'School Reported', 'School Reported'],\n",
       "       dtype=object),\n",
       " 'Sharing_test_probas': array([[0.045696  , 0.19865592, 0.5758932 , 0.06781755, 0.11193734],\n",
       "        [0.04569682, 0.19859012, 0.57595576, 0.06781849, 0.1119388 ],\n",
       "        [0.04569677, 0.19859404, 0.57595203, 0.06781844, 0.11193872],\n",
       "        ...,\n",
       "        [0.08129361, 0.06572599, 0.64613848, 0.09127345, 0.11556847],\n",
       "        [0.08129359, 0.06572648, 0.64613807, 0.09127343, 0.11556843],\n",
       "        [0.08133454, 0.06568114, 0.64612274, 0.09129532, 0.11556626]]),\n",
       " 'Sharing_test_y': 206341                     NO_LABEL\n",
       " 364634              School Reported\n",
       " 275539              School Reported\n",
       " 330504              School Reported\n",
       " 64760                      NO_LABEL\n",
       " 266302              School Reported\n",
       " 80585               School Reported\n",
       " 231688              School Reported\n",
       " 328560              School Reported\n",
       " 263107              School Reported\n",
       " 172213              School Reported\n",
       " 325427                     NO_LABEL\n",
       " 29389               School Reported\n",
       " 381109              School Reported\n",
       " 370555    School on Central Budgets\n",
       " 440127              School Reported\n",
       " 325090    School on Central Budgets\n",
       " 383119      Leadership & Management\n",
       " 19635               School Reported\n",
       " 428220              School Reported\n",
       " 111550              School Reported\n",
       " 190675              School Reported\n",
       " 358766                     NO_LABEL\n",
       " 209391      Leadership & Management\n",
       " 182924              School Reported\n",
       " 266955              School Reported\n",
       " 55658               School Reported\n",
       " 55030               School Reported\n",
       " 326332    School on Central Budgets\n",
       " 137456              School Reported\n",
       "                     ...            \n",
       " 295217              School Reported\n",
       " 424924              School Reported\n",
       " 30734               Shared Services\n",
       " 233013    School on Central Budgets\n",
       " 87519                      NO_LABEL\n",
       " 405120              School Reported\n",
       " 293852              Shared Services\n",
       " 415168              School Reported\n",
       " 326406              School Reported\n",
       " 214308                     NO_LABEL\n",
       " 290459      Leadership & Management\n",
       " 220345              School Reported\n",
       " 294654    School on Central Budgets\n",
       " 377156      Leadership & Management\n",
       " 177734              Shared Services\n",
       " 149066                     NO_LABEL\n",
       " 207895              Shared Services\n",
       " 437599              Shared Services\n",
       " 22476               Shared Services\n",
       " 157693              School Reported\n",
       " 135370                     NO_LABEL\n",
       " 98381               School Reported\n",
       " 168851      Leadership & Management\n",
       " 54280               School Reported\n",
       " 343458    School on Central Budgets\n",
       " 248062              School Reported\n",
       " 203453                     NO_LABEL\n",
       " 58170               School Reported\n",
       " 375092              School Reported\n",
       " 413949              School Reported\n",
       " Name: Sharing, Length: 80055, dtype: category\n",
       " Categories (5, object): [Leadership & Management, NO_LABEL, School Reported, School on Central Budgets, Shared Services],\n",
       " 'Student_Type_train_yhat': array(['Unspecified', 'Unspecified', 'Unspecified', ..., 'Unspecified',\n",
       "        'Unspecified', 'Unspecified'], dtype=object),\n",
       " 'Student_Type_train_probas': array([[3.35350589e-02, 1.15207871e-02, 1.22601432e-02, ...,\n",
       "         2.28910865e-02, 1.38077027e-01, 5.65010523e-01],\n",
       "        [3.34983597e-02, 1.15178794e-02, 1.22588378e-02, ...,\n",
       "         2.28813133e-02, 1.38045821e-01, 5.64762105e-01],\n",
       "        [3.98094026e-04, 8.40908538e-03, 1.85157173e-02, ...,\n",
       "         1.48949517e-02, 8.63596466e-02, 5.17750706e-01],\n",
       "        ...,\n",
       "        [3.35539524e-02, 1.15314389e-02, 1.22726925e-02, ...,\n",
       "         2.29267905e-02, 1.38171230e-01, 5.66126930e-01],\n",
       "        [3.97899344e-04, 8.40749595e-03, 1.85131494e-02, ...,\n",
       "         1.48912354e-02, 8.63431694e-02, 5.17583593e-01],\n",
       "        [3.98094401e-04, 8.40908844e-03, 1.85157222e-02, ...,\n",
       "         1.48949588e-02, 8.63596783e-02, 5.17751028e-01]]),\n",
       " 'Student_Type_train_y': 134338             NO_LABEL\n",
       " 326408          Unspecified\n",
       " 47683           Unspecified\n",
       " 229958          Unspecified\n",
       " 417668    Special Education\n",
       " 126378          Unspecified\n",
       " 85262           Unspecified\n",
       " 304569             NO_LABEL\n",
       " 84272           Unspecified\n",
       " 21870              NO_LABEL\n",
       " 18698           Unspecified\n",
       " 169454              Poverty\n",
       " 169914          Unspecified\n",
       " 189701          Unspecified\n",
       " 43727              NO_LABEL\n",
       " 5614               NO_LABEL\n",
       " 291539          Unspecified\n",
       " 307038              Poverty\n",
       " 27645              NO_LABEL\n",
       " 126388          Unspecified\n",
       " 14962               Poverty\n",
       " 84040              NO_LABEL\n",
       " 61639           Unspecified\n",
       " 225768          Unspecified\n",
       " 267322          Unspecified\n",
       " 35619               Poverty\n",
       " 308098          Unspecified\n",
       " 227367             NO_LABEL\n",
       " 329096          Unspecified\n",
       " 238335          Unspecified\n",
       "                 ...        \n",
       " 325834             NO_LABEL\n",
       " 82242              NO_LABEL\n",
       " 272277             NO_LABEL\n",
       " 395293          Unspecified\n",
       " 36463           Unspecified\n",
       " 209265             NO_LABEL\n",
       " 333748    Special Education\n",
       " 292626             NO_LABEL\n",
       " 128261    Special Education\n",
       " 186318          Unspecified\n",
       " 210652    Special Education\n",
       " 340354                  ELL\n",
       " 435205          Unspecified\n",
       " 174827                  ELL\n",
       " 277504          Unspecified\n",
       " 70455              NO_LABEL\n",
       " 72072           Unspecified\n",
       " 68311           Unspecified\n",
       " 225892          Unspecified\n",
       " 446383             NO_LABEL\n",
       " 155111          Unspecified\n",
       " 278248             NO_LABEL\n",
       " 397424             NO_LABEL\n",
       " 220181          Unspecified\n",
       " 307423             NO_LABEL\n",
       " 46691           Unspecified\n",
       " 109283          Unspecified\n",
       " 102430          Unspecified\n",
       " 433672          Unspecified\n",
       " 415831              Poverty\n",
       " Name: Student_Type, Length: 320222, dtype: category\n",
       " Categories (9, object): [Alternative, At Risk, ELL, Gifted, ..., Poverty, PreK, Special Education, Unspecified],\n",
       " 'Student_Type_test_yhat': array(['Unspecified', 'Unspecified', 'Unspecified', ..., 'Unspecified',\n",
       "        'Unspecified', 'Unspecified'], dtype=object),\n",
       " 'Student_Type_test_probas': array([[3.97925966e-04, 8.40771336e-03, 1.85135007e-02, ...,\n",
       "         1.48917437e-02, 8.63454232e-02, 5.17606451e-01],\n",
       "        [3.98095591e-04, 8.40909815e-03, 1.85157379e-02, ...,\n",
       "         1.48949815e-02, 8.63597790e-02, 5.17752049e-01],\n",
       "        [3.98085480e-04, 8.40901563e-03, 1.85156046e-02, ...,\n",
       "         1.48947885e-02, 8.63589235e-02, 5.17743372e-01],\n",
       "        ...,\n",
       "        [3.35535339e-02, 1.15314455e-02, 1.22727293e-02, ...,\n",
       "         2.29268121e-02, 1.38171215e-01, 5.66128394e-01],\n",
       "        [3.35533140e-02, 1.15314283e-02, 1.22727216e-02, ...,\n",
       "         2.29267537e-02, 1.38171030e-01, 5.66126920e-01],\n",
       "        [3.36773382e-02, 1.15319794e-02, 1.22651188e-02, ...,\n",
       "         2.29288251e-02, 1.38197004e-01, 5.65966331e-01]]),\n",
       " 'Student_Type_test_y': 206341             NO_LABEL\n",
       " 364634          Unspecified\n",
       " 275539          Unspecified\n",
       " 330504             NO_LABEL\n",
       " 64760              NO_LABEL\n",
       " 266302          Unspecified\n",
       " 80585           Unspecified\n",
       " 231688          Unspecified\n",
       " 328560          Unspecified\n",
       " 263107             NO_LABEL\n",
       " 172213                  ELL\n",
       " 325427             NO_LABEL\n",
       " 29389           Unspecified\n",
       " 381109          Unspecified\n",
       " 370555          Unspecified\n",
       " 440127          Unspecified\n",
       " 325090          Unspecified\n",
       " 383119          Unspecified\n",
       " 19635           Unspecified\n",
       " 428220          Unspecified\n",
       " 111550          Unspecified\n",
       " 190675    Special Education\n",
       " 358766             NO_LABEL\n",
       " 209391          Unspecified\n",
       " 182924          Unspecified\n",
       " 266955          Unspecified\n",
       " 55658     Special Education\n",
       " 55030           Unspecified\n",
       " 326332          Unspecified\n",
       " 137456             NO_LABEL\n",
       "                 ...        \n",
       " 295217              Poverty\n",
       " 424924          Unspecified\n",
       " 30734     Special Education\n",
       " 233013          Unspecified\n",
       " 87519              NO_LABEL\n",
       " 405120          Unspecified\n",
       " 293852                 PreK\n",
       " 415168                  ELL\n",
       " 326406                 PreK\n",
       " 214308             NO_LABEL\n",
       " 290459             NO_LABEL\n",
       " 220345             NO_LABEL\n",
       " 294654          Unspecified\n",
       " 377156             NO_LABEL\n",
       " 177734             NO_LABEL\n",
       " 149066             NO_LABEL\n",
       " 207895    Special Education\n",
       " 437599                  ELL\n",
       " 22476           Unspecified\n",
       " 157693             NO_LABEL\n",
       " 135370             NO_LABEL\n",
       " 98381           Unspecified\n",
       " 168851          Unspecified\n",
       " 54280     Special Education\n",
       " 343458          Unspecified\n",
       " 248062          Unspecified\n",
       " 203453             NO_LABEL\n",
       " 58170           Unspecified\n",
       " 375092          Unspecified\n",
       " 413949             NO_LABEL\n",
       " Name: Student_Type, Length: 80055, dtype: category\n",
       " Categories (9, object): [Alternative, At Risk, ELL, Gifted, ..., Poverty, PreK, Special Education, Unspecified],\n",
       " 'Use_train_yhat': array(['Instruction', 'Instruction', 'Instruction', ..., 'Instruction',\n",
       "        'Instruction', 'Instruction'], dtype=object),\n",
       " 'Use_train_probas': array([[0.01794515, 0.10733617, 0.44049355, ..., 0.12326209, 0.12272493,\n",
       "         0.00860094],\n",
       "        [0.0179542 , 0.10724496, 0.44056702, ..., 0.12328106, 0.12256974,\n",
       "         0.00859804],\n",
       "        [0.01622949, 0.07380021, 0.4385293 , ..., 0.11413604, 0.06289848,\n",
       "         0.00112307],\n",
       "        ...,\n",
       "        [0.01790649, 0.10769864, 0.44022369, ..., 0.12318396, 0.1233246 ,\n",
       "         0.00859688],\n",
       "        [0.01623069, 0.07377038, 0.43850886, ..., 0.11413082, 0.06286262,\n",
       "         0.00112284],\n",
       "        [0.01622948, 0.07380027, 0.43852934, ..., 0.11413605, 0.06289855,\n",
       "         0.00112307]]),\n",
       " 'Use_train_y': 134338    Instruction\n",
       " 326408    Instruction\n",
       " 47683     Instruction\n",
       " 229958            O&M\n",
       " 417668    Instruction\n",
       " 126378            O&M\n",
       " 85262     Instruction\n",
       " 304569       NO_LABEL\n",
       " 84272     Instruction\n",
       " 21870        NO_LABEL\n",
       " 18698     Instruction\n",
       " 169454    Instruction\n",
       " 169914            O&M\n",
       " 189701            O&M\n",
       " 43727        NO_LABEL\n",
       " 5614         NO_LABEL\n",
       " 291539    Instruction\n",
       " 307038    Instruction\n",
       " 27645        NO_LABEL\n",
       " 126388    Instruction\n",
       " 14962     Instruction\n",
       " 84040        NO_LABEL\n",
       " 61639     Instruction\n",
       " 225768            O&M\n",
       " 267322    Instruction\n",
       " 35619     Instruction\n",
       " 308098            O&M\n",
       " 227367       NO_LABEL\n",
       " 329096            O&M\n",
       " 238335    Instruction\n",
       "              ...     \n",
       " 325834       NO_LABEL\n",
       " 82242        NO_LABEL\n",
       " 272277       NO_LABEL\n",
       " 395293           ISPD\n",
       " 36463             O&M\n",
       " 209265    Instruction\n",
       " 333748           ISPD\n",
       " 292626       NO_LABEL\n",
       " 128261    Instruction\n",
       " 186318    Instruction\n",
       " 210652    Instruction\n",
       " 340354    Instruction\n",
       " 435205    Instruction\n",
       " 174827    Instruction\n",
       " 277504    Instruction\n",
       " 70455        NO_LABEL\n",
       " 72072      Leadership\n",
       " 68311     Instruction\n",
       " 225892    Instruction\n",
       " 446383       NO_LABEL\n",
       " 155111            O&M\n",
       " 278248    Instruction\n",
       " 397424       NO_LABEL\n",
       " 220181            O&M\n",
       " 307423       NO_LABEL\n",
       " 46691     Instruction\n",
       " 109283           ISPD\n",
       " 102430    Instruction\n",
       " 433672    Instruction\n",
       " 415831    Instruction\n",
       " Name: Use, Length: 320222, dtype: category\n",
       " Categories (8, object): [Business Services, ISPD, Instruction, Leadership, NO_LABEL, O&M, Pupil Services & Enrichment, Untracked Budget Set-Aside],\n",
       " 'Use_test_yhat': array(['Instruction', 'Instruction', 'Instruction', ..., 'Instruction',\n",
       "        'Instruction', 'Instruction'], dtype=object),\n",
       " 'Use_test_probas': array([[0.01623053, 0.07377446, 0.43851165, ..., 0.11413153, 0.06286753,\n",
       "         0.00112287],\n",
       "        [0.01622948, 0.07380045, 0.43852946, ..., 0.11413609, 0.06289877,\n",
       "         0.00112308],\n",
       "        [0.01622954, 0.0737989 , 0.4385284 , ..., 0.11413581, 0.0628969 ,\n",
       "         0.00112306],\n",
       "        ...,\n",
       "        [0.01790644, 0.10769897, 0.44022353, ..., 0.12318388, 0.12332508,\n",
       "         0.00859683],\n",
       "        [0.0179065 , 0.10769842, 0.44022397, ..., 0.123184  , 0.12332414,\n",
       "         0.00859681],\n",
       "        [0.01791008, 0.10768956, 0.44020715, ..., 0.12318813, 0.12332684,\n",
       "         0.00861216]]),\n",
       " 'Use_test_y': 206341                       NO_LABEL\n",
       " 364634                    Instruction\n",
       " 275539                    Instruction\n",
       " 330504                    Instruction\n",
       " 64760                        NO_LABEL\n",
       " 266302                    Instruction\n",
       " 80585                     Instruction\n",
       " 231688                    Instruction\n",
       " 328560                            O&M\n",
       " 263107                    Instruction\n",
       " 172213                    Instruction\n",
       " 325427                       NO_LABEL\n",
       " 29389                     Instruction\n",
       " 381109                    Instruction\n",
       " 370555    Pupil Services & Enrichment\n",
       " 440127                    Instruction\n",
       " 325090              Business Services\n",
       " 383119    Pupil Services & Enrichment\n",
       " 19635                     Instruction\n",
       " 428220    Pupil Services & Enrichment\n",
       " 111550                    Instruction\n",
       " 190675                    Instruction\n",
       " 358766                       NO_LABEL\n",
       " 209391                     Leadership\n",
       " 182924                     Leadership\n",
       " 266955                    Instruction\n",
       " 55658                     Instruction\n",
       " 55030                     Instruction\n",
       " 326332                    Instruction\n",
       " 137456                    Instruction\n",
       "                      ...             \n",
       " 295217                    Instruction\n",
       " 424924                    Instruction\n",
       " 30734                             O&M\n",
       " 233013                     Leadership\n",
       " 87519                        NO_LABEL\n",
       " 405120                    Instruction\n",
       " 293852                    Instruction\n",
       " 415168                    Instruction\n",
       " 326406                    Instruction\n",
       " 214308                       NO_LABEL\n",
       " 290459                       NO_LABEL\n",
       " 220345                    Instruction\n",
       " 294654                           ISPD\n",
       " 377156                       NO_LABEL\n",
       " 177734                       NO_LABEL\n",
       " 149066                       NO_LABEL\n",
       " 207895                            O&M\n",
       " 437599                    Instruction\n",
       " 22476                             O&M\n",
       " 157693                    Instruction\n",
       " 135370                       NO_LABEL\n",
       " 98381                     Instruction\n",
       " 168851              Business Services\n",
       " 54280                     Instruction\n",
       " 343458                    Instruction\n",
       " 248062                           ISPD\n",
       " 203453                       NO_LABEL\n",
       " 58170                     Instruction\n",
       " 375092                    Instruction\n",
       " 413949                       NO_LABEL\n",
       " Name: Use, Length: 80055, dtype: category\n",
       " Categories (8, object): [Business Services, ISPD, Instruction, Leadership, NO_LABEL, O&M, Pupil Services & Enrichment, Untracked Budget Set-Aside]}"
      ]
     },
     "execution_count": 42,
     "metadata": {},
     "output_type": "execute_result"
    }
   ],
   "source": [
    "# take a look\n",
    "m0ml_outs"
   ]
  },
  {
   "cell_type": "code",
   "execution_count": 43,
   "metadata": {},
   "outputs": [
    {
     "data": {
      "text/plain": [
       "54"
      ]
     },
     "execution_count": 43,
     "metadata": {},
     "output_type": "execute_result"
    }
   ],
   "source": [
    "# train and test and train_proba and test_proba, 4 outputs + 2 ys per model, 9 models.\n",
    "len(list(m0ml_outs.keys()))"
   ]
  },
  {
   "cell_type": "markdown",
   "metadata": {},
   "source": [
    "#### Save m0ml outputs"
   ]
  },
  {
   "cell_type": "code",
   "execution_count": 44,
   "metadata": {
    "collapsed": true
   },
   "outputs": [
    {
     "name": "stdout",
     "output_type": "stream",
     "text": [
      "Function_train_yhat (320222,)\n",
      "Function_train_probas (320222, 37)\n",
      "Function_train_y (320222,)\n",
      "Function_test_yhat (80055,)\n",
      "Function_test_probas (80055, 37)\n",
      "Function_test_y (80055,)\n",
      "Object_Type_train_yhat (320222,)\n",
      "Object_Type_train_probas (320222, 11)\n",
      "Object_Type_train_y (320222,)\n",
      "Object_Type_test_yhat (80055,)\n",
      "Object_Type_test_probas (80055, 11)\n",
      "Object_Type_test_y (80055,)\n",
      "Operating_Status_train_yhat (320222,)\n",
      "Operating_Status_train_probas (320222, 3)\n",
      "Operating_Status_train_y (320222,)\n",
      "Operating_Status_test_yhat (80055,)\n",
      "Operating_Status_test_probas (80055, 3)\n",
      "Operating_Status_test_y (80055,)\n",
      "Position_Type_train_yhat (320222,)\n",
      "Position_Type_train_probas (320222, 25)\n",
      "Position_Type_train_y (320222,)\n",
      "Position_Type_test_yhat (80055,)\n",
      "Position_Type_test_probas (80055, 25)\n",
      "Position_Type_test_y (80055,)\n",
      "Pre_K_train_yhat (320222,)\n",
      "Pre_K_train_probas (320222, 3)\n",
      "Pre_K_train_y (320222,)\n",
      "Pre_K_test_yhat (80055,)\n",
      "Pre_K_test_probas (80055, 3)\n",
      "Pre_K_test_y (80055,)\n",
      "Reporting_train_yhat (320222,)\n",
      "Reporting_train_probas (320222, 3)\n",
      "Reporting_train_y (320222,)\n",
      "Reporting_test_yhat (80055,)\n",
      "Reporting_test_probas (80055, 3)\n",
      "Reporting_test_y (80055,)\n",
      "Sharing_train_yhat (320222,)\n",
      "Sharing_train_probas (320222, 5)\n",
      "Sharing_train_y (320222,)\n",
      "Sharing_test_yhat (80055,)\n",
      "Sharing_test_probas (80055, 5)\n",
      "Sharing_test_y (80055,)\n",
      "Student_Type_train_yhat (320222,)\n",
      "Student_Type_train_probas (320222, 9)\n",
      "Student_Type_train_y (320222,)\n",
      "Student_Type_test_yhat (80055,)\n",
      "Student_Type_test_probas (80055, 9)\n",
      "Student_Type_test_y (80055,)\n",
      "Use_train_yhat (320222,)\n",
      "Use_train_probas (320222, 8)\n",
      "Use_train_y (320222,)\n",
      "Use_test_yhat (80055,)\n",
      "Use_test_probas (80055, 8)\n",
      "Use_test_y (80055,)\n"
     ]
    }
   ],
   "source": [
    "for (name, array) in m0ml_outs.items():\n",
    "    print(name, array.shape)"
   ]
  },
  {
   "cell_type": "code",
   "execution_count": 45,
   "metadata": {},
   "outputs": [],
   "source": [
    "# predictions and values from train and test sets.  Predictions are single (string) labels; probas are \n",
    "# num_labels columns (per target); ys are single (string label).\n",
    "for (name, arr) in m0ml_outs.items():\n",
    "    # print(name, arr.shape)\n",
    "    np.save('./model_out/m0ml_' + name, arr)"
   ]
  },
  {
   "cell_type": "markdown",
   "metadata": {},
   "source": [
    "__============================= Look at metrics =================================__"
   ]
  },
  {
   "cell_type": "markdown",
   "metadata": {},
   "source": [
    "#### now look at accuracy and log_loss"
   ]
  },
  {
   "cell_type": "code",
   "execution_count": 46,
   "metadata": {},
   "outputs": [],
   "source": [
    "### this is for everything but log_loss\n",
    "### no, not true!\n",
    "### sklearn.metrics.log_loss will work but I have to pull out the probas not the yhats\n",
    "def show_metric(train_y, train_pred, test_y, test_pred, metric):\n",
    "    print(metric.__name__ + ' on target \"{}\"'.format(t))\n",
    "    print('train: {:.4f}'.format(metric(train_y, train_pred)))\n",
    "    print(('test : {:.4f}'.format(metric(test_y, test_pred))))"
   ]
  },
  {
   "cell_type": "code",
   "execution_count": 47,
   "metadata": {},
   "outputs": [
    {
     "name": "stdout",
     "output_type": "stream",
     "text": [
      "accuracy_score on target \"Function\"\n",
      "train: 0.2775\n",
      "test : 0.2760\n",
      "accuracy_score on target \"Object_Type\"\n",
      "train: 0.4259\n",
      "test : 0.4253\n",
      "accuracy_score on target \"Operating_Status\"\n",
      "train: 0.8583\n",
      "test : 0.8588\n",
      "accuracy_score on target \"Position_Type\"\n",
      "train: 0.3746\n",
      "test : 0.3729\n",
      "accuracy_score on target \"Pre_K\"\n",
      "train: 0.7653\n",
      "test : 0.7663\n",
      "accuracy_score on target \"Reporting\"\n",
      "train: 0.6433\n",
      "test : 0.6410\n",
      "accuracy_score on target \"Sharing\"\n",
      "train: 0.6363\n",
      "test : 0.6337\n",
      "accuracy_score on target \"Student_Type\"\n",
      "train: 0.5575\n",
      "test : 0.5571\n",
      "accuracy_score on target \"Use\"\n",
      "train: 0.5090\n",
      "test : 0.5082\n"
     ]
    }
   ],
   "source": [
    "for t in LABELS:\n",
    "    (train_y, train_pred, test_y, test_pred) = (targets.loc[X_train.index, t], m0ml_outs[t + '_train_yhat'],\n",
    "                                                targets.loc[X_test.index, t],  m0ml_outs[t + '_test_yhat'] ) \n",
    "                                                \n",
    "    show_metric(train_y, train_pred, test_y, test_pred, accuracy_score)"
   ]
  },
  {
   "cell_type": "code",
   "execution_count": 48,
   "metadata": {
    "scrolled": false
   },
   "outputs": [
    {
     "name": "stdout",
     "output_type": "stream",
     "text": [
      "log_loss on target \"Function\"\n",
      "train: 2.5967\n",
      "test : 2.6005\n",
      "log_loss on target \"Object_Type\"\n",
      "train: 1.7788\n",
      "test : 1.7793\n",
      "log_loss on target \"Operating_Status\"\n",
      "train: 0.4398\n",
      "test : 0.4372\n",
      "log_loss on target \"Position_Type\"\n",
      "train: 2.0705\n",
      "test : 2.0765\n",
      "log_loss on target \"Pre_K\"\n",
      "train: 0.6172\n",
      "test : 0.6171\n",
      "log_loss on target \"Reporting\"\n",
      "train: 0.8631\n",
      "test : 0.8652\n",
      "log_loss on target \"Sharing\"\n",
      "train: 1.1064\n",
      "test : 1.1127\n",
      "log_loss on target \"Student_Type\"\n",
      "train: 1.2357\n",
      "test : 1.2390\n",
      "log_loss on target \"Use\"\n",
      "train: 1.4590\n",
      "test : 1.4599\n"
     ]
    }
   ],
   "source": [
    "for t in LABELS:\n",
    "    (train_y, train_pred, test_y, test_pred) = (targets.loc[X_train.index, t], m0ml_outs[t + '_train_probas'],\n",
    "                                                targets.loc[X_test.index, t],  m0ml_outs[t + '_test_probas'] ) \n",
    "                                                \n",
    "    show_metric(train_y, train_pred, test_y, test_pred, log_loss)"
   ]
  },
  {
   "cell_type": "code",
   "execution_count": 49,
   "metadata": {},
   "outputs": [
    {
     "data": {
      "text/plain": [
       "[2.600496837659356,\n",
       " 1.7792535140892818,\n",
       " 0.43724945818104877,\n",
       " 2.076473813409829,\n",
       " 0.6170593306706906,\n",
       " 0.8652013740752408,\n",
       " 1.112704011209644,\n",
       " 1.2390220254167965,\n",
       " 1.4599081710444692]"
      ]
     },
     "execution_count": 49,
     "metadata": {},
     "output_type": "execute_result"
    }
   ],
   "source": [
    "__test_losses = [log_loss(targets.loc[X_test.index, t],  \n",
    "                          m0ml_outs[t + '_test_probas']) for t in LABELS ]; __test_losses"
   ]
  },
  {
   "cell_type": "code",
   "execution_count": 50,
   "metadata": {},
   "outputs": [],
   "source": [
    "average_test_loss = np.mean(__test_losses)"
   ]
  },
  {
   "cell_type": "code",
   "execution_count": 51,
   "metadata": {},
   "outputs": [
    {
     "name": "stdout",
     "output_type": "stream",
     "text": [
      "1.3541520595284842\n"
     ]
    }
   ],
   "source": [
    "print(average_test_loss)"
   ]
  },
  {
   "cell_type": "markdown",
   "metadata": {},
   "source": [
    "####  That result tracks the result  in the first approach.  In addition, I want to see if the predictions made by the 2 models differ.  \n",
    "\n",
    "If we build the corresponding shape from the outputs of the 9 multilabel classifiers the two models can be compared directly.  Additionally, the DrivenData mmll metric can be run on the later model's output.\n"
   ]
  },
  {
   "cell_type": "code",
   "execution_count": 52,
   "metadata": {},
   "outputs": [
    {
     "data": {
      "text/plain": [
       "(80055, 104)"
      ]
     },
     "execution_count": 52,
     "metadata": {},
     "output_type": "execute_result"
    }
   ],
   "source": [
    "# list of probabilities output for test set\n",
    "__m0ml_test_probas = [m0ml_outs[t + '_test_probas'] for t in LABELS]\n",
    "\n",
    "# Put together the test probas from each clf\n",
    "m0ml_test_probas = np.concatenate(__m0ml_test_probas, axis=1); m0ml_test_probas.shape"
   ]
  },
  {
   "cell_type": "markdown",
   "metadata": {},
   "source": [
    "#### Now run the Drivendata \"official\" log loss metric on both probability outputs."
   ]
  },
  {
   "cell_type": "code",
   "execution_count": 53,
   "metadata": {
    "scrolled": false
   },
   "outputs": [
    {
     "data": {
      "text/plain": [
       "1.3557282270290794"
      ]
     },
     "execution_count": 53,
     "metadata": {},
     "output_type": "execute_result"
    }
   ],
   "source": [
    "# the result from the first model\n",
    "multi_multi_log_loss(mod0_test_probas, y_test.values, BPCI)"
   ]
  },
  {
   "cell_type": "markdown",
   "metadata": {},
   "source": [
    "##### Drivendata metric provides exactly the same output as my approach to this metric (average for all classifiers log loss as computed with sklearn.metric.log_loss)."
   ]
  },
  {
   "cell_type": "code",
   "execution_count": 54,
   "metadata": {},
   "outputs": [
    {
     "data": {
      "text/plain": [
       "1.354152059528484"
      ]
     },
     "execution_count": 54,
     "metadata": {},
     "output_type": "execute_result"
    }
   ],
   "source": [
    "# the result from the second model\n",
    "multi_multi_log_loss(m0ml_test_probas, y_test.values, BPCI)"
   ]
  },
  {
   "cell_type": "markdown",
   "metadata": {},
   "source": [
    "#### Now check the average absolute difference between the 2 outputs\n"
   ]
  },
  {
   "cell_type": "code",
   "execution_count": 55,
   "metadata": {},
   "outputs": [
    {
     "data": {
      "text/plain": [
       "0.008822192114205435"
      ]
     },
     "execution_count": 55,
     "metadata": {},
     "output_type": "execute_result"
    }
   ],
   "source": [
    "np.mean(np.absolute(mod0_test_probas - m0ml_test_probas))"
   ]
  },
  {
   "cell_type": "markdown",
   "metadata": {},
   "source": [
    "#### They are close on average.  So why does the first model have accuracy score of 0.00.   Accuracy is the proportion of correct predictions.  Some of the predictions from the second approach are correct.  Is it really true that the first approach gets nothing right??  If so, how does it manage to have low log_loss?\n",
    "\n",
    "#### Maybe it's the application of accuracy_score that's incorrect.\n",
    "\n",
    "If I take the sections of the the initial model's prediction output and corresponding y-values (also one-hot encoded) that would be the same context for the metric as I used in the second approach.  \n",
    "\n",
    "That may give me some insight into this issue.\n",
    "\n",
    "I may (probably) need to reverse the one-hot encoding before that will work."
   ]
  },
  {
   "cell_type": "markdown",
   "metadata": {},
   "source": [
    "#### Look at accuracy of first model.  Compare to 2nd model.  \n",
    "\n",
    "###### variables\n",
    "\n",
    "\n",
    "* first model test predictions     mod0_yhat_test\n",
    "* 2nd   model test predictions     are stashed away in a dictionary moml_outs\n",
    "\n",
    "* first model test probabilities mod0_yhat_proba_test\n",
    "* 2nd   model test probabilities m0ml_test_probas  [[these were picked out of the dictionary and glued together]]\n"
   ]
  },
  {
   "cell_type": "markdown",
   "metadata": {},
   "source": [
    "#### What happens if I look at first model's accuracy for just one output?"
   ]
  },
  {
   "cell_type": "code",
   "execution_count": 56,
   "metadata": {},
   "outputs": [
    {
     "data": {
      "text/plain": [
       "(pandas.core.frame.DataFrame, numpy.ndarray)"
      ]
     },
     "execution_count": 56,
     "metadata": {},
     "output_type": "execute_result"
    }
   ],
   "source": [
    "type(y_test), type(mod0_test_yhat)"
   ]
  },
  {
   "cell_type": "code",
   "execution_count": 57,
   "metadata": {
    "scrolled": true
   },
   "outputs": [
    {
     "data": {
      "text/plain": [
       "((80055, 104), (80055, 104))"
      ]
     },
     "execution_count": 57,
     "metadata": {},
     "output_type": "execute_result"
    }
   ],
   "source": [
    "y_test.values.shape, mod0_test_yhat.shape"
   ]
  },
  {
   "cell_type": "code",
   "execution_count": 58,
   "metadata": {
    "scrolled": false
   },
   "outputs": [
    {
     "data": {
      "text/plain": [
       "0.00024982824308288055"
      ]
     },
     "execution_count": 58,
     "metadata": {},
     "output_type": "execute_result"
    }
   ],
   "source": [
    "# The \"Function\" output\n",
    "accuracy_score(y_test.values[:,:37], mod0_test_yhat[:,:37])"
   ]
  },
  {
   "cell_type": "code",
   "execution_count": 59,
   "metadata": {},
   "outputs": [
    {
     "data": {
      "text/plain": [
       "(80055, 104)"
      ]
     },
     "execution_count": 59,
     "metadata": {},
     "output_type": "execute_result"
    }
   ],
   "source": [
    "y_test.values.shape"
   ]
  },
  {
   "cell_type": "markdown",
   "metadata": {},
   "source": [
    "#### So there is exactly 1 hot in each 9 targets in each row of y_test"
   ]
  },
  {
   "cell_type": "code",
   "execution_count": 60,
   "metadata": {},
   "outputs": [
    {
     "data": {
      "text/plain": [
       "80055.0"
      ]
     },
     "execution_count": 60,
     "metadata": {},
     "output_type": "execute_result"
    }
   ],
   "source": [
    "np.sum(y_test.values)/9"
   ]
  },
  {
   "cell_type": "code",
   "execution_count": 61,
   "metadata": {},
   "outputs": [
    {
     "data": {
      "text/plain": [
       "49009.666666666664"
      ]
     },
     "execution_count": 61,
     "metadata": {},
     "output_type": "execute_result"
    }
   ],
   "source": [
    "# how many ones in mod0 prediction\n",
    "np.sum(mod0_test_yhat)/9"
   ]
  },
  {
   "cell_type": "markdown",
   "metadata": {},
   "source": [
    "##### Build flattened version of predictions of 2nd model"
   ]
  },
  {
   "cell_type": "code",
   "execution_count": 62,
   "metadata": {},
   "outputs": [],
   "source": [
    "# list of test predictions for the 9 clfs.  9 1d arrays\n",
    "__m0ml_test_yhats_flat = [m0ml_outs[t + '_test_yhat'] for t in LABELS ]"
   ]
  },
  {
   "cell_type": "code",
   "execution_count": 63,
   "metadata": {},
   "outputs": [],
   "source": [
    "# now one-hot encode\n",
    "_m0ml_test_yhats_flat = [label_binarize(m0ml_outs[t + '_test_yhat'], target_labels[t]) for t in LABELS ]"
   ]
  },
  {
   "cell_type": "code",
   "execution_count": 64,
   "metadata": {
    "scrolled": false
   },
   "outputs": [
    {
     "data": {
      "text/plain": [
       "[(80055, 37),\n",
       " (80055, 11),\n",
       " (80055, 3),\n",
       " (80055, 25),\n",
       " (80055, 3),\n",
       " (80055, 3),\n",
       " (80055, 5),\n",
       " (80055, 9),\n",
       " (80055, 8)]"
      ]
     },
     "execution_count": 64,
     "metadata": {},
     "output_type": "execute_result"
    }
   ],
   "source": [
    "# check the shapes\n",
    "[x.shape for x in _m0ml_test_yhats_flat]"
   ]
  },
  {
   "cell_type": "code",
   "execution_count": 65,
   "metadata": {},
   "outputs": [
    {
     "data": {
      "text/plain": [
       "104"
      ]
     },
     "execution_count": 65,
     "metadata": {},
     "output_type": "execute_result"
    }
   ],
   "source": [
    "# add up the number of columns; should be 104\n",
    "sum([x.shape[1] for x in _m0ml_test_yhats_flat])"
   ]
  },
  {
   "cell_type": "code",
   "execution_count": 66,
   "metadata": {},
   "outputs": [
    {
     "data": {
      "text/plain": [
       "(80055, 104)"
      ]
     },
     "execution_count": 66,
     "metadata": {},
     "output_type": "execute_result"
    }
   ],
   "source": [
    "# Put together the test predictions from each clf\n",
    "m0ml_test_yhats_flat = np.concatenate(_m0ml_test_yhats_flat, axis=1); m0ml_test_yhats_flat.shape"
   ]
  },
  {
   "cell_type": "markdown",
   "metadata": {},
   "source": [
    "#### Now we can see how many ones are in the 2nd model's prediction."
   ]
  },
  {
   "cell_type": "code",
   "execution_count": 67,
   "metadata": {},
   "outputs": [
    {
     "data": {
      "text/plain": [
       "80055.0"
      ]
     },
     "execution_count": 67,
     "metadata": {},
     "output_type": "execute_result"
    }
   ],
   "source": [
    "# the right number, 1 for each of 9 targets for 80055 rows\n",
    "np.sum(m0ml_test_yhats_flat)/9"
   ]
  },
  {
   "cell_type": "markdown",
   "metadata": {},
   "source": [
    "#### 2nd approach gets 28% accuracy on 'Function'.  What's the difference?"
   ]
  },
  {
   "cell_type": "code",
   "execution_count": 68,
   "metadata": {},
   "outputs": [
    {
     "data": {
      "text/plain": [
       "1"
      ]
     },
     "execution_count": 68,
     "metadata": {},
     "output_type": "execute_result"
    }
   ],
   "source": [
    "# is there at least one positive prediction?  yes.\n",
    "np.max(mod0_test_yhat[:, :37])"
   ]
  },
  {
   "cell_type": "code",
   "execution_count": 69,
   "metadata": {
    "scrolled": true
   },
   "outputs": [
    {
     "data": {
      "text/plain": [
       "(592, 0.007394915995253264)"
      ]
     },
     "execution_count": 69,
     "metadata": {},
     "output_type": "execute_result"
    }
   ],
   "source": [
    "# how many positive predictions; not very many -- there should be 80k+, one for each row\n",
    "np.sum(mod0_test_yhat[:,:37]), np.sum(mod0_test_yhat[:, :37])/mod0_test_yhat[:,:37].shape[0]"
   ]
  },
  {
   "cell_type": "markdown",
   "metadata": {},
   "source": [
    "#### If these were normalized (sum of each row within a label should be 1.0), it might fix this."
   ]
  },
  {
   "cell_type": "code",
   "execution_count": 70,
   "metadata": {},
   "outputs": [
    {
     "data": {
      "text/plain": [
       "array([  0,   0,   0,   0,   0,   0,   0,   0,   0,   0,   0,   0,   0,\n",
       "         0,   0,   0,   0,   0,   4,   0,   0,   0,   0,   0,   0,   0,\n",
       "         0,   0,   0,   0,   0,   0,   0, 588,   0,   0,   0])"
      ]
     },
     "execution_count": 70,
     "metadata": {},
     "output_type": "execute_result"
    }
   ],
   "source": [
    "# column sums for 37 columns\n",
    "np.sum(mod0_test_yhat[:, :37], axis=0)"
   ]
  },
  {
   "cell_type": "markdown",
   "metadata": {},
   "source": [
    "#### So why not plot both prediction outputs?\n",
    "\n",
    "The answer is m0ml prediction outputs aren't in the same format as m0 - they're tucked away in a dictionary.  But I can put them together in a similar fashion to what I did for the probability outputs.\n",
    "\n",
    "Errrrr..., not so fast.  Those predictions are strings (representing classes).  I have to one-hot encode them to get the same format as prediction output from mod0.  label_binarizer can do that."
   ]
  },
  {
   "cell_type": "markdown",
   "metadata": {},
   "source": [
    "##### The profile of the first model \n",
    "It would be nice to indicate the boundary of each output."
   ]
  },
  {
   "cell_type": "code",
   "execution_count": 71,
   "metadata": {
    "scrolled": false
   },
   "outputs": [
    {
     "data": {
      "image/png": "[encoded data removed]",
      "text/plain": [
       "<Figure size 720x432 with 1 Axes>"
      ]
     },
     "metadata": {},
     "output_type": "display_data"
    }
   ],
   "source": [
    "# 104 columns sums for mod0 predictions\n",
    "fig, ax = plt.subplots(figsize=(10, 6))\n",
    "plt.bar(np.arange(104),(np.sum(mod0_test_yhat[:, :], axis=0)))\n",
    "plt.title('Number of positive predictions per label: mod0');"
   ]
  },
  {
   "cell_type": "markdown",
   "metadata": {},
   "source": [
    "##### Plot 2nd model profile"
   ]
  },
  {
   "cell_type": "code",
   "execution_count": 72,
   "metadata": {
    "scrolled": false
   },
   "outputs": [
    {
     "data": {
      "image/png": "[encoded data removed]",
      "text/plain": [
       "<Figure size 720x432 with 1 Axes>"
      ]
     },
     "metadata": {},
     "output_type": "display_data"
    }
   ],
   "source": [
    "fig, ax = plt.subplots(figsize=(10, 6))\n",
    "plt.bar(np.arange(104),(np.sum(m0ml_test_yhats_flat[:, :], axis=0)))\n",
    "plt.title('Number of positive predictions per label: m0ml');"
   ]
  },
  {
   "cell_type": "markdown",
   "metadata": {},
   "source": [
    "#### So you see a profile for each (one-hot encoded) label for each model.  There are similarities and differences.  The 2nd model has many more positive predictions.\n",
    "\n",
    "Another interesting question: what would we see if we plot the actual data in this framework?"
   ]
  },
  {
   "cell_type": "markdown",
   "metadata": {},
   "source": [
    "#### The column sums of the actual values"
   ]
  },
  {
   "cell_type": "code",
   "execution_count": 73,
   "metadata": {},
   "outputs": [
    {
     "data": {
      "image/png": "[encoded data removed]",
      "text/plain": [
       "<Figure size 720x432 with 1 Axes>"
      ]
     },
     "metadata": {},
     "output_type": "display_data"
    }
   ],
   "source": [
    "fig, ax = plt.subplots(figsize=(10, 6))\n",
    "plt.bar(np.arange(104),(np.sum(y_test.values, axis=0)))\n",
    "plt.title('Number of ones per label: actual values');"
   ]
  },
  {
   "cell_type": "markdown",
   "metadata": {},
   "source": [
    "__===================================================================================__"
   ]
  },
  {
   "cell_type": "markdown",
   "metadata": {},
   "source": [
    "####  Note:Tried multinomial keyword to logistic regression without success. \n",
    "\n",
    "Doesn't seem to fully utilize all processors.  Needs more iterations.  Did not converge at 100, 200 or 400 iterations with 'sag' or 'saga' solvers and scaled input.  Needs scaled numerical features to converge fast (docs say).\n",
    "\n",
    "Multinomial keyword doesn't seem to work so well.  The default method value for this argument is 'ovr'.  That means 'OneVsRest'.\n",
    "That works very quickly given scaled input.\n",
    "\n",
    "Multinomial='multiclass' needs a non-default solver ('sag', 'saga', others).  There are restrictions on what can be used together.  \n",
    "\n"
   ]
  }
 ],
 "metadata": {
  "kernelspec": {
   "display_name": "Python 3",
   "language": "python",
   "name": "python3"
  },
  "language_info": {
   "codemirror_mode": {
    "name": "ipython",
    "version": 3
   },
   "file_extension": ".py",
   "mimetype": "text/x-python",
   "name": "python",
   "nbconvert_exporter": "python",
   "pygments_lexer": "ipython3",
   "version": "3.6.6"
  }
 },
 "nbformat": 4,
 "nbformat_minor": 2
}
