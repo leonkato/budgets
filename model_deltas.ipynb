{
 "cells": [
  {
   "cell_type": "markdown",
   "metadata": {},
   "source": [
    "####  These are all the changes in the models spelled out explicitly"
   ]
  },
  {
   "cell_type": "markdown",
   "metadata": {},
   "source": [
    "1. mod0: numerical features only\n",
    "    * 1 vs 104 log reg\n",
    "    * numerical features\n",
    "        * nans => -9999\n",
    "        \n",
    "* add scaling: much faster fitting; no improvement in classification\n",
    "* add default Imputer (instead of nans => -9999): slightly faster fitting; no improvement in classification\n",
    "\n",
    "\n",
    "2. mod1: add pipeline and text features\n",
    "    * 1 vs 104 log reg\n",
    "    * numerical features\n",
    "        * select\n",
    "        * default imputer\n",
    "    * text features\n",
    "        * select\n",
    "        * combine all text features into one\n",
    "        * fit default CountVec to training set corpus\n",
    "        * transform input to wordvec\n",
    "    * combine wordvec and numerical features\n",
    "    * fit/predict\n",
    "\n",
    "\n",
    "3. mod2: \n",
    "    * random forest native multitarget \n",
    "    * no changes to preprocessing\n",
    "    * post-processing needed for predict_proba \n",
    "\n",
    "\n",
    "4. mod3:\n",
    "    * 1 vs 104 log reg\n",
    "    * numerical data\n",
    "        * select\n",
    "        * default imputer        \n",
    "    * text features\n",
    "        * select\n",
    "        * tokenize on alphanumeric \n",
    "        * Add bigrams to CountVectorizer (previously was used with default settings)\n",
    "        * Dimension reduction with SelectKBest using chi-squared (300 features)\n",
    "    * combine wordvec and numerical features   \n",
    "    * Scale all features to range \\[-1, 1\\] with MaxAbsScaler\n",
    "    * fit/predict\n",
    "\n",
    "\n",
    "5. mod3: feature interaction and hashing vectorizer\n",
    "    * 1 vs 104 log reg\n",
    "    * numerical data\n",
    "        * select\n",
    "        * default imputer        \n",
    "    * text features\n",
    "        * select\n",
    "        * tokenize on alphanumeric \n",
    "        * Add bigrams to HashingVectorizer\n",
    "        * Dimension reduction with SelectKBest using chi-squared (300 features)\n",
    "    * combine wordvec and numerical features   \n",
    "    * Scale all features to range \\[-1, 1\\] with MaxAbsScaler\n",
    "    * fit/predict\n"
   ]
  }
 ],
 "metadata": {
  "kernelspec": {
   "display_name": "Python 3",
   "language": "python",
   "name": "python3"
  },
  "language_info": {
   "codemirror_mode": {
    "name": "ipython",
    "version": 3
   },
   "file_extension": ".py",
   "mimetype": "text/x-python",
   "name": "python",
   "nbconvert_exporter": "python",
   "pygments_lexer": "ipython3",
   "version": "3.6.6"
  }
 },
 "nbformat": 4,
 "nbformat_minor": 2
}
