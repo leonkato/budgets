{
 "cells": [
  {
   "cell_type": "markdown",
   "metadata": {},
   "source": [
    "### Enhance best scoring model by adding my feature interaction scheme."
   ]
  },
  {
   "cell_type": "markdown",
   "metadata": {},
   "source": [
    "#### Final comments on n_jobs=-1\n",
    "\n",
    "There was reason to think that this bug was related to windows but, it works fine sometimes.\n",
    "There was reason to think it had to do with CountVectorizer, but HashingVectorizer versions also hang.\n",
    "\n",
    "Final determination is that this is an intermittent bug.  Haven't been able to find a case where I can reliably induce/remove the problem.\n",
    "\n",
    "In the end, the only reasonable course is to not use this flag understanding that everything will take 2-3 times as long."
   ]
  },
  {
   "cell_type": "markdown",
   "metadata": {},
   "source": [
    "#### Add my feature interaction scheme"
   ]
  },
  {
   "cell_type": "code",
   "execution_count": 113,
   "metadata": {},
   "outputs": [],
   "source": [
    "#### Imports/setup\n",
    "\n",
    "import pandas as pd\n",
    "import matplotlib.pyplot as plt\n",
    "import numpy as np\n",
    "pd.set_option('display.max_columns', 60)\n",
    "\n",
    "from timeit import default_timer as timer\n",
    "\n",
    "# for the pipeline\n",
    "from sklearn.pipeline import Pipeline\n",
    "# for the selectors\n",
    "from sklearn.preprocessing import FunctionTransformer, StandardScaler, MaxAbsScaler\n",
    "# for gluing preprocessed text and numbers together\n",
    "from sklearn.pipeline import FeatureUnion\n",
    "# for nans in the numeric data\n",
    "from sklearn.preprocessing import Imputer\n",
    "\n",
    "# Import classifiers\n",
    "from sklearn.linear_model import LogisticRegression\n",
    "from sklearn.multiclass import OneVsRestClassifier\n",
    "from sklearn.ensemble import RandomForestClassifier\n",
    "\n",
    "# Import CountVectorizer\n",
    "from sklearn.feature_extraction.text import CountVectorizer, HashingVectorizer\n",
    "\n",
    "# metrics\n",
    "from sklearn.metrics import f1_score, accuracy_score, classification_report\n",
    "\n",
    "# unflattener\n",
    "import python.flat_to_labels as ftl\n",
    "\n",
    "#### Set up a train-test split making sure we have all labels in both splits\n",
    "from python.multilabel import multilabel_train_test_split\n",
    "\n",
    "from python.dd_mmll import multi_multi_log_loss, BOX_PLOTS_COLUMN_INDICES\n",
    "\n",
    "from sklearn.feature_selection import SelectKBest, chi2, SelectFromModel"
   ]
  },
  {
   "cell_type": "markdown",
   "metadata": {},
   "source": [
    "#### My transformers"
   ]
  },
  {
   "cell_type": "code",
   "execution_count": 17,
   "metadata": {},
   "outputs": [],
   "source": [
    "from sklearn.base import BaseEstimator, TransformerMixin\n",
    "\n",
    "class IdentityTransformer(BaseEstimator, TransformerMixin):\n",
    "    def __init__(self):\n",
    "        pass\n",
    "    \n",
    "    def fit(self, input_array, y=None):\n",
    "        return self\n",
    "    \n",
    "    def transform(self, input_array, y=None):\n",
    "        return input_array*1\n"
   ]
  },
  {
   "cell_type": "code",
   "execution_count": 18,
   "metadata": {},
   "outputs": [],
   "source": [
    "from itertools import combinations\n",
    "import numpy as np\n",
    "from scipy import sparse\n",
    "from sklearn.base import BaseEstimator, TransformerMixin\n",
    "\n",
    "class JustInteractions(BaseEstimator, TransformerMixin):\n",
    "    ''' Takes a selection of features and returns products of all combinations (and nothing else). '''\n",
    "    def __init__(self, degree=2, feature_name_separator=\"_\"):\n",
    "        self.degree = degree\n",
    "        self.feature_name_separator = feature_name_separator\n",
    "\n",
    "    def fit(self, X, y=None):\n",
    "        return self\n",
    "\n",
    "    def transform(self, X):\n",
    "        if not sparse.isspmatrix_csc(X):\n",
    "            X = sparse.csc_matrix(X)\n",
    "\n",
    "        if hasattr(X, \"columns\"):\n",
    "            self.orig_col_names = X.columns\n",
    "        else:\n",
    "            self.orig_col_names = np.array([str(i) for i in range(X.shape[1])])\n",
    "\n",
    "        spi = self._create_sparse_interactions(X)\n",
    "        return spi\n",
    "\n",
    "    def get_feature_names(self):\n",
    "        return self.feature_names\n",
    "\n",
    "    def _create_sparse_interactions(self, X):\n",
    "        out_mat = []\n",
    "        self.feature_names = self.orig_col_names.tolist()\n",
    "        ### degree is always 2 so don't worry about it now.  happens once.\n",
    "        for sub_degree in range(2, self.degree + 1):\n",
    "            for col_ixs in combinations(range(X.shape[1]), sub_degree):\n",
    "                # add name for new column\n",
    "                name = self.feature_name_separator.join(self.orig_col_names[list(col_ixs)])\n",
    "                self.feature_names.append(name)\n",
    "\n",
    "                # get column multiplications value\n",
    "                out = X[:, col_ixs[0]]\n",
    "                for j in col_ixs[1:]:\n",
    "                    out = out.multiply(X[:, j])\n",
    "            \n",
    "                out_mat.append(out)\n",
    "        # theory: out_mat is a list of columns; I need to shstack it      \n",
    "        # print(out_mat)\n",
    "        # return sparse.hstack([X] + out_mat)\n",
    "        # return sparse.csc_matrix(np.array(out_mat))\n",
    "        return sparse.hstack(out_mat)"
   ]
  },
  {
   "cell_type": "markdown",
   "metadata": {},
   "source": [
    "#### Load the data"
   ]
  },
  {
   "cell_type": "code",
   "execution_count": 2,
   "metadata": {
    "scrolled": true
   },
   "outputs": [
    {
     "data": {
      "text/html": [
       "<div>\n",
       "<style scoped>\n",
       "    .dataframe tbody tr th:only-of-type {\n",
       "        vertical-align: middle;\n",
       "    }\n",
       "\n",
       "    .dataframe tbody tr th {\n",
       "        vertical-align: top;\n",
       "    }\n",
       "\n",
       "    .dataframe thead th {\n",
       "        text-align: right;\n",
       "    }\n",
       "</style>\n",
       "<table border=\"1\" class=\"dataframe\">\n",
       "  <thead>\n",
       "    <tr style=\"text-align: right;\">\n",
       "      <th></th>\n",
       "      <th>Function</th>\n",
       "      <th>Use</th>\n",
       "      <th>Sharing</th>\n",
       "      <th>Reporting</th>\n",
       "      <th>Student_Type</th>\n",
       "      <th>Position_Type</th>\n",
       "      <th>Object_Type</th>\n",
       "      <th>Pre_K</th>\n",
       "      <th>Operating_Status</th>\n",
       "      <th>Object_Description</th>\n",
       "      <th>Text_2</th>\n",
       "      <th>SubFund_Description</th>\n",
       "      <th>Job_Title_Description</th>\n",
       "      <th>Text_3</th>\n",
       "      <th>Text_4</th>\n",
       "      <th>Sub_Object_Description</th>\n",
       "      <th>Location_Description</th>\n",
       "      <th>FTE</th>\n",
       "      <th>Function_Description</th>\n",
       "      <th>Facility_or_Department</th>\n",
       "      <th>Position_Extra</th>\n",
       "      <th>Total</th>\n",
       "      <th>Program_Description</th>\n",
       "      <th>Fund_Description</th>\n",
       "      <th>Text_1</th>\n",
       "    </tr>\n",
       "  </thead>\n",
       "  <tbody>\n",
       "    <tr>\n",
       "      <th>134338</th>\n",
       "      <td>Teacher Compensation</td>\n",
       "      <td>Instruction</td>\n",
       "      <td>School Reported</td>\n",
       "      <td>School</td>\n",
       "      <td>NO_LABEL</td>\n",
       "      <td>Teacher</td>\n",
       "      <td>NO_LABEL</td>\n",
       "      <td>NO_LABEL</td>\n",
       "      <td>PreK-12 Operating</td>\n",
       "      <td>NaN</td>\n",
       "      <td>NaN</td>\n",
       "      <td>NaN</td>\n",
       "      <td>Teacher-Elementary</td>\n",
       "      <td>NaN</td>\n",
       "      <td>NaN</td>\n",
       "      <td>NaN</td>\n",
       "      <td>NaN</td>\n",
       "      <td>1.0</td>\n",
       "      <td>NaN</td>\n",
       "      <td>NaN</td>\n",
       "      <td>KINDERGARTEN</td>\n",
       "      <td>50471.810</td>\n",
       "      <td>KINDERGARTEN</td>\n",
       "      <td>General Fund</td>\n",
       "      <td>NaN</td>\n",
       "    </tr>\n",
       "    <tr>\n",
       "      <th>206341</th>\n",
       "      <td>NO_LABEL</td>\n",
       "      <td>NO_LABEL</td>\n",
       "      <td>NO_LABEL</td>\n",
       "      <td>NO_LABEL</td>\n",
       "      <td>NO_LABEL</td>\n",
       "      <td>NO_LABEL</td>\n",
       "      <td>NO_LABEL</td>\n",
       "      <td>NO_LABEL</td>\n",
       "      <td>Non-Operating</td>\n",
       "      <td>CONTRACTOR SERVICES</td>\n",
       "      <td>BOND EXPENDITURES</td>\n",
       "      <td>BUILDING FUND</td>\n",
       "      <td>(blank)</td>\n",
       "      <td>Regular</td>\n",
       "      <td>NaN</td>\n",
       "      <td>NaN</td>\n",
       "      <td>NaN</td>\n",
       "      <td>NaN</td>\n",
       "      <td>RGN  GOB</td>\n",
       "      <td>NaN</td>\n",
       "      <td>UNDESIGNATED</td>\n",
       "      <td>3477.860</td>\n",
       "      <td>BUILDING IMPROVEMENT SERVICES</td>\n",
       "      <td>NaN</td>\n",
       "      <td>BUILDING IMPROVEMENT SERVICES</td>\n",
       "    </tr>\n",
       "    <tr>\n",
       "      <th>326408</th>\n",
       "      <td>Teacher Compensation</td>\n",
       "      <td>Instruction</td>\n",
       "      <td>School Reported</td>\n",
       "      <td>School</td>\n",
       "      <td>Unspecified</td>\n",
       "      <td>Teacher</td>\n",
       "      <td>Base Salary/Compensation</td>\n",
       "      <td>Non PreK</td>\n",
       "      <td>PreK-12 Operating</td>\n",
       "      <td>Personal Services - Teachers</td>\n",
       "      <td>NaN</td>\n",
       "      <td>NaN</td>\n",
       "      <td>TCHER 2ND GRADE</td>\n",
       "      <td>NaN</td>\n",
       "      <td>Regular Instruction</td>\n",
       "      <td>NaN</td>\n",
       "      <td>NaN</td>\n",
       "      <td>1.0</td>\n",
       "      <td>NaN</td>\n",
       "      <td>NaN</td>\n",
       "      <td>TEACHER</td>\n",
       "      <td>62237.130</td>\n",
       "      <td>Instruction - Regular</td>\n",
       "      <td>General Purpose School</td>\n",
       "      <td>NaN</td>\n",
       "    </tr>\n",
       "    <tr>\n",
       "      <th>364634</th>\n",
       "      <td>Substitute Compensation</td>\n",
       "      <td>Instruction</td>\n",
       "      <td>School Reported</td>\n",
       "      <td>School</td>\n",
       "      <td>Unspecified</td>\n",
       "      <td>Substitute</td>\n",
       "      <td>Benefits</td>\n",
       "      <td>NO_LABEL</td>\n",
       "      <td>PreK-12 Operating</td>\n",
       "      <td>EMPLOYEE BENEFITS</td>\n",
       "      <td>TEACHER SUBS</td>\n",
       "      <td>GENERAL FUND</td>\n",
       "      <td>Teacher, Short Term Sub</td>\n",
       "      <td>Regular</td>\n",
       "      <td>NaN</td>\n",
       "      <td>NaN</td>\n",
       "      <td>NaN</td>\n",
       "      <td>NaN</td>\n",
       "      <td>UNALLOC BUDGETS/SCHOOLS</td>\n",
       "      <td>NaN</td>\n",
       "      <td>PROFESSIONAL-INSTRUCTIONAL</td>\n",
       "      <td>22.300</td>\n",
       "      <td>GENERAL MIDDLE/JUNIOR HIGH SCH</td>\n",
       "      <td>NaN</td>\n",
       "      <td>REGULAR INSTRUCTION</td>\n",
       "    </tr>\n",
       "    <tr>\n",
       "      <th>47683</th>\n",
       "      <td>Substitute Compensation</td>\n",
       "      <td>Instruction</td>\n",
       "      <td>School Reported</td>\n",
       "      <td>School</td>\n",
       "      <td>Unspecified</td>\n",
       "      <td>Teacher</td>\n",
       "      <td>Substitute Compensation</td>\n",
       "      <td>NO_LABEL</td>\n",
       "      <td>PreK-12 Operating</td>\n",
       "      <td>TEACHER COVERAGE FOR TEACHER</td>\n",
       "      <td>TEACHER SUBS</td>\n",
       "      <td>GENERAL FUND</td>\n",
       "      <td>Teacher, Secondary (High)</td>\n",
       "      <td>Alternative</td>\n",
       "      <td>NaN</td>\n",
       "      <td>NaN</td>\n",
       "      <td>NaN</td>\n",
       "      <td>NaN</td>\n",
       "      <td>NON-PROJECT</td>\n",
       "      <td>NaN</td>\n",
       "      <td>PROFESSIONAL-INSTRUCTIONAL</td>\n",
       "      <td>54.166</td>\n",
       "      <td>GENERAL HIGH SCHOOL EDUCATION</td>\n",
       "      <td>NaN</td>\n",
       "      <td>REGULAR INSTRUCTION</td>\n",
       "    </tr>\n",
       "  </tbody>\n",
       "</table>\n",
       "</div>"
      ],
      "text/plain": [
       "                       Function          Use          Sharing Reporting  \\\n",
       "134338     Teacher Compensation  Instruction  School Reported    School   \n",
       "206341                 NO_LABEL     NO_LABEL         NO_LABEL  NO_LABEL   \n",
       "326408     Teacher Compensation  Instruction  School Reported    School   \n",
       "364634  Substitute Compensation  Instruction  School Reported    School   \n",
       "47683   Substitute Compensation  Instruction  School Reported    School   \n",
       "\n",
       "       Student_Type Position_Type               Object_Type     Pre_K  \\\n",
       "134338     NO_LABEL       Teacher                  NO_LABEL  NO_LABEL   \n",
       "206341     NO_LABEL      NO_LABEL                  NO_LABEL  NO_LABEL   \n",
       "326408  Unspecified       Teacher  Base Salary/Compensation  Non PreK   \n",
       "364634  Unspecified    Substitute                  Benefits  NO_LABEL   \n",
       "47683   Unspecified       Teacher   Substitute Compensation  NO_LABEL   \n",
       "\n",
       "         Operating_Status            Object_Description             Text_2  \\\n",
       "134338  PreK-12 Operating                           NaN                NaN   \n",
       "206341      Non-Operating           CONTRACTOR SERVICES  BOND EXPENDITURES   \n",
       "326408  PreK-12 Operating  Personal Services - Teachers                NaN   \n",
       "364634  PreK-12 Operating             EMPLOYEE BENEFITS       TEACHER SUBS   \n",
       "47683   PreK-12 Operating  TEACHER COVERAGE FOR TEACHER       TEACHER SUBS   \n",
       "\n",
       "       SubFund_Description       Job_Title_Description       Text_3  \\\n",
       "134338                 NaN         Teacher-Elementary           NaN   \n",
       "206341       BUILDING FUND                     (blank)      Regular   \n",
       "326408                 NaN             TCHER 2ND GRADE          NaN   \n",
       "364634        GENERAL FUND    Teacher, Short Term Sub       Regular   \n",
       "47683         GENERAL FUND  Teacher, Secondary (High)   Alternative   \n",
       "\n",
       "                     Text_4 Sub_Object_Description Location_Description  FTE  \\\n",
       "134338                  NaN                    NaN                  NaN  1.0   \n",
       "206341                  NaN                    NaN                  NaN  NaN   \n",
       "326408  Regular Instruction                    NaN                  NaN  1.0   \n",
       "364634                  NaN                    NaN                  NaN  NaN   \n",
       "47683                   NaN                    NaN                  NaN  NaN   \n",
       "\n",
       "           Function_Description Facility_or_Department  \\\n",
       "134338                      NaN                    NaN   \n",
       "206341                 RGN  GOB                    NaN   \n",
       "326408                      NaN                    NaN   \n",
       "364634  UNALLOC BUDGETS/SCHOOLS                    NaN   \n",
       "47683               NON-PROJECT                    NaN   \n",
       "\n",
       "                    Position_Extra      Total             Program_Description  \\\n",
       "134338               KINDERGARTEN   50471.810                    KINDERGARTEN   \n",
       "206341                UNDESIGNATED   3477.860   BUILDING IMPROVEMENT SERVICES   \n",
       "326408                     TEACHER  62237.130           Instruction - Regular   \n",
       "364634  PROFESSIONAL-INSTRUCTIONAL     22.300  GENERAL MIDDLE/JUNIOR HIGH SCH   \n",
       "47683   PROFESSIONAL-INSTRUCTIONAL     54.166   GENERAL HIGH SCHOOL EDUCATION   \n",
       "\n",
       "              Fund_Description                         Text_1  \n",
       "134338            General Fund                            NaN  \n",
       "206341                     NaN  BUILDING IMPROVEMENT SERVICES  \n",
       "326408  General Purpose School                            NaN  \n",
       "364634                     NaN            REGULAR INSTRUCTION  \n",
       "47683                      NaN            REGULAR INSTRUCTION  "
      ]
     },
     "execution_count": 2,
     "metadata": {},
     "output_type": "execute_result"
    }
   ],
   "source": [
    "# Get data\n",
    "the_data = pd.read_csv('data/TrainingData.csv', index_col=0)\n",
    "\n",
    "# take a look\n",
    "the_data.head()"
   ]
  },
  {
   "cell_type": "markdown",
   "metadata": {},
   "source": [
    "####  Encode the targets as categorical variables"
   ]
  },
  {
   "cell_type": "code",
   "execution_count": 3,
   "metadata": {
    "scrolled": true
   },
   "outputs": [
    {
     "name": "stdout",
     "output_type": "stream",
     "text": [
      "Function            category\n",
      "Object_Type         category\n",
      "Operating_Status    category\n",
      "Position_Type       category\n",
      "Pre_K               category\n",
      "Reporting           category\n",
      "Sharing             category\n",
      "Student_Type        category\n",
      "Use                 category\n",
      "dtype: object\n"
     ]
    }
   ],
   "source": [
    "### bind variable LABELS - these are actually the targets and we're going to one-hot encode them...\n",
    "LABELS = ['Function',  'Use',  'Sharing',  'Reporting',  'Student_Type',  'Position_Type', \n",
    "          'Object_Type',  'Pre_K',  'Operating_Status']\n",
    "\n",
    "### This turns out to be key.  Submission requires the dummy versions of these vars to be in this order.\n",
    "LABELS.sort()\n",
    "\n",
    "# Define the lambda function: categorize_label\n",
    "categorize_label = lambda x: x.astype('category')\n",
    "\n",
    "# Convert df[LABELS] to a categorical type\n",
    "the_data[LABELS] = the_data[LABELS].apply(categorize_label, axis=0)\n",
    "\n",
    "# Print the converted dtypes\n",
    "print(the_data[LABELS].dtypes)"
   ]
  },
  {
   "cell_type": "markdown",
   "metadata": {
    "scrolled": true
   },
   "source": [
    "#### Save the unique labels for each output (category)"
   ]
  },
  {
   "cell_type": "code",
   "execution_count": 4,
   "metadata": {
    "scrolled": true
   },
   "outputs": [
    {
     "data": {
      "text/plain": [
       "['Instruction',\n",
       " 'NO_LABEL',\n",
       " 'O&M',\n",
       " 'Pupil Services & Enrichment',\n",
       " 'ISPD',\n",
       " 'Leadership',\n",
       " 'Business Services',\n",
       " 'Untracked Budget Set-Aside']"
      ]
     },
     "execution_count": 4,
     "metadata": {},
     "output_type": "execute_result"
    }
   ],
   "source": [
    "# build a dictionary\n",
    "the_labels = {col : the_data[col].unique().tolist() for col in the_data[LABELS].columns}\n",
    "# take a look at one entry\n",
    "the_labels['Use']"
   ]
  },
  {
   "cell_type": "markdown",
   "metadata": {},
   "source": [
    "#### Change fraction to suit.\n",
    "Note: small fractions will have a hard time ensuring labels in both splits."
   ]
  },
  {
   "cell_type": "code",
   "execution_count": 5,
   "metadata": {},
   "outputs": [],
   "source": [
    "# downsize it or not\n",
    "# df = the_data.sample(frac=0.90)\n",
    "df = the_data"
   ]
  },
  {
   "cell_type": "markdown",
   "metadata": {},
   "source": [
    "#### Get targets as set of one-hot encoded columns"
   ]
  },
  {
   "cell_type": "code",
   "execution_count": 6,
   "metadata": {},
   "outputs": [],
   "source": [
    "# name these columns\n",
    "NUMERIC_COLUMNS = ['FTE', 'Total']\n",
    "\n",
    "# Get labels and convert to dummy variables: label_dummies\n",
    "label_dummies = pd.get_dummies(df[LABELS])"
   ]
  },
  {
   "cell_type": "markdown",
   "metadata": {},
   "source": [
    "#### Setting up a train-test split  for modeling"
   ]
  },
  {
   "cell_type": "markdown",
   "metadata": {},
   "source": [
    "#### ======================== Begin best previous ==================================="
   ]
  },
  {
   "cell_type": "markdown",
   "metadata": {},
   "source": [
    "Some things to note about the default CountVectorizer and HashingVectorizer:\n",
    "1. All strings are downcased\n",
    "2. The default setting selects tokens of 2 or more alphanumeric characters (punctuation is completely ignored and always treated as a token separator).  This means single letter or digit tokens are ignored.\n",
    "3. If the vectorizer is used to transform another input (e.g. test), any tokens not in the original corpus are ignored."
   ]
  },
  {
   "cell_type": "code",
   "execution_count": 7,
   "metadata": {},
   "outputs": [],
   "source": [
    "# define combine_text_columns()\n",
    "def combine_text_columns(df, to_drop=NUMERIC_COLUMNS + LABELS):\n",
    "    \"\"\" converts all text columns in each row of df to single string \"\"\"\n",
    "    # Drop non-text columns that are in the df\n",
    "    to_drop = set(to_drop) & set(df.columns.tolist())\n",
    "    text_data = df.drop(to_drop, axis=1)  \n",
    "    # Replace nans with blanks\n",
    "    text_data.fillna('', inplace=True)    \n",
    "    # Join all text items in a row that have a space in between\n",
    "    return text_data.apply(lambda x: \" \".join(x), axis=1)"
   ]
  },
  {
   "cell_type": "code",
   "execution_count": 8,
   "metadata": {},
   "outputs": [],
   "source": [
    "# Import FunctionTransformer\n",
    "from sklearn.preprocessing import FunctionTransformer\n",
    "\n",
    "# Get the dummy encoding of the labels\n",
    "dummy_labels = pd.get_dummies(df[LABELS])\n",
    "\n",
    "# Get the features in the data\n",
    "NON_LABELS = [c for c in df.columns if c not in LABELS]\n",
    "\n",
    "# Split into training and test sets\n",
    "X_train, X_test, y_train, y_test = multilabel_train_test_split(df[NON_LABELS],\n",
    "                                                               dummy_labels,\n",
    "                                                               0.2, \n",
    "                                                               seed=123)\n",
    "# Preprocess the text data: get_text_data\n",
    "get_text_data = FunctionTransformer(combine_text_columns, validate=False)\n",
    "\n",
    "# Use all 0s instead of noise: get_numeric_data\n",
    "get_numeric_data_hack = FunctionTransformer(lambda x: np.zeros(x[NUMERIC_COLUMNS].shape, dtype=np.float), validate=False)"
   ]
  },
  {
   "cell_type": "markdown",
   "metadata": {},
   "source": [
    "#### Switching from this: CountVectorizer(ngram_range=(1,2)) to this: HashingVectorizer(ngram_range=(1,2), non_negative=True). Reduces quality.   Without this flag, results track count vectorizer."
   ]
  },
  {
   "cell_type": "code",
   "execution_count": 9,
   "metadata": {},
   "outputs": [
    {
     "name": "stderr",
     "output_type": "stream",
     "text": [
      "C:\\Users\\saus\\Anaconda3\\lib\\site-packages\\sklearn\\feature_extraction\\hashing.py:94: DeprecationWarning: the option non_negative=True has been deprecated in 0.19 and will be removed in version 0.21.\n",
      "  \" in version 0.21.\", DeprecationWarning)\n",
      "C:\\Users\\saus\\Anaconda3\\lib\\site-packages\\sklearn\\feature_extraction\\hashing.py:94: DeprecationWarning: the option non_negative=True has been deprecated in 0.19 and will be removed in version 0.21.\n",
      "  \" in version 0.21.\", DeprecationWarning)\n"
     ]
    },
    {
     "name": "stdout",
     "output_type": "stream",
     "text": [
      "fit time: 916.86 seconds\n"
     ]
    }
   ],
   "source": [
    "#### Build the pipeline\n",
    "mod_1_1_2 = Pipeline([\n",
    "        ('union', FeatureUnion(\n",
    "            transformer_list = [\n",
    "                ('numeric_features', get_numeric_data_hack),\n",
    "                ('text_features', Pipeline([('selector', get_text_data),\n",
    "                                            ('vectorizer', HashingVectorizer(ngram_range=(1,2), non_negative=True))]))\n",
    "             ])),\n",
    "        ('clf', OneVsRestClassifier(LogisticRegression()))\n",
    "    ])\n",
    "\n",
    "start = timer()\n",
    "# Fit to the training data\n",
    "mod_1_1_2.fit(X_train, y_train)\n",
    "end = timer()\n",
    "print('fit time: {:0.2f} seconds'.format(end - start))\n",
    "\n",
    "# ~500sec"
   ]
  },
  {
   "cell_type": "code",
   "execution_count": 10,
   "metadata": {},
   "outputs": [
    {
     "name": "stderr",
     "output_type": "stream",
     "text": [
      "C:\\Users\\saus\\Anaconda3\\lib\\site-packages\\sklearn\\feature_extraction\\hashing.py:94: DeprecationWarning: the option non_negative=True has been deprecated in 0.19 and will be removed in version 0.21.\n",
      "  \" in version 0.21.\", DeprecationWarning)\n",
      "C:\\Users\\saus\\Anaconda3\\lib\\site-packages\\sklearn\\feature_extraction\\hashing.py:94: DeprecationWarning: the option non_negative=True has been deprecated in 0.19 and will be removed in version 0.21.\n",
      "  \" in version 0.21.\", DeprecationWarning)\n"
     ]
    },
    {
     "name": "stdout",
     "output_type": "stream",
     "text": [
      "Predict.proba time: 24.87 seconds\n"
     ]
    }
   ],
   "source": [
    "# get probas\n",
    "start = timer()\n",
    "mod_1_1_2_train_probas = mod_1_1_2.predict_proba(X_train)\n",
    "mod_1_1_2_test_probas = mod_1_1_2.predict_proba(X_test)\n",
    "end = timer()\n",
    "print('Predict.proba time: {:0.2f} seconds'.format(end - start))\n",
    "\n",
    "# Predict.proba time: 24.21 seconds\n"
   ]
  },
  {
   "cell_type": "code",
   "execution_count": 11,
   "metadata": {},
   "outputs": [
    {
     "name": "stdout",
     "output_type": "stream",
     "text": [
      "log loss on training set: 0.1083\n",
      "log loss on training set: 0.1113\n"
     ]
    }
   ],
   "source": [
    "print('log loss on training set: {:0.4f}'.format(multi_multi_log_loss(mod_1_1_2_train_probas, \n",
    "                                                                      y_train.values, BOX_PLOTS_COLUMN_INDICES)))\n",
    "print('log loss on training set: {:0.4f}'.format(multi_multi_log_loss(mod_1_1_2_test_probas, \n",
    "                                                                      y_test.values, BOX_PLOTS_COLUMN_INDICES)))\n",
    "\n",
    "# log loss on training set: 0.0467\n",
    "# log loss on training set: 0.0573"
   ]
  },
  {
   "cell_type": "code",
   "execution_count": 12,
   "metadata": {},
   "outputs": [],
   "source": [
    "def report_f1(true, pred):\n",
    "    the_scores = []\n",
    "    for target in range(len(LABELS)):\n",
    "        the_score = f1_score(true[:, target], pred[:, target], average='weighted')\n",
    "        print('F1 score for target {}: {:.3f}'.format(LABELS[target], the_score))\n",
    "        the_scores.append(the_score)\n",
    "    print('Average F1 score for all targets : {:.3f}'.format(np.mean(the_scores)))\n",
    "\n",
    "def report_accuracy(true, pred):\n",
    "    the_scores = []\n",
    "    for target in range(len(LABELS)):\n",
    "        the_score = accuracy_score(true[:, target], pred[:, target])\n",
    "        print('Accuracy score for target {}: {:.3f}'.format(LABELS[target], the_score))\n",
    "        the_scores.append(the_score)\n",
    "    print('Average accuracy score for all targets : {:.3f}'.format(np.mean(the_scores)))"
   ]
  },
  {
   "cell_type": "code",
   "execution_count": 13,
   "metadata": {},
   "outputs": [],
   "source": [
    "# # ftl wants ndarray, not pd.Dataframe\n",
    "the_ys = ftl.flat_to_labels(y_test.values)"
   ]
  },
  {
   "cell_type": "code",
   "execution_count": 14,
   "metadata": {},
   "outputs": [
    {
     "name": "stdout",
     "output_type": "stream",
     "text": [
      "F1 score for target Function: 0.945\n",
      "F1 score for target Object_Type: 0.980\n",
      "F1 score for target Operating_Status: 0.982\n",
      "F1 score for target Position_Type: 0.976\n",
      "F1 score for target Pre_K: 0.988\n",
      "F1 score for target Reporting: 0.976\n",
      "F1 score for target Sharing: 0.965\n",
      "F1 score for target Student_Type: 0.971\n",
      "F1 score for target Use: 0.959\n",
      "Average F1 score for all targets : 0.971\n",
      "Accuracy score for target Function: 0.947\n",
      "Accuracy score for target Object_Type: 0.981\n",
      "Accuracy score for target Operating_Status: 0.983\n",
      "Accuracy score for target Position_Type: 0.977\n",
      "Accuracy score for target Pre_K: 0.988\n",
      "Accuracy score for target Reporting: 0.976\n",
      "Accuracy score for target Sharing: 0.965\n",
      "Accuracy score for target Student_Type: 0.971\n",
      "Accuracy score for target Use: 0.960\n",
      "Average accuracy score for all targets : 0.972\n"
     ]
    }
   ],
   "source": [
    "report_f1(the_ys, ftl.flat_to_labels(mod_1_1_2_test_probas))\n",
    "\n",
    "report_accuracy(the_ys, ftl.flat_to_labels(mod_1_1_2_test_probas))"
   ]
  },
  {
   "cell_type": "markdown",
   "metadata": {},
   "source": [
    "#### =============================== End of mod_1_1_2 ============================================"
   ]
  },
  {
   "cell_type": "markdown",
   "metadata": {},
   "source": [
    "#### ======================= Begin clf_besties (my feature interactions) ========================================"
   ]
  },
  {
   "cell_type": "code",
   "execution_count": null,
   "metadata": {},
   "outputs": [],
   "source": []
  },
  {
   "cell_type": "code",
   "execution_count": 21,
   "metadata": {},
   "outputs": [],
   "source": [
    "clf_besties = Pipeline([\n",
    "    ('text_features', Pipeline([('selector', get_text_data),\n",
    "                                ('vectorizer', CountVectorizer(ngram_range=(1,2)))])),\n",
    "    ('union', FeatureUnion(transformer_list = [\n",
    "        ('passthrough',              IdentityTransformer()),                                 # the word vecs\n",
    "        ('get_interact',             Pipeline([('get_best', SelectKBest(chi2, 100)),\n",
    "                                               ('interact', JustInteractions())]))])),        # 4.5k new features\n",
    "    ('clf', OneVsRestClassifier(LogisticRegression()))\n",
    "    ])"
   ]
  },
  {
   "cell_type": "code",
   "execution_count": 22,
   "metadata": {},
   "outputs": [
    {
     "name": "stdout",
     "output_type": "stream",
     "text": [
      "fit time: 4804.77 seconds\n"
     ]
    }
   ],
   "source": [
    "start = timer()\n",
    "# Fit to the training data\n",
    "clf_besties.fit(X_train, y_train)\n",
    "end = timer()\n",
    "print('fit time: {:0.2f} seconds'.format(end - start))\n",
    "\n",
    "### ran extra slow because machine was optimizing battery not performance."
   ]
  },
  {
   "cell_type": "code",
   "execution_count": 23,
   "metadata": {},
   "outputs": [
    {
     "name": "stdout",
     "output_type": "stream",
     "text": [
      "Predict.proba time: 37.75 seconds\n"
     ]
    }
   ],
   "source": [
    "# get probas\n",
    "start = timer()\n",
    "clf_besties_train_probas = clf_besties.predict_proba(X_train)\n",
    "clf_besties_test_probas = clf_besties.predict_proba(X_test)\n",
    "end = timer()\n",
    "print('Predict.proba time: {:0.2f} seconds'.format(end - start))"
   ]
  },
  {
   "cell_type": "code",
   "execution_count": 24,
   "metadata": {},
   "outputs": [
    {
     "name": "stdout",
     "output_type": "stream",
     "text": [
      "log loss on training set: 0.0448\n",
      "log loss on test set: 0.0570\n"
     ]
    }
   ],
   "source": [
    "print('log loss on training set: {:0.4f}'.format(multi_multi_log_loss(clf_besties_train_probas, \n",
    "                                                                      y_train.values, BOX_PLOTS_COLUMN_INDICES)))\n",
    "print('log loss on test set: {:0.4f}'.format(multi_multi_log_loss(clf_besties_test_probas, \n",
    "                                                                      y_test.values, BOX_PLOTS_COLUMN_INDICES)))\n",
    "\n",
    "# log loss on training set: 0.0467\n",
    "# log loss on training set: 0.0573"
   ]
  },
  {
   "cell_type": "markdown",
   "metadata": {},
   "source": [
    "#### Slight improvement over previous best local log loss"
   ]
  },
  {
   "cell_type": "markdown",
   "metadata": {},
   "source": [
    "#### ==========================================================================================="
   ]
  },
  {
   "cell_type": "markdown",
   "metadata": {},
   "source": [
    "#### ================== Begin clf_besties_s (my feature interactions, with scaling) ======================================="
   ]
  },
  {
   "cell_type": "markdown",
   "metadata": {},
   "source": [
    "#### Add scaling"
   ]
  },
  {
   "cell_type": "code",
   "execution_count": 44,
   "metadata": {},
   "outputs": [],
   "source": [
    "clf_besties_s = Pipeline([\n",
    "    ('text_features', Pipeline([('selector', get_text_data),\n",
    "                                ('vectorizer', CountVectorizer(ngram_range=(1,2)))])),\n",
    "    ('union', FeatureUnion(transformer_list = [\n",
    "        ('passthrough',              IdentityTransformer()),                                 # the word vecs\n",
    "        ('get_interact',             Pipeline([('get_best', SelectKBest(chi2, 100)),\n",
    "                                               ('interact', JustInteractions())]))])),        # 4.5k new features\n",
    "    ('scale', MaxAbsScaler()),\n",
    "    ('clf', OneVsRestClassifier(LogisticRegression()))\n",
    "    ])"
   ]
  },
  {
   "cell_type": "code",
   "execution_count": 45,
   "metadata": {},
   "outputs": [
    {
     "name": "stdout",
     "output_type": "stream",
     "text": [
      "fit time: 1656.17 seconds\n"
     ]
    }
   ],
   "source": [
    "start = timer()\n",
    "# Fit to the training data\n",
    "clf_besties_s.fit(X_train, y_train)\n",
    "end = timer()\n",
    "print('fit time: {:0.2f} seconds'.format(end - start))"
   ]
  },
  {
   "cell_type": "code",
   "execution_count": 46,
   "metadata": {},
   "outputs": [
    {
     "name": "stdout",
     "output_type": "stream",
     "text": [
      "Predict.proba time: 32.33 seconds\n"
     ]
    }
   ],
   "source": [
    "# get probas\n",
    "start = timer()\n",
    "clf_besties_s_train_probas = clf_besties_s.predict_proba(X_train)\n",
    "clf_besties_s_test_probas = clf_besties_s.predict_proba(X_test)\n",
    "end = timer()\n",
    "print('Predict.proba time: {:0.2f} seconds'.format(end - start))\n"
   ]
  },
  {
   "cell_type": "code",
   "execution_count": 47,
   "metadata": {},
   "outputs": [
    {
     "name": "stdout",
     "output_type": "stream",
     "text": [
      "log loss on training set: 0.0482\n",
      "log loss on test set: 0.0587\n"
     ]
    }
   ],
   "source": [
    "print('log loss on training set: {:0.4f}'.format(multi_multi_log_loss(clf_besties_s_train_probas, \n",
    "                                                                      y_train.values, BOX_PLOTS_COLUMN_INDICES)))\n",
    "print('log loss on test set: {:0.4f}'.format(multi_multi_log_loss(clf_besties_s_test_probas, \n",
    "                                                                      y_test.values, BOX_PLOTS_COLUMN_INDICES)))\n",
    "\n",
    "# log loss on training set: 0.0467\n",
    "# log loss on training set: 0.0573\n",
    "\n",
    "# scaling speeds things up, but maybe hurts prediction."
   ]
  },
  {
   "cell_type": "markdown",
   "metadata": {},
   "source": [
    "#### Scaling doesn't help"
   ]
  },
  {
   "cell_type": "markdown",
   "metadata": {},
   "source": [
    "#### ====================================================================================================="
   ]
  },
  {
   "cell_type": "markdown",
   "metadata": {},
   "source": [
    "#### ======================= Begin twoC_besties (same, but 200 features)=========================================="
   ]
  },
  {
   "cell_type": "markdown",
   "metadata": {},
   "source": [
    "#### Add another 100 features"
   ]
  },
  {
   "cell_type": "code",
   "execution_count": 48,
   "metadata": {},
   "outputs": [],
   "source": [
    "twoC_besties = Pipeline([\n",
    "    ('text_features', Pipeline([('selector', get_text_data),\n",
    "                                ('vectorizer', CountVectorizer(ngram_range=(1,2)))])),\n",
    "    ('union', FeatureUnion(transformer_list = [\n",
    "        ('passthrough',              IdentityTransformer()),                                 # the word vecs\n",
    "        ('get_interact',             Pipeline([('get_best', SelectKBest(chi2, 200)),\n",
    "                                               ('interact', JustInteractions())]))])),        # 20k new features\n",
    "    ('clf', OneVsRestClassifier(LogisticRegression()))\n",
    "    ])"
   ]
  },
  {
   "cell_type": "code",
   "execution_count": 49,
   "metadata": {},
   "outputs": [
    {
     "name": "stdout",
     "output_type": "stream",
     "text": [
      "fit time: 6530.86 seconds\n"
     ]
    }
   ],
   "source": [
    "start = timer()\n",
    "# Fit to the training data\n",
    "twoC_besties.fit(X_train, y_train)\n",
    "end = timer()\n",
    "print('fit time: {:0.2f} seconds'.format(end - start))"
   ]
  },
  {
   "cell_type": "code",
   "execution_count": 62,
   "metadata": {},
   "outputs": [
    {
     "name": "stdout",
     "output_type": "stream",
     "text": [
      "Predict.proba time: 69.10 seconds\n"
     ]
    }
   ],
   "source": [
    "# get probas\n",
    "start = timer()\n",
    "twoC_besties_train_probas = twoC_besties.predict_proba(X_train)\n",
    "twoC_besties_test_probas = twoC_besties.predict_proba(X_test)\n",
    "end = timer()\n",
    "print('Predict.proba time: {:0.2f} seconds'.format(end - start))\n"
   ]
  },
  {
   "cell_type": "code",
   "execution_count": 63,
   "metadata": {},
   "outputs": [
    {
     "name": "stdout",
     "output_type": "stream",
     "text": [
      "log loss on training set: 0.0427\n",
      "log loss on test set: 0.0565\n"
     ]
    }
   ],
   "source": [
    "print('log loss on training set: {:0.4f}'.format(multi_multi_log_loss(twoC_besties_train_probas, \n",
    "                                                                      y_train.values, BOX_PLOTS_COLUMN_INDICES)))\n",
    "print('log loss on test set: {:0.4f}'.format(multi_multi_log_loss(twoC_besties_test_probas, \n",
    "                                                                      y_test.values, BOX_PLOTS_COLUMN_INDICES)))\n",
    "\n",
    "# log loss on training set: 0.0467\n",
    "# log loss on training set: 0.0573"
   ]
  },
  {
   "cell_type": "code",
   "execution_count": 65,
   "metadata": {},
   "outputs": [],
   "source": [
    "yhat2C = ftl.flat_to_labels(twoC_besties_test_probas)"
   ]
  },
  {
   "cell_type": "code",
   "execution_count": 64,
   "metadata": {
    "scrolled": true
   },
   "outputs": [
    {
     "name": "stdout",
     "output_type": "stream",
     "text": [
      "F1 score for target Function: 0.965\n",
      "F1 score for target Object_Type: 0.987\n",
      "F1 score for target Operating_Status: 0.987\n",
      "F1 score for target Position_Type: 0.987\n",
      "F1 score for target Pre_K: 0.991\n",
      "F1 score for target Reporting: 0.984\n",
      "F1 score for target Sharing: 0.980\n",
      "F1 score for target Student_Type: 0.981\n",
      "F1 score for target Use: 0.976\n",
      "Average F1 score for all targets : 0.982\n",
      "Accuracy score for target Function: 0.965\n",
      "Accuracy score for target Object_Type: 0.987\n",
      "Accuracy score for target Operating_Status: 0.987\n",
      "Accuracy score for target Position_Type: 0.987\n",
      "Accuracy score for target Pre_K: 0.991\n",
      "Accuracy score for target Reporting: 0.984\n",
      "Accuracy score for target Sharing: 0.980\n",
      "Accuracy score for target Student_Type: 0.981\n",
      "Accuracy score for target Use: 0.976\n",
      "Average accuracy score for all targets : 0.982\n"
     ]
    }
   ],
   "source": [
    "report_f1(the_ys, ftl.flat_to_labels(twoC_besties_test_probas))\n",
    "report_accuracy(the_ys, ftl.flat_to_labels(twoC_besties_test_probas))"
   ]
  },
  {
   "cell_type": "markdown",
   "metadata": {},
   "source": [
    "### Best so far."
   ]
  },
  {
   "cell_type": "code",
   "execution_count": 134,
   "metadata": {},
   "outputs": [
    {
     "data": {
      "text/plain": [
       "Object_Description         object\n",
       "Program_Description        object\n",
       "SubFund_Description        object\n",
       "Job_Title_Description      object\n",
       "Facility_or_Department     object\n",
       "Sub_Object_Description     object\n",
       "Location_Description       object\n",
       "FTE                       float64\n",
       "Function_Description       object\n",
       "Position_Extra             object\n",
       "Text_4                     object\n",
       "Total                     float64\n",
       "Text_2                     object\n",
       "Text_3                     object\n",
       "Fund_Description           object\n",
       "Text_1                     object\n",
       "dtype: object"
      ]
     },
     "execution_count": 134,
     "metadata": {},
     "output_type": "execute_result"
    }
   ],
   "source": [
    "holdout.dtypes"
   ]
  },
  {
   "cell_type": "code",
   "execution_count": 133,
   "metadata": {
    "scrolled": false
   },
   "outputs": [
    {
     "data": {
      "text/html": [
       "<div>\n",
       "<style scoped>\n",
       "    .dataframe tbody tr th:only-of-type {\n",
       "        vertical-align: middle;\n",
       "    }\n",
       "\n",
       "    .dataframe tbody tr th {\n",
       "        vertical-align: top;\n",
       "    }\n",
       "\n",
       "    .dataframe thead th {\n",
       "        text-align: right;\n",
       "    }\n",
       "</style>\n",
       "<table border=\"1\" class=\"dataframe\">\n",
       "  <thead>\n",
       "    <tr style=\"text-align: right;\">\n",
       "      <th></th>\n",
       "      <th>Object_Description</th>\n",
       "      <th>Program_Description</th>\n",
       "      <th>SubFund_Description</th>\n",
       "      <th>Job_Title_Description</th>\n",
       "      <th>Facility_or_Department</th>\n",
       "      <th>Sub_Object_Description</th>\n",
       "      <th>Location_Description</th>\n",
       "      <th>FTE</th>\n",
       "      <th>Function_Description</th>\n",
       "      <th>Position_Extra</th>\n",
       "      <th>Text_4</th>\n",
       "      <th>Total</th>\n",
       "      <th>Text_2</th>\n",
       "      <th>Text_3</th>\n",
       "      <th>Fund_Description</th>\n",
       "      <th>Text_1</th>\n",
       "    </tr>\n",
       "  </thead>\n",
       "  <tbody>\n",
       "    <tr>\n",
       "      <th>180042</th>\n",
       "      <td>Student Meals/Room/Other</td>\n",
       "      <td>Basic Educational Services</td>\n",
       "      <td>NaN</td>\n",
       "      <td>NaN</td>\n",
       "      <td>NaN</td>\n",
       "      <td>Line Item that is paid with Campus' money</td>\n",
       "      <td>School</td>\n",
       "      <td>NaN</td>\n",
       "      <td>Instruction</td>\n",
       "      <td>NaN</td>\n",
       "      <td>NaN</td>\n",
       "      <td>3999.910000</td>\n",
       "      <td>NaN</td>\n",
       "      <td>NaN</td>\n",
       "      <td>General Fund</td>\n",
       "      <td>NaN</td>\n",
       "    </tr>\n",
       "    <tr>\n",
       "      <th>28872</th>\n",
       "      <td>Extra Duty/Signing Bonus Pay</td>\n",
       "      <td>Undistributed</td>\n",
       "      <td>NaN</td>\n",
       "      <td>CHEERLEADER DIR</td>\n",
       "      <td>NaN</td>\n",
       "      <td>General</td>\n",
       "      <td>School</td>\n",
       "      <td>NaN</td>\n",
       "      <td>Cocurricular &amp; Extra Curricular Activities</td>\n",
       "      <td>NaN</td>\n",
       "      <td>NaN</td>\n",
       "      <td>3447.320213</td>\n",
       "      <td>NaN</td>\n",
       "      <td>NaN</td>\n",
       "      <td>General Fund</td>\n",
       "      <td>NaN</td>\n",
       "    </tr>\n",
       "    <tr>\n",
       "      <th>186915</th>\n",
       "      <td>Professional Salaries</td>\n",
       "      <td>Bilingual Education</td>\n",
       "      <td>NaN</td>\n",
       "      <td>T-EL 1ST BIL</td>\n",
       "      <td>NaN</td>\n",
       "      <td>General</td>\n",
       "      <td>School</td>\n",
       "      <td>1.0</td>\n",
       "      <td>Instruction</td>\n",
       "      <td>NaN</td>\n",
       "      <td>NaN</td>\n",
       "      <td>52738.780869</td>\n",
       "      <td>NaN</td>\n",
       "      <td>NaN</td>\n",
       "      <td>General Fund</td>\n",
       "      <td>NaN</td>\n",
       "    </tr>\n",
       "    <tr>\n",
       "      <th>412396</th>\n",
       "      <td>Professional Salaries</td>\n",
       "      <td>Bilingual Education</td>\n",
       "      <td>NaN</td>\n",
       "      <td>T-EL 2ND BIL</td>\n",
       "      <td>NaN</td>\n",
       "      <td>General</td>\n",
       "      <td>School</td>\n",
       "      <td>1.0</td>\n",
       "      <td>Instruction</td>\n",
       "      <td>NaN</td>\n",
       "      <td>NaN</td>\n",
       "      <td>69729.263191</td>\n",
       "      <td>NaN</td>\n",
       "      <td>NaN</td>\n",
       "      <td>General Fund</td>\n",
       "      <td>NaN</td>\n",
       "    </tr>\n",
       "    <tr>\n",
       "      <th>427740</th>\n",
       "      <td>Salaries for Support Personnel</td>\n",
       "      <td>Undistributed</td>\n",
       "      <td>NaN</td>\n",
       "      <td>CLERK III- SCH</td>\n",
       "      <td>NaN</td>\n",
       "      <td>General</td>\n",
       "      <td>School</td>\n",
       "      <td>1.0</td>\n",
       "      <td>School Leadership</td>\n",
       "      <td>NaN</td>\n",
       "      <td>NaN</td>\n",
       "      <td>29492.834215</td>\n",
       "      <td>NaN</td>\n",
       "      <td>NaN</td>\n",
       "      <td>General Fund</td>\n",
       "      <td>NaN</td>\n",
       "    </tr>\n",
       "  </tbody>\n",
       "</table>\n",
       "</div>"
      ],
      "text/plain": [
       "                    Object_Description         Program_Description  \\\n",
       "180042        Student Meals/Room/Other  Basic Educational Services   \n",
       "28872     Extra Duty/Signing Bonus Pay               Undistributed   \n",
       "186915           Professional Salaries         Bilingual Education   \n",
       "412396           Professional Salaries         Bilingual Education   \n",
       "427740  Salaries for Support Personnel               Undistributed   \n",
       "\n",
       "       SubFund_Description Job_Title_Description Facility_or_Department  \\\n",
       "180042                 NaN                   NaN                    NaN   \n",
       "28872                  NaN       CHEERLEADER DIR                    NaN   \n",
       "186915                 NaN          T-EL 1ST BIL                    NaN   \n",
       "412396                 NaN          T-EL 2ND BIL                    NaN   \n",
       "427740                 NaN        CLERK III- SCH                    NaN   \n",
       "\n",
       "                           Sub_Object_Description Location_Description  FTE  \\\n",
       "180042  Line Item that is paid with Campus' money              School   NaN   \n",
       "28872                                     General              School   NaN   \n",
       "186915                                    General              School   1.0   \n",
       "412396                                    General              School   1.0   \n",
       "427740                                    General              School   1.0   \n",
       "\n",
       "                              Function_Description Position_Extra Text_4  \\\n",
       "180042                                 Instruction            NaN    NaN   \n",
       "28872   Cocurricular & Extra Curricular Activities            NaN    NaN   \n",
       "186915                                 Instruction            NaN    NaN   \n",
       "412396                                 Instruction            NaN    NaN   \n",
       "427740                           School Leadership            NaN    NaN   \n",
       "\n",
       "               Total Text_2 Text_3 Fund_Description Text_1  \n",
       "180042   3999.910000    NaN    NaN     General Fund    NaN  \n",
       "28872    3447.320213    NaN    NaN     General Fund    NaN  \n",
       "186915  52738.780869    NaN    NaN     General Fund    NaN  \n",
       "412396  69729.263191    NaN    NaN     General Fund    NaN  \n",
       "427740  29492.834215    NaN    NaN     General Fund    NaN  "
      ]
     },
     "execution_count": 133,
     "metadata": {},
     "output_type": "execute_result"
    }
   ],
   "source": [
    "holdout.head()"
   ]
  },
  {
   "cell_type": "code",
   "execution_count": 132,
   "metadata": {},
   "outputs": [
    {
     "name": "stderr",
     "output_type": "stream",
     "text": [
      "C:\\Users\\saus\\Anaconda3\\lib\\site-packages\\IPython\\core\\interactiveshell.py:2785: DtypeWarning: Columns (5,11) have mixed types. Specify dtype option on import or set low_memory=False.\n",
      "  interactivity=interactivity, compiler=compiler, result=result)\n"
     ]
    },
    {
     "name": "stdout",
     "output_type": "stream",
     "text": [
      "predict time: 13.065332858008333 seconds\n"
     ]
    }
   ],
   "source": [
    "# Load the holdout data: holdout\n",
    "### Over here the file is TestData.csv\n",
    "holdout = pd.read_csv('data/TestData.csv', index_col=0)\n",
    "\n",
    "start = timer()\n",
    "# Generate predictions: predictions\n",
    "twoC_besties_predictions = twoC_besties.predict_proba(holdout)\n",
    "end = timer()\n",
    "print('predict time: {} seconds'.format(end - start))\n",
    "\n",
    "pred_twoC_besties = pd.DataFrame(columns=pd.get_dummies(df[LABELS], prefix_sep='__').columns, \n",
    "                             index=holdout.index,\n",
    "                             data=twoC_besties_predictions)\n",
    "\n",
    "pred_twoC_besties.to_csv('pred_twoC_besties.csv')"
   ]
  },
  {
   "cell_type": "markdown",
   "metadata": {},
   "source": [
    "#### ================================== Score is 0.7373 ==========================================================="
   ]
  },
  {
   "cell_type": "markdown",
   "metadata": {},
   "source": [
    "#### =============================== Begin three_C_besties ============================================"
   ]
  },
  {
   "cell_type": "code",
   "execution_count": 35,
   "metadata": {},
   "outputs": [],
   "source": [
    "threeC_besties = Pipeline([\n",
    "    ('text_features', Pipeline([('selector', get_text_data),\n",
    "                                ('vectorizer', CountVectorizer(ngram_range=(1,2)))])),\n",
    "    ('union', FeatureUnion(transformer_list = [\n",
    "        ('passthrough',              IdentityTransformer()),                                 # the word vecs\n",
    "        ('get_interact',             Pipeline([('get_best', SelectKBest(chi2, 300)),\n",
    "                                               ('interact', JustInteractions())]))])),        # 45k new features\n",
    "    ('clf', OneVsRestClassifier(LogisticRegression()))\n",
    "    ])"
   ]
  },
  {
   "cell_type": "code",
   "execution_count": 36,
   "metadata": {},
   "outputs": [
    {
     "name": "stdout",
     "output_type": "stream",
     "text": [
      "fit time: 12157.35 seconds\n"
     ]
    }
   ],
   "source": [
    "start = timer()\n",
    "# Fit to the training data\n",
    "threeC_besties.fit(X_train, y_train)\n",
    "end = timer()\n",
    "print('fit time: {:0.2f} seconds'.format(end - start))"
   ]
  },
  {
   "cell_type": "code",
   "execution_count": 37,
   "metadata": {},
   "outputs": [
    {
     "name": "stdout",
     "output_type": "stream",
     "text": [
      "Predict.proba time: 112.65 seconds\n"
     ]
    }
   ],
   "source": [
    "# get probas\n",
    "start = timer()\n",
    "threeC_besties_train_probas = threeC_besties.predict_proba(X_train)\n",
    "threeC_besties_test_probas = threeC_besties.predict_proba(X_test)\n",
    "end = timer()\n",
    "print('Predict.proba time: {:0.2f} seconds'.format(end - start))\n"
   ]
  },
  {
   "cell_type": "code",
   "execution_count": 38,
   "metadata": {
    "scrolled": true
   },
   "outputs": [
    {
     "name": "stdout",
     "output_type": "stream",
     "text": [
      "log loss on training set: 0.0412\n",
      "log loss on test set: 0.0566\n"
     ]
    }
   ],
   "source": [
    "print('log loss on training set: {:0.4f}'.format(multi_multi_log_loss(threeC_besties_train_probas, \n",
    "                                                                      y_train.values, BOX_PLOTS_COLUMN_INDICES)))\n",
    "print('log loss on test set: {:0.4f}'.format(multi_multi_log_loss(threeC_besties_test_probas, \n",
    "                                                                      y_test.values, BOX_PLOTS_COLUMN_INDICES)))\n",
    "\n",
    "# log loss on training set: 0.0467\n",
    "# log loss on training set: 0.0573"
   ]
  },
  {
   "cell_type": "code",
   "execution_count": 39,
   "metadata": {},
   "outputs": [],
   "source": [
    "# # ftl wants ndarray, not pd.Dataframe\n",
    "the_ys = ftl.flat_to_labels(y_test.values)"
   ]
  },
  {
   "cell_type": "code",
   "execution_count": 41,
   "metadata": {},
   "outputs": [
    {
     "name": "stdout",
     "output_type": "stream",
     "text": [
      "F1 score for target Function: 0.966\n",
      "F1 score for target Object_Type: 0.987\n",
      "F1 score for target Operating_Status: 0.987\n",
      "F1 score for target Position_Type: 0.987\n",
      "F1 score for target Pre_K: 0.991\n",
      "F1 score for target Reporting: 0.984\n",
      "F1 score for target Sharing: 0.980\n",
      "F1 score for target Student_Type: 0.981\n",
      "F1 score for target Use: 0.976\n",
      "Average F1 score for all targets : 0.982\n",
      "Accuracy score for target Function: 0.966\n",
      "Accuracy score for target Object_Type: 0.987\n",
      "Accuracy score for target Operating_Status: 0.987\n",
      "Accuracy score for target Position_Type: 0.987\n",
      "Accuracy score for target Pre_K: 0.991\n",
      "Accuracy score for target Reporting: 0.984\n",
      "Accuracy score for target Sharing: 0.980\n",
      "Accuracy score for target Student_Type: 0.981\n",
      "Accuracy score for target Use: 0.976\n",
      "Average accuracy score for all targets : 0.982\n"
     ]
    }
   ],
   "source": [
    "report_f1(the_ys, ftl.flat_to_labels(threeC_besties_test_probas))\n",
    "\n",
    "report_accuracy(the_ys, ftl.flat_to_labels(threeC_besties_test_probas))\n",
    "\n",
    "# F1 score for target Function: 0.965\n",
    "# F1 score for target Object_Type: 0.987\n",
    "# F1 score for target Operating_Status: 0.987\n",
    "# F1 score for target Position_Type: 0.987\n",
    "# F1 score for target Pre_K: 0.991\n",
    "# F1 score for target Reporting: 0.984\n",
    "# F1 score for target Sharing: 0.979\n",
    "# F1 score for target Student_Type: 0.981\n",
    "# F1 score for target Use: 0.975\n",
    "# Average F1 score for all targets : 0.982\n",
    "# Accuracy score for target Function: 0.965\n",
    "# Accuracy score for target Object_Type: 0.987\n",
    "# Accuracy score for target Operating_Status: 0.987\n",
    "# Accuracy score for target Position_Type: 0.987\n",
    "# Accuracy score for target Pre_K: 0.991\n",
    "# Accuracy score for target Reporting: 0.984\n",
    "# Accuracy score for target Sharing: 0.979\n",
    "# Accuracy score for target Student_Type: 0.981\n",
    "# Accuracy score for target Use: 0.975\n",
    "# Average accuracy score for all targets : 0.982"
   ]
  },
  {
   "cell_type": "markdown",
   "metadata": {},
   "source": [
    "#### Not better."
   ]
  },
  {
   "cell_type": "markdown",
   "metadata": {},
   "source": [
    "***"
   ]
  },
  {
   "cell_type": "markdown",
   "metadata": {},
   "source": [
    "#### Use RF to get 200 best features before making the interactions..."
   ]
  },
  {
   "cell_type": "code",
   "execution_count": 128,
   "metadata": {},
   "outputs": [],
   "source": [
    "rfTwoC_besties = Pipeline([\n",
    "    ('text_features', Pipeline([('selector', get_text_data),\n",
    "                                ('vectorizer', CountVectorizer(ngram_range=(1,2)))])),\n",
    "    ('union', FeatureUnion(transformer_list = [\n",
    "        ('passthrough',              IdentityTransformer()),                                 # the word vecs\n",
    "        ('get_interact',             Pipeline([('get_best', SelectFromModel(RandomForestClassifier(n_jobs=-1), \n",
    "                                                                            threshold = 0.00097845200)),\n",
    "                                               ('interact', JustInteractions())]))])),        # 20k new features\n",
    "    ('clf', OneVsRestClassifier(LogisticRegression()))\n",
    "    ])"
   ]
  },
  {
   "cell_type": "markdown",
   "metadata": {},
   "source": [
    "#### We need to know what the threshold is to get only 200 features"
   ]
  },
  {
   "cell_type": "code",
   "execution_count": 117,
   "metadata": {
    "scrolled": false
   },
   "outputs": [],
   "source": [
    "# make a classifier\n",
    "rfcp = Pipeline([('selector', get_text_data),\n",
    "                ('vectorizer', CountVectorizer(ngram_range=(1,2))),\n",
    "                ('rf', RandomForestClassifier(n_jobs=-1))])"
   ]
  },
  {
   "cell_type": "code",
   "execution_count": null,
   "metadata": {},
   "outputs": [],
   "source": [
    "# fit it"
   ]
  },
  {
   "cell_type": "code",
   "execution_count": 118,
   "metadata": {},
   "outputs": [
    {
     "data": {
      "text/plain": [
       "Pipeline(memory=None,\n",
       "     steps=[('selector', FunctionTransformer(accept_sparse=False,\n",
       "          func=<function combine_text_columns at 0x000001C2CEC15EA0>,\n",
       "          inv_kw_args=None, inverse_func=None, kw_args=None,\n",
       "          pass_y='deprecated', validate=False)), ('vectorizer', CountVectorizer(analyzer='word', binary=Fals..._jobs=-1,\n",
       "            oob_score=False, random_state=None, verbose=0,\n",
       "            warm_start=False))])"
      ]
     },
     "execution_count": 118,
     "metadata": {},
     "output_type": "execute_result"
    }
   ],
   "source": [
    "rfcp.fit(X_train, y_train)"
   ]
  },
  {
   "cell_type": "code",
   "execution_count": 121,
   "metadata": {},
   "outputs": [],
   "source": [
    "# get the feature importances\n",
    "f_i = rfcp.steps[-1][1].feature_importances_"
   ]
  },
  {
   "cell_type": "code",
   "execution_count": 125,
   "metadata": {},
   "outputs": [],
   "source": [
    "# sort the importances \n",
    "fis = np.sort(f_i)"
   ]
  },
  {
   "cell_type": "code",
   "execution_count": 126,
   "metadata": {},
   "outputs": [
    {
     "data": {
      "text/plain": [
       "array([0.00093152, 0.00094927, 0.00095214, 0.00095267, 0.00095563,\n",
       "       0.00096494, 0.00097227, 0.00097718, 0.00097829, 0.00097845])"
      ]
     },
     "execution_count": 126,
     "metadata": {},
     "output_type": "execute_result"
    }
   ],
   "source": [
    "# look at importances of the 200th most important feature and neighbors.\n",
    "fis[-210: -200]"
   ]
  },
  {
   "cell_type": "markdown",
   "metadata": {},
   "source": [
    "#### importance of the 200th most important is  0.00097845, so that's our threshold"
   ]
  },
  {
   "cell_type": "code",
   "execution_count": 129,
   "metadata": {
    "scrolled": false
   },
   "outputs": [
    {
     "name": "stdout",
     "output_type": "stream",
     "text": [
      "fit time: 12908.84 seconds\n"
     ]
    }
   ],
   "source": [
    "start = timer()\n",
    "# Fit to the training data\n",
    "rfTwoC_besties.fit(X_train, y_train)\n",
    "end = timer()\n",
    "print('fit time: {:0.2f} seconds'.format(end - start))"
   ]
  },
  {
   "cell_type": "code",
   "execution_count": 130,
   "metadata": {},
   "outputs": [
    {
     "name": "stdout",
     "output_type": "stream",
     "text": [
      "Predict.proba time: 94.50 seconds\n"
     ]
    }
   ],
   "source": [
    "# get probas\n",
    "start = timer()\n",
    "rfTwoC_besties_train_probas = rfTwoC_besties.predict_proba(X_train)\n",
    "rfTwoC_besties_test_probas = rfTwoC_besties.predict_proba(X_test)\n",
    "end = timer()\n",
    "print('Predict.proba time: {:0.2f} seconds'.format(end - start))\n"
   ]
  },
  {
   "cell_type": "code",
   "execution_count": 131,
   "metadata": {},
   "outputs": [
    {
     "name": "stdout",
     "output_type": "stream",
     "text": [
      "log loss on training set: 0.0405\n",
      "log loss on test set: 0.0565\n"
     ]
    }
   ],
   "source": [
    "print('log loss on training set: {:0.4f}'.format(multi_multi_log_loss(rfTwoC_besties_train_probas, \n",
    "                                                                      y_train.values, BOX_PLOTS_COLUMN_INDICES)))\n",
    "print('log loss on test set: {:0.4f}'.format(multi_multi_log_loss(rfTwoC_besties_test_probas, \n",
    "                                                                      y_test.values, BOX_PLOTS_COLUMN_INDICES)))\n",
    "\n",
    "# log loss on training set: 0.0467\n",
    "# log loss on training set: 0.0573"
   ]
  },
  {
   "cell_type": "markdown",
   "metadata": {},
   "source": [
    "#### Better on training set but not on test set.  \n",
    "\n",
    "I wonder: could I be overfit?  Best on LB is 0.35, so maybe I should dial up the bias until I'm there and try."
   ]
  },
  {
   "cell_type": "code",
   "execution_count": 65,
   "metadata": {},
   "outputs": [],
   "source": [
    "yhat2C = ftl.flat_to_labels(rfTwoC_besties_test_probas)"
   ]
  },
  {
   "cell_type": "code",
   "execution_count": 64,
   "metadata": {
    "scrolled": true
   },
   "outputs": [
    {
     "name": "stdout",
     "output_type": "stream",
     "text": [
      "F1 score for target Function: 0.965\n",
      "F1 score for target Object_Type: 0.987\n",
      "F1 score for target Operating_Status: 0.987\n",
      "F1 score for target Position_Type: 0.987\n",
      "F1 score for target Pre_K: 0.991\n",
      "F1 score for target Reporting: 0.984\n",
      "F1 score for target Sharing: 0.980\n",
      "F1 score for target Student_Type: 0.981\n",
      "F1 score for target Use: 0.976\n",
      "Average F1 score for all targets : 0.982\n",
      "Accuracy score for target Function: 0.965\n",
      "Accuracy score for target Object_Type: 0.987\n",
      "Accuracy score for target Operating_Status: 0.987\n",
      "Accuracy score for target Position_Type: 0.987\n",
      "Accuracy score for target Pre_K: 0.991\n",
      "Accuracy score for target Reporting: 0.984\n",
      "Accuracy score for target Sharing: 0.980\n",
      "Accuracy score for target Student_Type: 0.981\n",
      "Accuracy score for target Use: 0.976\n",
      "Average accuracy score for all targets : 0.982\n"
     ]
    }
   ],
   "source": [
    "report_f1(the_ys, ftl.flat_to_labels(rfTwoC_besties_test_probas))\n",
    "\n",
    "report_accuracy(the_ys, ftl.flat_to_labels(rfTwoC_besties_test_probas))\n",
    "\n",
    "# F1 score for target Function: 0.965\n",
    "# F1 score for target Object_Type: 0.987\n",
    "# F1 score for target Operating_Status: 0.987\n",
    "# F1 score for target Position_Type: 0.987\n",
    "# F1 score for target Pre_K: 0.991\n",
    "# F1 score for target Reporting: 0.984\n",
    "# F1 score for target Sharing: 0.979\n",
    "# F1 score for target Student_Type: 0.981\n",
    "# F1 score for target Use: 0.975\n",
    "# Average F1 score for all targets : 0.982\n",
    "# Accuracy score for target Function: 0.965\n",
    "# Accuracy score for target Object_Type: 0.987\n",
    "# Accuracy score for target Operating_Status: 0.987\n",
    "# Accuracy score for target Position_Type: 0.987\n",
    "# Accuracy score for target Pre_K: 0.991\n",
    "# Accuracy score for target Reporting: 0.984\n",
    "# Accuracy score for target Sharing: 0.979\n",
    "# Accuracy score for target Student_Type: 0.981\n",
    "# Accuracy score for target Use: 0.975\n",
    "# Average accuracy score for all targets : 0.982"
   ]
  },
  {
   "cell_type": "markdown",
   "metadata": {},
   "source": [
    "### Best local log loss so far."
   ]
  },
  {
   "cell_type": "markdown",
   "metadata": {},
   "source": [
    "#### ======================================================================================================"
   ]
  },
  {
   "cell_type": "markdown",
   "metadata": {},
   "source": [
    "#### Looking at how to get operating status..."
   ]
  },
  {
   "cell_type": "markdown",
   "metadata": {},
   "source": [
    "#### 9632 in test ys with this flag"
   ]
  },
  {
   "cell_type": "code",
   "execution_count": 66,
   "metadata": {},
   "outputs": [
    {
     "data": {
      "text/plain": [
       "9632"
      ]
     },
     "execution_count": 66,
     "metadata": {},
     "output_type": "execute_result"
    }
   ],
   "source": [
    "(df.loc[y_test.index, :]['Operating_Status'] == 'Non-Operating').sum()"
   ]
  },
  {
   "cell_type": "code",
   "execution_count": 105,
   "metadata": {},
   "outputs": [],
   "source": [
    "dftest = df.loc[y_test.index, :]"
   ]
  },
  {
   "cell_type": "code",
   "execution_count": 70,
   "metadata": {},
   "outputs": [
    {
     "data": {
      "text/plain": [
       "(numpy.ndarray, (80055, 9))"
      ]
     },
     "execution_count": 70,
     "metadata": {},
     "output_type": "execute_result"
    }
   ],
   "source": [
    "type(yhat2C), yhat2C.shape"
   ]
  },
  {
   "cell_type": "code",
   "execution_count": 71,
   "metadata": {},
   "outputs": [
    {
     "data": {
      "text/plain": [
       "['Function',\n",
       " 'Object_Type',\n",
       " 'Operating_Status',\n",
       " 'Position_Type',\n",
       " 'Pre_K',\n",
       " 'Reporting',\n",
       " 'Sharing',\n",
       " 'Student_Type',\n",
       " 'Use']"
      ]
     },
     "execution_count": 71,
     "metadata": {},
     "output_type": "execute_result"
    }
   ],
   "source": [
    "LABELS"
   ]
  },
  {
   "cell_type": "code",
   "execution_count": 142,
   "metadata": {},
   "outputs": [
    {
     "data": {
      "text/plain": [
       "array(['Non-Operating', 'PreK-12 Operating', 'PreK-12 Operating',\n",
       "       'PreK-12 Operating', 'Non-Operating'], dtype=object)"
      ]
     },
     "execution_count": 142,
     "metadata": {},
     "output_type": "execute_result"
    }
   ],
   "source": [
    "df.loc[y_test.index, :]['Operating_Status'].values[:5].astype(np.object)"
   ]
  },
  {
   "cell_type": "code",
   "execution_count": 141,
   "metadata": {},
   "outputs": [
    {
     "data": {
      "text/plain": [
       "array(['Non-Operating', 'PreK-12 Operating', 'PreK-12 Operating',\n",
       "       'PreK-12 Operating', 'Non-Operating'], dtype=object)"
      ]
     },
     "execution_count": 141,
     "metadata": {},
     "output_type": "execute_result"
    }
   ],
   "source": [
    "yh2c['Operating_Status'].values[:5]"
   ]
  },
  {
   "cell_type": "markdown",
   "metadata": {},
   "source": [
    "#### 79k/80k agree"
   ]
  },
  {
   "cell_type": "code",
   "execution_count": 146,
   "metadata": {},
   "outputs": [
    {
     "data": {
      "text/plain": [
       "79021"
      ]
     },
     "execution_count": 146,
     "metadata": {},
     "output_type": "execute_result"
    }
   ],
   "source": [
    "(df.loc[y_test.index, :]['Operating_Status'].values.astype(np.object) == yh2c['Operating_Status'].values).sum()"
   ]
  },
  {
   "cell_type": "code",
   "execution_count": 72,
   "metadata": {},
   "outputs": [
    {
     "data": {
      "text/plain": [
       "9511"
      ]
     },
     "execution_count": 72,
     "metadata": {},
     "output_type": "execute_result"
    }
   ],
   "source": [
    "# how many in yhat?\n",
    "(yhat2C[:, 2] == 'Non-Operating').sum()"
   ]
  },
  {
   "cell_type": "code",
   "execution_count": 73,
   "metadata": {
    "scrolled": true
   },
   "outputs": [
    {
     "data": {
      "text/plain": [
       "0.987437707641196"
      ]
     },
     "execution_count": 73,
     "metadata": {},
     "output_type": "execute_result"
    }
   ],
   "source": [
    "9511/9632"
   ]
  },
  {
   "cell_type": "code",
   "execution_count": 98,
   "metadata": {},
   "outputs": [],
   "source": [
    "yh2c = pd.DataFrame(data=yhat2C, columns=LABELS)"
   ]
  },
  {
   "cell_type": "code",
   "execution_count": 99,
   "metadata": {},
   "outputs": [
    {
     "data": {
      "text/plain": [
       "(80055, 9)"
      ]
     },
     "execution_count": 99,
     "metadata": {},
     "output_type": "execute_result"
    }
   ],
   "source": [
    "yhat2C.shape"
   ]
  },
  {
   "cell_type": "code",
   "execution_count": 100,
   "metadata": {},
   "outputs": [
    {
     "data": {
      "text/plain": [
       "(80055, 9)"
      ]
     },
     "execution_count": 100,
     "metadata": {},
     "output_type": "execute_result"
    }
   ],
   "source": [
    "yh2c.shape"
   ]
  },
  {
   "cell_type": "code",
   "execution_count": 101,
   "metadata": {},
   "outputs": [
    {
     "data": {
      "text/html": [
       "<div>\n",
       "<style scoped>\n",
       "    .dataframe tbody tr th:only-of-type {\n",
       "        vertical-align: middle;\n",
       "    }\n",
       "\n",
       "    .dataframe tbody tr th {\n",
       "        vertical-align: top;\n",
       "    }\n",
       "\n",
       "    .dataframe thead th {\n",
       "        text-align: right;\n",
       "    }\n",
       "</style>\n",
       "<table border=\"1\" class=\"dataframe\">\n",
       "  <thead>\n",
       "    <tr style=\"text-align: right;\">\n",
       "      <th></th>\n",
       "      <th>Function</th>\n",
       "      <th>Object_Type</th>\n",
       "      <th>Operating_Status</th>\n",
       "      <th>Position_Type</th>\n",
       "      <th>Pre_K</th>\n",
       "      <th>Reporting</th>\n",
       "      <th>Sharing</th>\n",
       "      <th>Student_Type</th>\n",
       "      <th>Use</th>\n",
       "    </tr>\n",
       "  </thead>\n",
       "  <tbody>\n",
       "    <tr>\n",
       "      <th>0</th>\n",
       "      <td>NO_LABEL</td>\n",
       "      <td>NO_LABEL</td>\n",
       "      <td>Non-Operating</td>\n",
       "      <td>NO_LABEL</td>\n",
       "      <td>NO_LABEL</td>\n",
       "      <td>NO_LABEL</td>\n",
       "      <td>NO_LABEL</td>\n",
       "      <td>NO_LABEL</td>\n",
       "      <td>NO_LABEL</td>\n",
       "    </tr>\n",
       "    <tr>\n",
       "      <th>1</th>\n",
       "      <td>Substitute Compensation</td>\n",
       "      <td>Benefits</td>\n",
       "      <td>PreK-12 Operating</td>\n",
       "      <td>Substitute</td>\n",
       "      <td>NO_LABEL</td>\n",
       "      <td>School</td>\n",
       "      <td>School Reported</td>\n",
       "      <td>Unspecified</td>\n",
       "      <td>Instruction</td>\n",
       "    </tr>\n",
       "    <tr>\n",
       "      <th>2</th>\n",
       "      <td>Teacher Compensation</td>\n",
       "      <td>Benefits</td>\n",
       "      <td>PreK-12 Operating</td>\n",
       "      <td>Teacher</td>\n",
       "      <td>NO_LABEL</td>\n",
       "      <td>School</td>\n",
       "      <td>School Reported</td>\n",
       "      <td>Unspecified</td>\n",
       "      <td>Instruction</td>\n",
       "    </tr>\n",
       "    <tr>\n",
       "      <th>3</th>\n",
       "      <td>Instructional Materials &amp; Supplies</td>\n",
       "      <td>Supplies/Materials</td>\n",
       "      <td>PreK-12 Operating</td>\n",
       "      <td>NO_LABEL</td>\n",
       "      <td>NO_LABEL</td>\n",
       "      <td>School</td>\n",
       "      <td>School Reported</td>\n",
       "      <td>NO_LABEL</td>\n",
       "      <td>Instruction</td>\n",
       "    </tr>\n",
       "    <tr>\n",
       "      <th>4</th>\n",
       "      <td>NO_LABEL</td>\n",
       "      <td>NO_LABEL</td>\n",
       "      <td>Non-Operating</td>\n",
       "      <td>NO_LABEL</td>\n",
       "      <td>NO_LABEL</td>\n",
       "      <td>NO_LABEL</td>\n",
       "      <td>NO_LABEL</td>\n",
       "      <td>NO_LABEL</td>\n",
       "      <td>NO_LABEL</td>\n",
       "    </tr>\n",
       "  </tbody>\n",
       "</table>\n",
       "</div>"
      ],
      "text/plain": [
       "                             Function         Object_Type   Operating_Status  \\\n",
       "0                            NO_LABEL            NO_LABEL      Non-Operating   \n",
       "1             Substitute Compensation            Benefits  PreK-12 Operating   \n",
       "2                Teacher Compensation            Benefits  PreK-12 Operating   \n",
       "3  Instructional Materials & Supplies  Supplies/Materials  PreK-12 Operating   \n",
       "4                            NO_LABEL            NO_LABEL      Non-Operating   \n",
       "\n",
       "  Position_Type     Pre_K Reporting          Sharing Student_Type          Use  \n",
       "0      NO_LABEL  NO_LABEL  NO_LABEL         NO_LABEL     NO_LABEL     NO_LABEL  \n",
       "1    Substitute  NO_LABEL    School  School Reported  Unspecified  Instruction  \n",
       "2       Teacher  NO_LABEL    School  School Reported  Unspecified  Instruction  \n",
       "3      NO_LABEL  NO_LABEL    School  School Reported     NO_LABEL  Instruction  \n",
       "4      NO_LABEL  NO_LABEL  NO_LABEL         NO_LABEL     NO_LABEL     NO_LABEL  "
      ]
     },
     "execution_count": 101,
     "metadata": {},
     "output_type": "execute_result"
    }
   ],
   "source": [
    "yh2c.head()"
   ]
  },
  {
   "cell_type": "code",
   "execution_count": 84,
   "metadata": {},
   "outputs": [],
   "source": [
    "LABELS = ['Function',\n",
    " 'Object_Type',\n",
    " 'Operating_Status',\n",
    " 'Position_Type',\n",
    " 'Pre_K',\n",
    " 'Reporting',\n",
    " 'Sharing',\n",
    " 'Student_Type',\n",
    " 'Use']"
   ]
  },
  {
   "cell_type": "code",
   "execution_count": 88,
   "metadata": {
    "scrolled": true
   },
   "outputs": [],
   "source": [
    "no_op_status = (LABELS.copy())"
   ]
  },
  {
   "cell_type": "code",
   "execution_count": 89,
   "metadata": {},
   "outputs": [],
   "source": [
    "no_op_status.remove('Operating_Status')"
   ]
  },
  {
   "cell_type": "code",
   "execution_count": 86,
   "metadata": {},
   "outputs": [
    {
     "data": {
      "text/plain": [
       "['Function',\n",
       " 'Object_Type',\n",
       " 'Operating_Status',\n",
       " 'Position_Type',\n",
       " 'Pre_K',\n",
       " 'Reporting',\n",
       " 'Sharing',\n",
       " 'Student_Type',\n",
       " 'Use']"
      ]
     },
     "execution_count": 86,
     "metadata": {},
     "output_type": "execute_result"
    }
   ],
   "source": [
    "LABELS"
   ]
  },
  {
   "cell_type": "code",
   "execution_count": 90,
   "metadata": {},
   "outputs": [
    {
     "data": {
      "text/plain": [
       "['Function',\n",
       " 'Object_Type',\n",
       " 'Position_Type',\n",
       " 'Pre_K',\n",
       " 'Reporting',\n",
       " 'Sharing',\n",
       " 'Student_Type',\n",
       " 'Use']"
      ]
     },
     "execution_count": 90,
     "metadata": {},
     "output_type": "execute_result"
    }
   ],
   "source": [
    "no_op_status"
   ]
  },
  {
   "cell_type": "code",
   "execution_count": 106,
   "metadata": {},
   "outputs": [
    {
     "data": {
      "text/plain": [
       "Function         9632\n",
       "Object_Type      9632\n",
       "Position_Type    9632\n",
       "Pre_K            9632\n",
       "Reporting        9632\n",
       "Sharing          9632\n",
       "Student_Type     9632\n",
       "Use              9632\n",
       "dtype: int64"
      ]
     },
     "execution_count": 106,
     "metadata": {},
     "output_type": "execute_result"
    }
   ],
   "source": [
    "((dftest[dftest['Operating_Status'] == 'Non-Operating'])[no_op_status] == 'NO_LABEL').sum()"
   ]
  },
  {
   "cell_type": "code",
   "execution_count": null,
   "metadata": {},
   "outputs": [],
   "source": []
  },
  {
   "cell_type": "code",
   "execution_count": 107,
   "metadata": {},
   "outputs": [
    {
     "data": {
      "text/plain": [
       "0.9823504983388704"
      ]
     },
     "execution_count": 107,
     "metadata": {},
     "output_type": "execute_result"
    }
   ],
   "source": [
    "9462/9632"
   ]
  },
  {
   "cell_type": "code",
   "execution_count": 103,
   "metadata": {},
   "outputs": [
    {
     "data": {
      "text/plain": [
       "Function         9469\n",
       "Object_Type      9462\n",
       "Position_Type    9490\n",
       "Pre_K            9480\n",
       "Reporting        9480\n",
       "Sharing          9482\n",
       "Student_Type     9476\n",
       "Use              9479\n",
       "dtype: int64"
      ]
     },
     "execution_count": 103,
     "metadata": {},
     "output_type": "execute_result"
    }
   ],
   "source": [
    "((yh2c[yh2c['Operating_Status'] == 'Non-Operating'])[no_op_status] == 'NO_LABEL').sum()"
   ]
  },
  {
   "cell_type": "markdown",
   "metadata": {},
   "source": [
    "#### Looks like there's not a lot to be gained here...  Unless there's a feature that is exactly correlated with Operating_Status."
   ]
  },
  {
   "cell_type": "code",
   "execution_count": 110,
   "metadata": {},
   "outputs": [
    {
     "data": {
      "text/html": [
       "<div>\n",
       "<style scoped>\n",
       "    .dataframe tbody tr th:only-of-type {\n",
       "        vertical-align: middle;\n",
       "    }\n",
       "\n",
       "    .dataframe tbody tr th {\n",
       "        vertical-align: top;\n",
       "    }\n",
       "\n",
       "    .dataframe thead th {\n",
       "        text-align: right;\n",
       "    }\n",
       "</style>\n",
       "<table border=\"1\" class=\"dataframe\">\n",
       "  <thead>\n",
       "    <tr style=\"text-align: right;\">\n",
       "      <th></th>\n",
       "      <th>Function</th>\n",
       "      <th>Use</th>\n",
       "      <th>Sharing</th>\n",
       "      <th>Reporting</th>\n",
       "      <th>Student_Type</th>\n",
       "      <th>Position_Type</th>\n",
       "      <th>Object_Type</th>\n",
       "      <th>Pre_K</th>\n",
       "      <th>Operating_Status</th>\n",
       "      <th>Object_Description</th>\n",
       "      <th>Text_2</th>\n",
       "      <th>SubFund_Description</th>\n",
       "      <th>Job_Title_Description</th>\n",
       "      <th>Text_3</th>\n",
       "      <th>Text_4</th>\n",
       "      <th>Sub_Object_Description</th>\n",
       "      <th>Location_Description</th>\n",
       "      <th>FTE</th>\n",
       "      <th>Function_Description</th>\n",
       "      <th>Facility_or_Department</th>\n",
       "      <th>Position_Extra</th>\n",
       "      <th>Total</th>\n",
       "      <th>Program_Description</th>\n",
       "      <th>Fund_Description</th>\n",
       "      <th>Text_1</th>\n",
       "    </tr>\n",
       "  </thead>\n",
       "  <tbody>\n",
       "    <tr>\n",
       "      <th>206341</th>\n",
       "      <td>NO_LABEL</td>\n",
       "      <td>NO_LABEL</td>\n",
       "      <td>NO_LABEL</td>\n",
       "      <td>NO_LABEL</td>\n",
       "      <td>NO_LABEL</td>\n",
       "      <td>NO_LABEL</td>\n",
       "      <td>NO_LABEL</td>\n",
       "      <td>NO_LABEL</td>\n",
       "      <td>Non-Operating</td>\n",
       "      <td>CONTRACTOR SERVICES</td>\n",
       "      <td>BOND EXPENDITURES</td>\n",
       "      <td>BUILDING FUND</td>\n",
       "      <td>(blank)</td>\n",
       "      <td>Regular</td>\n",
       "      <td>NaN</td>\n",
       "      <td>NaN</td>\n",
       "      <td>NaN</td>\n",
       "      <td>NaN</td>\n",
       "      <td>RGN  GOB</td>\n",
       "      <td>NaN</td>\n",
       "      <td>UNDESIGNATED</td>\n",
       "      <td>3477.86</td>\n",
       "      <td>BUILDING IMPROVEMENT SERVICES</td>\n",
       "      <td>NaN</td>\n",
       "      <td>BUILDING IMPROVEMENT SERVICES</td>\n",
       "    </tr>\n",
       "    <tr>\n",
       "      <th>304569</th>\n",
       "      <td>NO_LABEL</td>\n",
       "      <td>NO_LABEL</td>\n",
       "      <td>NO_LABEL</td>\n",
       "      <td>NO_LABEL</td>\n",
       "      <td>NO_LABEL</td>\n",
       "      <td>NO_LABEL</td>\n",
       "      <td>NO_LABEL</td>\n",
       "      <td>NO_LABEL</td>\n",
       "      <td>Non-Operating</td>\n",
       "      <td>EQUIPMENT *</td>\n",
       "      <td>NaN</td>\n",
       "      <td>Support Services - Administration</td>\n",
       "      <td>NaN</td>\n",
       "      <td>NaN</td>\n",
       "      <td>NaN</td>\n",
       "      <td>Equipment *</td>\n",
       "      <td>NaN</td>\n",
       "      <td>NaN</td>\n",
       "      <td>State and Federal Projects Coordination Services*</td>\n",
       "      <td>NaN</td>\n",
       "      <td>NaN</td>\n",
       "      <td>-5509.32</td>\n",
       "      <td>NaN</td>\n",
       "      <td>School to Work</td>\n",
       "      <td>ITEMAI-CITY-YTH EMP &amp; OPP</td>\n",
       "    </tr>\n",
       "    <tr>\n",
       "      <th>64760</th>\n",
       "      <td>NO_LABEL</td>\n",
       "      <td>NO_LABEL</td>\n",
       "      <td>NO_LABEL</td>\n",
       "      <td>NO_LABEL</td>\n",
       "      <td>NO_LABEL</td>\n",
       "      <td>NO_LABEL</td>\n",
       "      <td>NO_LABEL</td>\n",
       "      <td>NO_LABEL</td>\n",
       "      <td>Non-Operating</td>\n",
       "      <td>Regular *</td>\n",
       "      <td>NaN</td>\n",
       "      <td>Special Instruction</td>\n",
       "      <td>NaN</td>\n",
       "      <td>NaN</td>\n",
       "      <td>NaN</td>\n",
       "      <td>Certificated Employees Salaries And Wages</td>\n",
       "      <td>NaN</td>\n",
       "      <td>NaN</td>\n",
       "      <td>Disadvantaged Youth *</td>\n",
       "      <td>NaN</td>\n",
       "      <td>NaN</td>\n",
       "      <td>-122544.07</td>\n",
       "      <td>NaN</td>\n",
       "      <td>Title I - Disadvantaged Children/Targeted Assi...</td>\n",
       "      <td>TITLE I</td>\n",
       "    </tr>\n",
       "    <tr>\n",
       "      <th>43727</th>\n",
       "      <td>NO_LABEL</td>\n",
       "      <td>NO_LABEL</td>\n",
       "      <td>NO_LABEL</td>\n",
       "      <td>NO_LABEL</td>\n",
       "      <td>NO_LABEL</td>\n",
       "      <td>NO_LABEL</td>\n",
       "      <td>NO_LABEL</td>\n",
       "      <td>NO_LABEL</td>\n",
       "      <td>Non-Operating</td>\n",
       "      <td>Non-Certificated Travel Reimbursement</td>\n",
       "      <td>NaN</td>\n",
       "      <td>Support Services - Instructional Staff</td>\n",
       "      <td>NaN</td>\n",
       "      <td>NaN</td>\n",
       "      <td>NaN</td>\n",
       "      <td>Travel Mileage/Meeting Expense *</td>\n",
       "      <td>NaN</td>\n",
       "      <td>NaN</td>\n",
       "      <td>Instruction And Curriculum Development Services *</td>\n",
       "      <td>NaN</td>\n",
       "      <td>NaN</td>\n",
       "      <td>-446.11</td>\n",
       "      <td>NaN</td>\n",
       "      <td>Special Trust</td>\n",
       "      <td>RESP SEXUAL BEHAVIOR</td>\n",
       "    </tr>\n",
       "    <tr>\n",
       "      <th>5614</th>\n",
       "      <td>NO_LABEL</td>\n",
       "      <td>NO_LABEL</td>\n",
       "      <td>NO_LABEL</td>\n",
       "      <td>NO_LABEL</td>\n",
       "      <td>NO_LABEL</td>\n",
       "      <td>NO_LABEL</td>\n",
       "      <td>NO_LABEL</td>\n",
       "      <td>NO_LABEL</td>\n",
       "      <td>Non-Operating</td>\n",
       "      <td>Purchased Services</td>\n",
       "      <td>NaN</td>\n",
       "      <td>Support Services--Pupils</td>\n",
       "      <td>NaN</td>\n",
       "      <td>NaN</td>\n",
       "      <td>NaN</td>\n",
       "      <td>Purchased Services</td>\n",
       "      <td>NaN</td>\n",
       "      <td>NaN</td>\n",
       "      <td>Direction Of Support Services - Pupils *</td>\n",
       "      <td>NaN</td>\n",
       "      <td>NaN</td>\n",
       "      <td>550.31</td>\n",
       "      <td>NaN</td>\n",
       "      <td>Special Trust</td>\n",
       "      <td>HOME TEAM MARKETING</td>\n",
       "    </tr>\n",
       "  </tbody>\n",
       "</table>\n",
       "</div>"
      ],
      "text/plain": [
       "        Function       Use   Sharing Reporting Student_Type Position_Type  \\\n",
       "206341  NO_LABEL  NO_LABEL  NO_LABEL  NO_LABEL     NO_LABEL      NO_LABEL   \n",
       "304569  NO_LABEL  NO_LABEL  NO_LABEL  NO_LABEL     NO_LABEL      NO_LABEL   \n",
       "64760   NO_LABEL  NO_LABEL  NO_LABEL  NO_LABEL     NO_LABEL      NO_LABEL   \n",
       "43727   NO_LABEL  NO_LABEL  NO_LABEL  NO_LABEL     NO_LABEL      NO_LABEL   \n",
       "5614    NO_LABEL  NO_LABEL  NO_LABEL  NO_LABEL     NO_LABEL      NO_LABEL   \n",
       "\n",
       "       Object_Type     Pre_K Operating_Status  \\\n",
       "206341    NO_LABEL  NO_LABEL    Non-Operating   \n",
       "304569    NO_LABEL  NO_LABEL    Non-Operating   \n",
       "64760     NO_LABEL  NO_LABEL    Non-Operating   \n",
       "43727     NO_LABEL  NO_LABEL    Non-Operating   \n",
       "5614      NO_LABEL  NO_LABEL    Non-Operating   \n",
       "\n",
       "                           Object_Description             Text_2  \\\n",
       "206341                    CONTRACTOR SERVICES  BOND EXPENDITURES   \n",
       "304569                            EQUIPMENT *                NaN   \n",
       "64760                               Regular *                NaN   \n",
       "43727   Non-Certificated Travel Reimbursement                NaN   \n",
       "5614                       Purchased Services                NaN   \n",
       "\n",
       "                           SubFund_Description Job_Title_Description   Text_3  \\\n",
       "206341                           BUILDING FUND               (blank)  Regular   \n",
       "304569       Support Services - Administration                   NaN      NaN   \n",
       "64760                      Special Instruction                   NaN      NaN   \n",
       "43727   Support Services - Instructional Staff                   NaN      NaN   \n",
       "5614                  Support Services--Pupils                   NaN      NaN   \n",
       "\n",
       "       Text_4                     Sub_Object_Description Location_Description  \\\n",
       "206341    NaN                                        NaN                  NaN   \n",
       "304569    NaN                                Equipment *                  NaN   \n",
       "64760     NaN  Certificated Employees Salaries And Wages                  NaN   \n",
       "43727     NaN           Travel Mileage/Meeting Expense *                  NaN   \n",
       "5614      NaN                         Purchased Services                  NaN   \n",
       "\n",
       "        FTE                               Function_Description  \\\n",
       "206341  NaN                                           RGN  GOB   \n",
       "304569  NaN  State and Federal Projects Coordination Services*   \n",
       "64760   NaN                              Disadvantaged Youth *   \n",
       "43727   NaN  Instruction And Curriculum Development Services *   \n",
       "5614    NaN           Direction Of Support Services - Pupils *   \n",
       "\n",
       "       Facility_or_Department Position_Extra      Total  \\\n",
       "206341                    NaN   UNDESIGNATED    3477.86   \n",
       "304569                    NaN            NaN   -5509.32   \n",
       "64760                     NaN            NaN -122544.07   \n",
       "43727                     NaN            NaN    -446.11   \n",
       "5614                      NaN            NaN     550.31   \n",
       "\n",
       "                  Program_Description  \\\n",
       "206341  BUILDING IMPROVEMENT SERVICES   \n",
       "304569                            NaN   \n",
       "64760                             NaN   \n",
       "43727                             NaN   \n",
       "5614                              NaN   \n",
       "\n",
       "                                         Fund_Description  \\\n",
       "206341                                                NaN   \n",
       "304569                                     School to Work   \n",
       "64760   Title I - Disadvantaged Children/Targeted Assi...   \n",
       "43727                                       Special Trust   \n",
       "5614                                        Special Trust   \n",
       "\n",
       "                               Text_1  \n",
       "206341  BUILDING IMPROVEMENT SERVICES  \n",
       "304569     ITEMAI-CITY-YTH EMP & OPP   \n",
       "64760                        TITLE I   \n",
       "43727           RESP SEXUAL BEHAVIOR   \n",
       "5614             HOME TEAM MARKETING   "
      ]
     },
     "execution_count": 110,
     "metadata": {},
     "output_type": "execute_result"
    }
   ],
   "source": [
    "df[df['Operating_Status'] == 'Non-Operating'].head()"
   ]
  },
  {
   "cell_type": "code",
   "execution_count": null,
   "metadata": {},
   "outputs": [],
   "source": []
  },
  {
   "cell_type": "code",
   "execution_count": 111,
   "metadata": {},
   "outputs": [
    {
     "data": {
      "text/plain": [
       "Function                  Parent & Community Relations\n",
       "Use                        Pupil Services & Enrichment\n",
       "Sharing                        Leadership & Management\n",
       "Reporting                                   Non-School\n",
       "Student_Type                               Unspecified\n",
       "Position_Type                                    Other\n",
       "Object_Type                                   Benefits\n",
       "Pre_K                                         NO_LABEL\n",
       "Operating_Status                     PreK-12 Operating\n",
       "Object_Description                 RETIREMENT CONTRIB.\n",
       "Text_2                                             NaN\n",
       "SubFund_Description                       GENERAL FUND\n",
       "Job_Title_Description                Americorp Hourly \n",
       "Text_3                                             NaN\n",
       "Text_4                                             NaN\n",
       "Sub_Object_Description                             NaN\n",
       "Location_Description      DISTRICT COMMUNITY RELATIONS\n",
       "FTE                                                NaN\n",
       "Function_Description               EMPLOYEE RETIREMENT\n",
       "Facility_or_Department                             NaN\n",
       "Position_Extra                            UNDESIGNATED\n",
       "Total                                           146.52\n",
       "Program_Description                  EMPLOYEE BENEFITS\n",
       "Fund_Description                                   NaN\n",
       "Text_1                               EMPLOYEE BENEFITS\n",
       "Name: 5868, dtype: object"
      ]
     },
     "execution_count": 111,
     "metadata": {},
     "output_type": "execute_result"
    }
   ],
   "source": [
    "df.iloc[304569, :]"
   ]
  },
  {
   "cell_type": "markdown",
   "metadata": {},
   "source": [
    "#### ====================================================================================================="
   ]
  }
 ],
 "metadata": {
  "kernelspec": {
   "display_name": "Python 3",
   "language": "python",
   "name": "python3"
  },
  "language_info": {
   "codemirror_mode": {
    "name": "ipython",
    "version": 3
   },
   "file_extension": ".py",
   "mimetype": "text/x-python",
   "name": "python",
   "nbconvert_exporter": "python",
   "pygments_lexer": "ipython3",
   "version": "3.6.6"
  }
 },
 "nbformat": 4,
 "nbformat_minor": 2
}
