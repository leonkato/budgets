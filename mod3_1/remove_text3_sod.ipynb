{
 "cells": [
  {
   "cell_type": "markdown",
   "metadata": {},
   "source": [
    "## Random Experiments"
   ]
  },
  {
   "cell_type": "markdown",
   "metadata": {},
   "source": [
    "### Remove text3 and sub_object_description\n",
    "\n",
    "Results here are slightly worse than same model code with text_3 and sub_object_description columns."
   ]
  },
  {
   "cell_type": "markdown",
   "metadata": {},
   "source": [
    "#### Imports/setup"
   ]
  },
  {
   "cell_type": "code",
   "execution_count": 1,
   "metadata": {},
   "outputs": [],
   "source": [
    "import pandas as pd\n",
    "import matplotlib.pyplot as plt\n",
    "import numpy as np\n",
    "pd.set_option('display.max_columns', 60)\n",
    "\n",
    "from timeit import default_timer as timer"
   ]
  },
  {
   "cell_type": "code",
   "execution_count": 2,
   "metadata": {},
   "outputs": [],
   "source": [
    "from sklearn.metrics import f1_score, accuracy_score, classification_report\n",
    "\n",
    "import python.flat_to_labels as ftl"
   ]
  },
  {
   "cell_type": "code",
   "execution_count": 3,
   "metadata": {},
   "outputs": [],
   "source": [
    "# for the pipeline\n",
    "from sklearn.pipeline import Pipeline\n",
    "# for the selectors\n",
    "from sklearn.preprocessing import FunctionTransformer, StandardScaler, MaxAbsScaler\n",
    "# for gluing preprocessed text and numbers together\n",
    "from sklearn.pipeline import FeatureUnion\n",
    "# for nans in the numeric data\n",
    "from sklearn.preprocessing import Imputer"
   ]
  },
  {
   "cell_type": "code",
   "execution_count": 4,
   "metadata": {},
   "outputs": [],
   "source": [
    "# Import classifiers\n",
    "from sklearn.linear_model import LogisticRegression\n",
    "from sklearn.multiclass import OneVsRestClassifier\n",
    "from sklearn.ensemble import RandomForestClassifier\n",
    "\n",
    "# Import CountVectorizer\n",
    "from sklearn.feature_extraction.text import CountVectorizer\n",
    "# feature selection\n",
    "from sklearn.feature_selection import SelectFromModel"
   ]
  },
  {
   "cell_type": "markdown",
   "metadata": {},
   "source": [
    "#### Load the data"
   ]
  },
  {
   "cell_type": "code",
   "execution_count": 5,
   "metadata": {},
   "outputs": [],
   "source": [
    "# Get data\n",
    "df = pd.read_csv('data/TrainingData.csv', index_col=0)"
   ]
  },
  {
   "cell_type": "code",
   "execution_count": 6,
   "metadata": {
    "scrolled": false
   },
   "outputs": [
    {
     "data": {
      "text/html": [
       "<div>\n",
       "<style scoped>\n",
       "    .dataframe tbody tr th:only-of-type {\n",
       "        vertical-align: middle;\n",
       "    }\n",
       "\n",
       "    .dataframe tbody tr th {\n",
       "        vertical-align: top;\n",
       "    }\n",
       "\n",
       "    .dataframe thead th {\n",
       "        text-align: right;\n",
       "    }\n",
       "</style>\n",
       "<table border=\"1\" class=\"dataframe\">\n",
       "  <thead>\n",
       "    <tr style=\"text-align: right;\">\n",
       "      <th></th>\n",
       "      <th>Function</th>\n",
       "      <th>Use</th>\n",
       "      <th>Sharing</th>\n",
       "      <th>Reporting</th>\n",
       "      <th>Student_Type</th>\n",
       "      <th>Position_Type</th>\n",
       "      <th>Object_Type</th>\n",
       "      <th>Pre_K</th>\n",
       "      <th>Operating_Status</th>\n",
       "      <th>Object_Description</th>\n",
       "      <th>Text_2</th>\n",
       "      <th>SubFund_Description</th>\n",
       "      <th>Job_Title_Description</th>\n",
       "      <th>Text_3</th>\n",
       "      <th>Text_4</th>\n",
       "      <th>Sub_Object_Description</th>\n",
       "      <th>Location_Description</th>\n",
       "      <th>FTE</th>\n",
       "      <th>Function_Description</th>\n",
       "      <th>Facility_or_Department</th>\n",
       "      <th>Position_Extra</th>\n",
       "      <th>Total</th>\n",
       "      <th>Program_Description</th>\n",
       "      <th>Fund_Description</th>\n",
       "      <th>Text_1</th>\n",
       "    </tr>\n",
       "  </thead>\n",
       "  <tbody>\n",
       "    <tr>\n",
       "      <th>134338</th>\n",
       "      <td>Teacher Compensation</td>\n",
       "      <td>Instruction</td>\n",
       "      <td>School Reported</td>\n",
       "      <td>School</td>\n",
       "      <td>NO_LABEL</td>\n",
       "      <td>Teacher</td>\n",
       "      <td>NO_LABEL</td>\n",
       "      <td>NO_LABEL</td>\n",
       "      <td>PreK-12 Operating</td>\n",
       "      <td>NaN</td>\n",
       "      <td>NaN</td>\n",
       "      <td>NaN</td>\n",
       "      <td>Teacher-Elementary</td>\n",
       "      <td>NaN</td>\n",
       "      <td>NaN</td>\n",
       "      <td>NaN</td>\n",
       "      <td>NaN</td>\n",
       "      <td>1.0</td>\n",
       "      <td>NaN</td>\n",
       "      <td>NaN</td>\n",
       "      <td>KINDERGARTEN</td>\n",
       "      <td>50471.810</td>\n",
       "      <td>KINDERGARTEN</td>\n",
       "      <td>General Fund</td>\n",
       "      <td>NaN</td>\n",
       "    </tr>\n",
       "    <tr>\n",
       "      <th>206341</th>\n",
       "      <td>NO_LABEL</td>\n",
       "      <td>NO_LABEL</td>\n",
       "      <td>NO_LABEL</td>\n",
       "      <td>NO_LABEL</td>\n",
       "      <td>NO_LABEL</td>\n",
       "      <td>NO_LABEL</td>\n",
       "      <td>NO_LABEL</td>\n",
       "      <td>NO_LABEL</td>\n",
       "      <td>Non-Operating</td>\n",
       "      <td>CONTRACTOR SERVICES</td>\n",
       "      <td>BOND EXPENDITURES</td>\n",
       "      <td>BUILDING FUND</td>\n",
       "      <td>(blank)</td>\n",
       "      <td>Regular</td>\n",
       "      <td>NaN</td>\n",
       "      <td>NaN</td>\n",
       "      <td>NaN</td>\n",
       "      <td>NaN</td>\n",
       "      <td>RGN  GOB</td>\n",
       "      <td>NaN</td>\n",
       "      <td>UNDESIGNATED</td>\n",
       "      <td>3477.860</td>\n",
       "      <td>BUILDING IMPROVEMENT SERVICES</td>\n",
       "      <td>NaN</td>\n",
       "      <td>BUILDING IMPROVEMENT SERVICES</td>\n",
       "    </tr>\n",
       "    <tr>\n",
       "      <th>326408</th>\n",
       "      <td>Teacher Compensation</td>\n",
       "      <td>Instruction</td>\n",
       "      <td>School Reported</td>\n",
       "      <td>School</td>\n",
       "      <td>Unspecified</td>\n",
       "      <td>Teacher</td>\n",
       "      <td>Base Salary/Compensation</td>\n",
       "      <td>Non PreK</td>\n",
       "      <td>PreK-12 Operating</td>\n",
       "      <td>Personal Services - Teachers</td>\n",
       "      <td>NaN</td>\n",
       "      <td>NaN</td>\n",
       "      <td>TCHER 2ND GRADE</td>\n",
       "      <td>NaN</td>\n",
       "      <td>Regular Instruction</td>\n",
       "      <td>NaN</td>\n",
       "      <td>NaN</td>\n",
       "      <td>1.0</td>\n",
       "      <td>NaN</td>\n",
       "      <td>NaN</td>\n",
       "      <td>TEACHER</td>\n",
       "      <td>62237.130</td>\n",
       "      <td>Instruction - Regular</td>\n",
       "      <td>General Purpose School</td>\n",
       "      <td>NaN</td>\n",
       "    </tr>\n",
       "    <tr>\n",
       "      <th>364634</th>\n",
       "      <td>Substitute Compensation</td>\n",
       "      <td>Instruction</td>\n",
       "      <td>School Reported</td>\n",
       "      <td>School</td>\n",
       "      <td>Unspecified</td>\n",
       "      <td>Substitute</td>\n",
       "      <td>Benefits</td>\n",
       "      <td>NO_LABEL</td>\n",
       "      <td>PreK-12 Operating</td>\n",
       "      <td>EMPLOYEE BENEFITS</td>\n",
       "      <td>TEACHER SUBS</td>\n",
       "      <td>GENERAL FUND</td>\n",
       "      <td>Teacher, Short Term Sub</td>\n",
       "      <td>Regular</td>\n",
       "      <td>NaN</td>\n",
       "      <td>NaN</td>\n",
       "      <td>NaN</td>\n",
       "      <td>NaN</td>\n",
       "      <td>UNALLOC BUDGETS/SCHOOLS</td>\n",
       "      <td>NaN</td>\n",
       "      <td>PROFESSIONAL-INSTRUCTIONAL</td>\n",
       "      <td>22.300</td>\n",
       "      <td>GENERAL MIDDLE/JUNIOR HIGH SCH</td>\n",
       "      <td>NaN</td>\n",
       "      <td>REGULAR INSTRUCTION</td>\n",
       "    </tr>\n",
       "    <tr>\n",
       "      <th>47683</th>\n",
       "      <td>Substitute Compensation</td>\n",
       "      <td>Instruction</td>\n",
       "      <td>School Reported</td>\n",
       "      <td>School</td>\n",
       "      <td>Unspecified</td>\n",
       "      <td>Teacher</td>\n",
       "      <td>Substitute Compensation</td>\n",
       "      <td>NO_LABEL</td>\n",
       "      <td>PreK-12 Operating</td>\n",
       "      <td>TEACHER COVERAGE FOR TEACHER</td>\n",
       "      <td>TEACHER SUBS</td>\n",
       "      <td>GENERAL FUND</td>\n",
       "      <td>Teacher, Secondary (High)</td>\n",
       "      <td>Alternative</td>\n",
       "      <td>NaN</td>\n",
       "      <td>NaN</td>\n",
       "      <td>NaN</td>\n",
       "      <td>NaN</td>\n",
       "      <td>NON-PROJECT</td>\n",
       "      <td>NaN</td>\n",
       "      <td>PROFESSIONAL-INSTRUCTIONAL</td>\n",
       "      <td>54.166</td>\n",
       "      <td>GENERAL HIGH SCHOOL EDUCATION</td>\n",
       "      <td>NaN</td>\n",
       "      <td>REGULAR INSTRUCTION</td>\n",
       "    </tr>\n",
       "  </tbody>\n",
       "</table>\n",
       "</div>"
      ],
      "text/plain": [
       "                       Function          Use          Sharing Reporting  \\\n",
       "134338     Teacher Compensation  Instruction  School Reported    School   \n",
       "206341                 NO_LABEL     NO_LABEL         NO_LABEL  NO_LABEL   \n",
       "326408     Teacher Compensation  Instruction  School Reported    School   \n",
       "364634  Substitute Compensation  Instruction  School Reported    School   \n",
       "47683   Substitute Compensation  Instruction  School Reported    School   \n",
       "\n",
       "       Student_Type Position_Type               Object_Type     Pre_K  \\\n",
       "134338     NO_LABEL       Teacher                  NO_LABEL  NO_LABEL   \n",
       "206341     NO_LABEL      NO_LABEL                  NO_LABEL  NO_LABEL   \n",
       "326408  Unspecified       Teacher  Base Salary/Compensation  Non PreK   \n",
       "364634  Unspecified    Substitute                  Benefits  NO_LABEL   \n",
       "47683   Unspecified       Teacher   Substitute Compensation  NO_LABEL   \n",
       "\n",
       "         Operating_Status            Object_Description             Text_2  \\\n",
       "134338  PreK-12 Operating                           NaN                NaN   \n",
       "206341      Non-Operating           CONTRACTOR SERVICES  BOND EXPENDITURES   \n",
       "326408  PreK-12 Operating  Personal Services - Teachers                NaN   \n",
       "364634  PreK-12 Operating             EMPLOYEE BENEFITS       TEACHER SUBS   \n",
       "47683   PreK-12 Operating  TEACHER COVERAGE FOR TEACHER       TEACHER SUBS   \n",
       "\n",
       "       SubFund_Description       Job_Title_Description       Text_3  \\\n",
       "134338                 NaN         Teacher-Elementary           NaN   \n",
       "206341       BUILDING FUND                     (blank)      Regular   \n",
       "326408                 NaN             TCHER 2ND GRADE          NaN   \n",
       "364634        GENERAL FUND    Teacher, Short Term Sub       Regular   \n",
       "47683         GENERAL FUND  Teacher, Secondary (High)   Alternative   \n",
       "\n",
       "                     Text_4 Sub_Object_Description Location_Description  FTE  \\\n",
       "134338                  NaN                    NaN                  NaN  1.0   \n",
       "206341                  NaN                    NaN                  NaN  NaN   \n",
       "326408  Regular Instruction                    NaN                  NaN  1.0   \n",
       "364634                  NaN                    NaN                  NaN  NaN   \n",
       "47683                   NaN                    NaN                  NaN  NaN   \n",
       "\n",
       "           Function_Description Facility_or_Department  \\\n",
       "134338                      NaN                    NaN   \n",
       "206341                 RGN  GOB                    NaN   \n",
       "326408                      NaN                    NaN   \n",
       "364634  UNALLOC BUDGETS/SCHOOLS                    NaN   \n",
       "47683               NON-PROJECT                    NaN   \n",
       "\n",
       "                    Position_Extra      Total             Program_Description  \\\n",
       "134338               KINDERGARTEN   50471.810                    KINDERGARTEN   \n",
       "206341                UNDESIGNATED   3477.860   BUILDING IMPROVEMENT SERVICES   \n",
       "326408                     TEACHER  62237.130           Instruction - Regular   \n",
       "364634  PROFESSIONAL-INSTRUCTIONAL     22.300  GENERAL MIDDLE/JUNIOR HIGH SCH   \n",
       "47683   PROFESSIONAL-INSTRUCTIONAL     54.166   GENERAL HIGH SCHOOL EDUCATION   \n",
       "\n",
       "              Fund_Description                         Text_1  \n",
       "134338            General Fund                            NaN  \n",
       "206341                     NaN  BUILDING IMPROVEMENT SERVICES  \n",
       "326408  General Purpose School                            NaN  \n",
       "364634                     NaN            REGULAR INSTRUCTION  \n",
       "47683                      NaN            REGULAR INSTRUCTION  "
      ]
     },
     "execution_count": 6,
     "metadata": {},
     "output_type": "execute_result"
    }
   ],
   "source": [
    "# take a look\n",
    "df.head()"
   ]
  },
  {
   "cell_type": "markdown",
   "metadata": {},
   "source": [
    "####  Encode the targets as categorical variables"
   ]
  },
  {
   "cell_type": "code",
   "execution_count": 7,
   "metadata": {},
   "outputs": [
    {
     "name": "stdout",
     "output_type": "stream",
     "text": [
      "Function            category\n",
      "Object_Type         category\n",
      "Operating_Status    category\n",
      "Position_Type       category\n",
      "Pre_K               category\n",
      "Reporting           category\n",
      "Sharing             category\n",
      "Student_Type        category\n",
      "Use                 category\n",
      "dtype: object\n"
     ]
    }
   ],
   "source": [
    "### bind variable LABELS - these are actually the targets and we're going to one-hot encode them...\n",
    "\n",
    "LABELS = ['Function',  'Use',  'Sharing',  'Reporting',  'Student_Type',  'Position_Type', \n",
    "          'Object_Type',  'Pre_K',  'Operating_Status']\n",
    "\n",
    "\n",
    "### This turns out to be key.  Submission requires the dummy versions of these vars to be in this order.\n",
    "LABELS.sort()\n",
    "\n",
    "# Define the lambda function: categorize_label\n",
    "categorize_label = lambda x: x.astype('category')\n",
    "\n",
    "# Convert df[LABELS] to a categorical type\n",
    "df[LABELS] = df[LABELS].apply(categorize_label, axis=0)\n",
    "\n",
    "# Print the converted dtypes\n",
    "print(df[LABELS].dtypes)"
   ]
  },
  {
   "cell_type": "markdown",
   "metadata": {},
   "source": [
    "##### Let's save the unique labels for each output (category)"
   ]
  },
  {
   "cell_type": "code",
   "execution_count": 8,
   "metadata": {},
   "outputs": [],
   "source": [
    "# build a dictionary\n",
    "the_labels = {col : df[col].unique().tolist() for col in df[LABELS].columns}"
   ]
  },
  {
   "cell_type": "code",
   "execution_count": 9,
   "metadata": {},
   "outputs": [
    {
     "data": {
      "text/plain": [
       "['Teacher Compensation',\n",
       " 'NO_LABEL',\n",
       " 'Substitute Compensation',\n",
       " 'Facilities & Maintenance',\n",
       " 'Instructional Materials & Supplies',\n",
       " 'Food Services',\n",
       " 'Security & Safety',\n",
       " 'Utilities',\n",
       " 'Student Transportation',\n",
       " 'Parent & Community Relations',\n",
       " 'Extended Time & Tutoring',\n",
       " 'Enrichment',\n",
       " 'Special Population Program Management & Support',\n",
       " 'School Supervision',\n",
       " 'Data Processing & Information Services',\n",
       " 'Aides Compensation',\n",
       " 'Physical Health & Services',\n",
       " 'Career & Academic Counseling',\n",
       " 'Library & Media',\n",
       " 'Professional Development',\n",
       " 'School Administration',\n",
       " 'Other Non-Compensation',\n",
       " 'Social & Emotional',\n",
       " 'Finance, Budget, Purchasing & Distribution',\n",
       " 'Human Resources',\n",
       " 'Curriculum Development',\n",
       " 'Legal',\n",
       " 'Other Compensation',\n",
       " 'Student Assignment',\n",
       " 'Governance',\n",
       " 'Development & Fundraising',\n",
       " 'Research & Accountability',\n",
       " 'Recruitment',\n",
       " 'Insurance',\n",
       " 'Untracked Budget Set-Aside',\n",
       " 'Communications',\n",
       " 'Facilities Planning']"
      ]
     },
     "execution_count": 9,
     "metadata": {},
     "output_type": "execute_result"
    }
   ],
   "source": [
    "the_labels['Function']"
   ]
  },
  {
   "cell_type": "markdown",
   "metadata": {},
   "source": [
    "#### Show metrics for each target and average for all targets."
   ]
  },
  {
   "cell_type": "code",
   "execution_count": 10,
   "metadata": {},
   "outputs": [],
   "source": [
    "def report_f1(true, pred):\n",
    "    the_scores = []\n",
    "    for target in range(len(LABELS)):\n",
    "        the_score = f1_score(true[:, target], pred[:, target], average='weighted')\n",
    "        print('F1 score for target {}: {:.3f}'.format(LABELS[target], the_score))\n",
    "        the_scores.append(the_score)\n",
    "    print('Average F1 score for all targets : {:.3f}'.format(np.mean(the_scores)))\n",
    "\n",
    "def report_accuracy(true, pred):\n",
    "    the_scores = []\n",
    "    for target in range(len(LABELS)):\n",
    "        the_score = accuracy_score(true[:, target], pred[:, target])\n",
    "        print('Accuracy score for target {}: {:.3f}'.format(LABELS[target], the_score))\n",
    "        the_scores.append(the_score)\n",
    "    print('Average accuracy score for all targets : {:.3f}'.format(np.mean(the_scores)))\n"
   ]
  },
  {
   "cell_type": "markdown",
   "metadata": {},
   "source": [
    "#### Log loss"
   ]
  },
  {
   "cell_type": "code",
   "execution_count": 11,
   "metadata": {},
   "outputs": [],
   "source": [
    "from python.dd_mmll import multi_multi_log_loss, BOX_PLOTS_COLUMN_INDICES"
   ]
  },
  {
   "cell_type": "markdown",
   "metadata": {},
   "source": [
    "---"
   ]
  },
  {
   "cell_type": "code",
   "execution_count": 12,
   "metadata": {},
   "outputs": [],
   "source": [
    "from python.multilabel import multilabel_train_test_split"
   ]
  },
  {
   "cell_type": "code",
   "execution_count": 13,
   "metadata": {},
   "outputs": [],
   "source": [
    "NUMERIC_COLUMNS = ['FTE', 'Total']"
   ]
  },
  {
   "cell_type": "code",
   "execution_count": 14,
   "metadata": {},
   "outputs": [],
   "source": [
    "# Get labels and convert to dummy variables: label_dummies\n",
    "label_dummies = pd.get_dummies(df[LABELS])"
   ]
  },
  {
   "cell_type": "code",
   "execution_count": 15,
   "metadata": {},
   "outputs": [
    {
     "data": {
      "text/plain": [
       "{'FTE',\n",
       " 'Facility_or_Department',\n",
       " 'Function',\n",
       " 'Function_Description',\n",
       " 'Fund_Description',\n",
       " 'Job_Title_Description',\n",
       " 'Location_Description',\n",
       " 'Object_Description',\n",
       " 'Object_Type',\n",
       " 'Operating_Status',\n",
       " 'Position_Extra',\n",
       " 'Position_Type',\n",
       " 'Pre_K',\n",
       " 'Program_Description',\n",
       " 'Reporting',\n",
       " 'Sharing',\n",
       " 'Student_Type',\n",
       " 'SubFund_Description',\n",
       " 'Sub_Object_Description',\n",
       " 'Text_1',\n",
       " 'Text_2',\n",
       " 'Text_3',\n",
       " 'Text_4',\n",
       " 'Total',\n",
       " 'Use'}"
      ]
     },
     "execution_count": 15,
     "metadata": {},
     "output_type": "execute_result"
    }
   ],
   "source": [
    "all_cols = set(df.columns); all_cols"
   ]
  },
  {
   "cell_type": "code",
   "execution_count": 16,
   "metadata": {},
   "outputs": [
    {
     "name": "stdout",
     "output_type": "stream",
     "text": [
      "['Reporting', 'Text_2', 'Location_Description', 'Student_Type', 'Text_4', 'Position_Extra', 'Text_1', 'Object_Description', 'Facility_or_Department', 'Pre_K', 'SubFund_Description', 'Sharing', 'Fund_Description', 'Function_Description', 'Operating_Status', 'Use', 'Job_Title_Description', 'Object_Type', 'Position_Type', 'Program_Description', 'Function']\n"
     ]
    }
   ],
   "source": [
    "feature_cols = list(all_cols - set(NUMERIC_COLUMNS + ['Text_3', 'Sub_Object_Description'])); print(feature_cols)"
   ]
  },
  {
   "cell_type": "markdown",
   "metadata": {},
   "source": [
    "### Add text processing to the model"
   ]
  },
  {
   "cell_type": "code",
   "execution_count": 17,
   "metadata": {},
   "outputs": [],
   "source": [
    "# define combine_text_columns()\n",
    "def combine_text_columns(df, to_drop=NUMERIC_COLUMNS + LABELS):\n",
    "    \"\"\" converts all text columns in each row of df to single string \"\"\"\n",
    "    # Drop non-text columns that are in the df\n",
    "    to_drop = set(to_drop) & set(df.columns.tolist())\n",
    "    text_data = df.drop(to_drop, axis=1)  \n",
    "    # Replace nans with blanks\n",
    "    text_data.fillna('', inplace=True)    \n",
    "    # Join all text items in a row that have a space in between\n",
    "    return text_data.apply(lambda x: \" \".join(x), axis=1)"
   ]
  },
  {
   "cell_type": "code",
   "execution_count": 18,
   "metadata": {},
   "outputs": [
    {
     "data": {
      "text/plain": [
       "264456     ENGLISH FOR SPEAKERS OF OTHER  PROFESSIONAL-I...\n",
       "374719    TRANSPORTATION   CRAFTS, TRADES, AND SERVICES ...\n",
       "163485       UNDESIGNATED REGULAR INSTRUCTION GENERAL SU...\n",
       "78456        UNDESIGNATED EMPLOYEE BENEFITS RETIREMENT C...\n",
       "275736        SCHOOL BASED MANAGEMENT Health & Hygiene S...\n",
       "220207     CURRICULUM AND INSTR             TITLE II PAR...\n",
       "1624         PROFESSIONAL-INSTRUCTIONAL REGULAR INSTRUCT...\n",
       "162400     School    TEACHER LEAD                   SUPP...\n",
       "378828         BOOKS (OTHER THAN TEXTBOOKS) AND PERIODIC...\n",
       "217341         TITLE I CARRYOVER Regular *  Support Serv...\n",
       "dtype: object"
      ]
     },
     "execution_count": 18,
     "metadata": {},
     "output_type": "execute_result"
    }
   ],
   "source": [
    "# test it\n",
    "combine_text_columns(df[feature_cols].sample(n=10))"
   ]
  },
  {
   "cell_type": "code",
   "execution_count": 19,
   "metadata": {},
   "outputs": [],
   "source": [
    "# Import FunctionTransformer\n",
    "from sklearn.preprocessing import FunctionTransformer\n",
    "\n",
    "# Get the dummy encoding of the labels\n",
    "dummy_labels = pd.get_dummies(df[LABELS])\n",
    "\n",
    "# Get the columns that are features in the original df\n",
    "NON_LABELS = [c for c in df.columns if c not in LABELS]\n",
    "\n",
    "# Split into training and test sets\n",
    "X_train, X_test, y_train, y_test = multilabel_train_test_split(df[feature_cols + NUMERIC_COLUMNS],\n",
    "                                                               dummy_labels,\n",
    "                                                               0.2, \n",
    "                                                               seed=123)\n",
    "# Preprocess the text data: get_text_data\n",
    "get_text_data = FunctionTransformer(combine_text_columns, validate=False)\n",
    "\n",
    "# Use all 0s instead of noise: get_numeric_data\n",
    "get_numeric_data_hack = FunctionTransformer(lambda x: np.zeros(x[NUMERIC_COLUMNS].shape, dtype=np.float), validate=False)"
   ]
  },
  {
   "cell_type": "markdown",
   "metadata": {},
   "source": [
    "#### Build the pipeline"
   ]
  },
  {
   "cell_type": "markdown",
   "metadata": {},
   "source": [
    "##### Looks like I forgot to use bigrams.  Let's check again.  Bigrams help, but it's not as good as including these columns."
   ]
  },
  {
   "cell_type": "code",
   "execution_count": 20,
   "metadata": {
    "scrolled": false
   },
   "outputs": [
    {
     "name": "stdout",
     "output_type": "stream",
     "text": [
      "fit time: 725.56 seconds\n"
     ]
    }
   ],
   "source": [
    "# Complete the pipeline: pl\n",
    "mod_A = Pipeline([\n",
    "        ('union', FeatureUnion(\n",
    "            transformer_list = [\n",
    "                ('numeric_features', Pipeline([('selector', get_numeric_data_hack),\n",
    "                                               ('imputer', Imputer())])),\n",
    "                ('text_features', Pipeline([('selector', get_text_data),\n",
    "                                            ('vectorizer', CountVectorizer(ngram_range=(1,2)))]))\n",
    "             ])),\n",
    "        ('clf', OneVsRestClassifier(LogisticRegression(), n_jobs=-1))\n",
    "    ])\n",
    "\n",
    "start = timer()\n",
    "# Fit to the training data\n",
    "mod_A.fit(X_train, y_train)\n",
    "end = timer()\n",
    "print('fit time: {:0.2f} seconds'.format(end - start))"
   ]
  },
  {
   "cell_type": "code",
   "execution_count": 21,
   "metadata": {},
   "outputs": [
    {
     "name": "stdout",
     "output_type": "stream",
     "text": [
      "Predict.proba time: 27.87 seconds\n"
     ]
    }
   ],
   "source": [
    "### For log loss we need the probabilities, not the predicted labels\n",
    "start = timer()\n",
    "mod_A_yhat_train_probas = mod_A.predict_proba(X_train)\n",
    "mod_A_yhat_test_probas = mod_A.predict_proba(X_test)\n",
    "end = timer()\n",
    "print('Predict.proba time: {:0.2f} seconds'.format(end - start))"
   ]
  },
  {
   "cell_type": "code",
   "execution_count": 22,
   "metadata": {
    "scrolled": false
   },
   "outputs": [
    {
     "name": "stdout",
     "output_type": "stream",
     "text": [
      "log loss on training set: 0.0523\n",
      "log loss on test set: 0.0635\n"
     ]
    }
   ],
   "source": [
    "print('log loss on training set: {:0.4f}'.format(multi_multi_log_loss(mod_A_yhat_train_probas, \n",
    "                                                                      y_train.values, BOX_PLOTS_COLUMN_INDICES)))\n",
    "print('log loss on test set: {:0.4f}'.format(multi_multi_log_loss(mod_A_yhat_test_probas, \n",
    "                                                                      y_test.values, BOX_PLOTS_COLUMN_INDICES)))"
   ]
  },
  {
   "cell_type": "code",
   "execution_count": 23,
   "metadata": {
    "scrolled": true
   },
   "outputs": [
    {
     "name": "stdout",
     "output_type": "stream",
     "text": [
      "F1 score for target Function: 0.961\n",
      "F1 score for target Object_Type: 0.984\n",
      "F1 score for target Operating_Status: 0.987\n",
      "F1 score for target Position_Type: 0.987\n",
      "F1 score for target Pre_K: 0.991\n",
      "F1 score for target Reporting: 0.982\n",
      "F1 score for target Sharing: 0.977\n",
      "F1 score for target Student_Type: 0.979\n",
      "F1 score for target Use: 0.972\n",
      "Average F1 score for all targets : 0.980\n"
     ]
    }
   ],
   "source": [
    "report_f1(ftl.flat_to_labels(y_test.values), ftl.flat_to_labels(mod_A_yhat_test_probas))"
   ]
  },
  {
   "cell_type": "code",
   "execution_count": 24,
   "metadata": {
    "scrolled": false
   },
   "outputs": [
    {
     "name": "stdout",
     "output_type": "stream",
     "text": [
      "Accuracy score for target Function: 0.961\n",
      "Accuracy score for target Object_Type: 0.984\n",
      "Accuracy score for target Operating_Status: 0.987\n",
      "Accuracy score for target Position_Type: 0.987\n",
      "Accuracy score for target Pre_K: 0.991\n",
      "Accuracy score for target Reporting: 0.982\n",
      "Accuracy score for target Sharing: 0.977\n",
      "Accuracy score for target Student_Type: 0.979\n",
      "Accuracy score for target Use: 0.972\n",
      "Average accuracy score for all targets : 0.980\n"
     ]
    }
   ],
   "source": [
    "report_accuracy(ftl.flat_to_labels(y_test.values), ftl.flat_to_labels(mod_A_yhat_test_probas))"
   ]
  },
  {
   "cell_type": "markdown",
   "metadata": {},
   "source": [
    "#### =============================== End of mod ============================================"
   ]
  },
  {
   "cell_type": "markdown",
   "metadata": {},
   "source": [
    "---"
   ]
  },
  {
   "cell_type": "markdown",
   "metadata": {},
   "source": [
    "#### What are the tokens in each feature column?  How many in each?"
   ]
  },
  {
   "cell_type": "markdown",
   "metadata": {},
   "source": [
    "#### We have 25 columns\n",
    "* 9 targets (bound to \"LABELS\")\n",
    "* 2 float (FTE and Total)\n",
    "* 14 text feature columns"
   ]
  },
  {
   "cell_type": "code",
   "execution_count": 25,
   "metadata": {},
   "outputs": [
    {
     "data": {
      "text/plain": [
       "object      14\n",
       "float64      2\n",
       "category     1\n",
       "category     1\n",
       "category     1\n",
       "category     1\n",
       "category     1\n",
       "category     1\n",
       "category     1\n",
       "category     1\n",
       "category     1\n",
       "dtype: int64"
      ]
     },
     "execution_count": 25,
     "metadata": {},
     "output_type": "execute_result"
    }
   ],
   "source": [
    "df.dtypes.value_counts()"
   ]
  },
  {
   "cell_type": "code",
   "execution_count": 26,
   "metadata": {},
   "outputs": [
    {
     "data": {
      "text/plain": [
       "25"
      ]
     },
     "execution_count": 26,
     "metadata": {},
     "output_type": "execute_result"
    }
   ],
   "source": [
    "len(df.columns)"
   ]
  },
  {
   "cell_type": "code",
   "execution_count": 27,
   "metadata": {},
   "outputs": [
    {
     "data": {
      "text/plain": [
       "['Facility_or_Department',\n",
       " 'Function_Description',\n",
       " 'Fund_Description',\n",
       " 'Job_Title_Description',\n",
       " 'Location_Description',\n",
       " 'Object_Description',\n",
       " 'Position_Extra',\n",
       " 'Program_Description',\n",
       " 'SubFund_Description',\n",
       " 'Sub_Object_Description',\n",
       " 'Text_1',\n",
       " 'Text_2',\n",
       " 'Text_3',\n",
       " 'Text_4']"
      ]
     },
     "execution_count": 27,
     "metadata": {},
     "output_type": "execute_result"
    }
   ],
   "source": [
    "TEXT_COLS = sorted(set(df.columns) - set(LABELS + ['FTE', 'Total'])); TEXT_COLS"
   ]
  },
  {
   "cell_type": "code",
   "execution_count": 28,
   "metadata": {
    "scrolled": true
   },
   "outputs": [
    {
     "data": {
      "text/plain": [
       "14"
      ]
     },
     "execution_count": 28,
     "metadata": {},
     "output_type": "execute_result"
    }
   ],
   "source": [
    "len(TEXT_COLS)"
   ]
  },
  {
   "cell_type": "markdown",
   "metadata": {},
   "source": [
    "#### Look at some strings in one of the text columns."
   ]
  },
  {
   "cell_type": "code",
   "execution_count": 29,
   "metadata": {},
   "outputs": [
    {
     "data": {
      "text/plain": [
       "134338                             NaN\n",
       "206341             CONTRACTOR SERVICES\n",
       "326408    Personal Services - Teachers\n",
       "364634               EMPLOYEE BENEFITS\n",
       "47683     TEACHER COVERAGE FOR TEACHER\n",
       "Name: Object_Description, dtype: object"
      ]
     },
     "execution_count": 29,
     "metadata": {},
     "output_type": "execute_result"
    }
   ],
   "source": [
    "objd = df['Object_Description']; objd[:5]"
   ]
  },
  {
   "cell_type": "markdown",
   "metadata": {},
   "source": [
    "#### Now tokenize and take a look."
   ]
  },
  {
   "cell_type": "code",
   "execution_count": 30,
   "metadata": {},
   "outputs": [],
   "source": [
    "# get a CV and fit it;\n",
    "obj_cv = CountVectorizer().fit(df['Object_Description'].fillna(''))"
   ]
  },
  {
   "cell_type": "code",
   "execution_count": 31,
   "metadata": {},
   "outputs": [],
   "source": [
    "# get its tokens\n",
    "obj_tokens = obj_cv.get_feature_names()"
   ]
  },
  {
   "cell_type": "code",
   "execution_count": 32,
   "metadata": {},
   "outputs": [
    {
     "data": {
      "text/plain": [
       "578"
      ]
     },
     "execution_count": 32,
     "metadata": {},
     "output_type": "execute_result"
    }
   ],
   "source": [
    "len(obj_tokens)"
   ]
  },
  {
   "cell_type": "code",
   "execution_count": 33,
   "metadata": {},
   "outputs": [
    {
     "name": "stdout",
     "output_type": "stream",
     "text": [
      "['access', 'accident', 'accnts', 'accountants', 'accounts', 'acct', 'acquisition', 'acquisitions', 'activities', 'activity', 'actually', 'actuary', 'additional', 'adjustments', 'admin', 'administrative', 'administrator', 'adult', 'advance', 'advertising', 'agencies', 'agent', 'agents', 'agreements', 'aides', 'alcolhol', 'all', 'allowance', 'allowances', 'an', 'and', 'another', 'app', 'appraisal', 'apps', 'architectural', 'assessment', 'assets', 'assistant', 'assistants', 'athletic', 'athletics', 'attorney', 'attorneys', 'audio', 'audiologi', 'audit', 'auto', 'automotive', 'av', 'awards', 'bakery', 'bank', 'banking', 'based', 'bcbs', 'be', 'behalf', 'benefits', 'binding', 'bldgs', 'board', 'bond', 'bonding', 'bonds', 'bonus', 'bonuses', 'bookkeepers', 'books', 'bottled', 'building', 'buildings', 'bus', 'buses', 'cafeteria', 'candies', 'capital', 'capitalized', 'center', 'certificated', 'certified', 'chair', 'change', 'charge', 'charges', 'charter', 'chemical', 'city', 'claims', 'classroom', 'cleaning', 'clerical', 'coach', 'coaching', 'collection', 'commodities', 'commodity', 'communication', 'communications', 'community', 'comp', 'compensation', 'competition', 'compute', 'computer', 'computers', 'condiments', 'conference', 'conservation', 'const', 'constr', 'constrct', 'constrt', 'construction', 'consultant', 'consultants', 'cont', 'contingencies', 'contr', 'contra', 'contracted', 'contractor', 'contractors', 'contracts', 'contractual', 'contrib', 'contributing', 'contribution', 'cop', 'copier', 'copying', 'cost', 'costs', 'counselor', 'county', 'coverage', 'cpa', 'craft', 'ctr', 'custodial', 'custodians', 'daily', 'data', 'day', 'debt', 'dedicated', 'defined', 'delinquent', 'department', 'depr', 'depreciation', 'development', 'diagnostician', 'diesel', 'differential', 'dir', 'direct', 'disposal', 'dist', 'distributed', 'district', 'districts', 'division', 'donated', 'drivers', 'drnge', 'drug', 'drugs', 'dues', 'duplicating', 'duty', 'education', 'educational', 'election', 'electricity', 'electronic', 'empac', 'employed', 'employee', 'employees', 'employer', 'energy', 'enforcement', 'engineering', 'enrichment', 'enrollment', 'enterprise', 'enviro', 'equip', 'equipment', 'escrow', 'etc', 'examinations', 'except', 'exception', 'excess', 'excl', 'expendable', 'expenditures', 'expense', 'extended', 'extra', 'extracurricular', 'facilities', 'facility', 'facsimile', 'fed', 'federal', 'fee', 'fees', 'fica', 'fidelity', 'field', 'films', 'finance', 'fingerprinting', 'fire', 'fixed', 'fixtures', 'fluids', 'food', 'for', 'free', 'freight', 'from', 'front', 'fruit', 'fuel', 'fuels', 'full', 'function', 'fund', 'funds', 'furniture', 'garbage', 'gas', 'gasoline', 'general', 'good', 'graduation', 'grant', 'grants', 'gratuities', 'grease', 'gross', 'group', 'groupings', 'guidance', 'hardw', 'hardware', 'health', 'heating', 'higher', 'holding', 'holiday', 'hygiene', 'identified', 'imp', 'improvement', 'improvements', 'in', 'including', 'income', 'indemnities', 'indirect', 'individuals', 'information', 'instru', 'instruction', 'instructional', 'insuranc', 'insurance', 'interest', 'interfund', 'internal', 'internet', 'inventory', 'issuance', 'it', 'items', 'janitorial', 'judgements', 'judgments', 'kitchen', 'lab', 'land', 'laundry', 'law', 'lease', 'leasehold', 'leases', 'leave', 'legal', 'liability', 'librarians', 'library', 'life', 'line', 'loans', 'local', 'locally', 'long', 'loss', 'lpn', 'lua', 'mach', 'machine', 'machinery', 'mail', 'maint', 'maintenance', 'major', 'majr', 'management', 'matching', 'materials', 'matls', 'meat', 'med', 'media', 'medical', 'medicare', 'meeting', 'members', 'memberships', 'messenger', 'mileage', 'milk', 'minor', 'misc', 'miscellaneous', 'mobility', 'motor', 'natural', 'new', 'newspaper', 'newspapers', 'non', 'noncap', 'noncapitalized', 'not', 'nurse', 'nutrition', 'objects', 'occupancy', 'occupational', 'octo', 'of', 'office', 'offset', 'oil', 'on', 'only', 'open', 'operating', 'operation', 'operations', 'or', 'organization', 'organizations', 'other', 'othr', 'out', 'outlay', 'outside', 'overtime', 'paid', 'para', 'paraprofessionals', 'parents', 'part', 'participant', 'participants', 'parts', 'party', 'pathologists', 'pay', 'payment', 'payments', 'pd', 'periodicals', 'personal', 'personnel', 'petro', 'photography', 'physical', 'pmt', 'postage', 'prblm', 'prekindergarten', 'premium', 'premiums', 'prescriptions', 'president', 'price', 'principal', 'principals', 'printing', 'private', 'prizes', 'processing', 'products', 'prof', 'professi', 'professional', 'professionals', 'program', 'projects', 'property', 'provisions', 'prt', 'psychologists', 'public', 'pup', 'pupil', 'purch', 'purchase', 'purchased', 'purchases', 'rd', 'reading', 'reclassified', 'redemption', 'refrigeration', 'refunded', 'registration', 'regular', 'reimbur', 'reimbursement', 'reimbursements', 'reinsurance', 'related', 'remaining', 'remod', 'remodel', 'removal', 'renov', 'renovation', 'renovations', 'rental', 'rentals', 'repair', 'repairs', 'replacement', 'resale', 'reserve', 'reside', 'residential', 'retirement', 'retntn', 'return', 'revenue', 'rx', 'safety', 'salaries', 'salary', 'sale', 'scholarships', 'school', 'schools', 'schoolwide', 'secondary', 'secretaries', 'security', 'self', 'serial', 'serv', 'service', 'services', 'sewage', 'sewer', 'share', 'shift', 'shipping', 'sick', 'site', 'small', 'snacks', 'social', 'software', 'sold', 'sourc', 'sources', 'special', 'specialist', 'sped', 'speech', 'srv', 'srvcs', 'staff', 'staples', 'state', 'statistical', 'stip', 'structures', 'student', 'students', 'subscription', 'subscriptions', 'subsistence', 'substitute', 'sunday', 'sundries', 'super', 'supp', 'supplement', 'supplemental', 'supplements', 'supplies', 'support', 'supv', 'surgical', 'suspense', 'svc', 'svcs', 'tax', 'taxes', 'teacher', 'teachers', 'tech', 'technical', 'technology', 'telegram', 'telephone', 'teletype', 'temporary', 'term', 'terminal', 'testing', 'tests', 'text', 'textbooks', 'than', 'the', 'therapist', 'third', 'time', 'tires', 'to', 'trade', 'training', 'trans', 'transfers', 'transp', 'transportation', 'travel', 'treasurer', 'trips', 'tubes', 'tuition', 'under', 'unemployment', 'up', 'usda', 'use', 'uses', 'utilities', 'vacation', 'variance', 'vegetables', 'vehicle', 'vehicles', 'vend', 'vendors', 'vice', 'visual', 'wae', 'wages', 'waste', 'water', 'webinars', 'when', 'who', 'with', 'within', 'worker', 'workers', 'workshop']\n"
     ]
    }
   ],
   "source": [
    "print(obj_tokens)"
   ]
  },
  {
   "cell_type": "code",
   "execution_count": 34,
   "metadata": {
    "scrolled": false
   },
   "outputs": [],
   "source": [
    "# get all the tokens for each feature column\n",
    "tokensByCol = {col : (CountVectorizer().fit(df[col].fillna(''))).get_feature_names() for col in TEXT_COLS}"
   ]
  },
  {
   "cell_type": "code",
   "execution_count": 35,
   "metadata": {
    "scrolled": true
   },
   "outputs": [
    {
     "data": {
      "text/plain": [
       "[('Facility_or_Department', 251),\n",
       " ('Function_Description', 802),\n",
       " ('Fund_Description', 225),\n",
       " ('Job_Title_Description', 1642),\n",
       " ('Location_Description', 414),\n",
       " ('Object_Description', 578),\n",
       " ('Position_Extra', 497),\n",
       " ('Program_Description', 528),\n",
       " ('SubFund_Description', 397),\n",
       " ('Sub_Object_Description', 275),\n",
       " ('Text_1', 1571),\n",
       " ('Text_2', 356),\n",
       " ('Text_3', 66),\n",
       " ('Text_4', 370)]"
      ]
     },
     "execution_count": 35,
     "metadata": {},
     "output_type": "execute_result"
    }
   ],
   "source": [
    "# now count them\n",
    "numTokensByCol = [(col, len(tokensByCol[col])) for col in TEXT_COLS]; numTokensByCol"
   ]
  },
  {
   "cell_type": "code",
   "execution_count": 36,
   "metadata": {
    "scrolled": true
   },
   "outputs": [
    {
     "data": {
      "text/plain": [
       "7972"
      ]
     },
     "execution_count": 36,
     "metadata": {},
     "output_type": "execute_result"
    }
   ],
   "source": [
    "# and add them all up\n",
    "sum([i[1] for i in numTokensByCol])"
   ]
  },
  {
   "cell_type": "markdown",
   "metadata": {},
   "source": [
    "#### So many tokens occur in more than one column.  We know this because if you merge all the texts within a row and then tokenize, you get 3k+ tokens."
   ]
  },
  {
   "cell_type": "markdown",
   "metadata": {},
   "source": [
    "### What's the distribution of FTE and Total?"
   ]
  },
  {
   "cell_type": "code",
   "execution_count": 37,
   "metadata": {},
   "outputs": [
    {
     "data": {
      "text/plain": [
       "274206"
      ]
     },
     "execution_count": 37,
     "metadata": {},
     "output_type": "execute_result"
    }
   ],
   "source": [
    "df.FTE.isnull().sum()"
   ]
  },
  {
   "cell_type": "code",
   "execution_count": 38,
   "metadata": {},
   "outputs": [
    {
     "data": {
      "text/plain": [
       "(-1.0, 46.8)"
      ]
     },
     "execution_count": 38,
     "metadata": {},
     "output_type": "execute_result"
    }
   ],
   "source": [
    "min(df.FTE.fillna(-1)), max(df.FTE.fillna(-1))"
   ]
  },
  {
   "cell_type": "code",
   "execution_count": 39,
   "metadata": {
    "scrolled": true
   },
   "outputs": [
    {
     "data": {
      "text/plain": [
       "<matplotlib.axes._subplots.AxesSubplot at 0x22f61617320>"
      ]
     },
     "execution_count": 39,
     "metadata": {},
     "output_type": "execute_result"
    },
    {
     "data": {
      "image/png": "[encoded data removed]",
      "text/plain": [
       "<Figure size 432x288 with 1 Axes>"
      ]
     },
     "metadata": {},
     "output_type": "display_data"
    }
   ],
   "source": [
    "df.FTE.hist(bins=100)"
   ]
  },
  {
   "cell_type": "code",
   "execution_count": 40,
   "metadata": {},
   "outputs": [
    {
     "data": {
      "text/plain": [
       "4555"
      ]
     },
     "execution_count": 40,
     "metadata": {},
     "output_type": "execute_result"
    }
   ],
   "source": [
    "df.Total.isnull().sum()"
   ]
  },
  {
   "cell_type": "code",
   "execution_count": 41,
   "metadata": {},
   "outputs": [
    {
     "data": {
      "text/plain": [
       "(-87466307.15, 129699999.22)"
      ]
     },
     "execution_count": 41,
     "metadata": {},
     "output_type": "execute_result"
    }
   ],
   "source": [
    "min(df.Total.fillna(0)), max(df.Total.fillna(0))"
   ]
  },
  {
   "cell_type": "code",
   "execution_count": 42,
   "metadata": {},
   "outputs": [
    {
     "data": {
      "image/png": "[encoded data removed]",
      "text/plain": [
       "<Figure size 432x288 with 1 Axes>"
      ]
     },
     "metadata": {},
     "output_type": "display_data"
    }
   ],
   "source": [
    "df.Total.hist(bins=10000)\n",
    "plt.xlim(0,1e5);"
   ]
  }
 ],
 "metadata": {
  "kernelspec": {
   "display_name": "Python 3",
   "language": "python",
   "name": "python3"
  },
  "language_info": {
   "codemirror_mode": {
    "name": "ipython",
    "version": 3
   },
   "file_extension": ".py",
   "mimetype": "text/x-python",
   "name": "python",
   "nbconvert_exporter": "python",
   "pygments_lexer": "ipython3",
   "version": "3.6.6"
  }
 },
 "nbformat": 4,
 "nbformat_minor": 2
}
