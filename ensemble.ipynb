{
 "cells": [
  {
   "cell_type": "markdown",
   "metadata": {},
   "source": [
    "#### Make an ensemble from 2 submissions, best log reg so far and default RF."
   ]
  },
  {
   "cell_type": "code",
   "execution_count": 1,
   "metadata": {},
   "outputs": [],
   "source": [
    "import pandas as pd"
   ]
  },
  {
   "cell_type": "code",
   "execution_count": 6,
   "metadata": {},
   "outputs": [],
   "source": [
    "import numpy as np"
   ]
  },
  {
   "cell_type": "code",
   "execution_count": 2,
   "metadata": {},
   "outputs": [],
   "source": [
    "pred_ModRF = pd.read_csv('pred_ModRF.csv', index_col=0)"
   ]
  },
  {
   "cell_type": "code",
   "execution_count": 3,
   "metadata": {
    "scrolled": true
   },
   "outputs": [
    {
     "data": {
      "text/plain": [
       "(50064, 104)"
      ]
     },
     "execution_count": 3,
     "metadata": {},
     "output_type": "execute_result"
    }
   ],
   "source": [
    "pred_ModRF.shape"
   ]
  },
  {
   "cell_type": "code",
   "execution_count": 4,
   "metadata": {},
   "outputs": [],
   "source": [
    "pred_twoC_besties = pd.read_csv('pred_twoC_besties.csv', index_col=0)"
   ]
  },
  {
   "cell_type": "code",
   "execution_count": 9,
   "metadata": {},
   "outputs": [],
   "source": [
    "ens_avg = (pred_ModRF + pred_twoC_besties)/2.0"
   ]
  },
  {
   "cell_type": "code",
   "execution_count": 11,
   "metadata": {},
   "outputs": [],
   "source": [
    "ens_avg.to_csv('ens_avg.csv')"
   ]
  },
  {
   "cell_type": "markdown",
   "metadata": {},
   "source": [
    "#### this one gets 0.7300 which is better than 0.7373 (pred_twoC_besties.csv) or (2.0893).  All time best (for me) is 0.6599 (mod3_1).\n",
    "\n",
    "I could look at (2\\*mod1 + mod2) and the reverse to see which way is better."
   ]
  },
  {
   "cell_type": "code",
   "execution_count": 12,
   "metadata": {},
   "outputs": [],
   "source": [
    "ens_2l1r = (0.666667*pred_twoC_besties) + (0.333333*pred_ModRF)"
   ]
  },
  {
   "cell_type": "code",
   "execution_count": 13,
   "metadata": {},
   "outputs": [],
   "source": [
    "ens_2l1r.to_csv('ens_2l1r.csv')"
   ]
  },
  {
   "cell_type": "code",
   "execution_count": null,
   "metadata": {},
   "outputs": [],
   "source": []
  },
  {
   "cell_type": "code",
   "execution_count": 10,
   "metadata": {
    "scrolled": true
   },
   "outputs": [
    {
     "data": {
      "text/plain": [
       "Function__Aides Compensation                           -0.000951\n",
       "Function__Career & Academic Counseling                 -0.000871\n",
       "Function__Communications                               -0.000968\n",
       "Function__Curriculum Development                       -0.003844\n",
       "Function__Data Processing & Information Services       -0.001322\n",
       "Function__Development & Fundraising                    -0.001019\n",
       "Function__Enrichment                                    0.013238\n",
       "Function__Extended Time & Tutoring                     -0.004927\n",
       "Function__Facilities & Maintenance                      0.002960\n",
       "Function__Facilities Planning                          -0.000351\n",
       "Function__Finance, Budget, Purchasing & Distribution   -0.009200\n",
       "Function__Food Services                                 0.003961\n",
       "Function__Governance                                   -0.008829\n",
       "Function__Human Resources                              -0.002790\n",
       "Function__Instructional Materials & Supplies           -0.003493\n",
       "Function__Insurance                                    -0.000183\n",
       "Function__Legal                                        -0.001058\n",
       "Function__Library & Media                              -0.000823\n",
       "Function__NO_LABEL                                     -0.074759\n",
       "Function__Other Compensation                           -0.000891\n",
       "Function__Other Non-Compensation                       -0.006637\n",
       "Function__Parent & Community Relations                 -0.007582\n",
       "Function__Physical Health & Services                   -0.003706\n",
       "Function__Professional Development                     -0.005648\n",
       "Function__Recruitment                                  -0.000318\n",
       "Function__Research & Accountability                    -0.002335\n",
       "Function__School Administration                         0.003618\n",
       "Function__School Supervision                           -0.003330\n",
       "Function__Security & Safety                            -0.002249\n",
       "Function__Social & Emotional                           -0.009819\n",
       "                                                          ...   \n",
       "Position_Type__Teacher                                 -0.002017\n",
       "Position_Type__Vice Principal                          -0.001601\n",
       "Pre_K__NO_LABEL                                         0.005924\n",
       "Pre_K__Non PreK                                        -0.016478\n",
       "Pre_K__PreK                                             0.002078\n",
       "Reporting__NO_LABEL                                    -0.082826\n",
       "Reporting__Non-School                                  -0.008218\n",
       "Reporting__School                                       0.078744\n",
       "Sharing__Leadership & Management                       -0.024218\n",
       "Sharing__NO_LABEL                                      -0.078759\n",
       "Sharing__School Reported                                0.079924\n",
       "Sharing__School on Central Budgets                     -0.004570\n",
       "Sharing__Shared Services                               -0.015095\n",
       "Student_Type__Alternative                              -0.000062\n",
       "Student_Type__At Risk                                  -0.000893\n",
       "Student_Type__ELL                                       0.000517\n",
       "Student_Type__Gifted                                   -0.000732\n",
       "Student_Type__NO_LABEL                                 -0.053389\n",
       "Student_Type__Poverty                                  -0.000060\n",
       "Student_Type__PreK                                     -0.000132\n",
       "Student_Type__Special Education                         0.008271\n",
       "Student_Type__Unspecified                              -0.004301\n",
       "Use__Business Services                                 -0.013789\n",
       "Use__ISPD                                              -0.004116\n",
       "Use__Instruction                                        0.011003\n",
       "Use__Leadership                                        -0.009783\n",
       "Use__NO_LABEL                                          -0.068669\n",
       "Use__O&M                                                0.006525\n",
       "Use__Pupil Services & Enrichment                       -0.008543\n",
       "Use__Untracked Budget Set-Aside                        -0.001889\n",
       "Length: 104, dtype: float64"
      ]
     },
     "execution_count": 10,
     "metadata": {},
     "output_type": "execute_result"
    }
   ],
   "source": [
    "np.mean(ens_avg - pred_ModRF)"
   ]
  },
  {
   "cell_type": "code",
   "execution_count": null,
   "metadata": {},
   "outputs": [],
   "source": [
    "# looks like the NO_LABELs are the difference."
   ]
  },
  {
   "cell_type": "code",
   "execution_count": 8,
   "metadata": {},
   "outputs": [
    {
     "name": "stdout",
     "output_type": "stream",
     "text": [
      "Function__Aides Compensation                            0.001902\n",
      "Function__Career & Academic Counseling                  0.001743\n",
      "Function__Communications                                0.001936\n",
      "Function__Curriculum Development                        0.007687\n",
      "Function__Data Processing & Information Services        0.002645\n",
      "Function__Development & Fundraising                     0.002038\n",
      "Function__Enrichment                                   -0.026475\n",
      "Function__Extended Time & Tutoring                      0.009854\n",
      "Function__Facilities & Maintenance                     -0.005920\n",
      "Function__Facilities Planning                           0.000702\n",
      "Function__Finance, Budget, Purchasing & Distribution    0.018401\n",
      "Function__Food Services                                -0.007921\n",
      "Function__Governance                                    0.017658\n",
      "Function__Human Resources                               0.005580\n",
      "Function__Instructional Materials & Supplies            0.006985\n",
      "Function__Insurance                                     0.000366\n",
      "Function__Legal                                         0.002115\n",
      "Function__Library & Media                               0.001647\n",
      "Function__NO_LABEL                                      0.149518\n",
      "Function__Other Compensation                            0.001782\n",
      "Function__Other Non-Compensation                        0.013274\n",
      "Function__Parent & Community Relations                  0.015163\n",
      "Function__Physical Health & Services                    0.007411\n",
      "Function__Professional Development                      0.011297\n",
      "Function__Recruitment                                   0.000636\n",
      "Function__Research & Accountability                     0.004670\n",
      "Function__School Administration                        -0.007235\n",
      "Function__School Supervision                            0.006660\n",
      "Function__Security & Safety                             0.004498\n",
      "Function__Social & Emotional                            0.019638\n",
      "                                                          ...   \n",
      "Position_Type__Teacher                                  0.004035\n",
      "Position_Type__Vice Principal                           0.003203\n",
      "Pre_K__NO_LABEL                                        -0.011848\n",
      "Pre_K__Non PreK                                         0.032957\n",
      "Pre_K__PreK                                            -0.004156\n",
      "Reporting__NO_LABEL                                     0.165651\n",
      "Reporting__Non-School                                   0.016435\n",
      "Reporting__School                                      -0.157489\n",
      "Sharing__Leadership & Management                        0.048436\n",
      "Sharing__NO_LABEL                                       0.157518\n",
      "Sharing__School Reported                               -0.159847\n",
      "Sharing__School on Central Budgets                      0.009139\n",
      "Sharing__Shared Services                                0.030189\n",
      "Student_Type__Alternative                               0.000125\n",
      "Student_Type__At Risk                                   0.001785\n",
      "Student_Type__ELL                                      -0.001034\n",
      "Student_Type__Gifted                                    0.001464\n",
      "Student_Type__NO_LABEL                                  0.106777\n",
      "Student_Type__Poverty                                   0.000120\n",
      "Student_Type__PreK                                      0.000264\n",
      "Student_Type__Special Education                        -0.016542\n",
      "Student_Type__Unspecified                               0.008602\n",
      "Use__Business Services                                  0.027579\n",
      "Use__ISPD                                               0.008231\n",
      "Use__Instruction                                       -0.022005\n",
      "Use__Leadership                                         0.019567\n",
      "Use__NO_LABEL                                           0.137339\n",
      "Use__O&M                                               -0.013051\n",
      "Use__Pupil Services & Enrichment                        0.017086\n",
      "Use__Untracked Budget Set-Aside                         0.003778\n",
      "Length: 104, dtype: float64\n"
     ]
    }
   ],
   "source": [
    "print(np.mean(pred_ModRF - pred_twoC_besties))"
   ]
  }
 ],
 "metadata": {
  "kernelspec": {
   "display_name": "Python 3",
   "language": "python",
   "name": "python3"
  },
  "language_info": {
   "codemirror_mode": {
    "name": "ipython",
    "version": 3
   },
   "file_extension": ".py",
   "mimetype": "text/x-python",
   "name": "python",
   "nbconvert_exporter": "python",
   "pygments_lexer": "ipython3",
   "version": "3.6.6"
  }
 },
 "nbformat": 4,
 "nbformat_minor": 2
}
